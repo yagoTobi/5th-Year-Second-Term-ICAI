{
 "cells": [
  {
   "cell_type": "markdown",
   "metadata": {},
   "source": [
    "## Question:\n",
    "\n",
    "In a research experiment, you are tasked with analyzing the final marks of the students who took the \"Introduction to Statistical Computing\" course last year. Based on the given sample data, calculate the 95% confidence interval for the true mean final mark of all students in the course.\n",
    "\n",
    "Sample data: [8.4, 7.2, 9.0, 7.8, 9.5, 6.8, 8.9, 8.1, 9.2, 7.5, 8.8, 7.9, 9.6, 7.0, 8.5]\n",
    "\n",
    "Please write the code to calculate the confidence interval and include any necessary calculations and assumptions. Write the steps you have followed to solve the problem."
   ]
  },
  {
   "cell_type": "markdown",
   "metadata": {},
   "source": [
    "----\n",
    "\n",
    "# How to calculate the confidence interval: \n",
    "\n",
    "1. Calculate the sample mean \n",
    "2. Calculate the standard deviation \n",
    "3. Determine the sample size (15 -> Small sample size -> Use t-distribution)\n",
    "4. Find the t-value corresponding to a 95% conf level and n-1 degrees of freedom. \n",
    "5. Calculate the margin of error for t-distrib: ME = t*s/\\sqrt(n)\n"
   ]
  },
  {
   "cell_type": "code",
   "execution_count": 4,
   "metadata": {},
   "outputs": [],
   "source": [
    "import numpy as np\n",
    "from scipy.stats import t\n",
    "import scipy.stats as stats"
   ]
  },
  {
   "cell_type": "code",
   "execution_count": 5,
   "metadata": {},
   "outputs": [
    {
     "name": "stdout",
     "output_type": "stream",
     "text": [
      "95% Confidence Interval for the True Mean Final Mark:\n",
      "Lower Bound: 7.78194834403112\n",
      "Upper Bound: 8.778051655968879\n"
     ]
    }
   ],
   "source": [
    "# Sample data\n",
    "marks = [8.4, 7.2, 9.0, 7.8, 9.5, 6.8, 8.9, 8.1, 9.2, 7.5, 8.8, 7.9, 9.6, 7.0, 8.5]\n",
    "\n",
    "# Step 1: Calculate the sample mean\n",
    "sample_mean = np.mean(marks)\n",
    "\n",
    "# Step 2: Calculate the sample standard deviation\n",
    "sample_std = np.std(marks, ddof=1)\n",
    "\n",
    "# Step 3: Determine the sample size\n",
    "n = len(marks)\n",
    "\n",
    "# Step 4: Find the t-value for a 95% confidence level and n-1 degrees of freedom\n",
    "t_value = stats.t.ppf(0.975, df=n-1)  # 0.975 for two-tailed test\n",
    "\n",
    "# Step 5: Calculate the margin of error\n",
    "margin_of_error = t_value * (sample_std / np.sqrt(n))\n",
    "\n",
    "# Step 6: Calculate the lower bound of the confidence interval\n",
    "lower_bound = sample_mean - margin_of_error\n",
    "\n",
    "# Step 7: Calculate the upper bound of the confidence interval\n",
    "upper_bound = sample_mean + margin_of_error\n",
    "\n",
    "\n",
    "print(\"95% Confidence Interval for the True Mean Final Mark:\")\n",
    "print(\"Lower Bound:\", lower_bound)\n",
    "print(\"Upper Bound:\", upper_bound)"
   ]
  }
 ],
 "metadata": {
  "kernelspec": {
   "display_name": "Python 3",
   "language": "python",
   "name": "python3"
  },
  "language_info": {
   "codemirror_mode": {
    "name": "ipython",
    "version": 3
   },
   "file_extension": ".py",
   "mimetype": "text/x-python",
   "name": "python",
   "nbconvert_exporter": "python",
   "pygments_lexer": "ipython3",
   "version": "3.12.3"
  }
 },
 "nbformat": 4,
 "nbformat_minor": 2
}
