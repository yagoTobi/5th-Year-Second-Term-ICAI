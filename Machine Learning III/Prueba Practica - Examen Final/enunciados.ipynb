{
 "cells": [
  {
   "cell_type": "markdown",
   "metadata": {},
   "source": [
    "---\n",
    "title: \"Test 2: Recommender Systems\"\n",
    "subtitle: \"Machine Learning III: Unsupervised and Network Analysis\"\n",
    "date: \"9 April 2024\"\n",
    "author: \n",
    "  -  María del Valle Varo García\n",
    "\n",
    "\n",
    "---\n",
    "---"
   ]
  },
  {
   "cell_type": "markdown",
   "metadata": {},
   "source": [
    "`fill here your name`"
   ]
  },
  {
   "cell_type": "markdown",
   "metadata": {},
   "source": [
    "::: {.callout-important icon=false}\n",
    "\n",
    "No puedes utilizar ChatGPT, pero tienes pleno acceso a Internet; no dudes en utilizarlo, ya que suele ser mucho más útil para programar, mirar documentación o resolver errores de código.\n",
    ":::"
   ]
  },
  {
   "cell_type": "markdown",
   "metadata": {},
   "source": [
    "::: {.callout-warning icon=false}\n",
    "\n",
    "Evita dedicar tiempo a generar código o gráficas no solicitadas. \n",
    "\n",
    "No se evaluarán y sólo servirán para consumir tiempo del examen.\n",
    ":::"
   ]
  },
  {
   "cell_type": "markdown",
   "metadata": {},
   "source": [
    "---"
   ]
  },
  {
   "cell_type": "markdown",
   "metadata": {},
   "source": [
    "# **Análisis de ratings a Video Juegos**\n",
    "### Utilizando la base de datos proporcionada que contiene información sobre usuarios, videojuegos y las calificaciones otorgadas por los usuarios a los videojuegos, realiza las siguientes tareas:"
   ]
  },
  {
   "cell_type": "markdown",
   "metadata": {},
   "source": [
    "\n",
    "\n",
    "\n",
    "::: {.callout-tip icon=\"false}\n",
    "### Question 0 (0.25 points)\n",
    "Carga los datos como un objeto **panda.DataFrame**.\n",
    ":::"
   ]
  },
  {
   "cell_type": "markdown",
   "metadata": {},
   "source": [
    "\n",
    "\n",
    "\n",
    "::: {.callout-tip icon=\"false}\n",
    "### Question 1 (0.75 points)\n",
    "Filtra el conjunto de datos y conserva sólo los productos que hayan sido valorados al menos 20 veces.\n",
    "\n",
    ":::"
   ]
  },
  {
   "cell_type": "markdown",
   "metadata": {},
   "source": [
    "::: {.callout-tip icon=\"false}\n",
    "\n",
    "### Question 2 (0.25 points)\n",
    "\n",
    "¿Qué porcentaje de los datos (ya filtrados) tiene una calificación de 4 o superior?\n",
    "\n",
    ":::"
   ]
  },
  {
   "cell_type": "markdown",
   "metadata": {},
   "source": [
    "::: {.callout-tip icon=\"false}\n",
    "### Question 3 (0.25 points)\n",
    "\n",
    "¿Cuántos usuarios únicos y productos hay?\n",
    "\n",
    ":::"
   ]
  },
  {
   "cell_type": "markdown",
   "metadata": {},
   "source": [
    "::: {.callout-tip icon=\"false}\n",
    "### Question 4 (0.25 points)\n",
    "\n",
    "¿Qué porcentaje de valores atípicos hay?\n",
    "\n",
    ":::"
   ]
  },
  {
   "cell_type": "markdown",
   "metadata": {},
   "source": [
    "::: {.callout-tip icon=\"false}\n",
    "### Question 5 (1 points)\n",
    "\n",
    "¿Cuál es la dispersión (sparsity) del conjunto de datos antes y después de filtrar los productos con más de 20 valoraciones? \n",
    "\n",
    "¿Es de esperar que los recomendadores memory-based funcionen mejor que los model-based conociendo ahora la dispersión?\n",
    "\n",
    "\n",
    ":::"
   ]
  },
  {
   "cell_type": "markdown",
   "metadata": {},
   "source": [
    "\n",
    "\n",
    "::: {.callout-tip icon=\"false}\n",
    "### Question 6 (0.75 points)\n",
    "\n",
    "¿Cuál es el producto menos valorado? ¿Cuántas veces ha sido valorado?\n",
    "\n",
    "\n",
    ":::"
   ]
  },
  {
   "cell_type": "markdown",
   "metadata": {},
   "source": [
    "::: {.callout-tip icon=true}\n",
    "\n",
    "### Question 7 (0.75 points)\n",
    "\n",
    "Haz un histograma de las valoraciones del segundo producto más valorado.\n",
    "\n",
    "¿Cuál es la valoración media de este producto entre todos los usuarios?\n",
    "\n",
    ":::"
   ]
  },
  {
   "cell_type": "markdown",
   "metadata": {},
   "source": [
    "::: {.callout-tip icon=true}\n",
    "\n",
    "### Question 8 (1.0 points)\n",
    "\n",
    "Haz varios sistemas de recomendación **User-Based** para este conjunto de datos para `k=30` vecinos.\n",
    "\n",
    "Compara la similitud Pearson con la similitud Coseno. ¿Ayuda el centrado medio?\n",
    "\n",
    "Comprueba diferentes métricas: RMSE, MAE, Precisión.\n",
    ":::"
   ]
  },
  {
   "cell_type": "markdown",
   "metadata": {},
   "source": [
    "::: {.callout-tip icon=true}\n",
    "\n",
    "### Question 9 (0.75 points)\n",
    "\n",
    "Selecciona un usuario y recomiendale los 10 mejores productos basándote en el modelo de user-based que consideres oportuno dado el entrenamiento.\n",
    "\n",
    ":::"
   ]
  },
  {
   "cell_type": "markdown",
   "metadata": {},
   "source": [
    "::: {.callout-tip icon=true}\n",
    "\n",
    "### Question 10 (1.0 points)\n",
    "Haz varios sistemas de recomendación **Item-based** para este conjunto de datos para `k=30` vecinos.\n",
    "\n",
    "Compara la similitud Pearson, la similitud Coseno ajustado y la similitud Coseno. ¿Ayuda el centrado medio?\n",
    "\n",
    "Comprueba diferentes métricas: RMSE, MAE, Precisión.\n",
    ":::"
   ]
  },
  {
   "cell_type": "markdown",
   "metadata": {},
   "source": [
    "::: {.callout-tip icon=true}\n",
    "\n",
    "### Question 11 (0.75 points)\n",
    "\n",
    "Convierte la matriz de ratings pronosticadas en el entrenamiento de tu modelo **Item-Based** favorito en un objeto `pd.DataFrame`.\n",
    ":::"
   ]
  },
  {
   "cell_type": "markdown",
   "metadata": {},
   "source": [
    "::: {.callout-tip icon=true}\n",
    "\n",
    "### Question 12 (0.75 points)\n",
    "\n",
    "¿Qué puntuación recibe el artículo `'B002I098JE` del usuario `'A7B5JEED0RKXG'` según este modelo?\n",
    "\n",
    "¿Y según el model User-based?\n",
    "\n",
    ":::"
   ]
  },
  {
   "cell_type": "markdown",
   "metadata": {},
   "source": [
    "::: {.callout-tip icon=true}\n",
    "\n",
    "### Question 13 (1 points)\n",
    "\n",
    "Haz un sistema de recomendación utilizando SVD para este dataset con k=100, otro para k=150 y otro para k=200. \n",
    "\n",
    ":::"
   ]
  },
  {
   "cell_type": "markdown",
   "metadata": {},
   "source": [
    "::: {.callout-tip icon=true}\n",
    "\n",
    "### Question 14 (0.75 points)\n",
    "\n",
    "Selecciona uno de los modelos de SVD, elige a un usuario y recomiéndale 5 productos, luego imprime las puntuaciones que les otorgaría a esos productos.\n",
    "\n",
    ":::"
   ]
  }
 ],
 "metadata": {
  "kernelspec": {
   "display_name": "envml3",
   "language": "python",
   "name": "python3"
  },
  "language_info": {
   "codemirror_mode": {
    "name": "ipython",
    "version": 3
   },
   "file_extension": ".py",
   "mimetype": "text/x-python",
   "name": "python",
   "nbconvert_exporter": "python",
   "pygments_lexer": "ipython3",
   "version": "3.11.7"
  }
 },
 "nbformat": 4,
 "nbformat_minor": 2
}
