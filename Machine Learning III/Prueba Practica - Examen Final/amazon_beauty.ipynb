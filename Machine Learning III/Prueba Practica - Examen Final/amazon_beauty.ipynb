{
 "cells": [
  {
   "cell_type": "markdown",
   "metadata": {},
   "source": [
    "### **Amazon Example for Class**"
   ]
  },
  {
   "cell_type": "markdown",
   "metadata": {},
   "source": [
    "![](https://images-eu.ssl-images-amazon.com/images/G/30/Consumables/Beauty/2023/header.png)"
   ]
  },
  {
   "cell_type": "markdown",
   "metadata": {},
   "source": [
    "**Librerías**"
   ]
  },
  {
   "cell_type": "code",
   "execution_count": 42,
   "metadata": {},
   "outputs": [
    {
     "name": "stdout",
     "output_type": "stream",
     "text": [
      "System version: 3.12.3 (v3.12.3:f6650f9ad7, Apr  9 2024, 08:18:47) [Clang 13.0.0 (clang-1300.0.29.30)]\n",
      "Cornac version: 2.1\n",
      "TensorFlow version: 2.16.1\n"
     ]
    }
   ],
   "source": [
    "# Standard library imports\n",
    "import itertools\n",
    "import math\n",
    "import os\n",
    "import sys\n",
    "import time\n",
    "import warnings\n",
    "from collections import defaultdict\n",
    "\n",
    "# Data manipulation and numerical libraries\n",
    "import numpy as np\n",
    "import pandas as pd\n",
    "from scipy import sparse as sp, stats\n",
    "from scipy.cluster.hierarchy import dendrogram, linkage\n",
    "from scipy.spatial.distance import pdist\n",
    "from scipy.sparse.linalg import svds\n",
    "from scipy.special import softmax\n",
    "from scipy.stats import multivariate_normal\n",
    "\n",
    "# Text and natural language processing\n",
    "import nltk\n",
    "from nltk.sentiment import SentimentIntensityAnalyzer\n",
    "\n",
    "# Machine Learning and Data Science libraries\n",
    "from sklearn import metrics\n",
    "from sklearn.cluster import AgglomerativeClustering, KMeans, MiniBatchKMeans\n",
    "from sklearn.decomposition import PCA\n",
    "from sklearn.manifold import TSNE\n",
    "from sklearn.metrics import mean_squared_error, silhouette_samples, silhouette_score\n",
    "from sklearn.metrics.cluster import (\n",
    "    adjusted_rand_score,\n",
    "    normalized_mutual_info_score,\n",
    "    rand_score,\n",
    ")\n",
    "from sklearn.metrics.pairwise import cosine_similarity\n",
    "from sklearn.mixture import GaussianMixture\n",
    "from sklearn.model_selection import train_test_split\n",
    "from sklearn.preprocessing import LabelEncoder, OneHotEncoder, StandardScaler\n",
    "\n",
    "# Graph and plot libraries\n",
    "import matplotlib.pyplot as plt\n",
    "import matplotlib as mpl\n",
    "from matplotlib.cbook import boxplot_stats\n",
    "from matplotlib.ticker import FixedLocator, FixedFormatter\n",
    "import seaborn as sns\n",
    "import plotly.express as px\n",
    "\n",
    "# Deep Learning libraries\n",
    "import tensorflow as tf\n",
    "import torch\n",
    "import torch.nn as nn\n",
    "import torch.nn.functional as F\n",
    "import torch.optim as optim\n",
    "import torch.utils.data as data\n",
    "from torch.utils.data import Dataset\n",
    "\n",
    "# Transformer models\n",
    "from transformers import AutoModelForSequenceClassification, AutoTokenizer, pipeline\n",
    "\n",
    "# Utility and other specific tools\n",
    "from adjustText import adjust_text\n",
    "from tabulate import tabulate\n",
    "from tqdm.notebook import tqdm\n",
    "\n",
    "# Recommender systems and specific utilities\n",
    "import cornac\n",
    "from cornac.data.text import BaseTokenizer\n",
    "from cornac.data import GraphModality, ImageModality, TextModality, text as cornac_text\n",
    "from cornac.datasets import amazon_clothing, filmtrust, movielens\n",
    "from cornac.eval_methods import RatioSplit\n",
    "from cornac.models import (\n",
    "    BPR,\n",
    "    BaselineOnly,\n",
    "    CTR,\n",
    "    ItemKNN,\n",
    "    MF,\n",
    "    NMF,\n",
    "    PMF,\n",
    "    SVD,\n",
    "    SoRec,\n",
    "    UserKNN,\n",
    "    VBPR,\n",
    "    WMF,\n",
    ")\n",
    "from cornac.utils import cache\n",
    "\n",
    "# from cornac.datasets.python_splitters import python_random_split\n",
    "# from cornac.models.cornac.cornac_utils import predict_ranking\n",
    "\n",
    "# Elasticsearch\n",
    "from elasticsearch import Elasticsearch, helpers\n",
    "\n",
    "# from recommenders.utils.timer import Timer\n",
    "# from recommenders.datasets import movielens\n",
    "# from recommenders.utils.notebook_utils import store_metadata\n",
    "# from recommenders.models.recommenders.utils.constants import SEED\n",
    "# from recommenders.datasets.python_splitters import python_random_split\n",
    "# from recommenders.evaluation.python_evaluation import (\n",
    "#    map,\n",
    "#    ndcg_at_k,\n",
    "#    precision_at_k,\n",
    "#    recall_at_k,\n",
    "# )\n",
    "\n",
    "# Constants and configurations\n",
    "SEED = 42\n",
    "VERBOSE = False\n",
    "pd.set_option(\"max_colwidth\", 0)\n",
    "%matplotlib inline\n",
    "\n",
    "# Printing versions of libraries\n",
    "print(f\"System version: {sys.version}\")\n",
    "print(f\"Cornac version: {cornac.__version__}\")\n",
    "print(f\"TensorFlow version: {tf.__version__}\")"
   ]
  },
  {
   "cell_type": "markdown",
   "metadata": {},
   "source": [
    "#### **0. EDA**"
   ]
  },
  {
   "cell_type": "code",
   "execution_count": 43,
   "metadata": {},
   "outputs": [],
   "source": [
    "df_path = \"ratings_Beauty.csv\"\n",
    "df = pd.read_csv(df_path, header=0)\n",
    "df.drop(\"Timestamp\", axis=1, inplace=True)"
   ]
  },
  {
   "cell_type": "code",
   "execution_count": 44,
   "metadata": {},
   "outputs": [
    {
     "name": "stdout",
     "output_type": "stream",
     "text": [
      "<class 'pandas.core.frame.DataFrame'>\n",
      "RangeIndex: 2023070 entries, 0 to 2023069\n",
      "Data columns (total 3 columns):\n",
      " #   Column     Dtype  \n",
      "---  ------     -----  \n",
      " 0   UserId     object \n",
      " 1   ProductId  object \n",
      " 2   Rating     float64\n",
      "dtypes: float64(1), object(2)\n",
      "memory usage: 46.3+ MB\n"
     ]
    }
   ],
   "source": [
    "df.head()\n",
    "df.info()"
   ]
  },
  {
   "cell_type": "code",
   "execution_count": 45,
   "metadata": {},
   "outputs": [
    {
     "data": {
      "text/plain": [
       "UserId       0\n",
       "ProductId    0\n",
       "Rating       0\n",
       "dtype: int64"
      ]
     },
     "execution_count": 45,
     "metadata": {},
     "output_type": "execute_result"
    }
   ],
   "source": [
    "df.isna().sum()"
   ]
  },
  {
   "cell_type": "code",
   "execution_count": 46,
   "metadata": {},
   "outputs": [
    {
     "data": {
      "text/plain": [
       "Rating\n",
       "5.0    61.724063\n",
       "4.0    15.211535\n",
       "1.0    9.084411 \n",
       "3.0    8.392740 \n",
       "2.0    5.587251 \n",
       "Name: proportion, dtype: float64"
      ]
     },
     "execution_count": 46,
     "metadata": {},
     "output_type": "execute_result"
    }
   ],
   "source": [
    "df.value_counts(\"Rating\", normalize=True) * 100"
   ]
  },
  {
   "cell_type": "code",
   "execution_count": 47,
   "metadata": {},
   "outputs": [
    {
     "data": {
      "text/plain": [
       "ProductId\n",
       "B001MA0QY2    7533\n",
       "B0009V1YR8    2869\n",
       "B0043OYFKU    2477\n",
       "B0000YUXI0    2143\n",
       "B003V265QW    2088\n",
       "              ... \n",
       "B004U81OBC    1   \n",
       "B004U7R0EI    1   \n",
       "B004U7Q2O2    1   \n",
       "B004U7NKRE    1   \n",
       "B00LU0LTOU    1   \n",
       "Name: UserId, Length: 249274, dtype: int64"
      ]
     },
     "execution_count": 47,
     "metadata": {},
     "output_type": "execute_result"
    }
   ],
   "source": [
    "# * - Obten los productos con mayor número de críticas\n",
    "item_rate_count = (\n",
    "    df.groupby(\"ProductId\")[\"UserId\"].nunique().sort_values(ascending=False)\n",
    ")\n",
    "item_rate_count  # ? - Get the number of reviews for a product"
   ]
  },
  {
   "cell_type": "code",
   "execution_count": 48,
   "metadata": {},
   "outputs": [
    {
     "data": {
      "text/html": [
       "<div>\n",
       "<style scoped>\n",
       "    .dataframe tbody tr th:only-of-type {\n",
       "        vertical-align: middle;\n",
       "    }\n",
       "\n",
       "    .dataframe tbody tr th {\n",
       "        vertical-align: top;\n",
       "    }\n",
       "\n",
       "    .dataframe thead th {\n",
       "        text-align: right;\n",
       "    }\n",
       "</style>\n",
       "<table border=\"1\" class=\"dataframe\">\n",
       "  <thead>\n",
       "    <tr style=\"text-align: right;\">\n",
       "      <th></th>\n",
       "      <th>feature</th>\n",
       "      <th>unique_count</th>\n",
       "      <th>unique_values</th>\n",
       "      <th>data_type</th>\n",
       "    </tr>\n",
       "  </thead>\n",
       "  <tbody>\n",
       "    <tr>\n",
       "      <th>UserId</th>\n",
       "      <td>UserId</td>\n",
       "      <td>1210271</td>\n",
       "      <td>[A39HTATAQ9V7YF, A3JM6GV9MNOF9X, A1Z513UWSAAO0F, A1WMRR494NWEWV, A3IAAVS479H7M7, AKJHHD5VEH7VG, A1BG8QW55XHN6U, A22VW0P4VZHDE3, A3V3RE4132GKRO, A327B0I7CYTEJC, AIFAAVTUYHEHB, AVOGV98AYOFG2, A6R426V4J7AOM, AKGB62WGF35J8, A3A4C2K3TWDAO5, A3FV2Q7WPZMQPV, A1RXI3A1E99112, A26QL1FBQO9C0E, A19KEEVZYO1KO6, A1F6HRR58TQ2R0, AVQP6PO1NK0IJ, A32IWHU4TUEQZR, ASPJCWRXUOYYY, A1LAW520BT5AM0, A3SWQ2QQ7JBPFA, A2D7CPCZH5VFVZ, A274NIJWOQWE30, A2OMU0R0VM5O9I, A2YFDS6DYGFLVQ, AKA7T9TPISJ26, AN33X95J5460X, A2UEOW698J0SSR, A22ZFXQE8AWPEP, A9ZNJ2AXPO652, A169NC0ZW6XKRD, AZWRTJPN7NXT, AH344ZAN5GNOM, A1YQUT1H2ENJ8U, A3C744AK5A6MMI, A2H6SFTV2892Z8, A225CH9TTQPC4B, A2F6NPTGDMFXN9, A1DC0DSF3H3BCW, A3TR91FJ4MNFY9, A3IANSH41YHFP1, A2NRG4NQMLHDJQ, A32G79IU2NJ2HS, A3L2VTHD6W1E2Z, A15THVWZS6GQZY, A1VCW66KPTNUV8, AO5JB67V93FBL, A1GWD6BDCLGC82, AJ85OD05LNNUY, A1E5CS6UI1LWQF, A1SWCNGOR3GMOQ, A2IOZRH02O4C9S, A1RGXKJ4RFIOCX, A11OEJ4R1PDTLN, AZ4FR14IPKML7, A251DS38L87XWF, A1Z03R982SX8V2, A1ZY0K46FYOTB6, A3MAATZ091QZGE, A35XCJ5P6ZKRE9, A2B3YKKXVN28TW, A2RDR51FRB58LD, A2MSCG0YX85RL4, A2P8AUMTM6O605, A3SN6TKIXQI7RP, A1MLJHYS35C4X6, A2FTLN4PYZE7S6, ATPHIBSTV1NY5, A1QWS6V26JZ5OX, A1VK4ALI1QOF5U, A1GIXQUBPA0DPT, A22L53OZ7IDQX3, AAOU507M8SF9E, A2DIOCFQZQFD9O, A17Z7DO3IFHZOE, A120LZ9VNR3YI0, A39QH03VD9U048, A95YCV8FK2LCM, AP57TEKK91CIM, A3OQ3FVYBU7SBD, A2GDJP70RVLDKY, A2BQ8DVGEGWAFY, A2A0EW34FZH9Z7, A1D6UAVLQUS41B, A2VRUBSVHDDOU9, A276N142RFK6EF, A2HNQ3JHXDSVMW, ADURH4ZDRMZV6, AXVLSEEYTC4Z9, AGGXC77INUISD, A10REFE1TW3ZVT, A3M7ROZKQW6F69, A271KYL82709TY, A1OON4OPP58E26, A3COLQK8Y9V9A5, A28H0PAQPYKN94, ...]</td>\n",
       "      <td>object</td>\n",
       "    </tr>\n",
       "    <tr>\n",
       "      <th>ProductId</th>\n",
       "      <td>ProductId</td>\n",
       "      <td>249274</td>\n",
       "      <td>[0205616461, 0558925278, 0733001998, 0737104473, 0762451459, 1304139212, 1304139220, 130414089X, 130414643X, 1304146537, 130414674X, 1304168522, 1304174778, 1304174867, 1304174905, 1304196046, 1304196062, 1304196070, 1304196135, 1304351475, 1304482596, 1304482634, 1304482685, 1304488608, 1304495396, 1304511073, 1304511081, 1304511111, 130451112X, 1304511138, 1304511146, 1304511154, 1304622193, 1304622223, 1304622428, 1304622452, 1304622460, 1304622622, 1304622657, 1304622665, 1304624498, 1304624544, 1304651029, 1304651088, 130465110X, 1304651118, 1304651347, 1304665704, 1304665720, 130466578X, 1403790965, 1412759676, 1451646526, 1457982633, 1572671203, 1879187396, 1906987238, 1929099886, 1987958179, 3222000565, 322700075X, 3227001055, 3227001381, 3292000971, 3423470476, 360211600X, 4057362797, 4057362843, 4057362886, 4057362894, 4057362967, 4057363823, 4057368825, 4057553908, 5297000963, 5357954771, 535795531X, 535795545X, 5357955743, 5357955751, 5357955786, 5357955832, 5357955867, 5357955905, 5357955948, 5357955972, 5357956014, 5357956111, 5357956227, 6022600685, 602260074X, 6022600790, 6022600804, 6022600812, 6040652705, 6041134473, 604113449X, 6041134511, 6053640972, 6117036094, ...]</td>\n",
       "      <td>object</td>\n",
       "    </tr>\n",
       "    <tr>\n",
       "      <th>Rating</th>\n",
       "      <td>Rating</td>\n",
       "      <td>5</td>\n",
       "      <td>[5.0, 3.0, 4.0, 1.0, 2.0]</td>\n",
       "      <td>float64</td>\n",
       "    </tr>\n",
       "  </tbody>\n",
       "</table>\n",
       "</div>"
      ],
      "text/plain": [
       "             feature  unique_count  \\\n",
       "UserId     UserId     1210271        \n",
       "ProductId  ProductId  249274         \n",
       "Rating     Rating     5              \n",
       "\n",
       "                                                                                                                                                                                                                                                                                                                                                                                                                                                                                                                                                                                                                                                                                                                                                                                                                                                                                                                                                                                                                                                                                                                                                                                                                                                                                                                                                                                                                                                                                                                                                                                                                                            unique_values  \\\n",
       "UserId     [A39HTATAQ9V7YF, A3JM6GV9MNOF9X, A1Z513UWSAAO0F, A1WMRR494NWEWV, A3IAAVS479H7M7, AKJHHD5VEH7VG, A1BG8QW55XHN6U, A22VW0P4VZHDE3, A3V3RE4132GKRO, A327B0I7CYTEJC, AIFAAVTUYHEHB, AVOGV98AYOFG2, A6R426V4J7AOM, AKGB62WGF35J8, A3A4C2K3TWDAO5, A3FV2Q7WPZMQPV, A1RXI3A1E99112, A26QL1FBQO9C0E, A19KEEVZYO1KO6, A1F6HRR58TQ2R0, AVQP6PO1NK0IJ, A32IWHU4TUEQZR, ASPJCWRXUOYYY, A1LAW520BT5AM0, A3SWQ2QQ7JBPFA, A2D7CPCZH5VFVZ, A274NIJWOQWE30, A2OMU0R0VM5O9I, A2YFDS6DYGFLVQ, AKA7T9TPISJ26, AN33X95J5460X, A2UEOW698J0SSR, A22ZFXQE8AWPEP, A9ZNJ2AXPO652, A169NC0ZW6XKRD, AZWRTJPN7NXT, AH344ZAN5GNOM, A1YQUT1H2ENJ8U, A3C744AK5A6MMI, A2H6SFTV2892Z8, A225CH9TTQPC4B, A2F6NPTGDMFXN9, A1DC0DSF3H3BCW, A3TR91FJ4MNFY9, A3IANSH41YHFP1, A2NRG4NQMLHDJQ, A32G79IU2NJ2HS, A3L2VTHD6W1E2Z, A15THVWZS6GQZY, A1VCW66KPTNUV8, AO5JB67V93FBL, A1GWD6BDCLGC82, AJ85OD05LNNUY, A1E5CS6UI1LWQF, A1SWCNGOR3GMOQ, A2IOZRH02O4C9S, A1RGXKJ4RFIOCX, A11OEJ4R1PDTLN, AZ4FR14IPKML7, A251DS38L87XWF, A1Z03R982SX8V2, A1ZY0K46FYOTB6, A3MAATZ091QZGE, A35XCJ5P6ZKRE9, A2B3YKKXVN28TW, A2RDR51FRB58LD, A2MSCG0YX85RL4, A2P8AUMTM6O605, A3SN6TKIXQI7RP, A1MLJHYS35C4X6, A2FTLN4PYZE7S6, ATPHIBSTV1NY5, A1QWS6V26JZ5OX, A1VK4ALI1QOF5U, A1GIXQUBPA0DPT, A22L53OZ7IDQX3, AAOU507M8SF9E, A2DIOCFQZQFD9O, A17Z7DO3IFHZOE, A120LZ9VNR3YI0, A39QH03VD9U048, A95YCV8FK2LCM, AP57TEKK91CIM, A3OQ3FVYBU7SBD, A2GDJP70RVLDKY, A2BQ8DVGEGWAFY, A2A0EW34FZH9Z7, A1D6UAVLQUS41B, A2VRUBSVHDDOU9, A276N142RFK6EF, A2HNQ3JHXDSVMW, ADURH4ZDRMZV6, AXVLSEEYTC4Z9, AGGXC77INUISD, A10REFE1TW3ZVT, A3M7ROZKQW6F69, A271KYL82709TY, A1OON4OPP58E26, A3COLQK8Y9V9A5, A28H0PAQPYKN94, ...]   \n",
       "ProductId  [0205616461, 0558925278, 0733001998, 0737104473, 0762451459, 1304139212, 1304139220, 130414089X, 130414643X, 1304146537, 130414674X, 1304168522, 1304174778, 1304174867, 1304174905, 1304196046, 1304196062, 1304196070, 1304196135, 1304351475, 1304482596, 1304482634, 1304482685, 1304488608, 1304495396, 1304511073, 1304511081, 1304511111, 130451112X, 1304511138, 1304511146, 1304511154, 1304622193, 1304622223, 1304622428, 1304622452, 1304622460, 1304622622, 1304622657, 1304622665, 1304624498, 1304624544, 1304651029, 1304651088, 130465110X, 1304651118, 1304651347, 1304665704, 1304665720, 130466578X, 1403790965, 1412759676, 1451646526, 1457982633, 1572671203, 1879187396, 1906987238, 1929099886, 1987958179, 3222000565, 322700075X, 3227001055, 3227001381, 3292000971, 3423470476, 360211600X, 4057362797, 4057362843, 4057362886, 4057362894, 4057362967, 4057363823, 4057368825, 4057553908, 5297000963, 5357954771, 535795531X, 535795545X, 5357955743, 5357955751, 5357955786, 5357955832, 5357955867, 5357955905, 5357955948, 5357955972, 5357956014, 5357956111, 5357956227, 6022600685, 602260074X, 6022600790, 6022600804, 6022600812, 6040652705, 6041134473, 604113449X, 6041134511, 6053640972, 6117036094, ...]                                                                                                                                                                                                                                                                                                                                                                                            \n",
       "Rating     [5.0, 3.0, 4.0, 1.0, 2.0]                                                                                                                                                                                                                                                                                                                                                                                                                                                                                                                                                                                                                                                                                                                                                                                                                                                                                                                                                                                                                                                                                                                                                                                                                                                                                                                                                                                                                                                                                                                                                                                                                        \n",
       "\n",
       "          data_type  \n",
       "UserId     object    \n",
       "ProductId  object    \n",
       "Rating     float64   "
      ]
     },
     "execution_count": 48,
     "metadata": {},
     "output_type": "execute_result"
    }
   ],
   "source": [
    "# * - Meter info previa en un dataFrame:\n",
    "unique_counts = df.nunique()\n",
    "unique_values = [df[column].unique() for column in df.columns]\n",
    "\n",
    "# * - Obten en array los tipos de datos por columna:\n",
    "data_types = [str(df[column].dtype) for column in df.columns]\n",
    "unique_counts_df = pd.DataFrame(\n",
    "    {\n",
    "        \"feature\": df.columns,\n",
    "        \"unique_count\": unique_counts,\n",
    "        \"unique_values\": unique_values,\n",
    "        \"data_type\": data_types,\n",
    "    }\n",
    ")\n",
    "unique_counts_df"
   ]
  },
  {
   "cell_type": "code",
   "execution_count": 49,
   "metadata": {},
   "outputs": [],
   "source": [
    "def explore_outliers(df, num_vars):\n",
    "    \"\"\"\n",
    "    Explora y identifica los valores atípicos de variables numéricas en un DataFrame.\n",
    "\n",
    "    Retorna:\n",
    "    - outliers_df (diccionario): Diccionario con las variables numéricas como claves. Cada valor es otro diccionario\n",
    "      con las claves 'values' (valores atípicos), 'positions' (posiciones de los valores atípicos en el DataFrame)\n",
    "      e 'indices' (índices de los valores atípicos en el DataFrame).\n",
    "    \"\"\"\n",
    "    outliers_df = dict()\n",
    "    for k in range(len(num_vars)):\n",
    "        var = num_vars[k]\n",
    "        sns.boxplot(df, x=var)\n",
    "        outliers_df[var] = boxplot_stats(df[var])[0][\n",
    "            \"fliers\"\n",
    "        ]  # ? - Boxplot de TODOS LOS RATINGS EN NUESTRA MUESTRA\n",
    "        out_pos = np.where(df[var].isin(outliers_df[var]))[0].tolist()\n",
    "        out_idx = [df[var].index.tolist()[k] for k in out_pos]\n",
    "        outliers_df[var] = {\n",
    "            \"values\": outliers_df[var],\n",
    "            \"positions\": out_pos,\n",
    "            \"indices\": out_idx,\n",
    "        }\n",
    "    return outliers_df"
   ]
  },
  {
   "cell_type": "code",
   "execution_count": 50,
   "metadata": {},
   "outputs": [
    {
     "data": {
      "text/plain": [
       "(195490, 3)"
      ]
     },
     "execution_count": 50,
     "metadata": {},
     "output_type": "execute_result"
    }
   ],
   "source": [
    "reviews_per_rating = df[[\"ProductId\", \"Rating\"]].value_counts()\n",
    "select_product = (reviews_per_rating >= 20).groupby(\"ProductId\").all()\n",
    "select_product = select_product.index[select_product].to_list()\n",
    "df = df.loc[df[\"ProductId\"].isin(select_product)]\n",
    "df.shape"
   ]
  },
  {
   "cell_type": "code",
   "execution_count": 97,
   "metadata": {},
   "outputs": [
    {
     "name": "stdout",
     "output_type": "stream",
     "text": [
      "Percentage of outliers: 14.6 %\n"
     ]
    },
    {
     "data": {
      "image/png": "[encoded data removed]",
      "text/plain": [
       "<Figure size 640x480 with 1 Axes>"
      ]
     },
     "metadata": {},
     "output_type": "display_data"
    }
   ],
   "source": [
    "# * Obtener los outliers y visualizar el boxplot.\n",
    "df = df.sample(10000, random_state=23, ignore_index=True)\n",
    "outlier_ratings = explore_outliers(df, [\"Rating\"])\n",
    "\n",
    "# * Obtener porcentaje de outliers de nuestra muestra:\n",
    "print(\n",
    "    \"Percentage of outliers:\",\n",
    "    round(len(outlier_ratings.get(\"Rating\").get(\"indices\")) / len(df), 3) * 100,\n",
    "    \"%\",\n",
    ")\n",
    "\n",
    "# ! - Si hay un sesgo muy claro en el boxplot, NO recomendamos quitar las anomalías para\n",
    "# ! - capturar todos los comportamientos posibles de usuarios."
   ]
  },
  {
   "cell_type": "code",
   "execution_count": 98,
   "metadata": {},
   "outputs": [
    {
     "name": "stdout",
     "output_type": "stream",
     "text": [
      "Number of users: 9898\n",
      "Number of items: 8132\n",
      "Number of available ratings: 10000\n",
      "Number of all possible ratings: 80490536\n",
      "----------------------------------------\n",
      "SPARSITY: 99.99%\n"
     ]
    }
   ],
   "source": [
    "# * - Calculo de Sparsity. Nos dice si nuestro dataset exhibe propiedades long-tail\n",
    "# * - Si el sparsity es alto, yo optaría por hacer Cosine similarity\n",
    "# * - Como de llena esta nuestra matriz de ratings:\n",
    "def print_sparsity(df):\n",
    "    n_users = df.UserId.nunique()\n",
    "    n_items = df.ProductId.nunique()\n",
    "    n_ratings = len(df)\n",
    "    rating_matrix_size = n_users * n_items\n",
    "    sparsity = 1 - n_ratings / rating_matrix_size\n",
    "\n",
    "    print(f\"Number of users: {n_users}\")\n",
    "    print(f\"Number of items: {n_items}\")\n",
    "    print(f\"Number of available ratings: {n_ratings}\")\n",
    "    print(f\"Number of all possible ratings: {rating_matrix_size}\")\n",
    "    print(\"-\" * 40)\n",
    "    print(f\"SPARSITY: {sparsity * 100.0:.2f}%\")\n",
    "\n",
    "\n",
    "print_sparsity(\n",
    "    df\n",
    ")  # * Sparsity alto, por lo tanto debemos optar por el cosine similarity"
   ]
  },
  {
   "cell_type": "code",
   "execution_count": 99,
   "metadata": {},
   "outputs": [
    {
     "data": {
      "image/png": "[encoded data removed]",
      "text/plain": [
       "<Figure size 1400x500 with 2 Axes>"
      ]
     },
     "metadata": {},
     "output_type": "display_data"
    }
   ],
   "source": [
    "# * - Opcional: Plot para observar si hay long tail property: (CUIDADO CON NOMBRES DE COLS)\n",
    "popular_products = pd.DataFrame(df.groupby(\"ProductId\")[\"Rating\"].count())\n",
    "most_popular = popular_products.sort_values(\"Rating\", ascending=False)\n",
    "\n",
    "fig, axes = plt.subplots(nrows=1, ncols=2, figsize=(14, 5))\n",
    "# First plot\n",
    "axes[0].bar(\n",
    "    x=range(len(item_rate_count)),\n",
    "    height=item_rate_count.values,\n",
    "    width=5.0,\n",
    "    align=\"edge\",\n",
    ")\n",
    "axes[0].set_xticks([])\n",
    "axes[0].set(\n",
    "    title=\"Long tail of rating frequency\",\n",
    "    xlabel=\"Item ordered by decreasing frequency\",\n",
    "    ylabel=\"#Ratings\",\n",
    ")\n",
    "\n",
    "# Second plot adaptation\n",
    "# Assuming most_popular is a Series. If it's a DataFrame, you might need to adjust this part.\n",
    "x_pos = range(len(most_popular.head(30)))  # Generate x positions\n",
    "axes[1].bar(x=x_pos, height=most_popular.head(30)[\"Rating\"], align=\"center\")\n",
    "axes[1].set_xticks(x_pos)\n",
    "axes[1].set_xticklabels(most_popular.head(30).index, rotation=\"vertical\")\n",
    "axes[1].set(\n",
    "    title=\"Top 30 Most Popular Items\",\n",
    "    xlabel=\"Item\",\n",
    "    ylabel=\"Frequency or some other metric\",\n",
    ")\n",
    "\n",
    "plt.tight_layout()\n",
    "plt.show()"
   ]
  },
  {
   "cell_type": "markdown",
   "metadata": {},
   "source": [
    "#### **1. User-based recommendation**"
   ]
  },
  {
   "cell_type": "code",
   "execution_count": 100,
   "metadata": {},
   "outputs": [
    {
     "data": {
      "text/html": [
       "<div>\n",
       "<style scoped>\n",
       "    .dataframe tbody tr th:only-of-type {\n",
       "        vertical-align: middle;\n",
       "    }\n",
       "\n",
       "    .dataframe tbody tr th {\n",
       "        vertical-align: top;\n",
       "    }\n",
       "\n",
       "    .dataframe thead th {\n",
       "        text-align: right;\n",
       "    }\n",
       "</style>\n",
       "<table border=\"1\" class=\"dataframe\">\n",
       "  <thead>\n",
       "    <tr style=\"text-align: right;\">\n",
       "      <th></th>\n",
       "      <th>UserId</th>\n",
       "      <th>ProductId</th>\n",
       "      <th>Rating</th>\n",
       "      <th>Timestamp</th>\n",
       "    </tr>\n",
       "  </thead>\n",
       "  <tbody>\n",
       "    <tr>\n",
       "      <th>0</th>\n",
       "      <td>A28NETRZZGNQNN</td>\n",
       "      <td>B001GIOV8C</td>\n",
       "      <td>5.0</td>\n",
       "      <td>1233360000</td>\n",
       "    </tr>\n",
       "    <tr>\n",
       "      <th>1</th>\n",
       "      <td>A3V2Z5651OC7R8</td>\n",
       "      <td>B001E6P6MQ</td>\n",
       "      <td>4.0</td>\n",
       "      <td>1391040000</td>\n",
       "    </tr>\n",
       "    <tr>\n",
       "      <th>2</th>\n",
       "      <td>A2D8W4WA9YELPE</td>\n",
       "      <td>B00B4D8XUQ</td>\n",
       "      <td>4.0</td>\n",
       "      <td>1399852800</td>\n",
       "    </tr>\n",
       "    <tr>\n",
       "      <th>3</th>\n",
       "      <td>A1RLQXYNCMWRWN</td>\n",
       "      <td>B004FJHEHY</td>\n",
       "      <td>5.0</td>\n",
       "      <td>1359849600</td>\n",
       "    </tr>\n",
       "    <tr>\n",
       "      <th>4</th>\n",
       "      <td>A2JED4KXRSWSA</td>\n",
       "      <td>B000FGC99O</td>\n",
       "      <td>1.0</td>\n",
       "      <td>1297296000</td>\n",
       "    </tr>\n",
       "  </tbody>\n",
       "</table>\n",
       "</div>"
      ],
      "text/plain": [
       "           UserId   ProductId  Rating   Timestamp\n",
       "0  A28NETRZZGNQNN  B001GIOV8C  5.0     1233360000\n",
       "1  A3V2Z5651OC7R8  B001E6P6MQ  4.0     1391040000\n",
       "2  A2D8W4WA9YELPE  B00B4D8XUQ  4.0     1399852800\n",
       "3  A1RLQXYNCMWRWN  B004FJHEHY  5.0     1359849600\n",
       "4  A2JED4KXRSWSA   B000FGC99O  1.0     1297296000"
      ]
     },
     "execution_count": 100,
     "metadata": {},
     "output_type": "execute_result"
    }
   ],
   "source": [
    "df.head()"
   ]
  },
  {
   "cell_type": "code",
   "execution_count": 114,
   "metadata": {},
   "outputs": [
    {
     "data": {
      "text/html": [
       "<div>\n",
       "<style scoped>\n",
       "    .dataframe tbody tr th:only-of-type {\n",
       "        vertical-align: middle;\n",
       "    }\n",
       "\n",
       "    .dataframe tbody tr th {\n",
       "        vertical-align: top;\n",
       "    }\n",
       "\n",
       "    .dataframe thead th {\n",
       "        text-align: right;\n",
       "    }\n",
       "</style>\n",
       "<table border=\"1\" class=\"dataframe\">\n",
       "  <thead>\n",
       "    <tr style=\"text-align: right;\">\n",
       "      <th>ProductId</th>\n",
       "      <th>1451646526</th>\n",
       "      <th>4057553908</th>\n",
       "      <th>753865058X</th>\n",
       "      <th>9788073409</th>\n",
       "      <th>9788080669</th>\n",
       "      <th>9790771584</th>\n",
       "      <th>9790778309</th>\n",
       "      <th>979079035X</th>\n",
       "      <th>9790790961</th>\n",
       "      <th>B00004TMFE</th>\n",
       "      <th>...</th>\n",
       "      <th>B00KAL5JAU</th>\n",
       "      <th>B00KD73PBQ</th>\n",
       "      <th>B00KECCJTY</th>\n",
       "      <th>B00KHH2VOY</th>\n",
       "      <th>B00KIWJ1W8</th>\n",
       "      <th>B00KNCUMDU</th>\n",
       "      <th>B00KQVTX06</th>\n",
       "      <th>B00KWE08Q0</th>\n",
       "      <th>B00L3KEIZO</th>\n",
       "      <th>B00LCLFMDG</th>\n",
       "    </tr>\n",
       "    <tr>\n",
       "      <th>UserId</th>\n",
       "      <th></th>\n",
       "      <th></th>\n",
       "      <th></th>\n",
       "      <th></th>\n",
       "      <th></th>\n",
       "      <th></th>\n",
       "      <th></th>\n",
       "      <th></th>\n",
       "      <th></th>\n",
       "      <th></th>\n",
       "      <th></th>\n",
       "      <th></th>\n",
       "      <th></th>\n",
       "      <th></th>\n",
       "      <th></th>\n",
       "      <th></th>\n",
       "      <th></th>\n",
       "      <th></th>\n",
       "      <th></th>\n",
       "      <th></th>\n",
       "      <th></th>\n",
       "    </tr>\n",
       "  </thead>\n",
       "  <tbody>\n",
       "    <tr>\n",
       "      <th>A00407141VL6SB77B1GGG</th>\n",
       "      <td>NaN</td>\n",
       "      <td>NaN</td>\n",
       "      <td>NaN</td>\n",
       "      <td>NaN</td>\n",
       "      <td>NaN</td>\n",
       "      <td>NaN</td>\n",
       "      <td>NaN</td>\n",
       "      <td>NaN</td>\n",
       "      <td>NaN</td>\n",
       "      <td>NaN</td>\n",
       "      <td>...</td>\n",
       "      <td>NaN</td>\n",
       "      <td>NaN</td>\n",
       "      <td>NaN</td>\n",
       "      <td>NaN</td>\n",
       "      <td>NaN</td>\n",
       "      <td>NaN</td>\n",
       "      <td>NaN</td>\n",
       "      <td>NaN</td>\n",
       "      <td>NaN</td>\n",
       "      <td>NaN</td>\n",
       "    </tr>\n",
       "    <tr>\n",
       "      <th>A00473363TJ8YSZ3YAGG9</th>\n",
       "      <td>NaN</td>\n",
       "      <td>NaN</td>\n",
       "      <td>NaN</td>\n",
       "      <td>NaN</td>\n",
       "      <td>NaN</td>\n",
       "      <td>NaN</td>\n",
       "      <td>NaN</td>\n",
       "      <td>NaN</td>\n",
       "      <td>NaN</td>\n",
       "      <td>NaN</td>\n",
       "      <td>...</td>\n",
       "      <td>NaN</td>\n",
       "      <td>NaN</td>\n",
       "      <td>NaN</td>\n",
       "      <td>NaN</td>\n",
       "      <td>NaN</td>\n",
       "      <td>NaN</td>\n",
       "      <td>NaN</td>\n",
       "      <td>NaN</td>\n",
       "      <td>NaN</td>\n",
       "      <td>NaN</td>\n",
       "    </tr>\n",
       "    <tr>\n",
       "      <th>A0056746VLX0I5VJCFN6</th>\n",
       "      <td>NaN</td>\n",
       "      <td>NaN</td>\n",
       "      <td>NaN</td>\n",
       "      <td>NaN</td>\n",
       "      <td>NaN</td>\n",
       "      <td>NaN</td>\n",
       "      <td>NaN</td>\n",
       "      <td>NaN</td>\n",
       "      <td>NaN</td>\n",
       "      <td>NaN</td>\n",
       "      <td>...</td>\n",
       "      <td>NaN</td>\n",
       "      <td>NaN</td>\n",
       "      <td>NaN</td>\n",
       "      <td>NaN</td>\n",
       "      <td>NaN</td>\n",
       "      <td>NaN</td>\n",
       "      <td>NaN</td>\n",
       "      <td>NaN</td>\n",
       "      <td>NaN</td>\n",
       "      <td>NaN</td>\n",
       "    </tr>\n",
       "    <tr>\n",
       "      <th>A05198112VVJ1HUQ3SWU5</th>\n",
       "      <td>NaN</td>\n",
       "      <td>NaN</td>\n",
       "      <td>NaN</td>\n",
       "      <td>NaN</td>\n",
       "      <td>NaN</td>\n",
       "      <td>NaN</td>\n",
       "      <td>NaN</td>\n",
       "      <td>NaN</td>\n",
       "      <td>NaN</td>\n",
       "      <td>NaN</td>\n",
       "      <td>...</td>\n",
       "      <td>NaN</td>\n",
       "      <td>NaN</td>\n",
       "      <td>NaN</td>\n",
       "      <td>NaN</td>\n",
       "      <td>NaN</td>\n",
       "      <td>NaN</td>\n",
       "      <td>NaN</td>\n",
       "      <td>NaN</td>\n",
       "      <td>NaN</td>\n",
       "      <td>NaN</td>\n",
       "    </tr>\n",
       "    <tr>\n",
       "      <th>A05510841IANN1R9RQYTZ</th>\n",
       "      <td>NaN</td>\n",
       "      <td>NaN</td>\n",
       "      <td>NaN</td>\n",
       "      <td>NaN</td>\n",
       "      <td>NaN</td>\n",
       "      <td>NaN</td>\n",
       "      <td>NaN</td>\n",
       "      <td>NaN</td>\n",
       "      <td>NaN</td>\n",
       "      <td>NaN</td>\n",
       "      <td>...</td>\n",
       "      <td>NaN</td>\n",
       "      <td>NaN</td>\n",
       "      <td>NaN</td>\n",
       "      <td>NaN</td>\n",
       "      <td>NaN</td>\n",
       "      <td>NaN</td>\n",
       "      <td>NaN</td>\n",
       "      <td>NaN</td>\n",
       "      <td>NaN</td>\n",
       "      <td>NaN</td>\n",
       "    </tr>\n",
       "    <tr>\n",
       "      <th>...</th>\n",
       "      <td>...</td>\n",
       "      <td>...</td>\n",
       "      <td>...</td>\n",
       "      <td>...</td>\n",
       "      <td>...</td>\n",
       "      <td>...</td>\n",
       "      <td>...</td>\n",
       "      <td>...</td>\n",
       "      <td>...</td>\n",
       "      <td>...</td>\n",
       "      <td>...</td>\n",
       "      <td>...</td>\n",
       "      <td>...</td>\n",
       "      <td>...</td>\n",
       "      <td>...</td>\n",
       "      <td>...</td>\n",
       "      <td>...</td>\n",
       "      <td>...</td>\n",
       "      <td>...</td>\n",
       "      <td>...</td>\n",
       "      <td>...</td>\n",
       "    </tr>\n",
       "    <tr>\n",
       "      <th>AZXZJMSR6FNAP</th>\n",
       "      <td>NaN</td>\n",
       "      <td>NaN</td>\n",
       "      <td>NaN</td>\n",
       "      <td>NaN</td>\n",
       "      <td>NaN</td>\n",
       "      <td>NaN</td>\n",
       "      <td>NaN</td>\n",
       "      <td>NaN</td>\n",
       "      <td>NaN</td>\n",
       "      <td>NaN</td>\n",
       "      <td>...</td>\n",
       "      <td>NaN</td>\n",
       "      <td>NaN</td>\n",
       "      <td>NaN</td>\n",
       "      <td>NaN</td>\n",
       "      <td>NaN</td>\n",
       "      <td>NaN</td>\n",
       "      <td>NaN</td>\n",
       "      <td>NaN</td>\n",
       "      <td>NaN</td>\n",
       "      <td>NaN</td>\n",
       "    </tr>\n",
       "    <tr>\n",
       "      <th>AZY5X93OVEWO7</th>\n",
       "      <td>NaN</td>\n",
       "      <td>NaN</td>\n",
       "      <td>NaN</td>\n",
       "      <td>NaN</td>\n",
       "      <td>NaN</td>\n",
       "      <td>NaN</td>\n",
       "      <td>NaN</td>\n",
       "      <td>NaN</td>\n",
       "      <td>NaN</td>\n",
       "      <td>NaN</td>\n",
       "      <td>...</td>\n",
       "      <td>NaN</td>\n",
       "      <td>NaN</td>\n",
       "      <td>NaN</td>\n",
       "      <td>NaN</td>\n",
       "      <td>NaN</td>\n",
       "      <td>NaN</td>\n",
       "      <td>NaN</td>\n",
       "      <td>NaN</td>\n",
       "      <td>NaN</td>\n",
       "      <td>NaN</td>\n",
       "    </tr>\n",
       "    <tr>\n",
       "      <th>AZYJE40XW6MFG</th>\n",
       "      <td>NaN</td>\n",
       "      <td>NaN</td>\n",
       "      <td>NaN</td>\n",
       "      <td>NaN</td>\n",
       "      <td>NaN</td>\n",
       "      <td>NaN</td>\n",
       "      <td>NaN</td>\n",
       "      <td>NaN</td>\n",
       "      <td>NaN</td>\n",
       "      <td>NaN</td>\n",
       "      <td>...</td>\n",
       "      <td>NaN</td>\n",
       "      <td>NaN</td>\n",
       "      <td>NaN</td>\n",
       "      <td>NaN</td>\n",
       "      <td>NaN</td>\n",
       "      <td>NaN</td>\n",
       "      <td>NaN</td>\n",
       "      <td>NaN</td>\n",
       "      <td>NaN</td>\n",
       "      <td>NaN</td>\n",
       "    </tr>\n",
       "    <tr>\n",
       "      <th>AZYKUCV9DGVIM</th>\n",
       "      <td>NaN</td>\n",
       "      <td>NaN</td>\n",
       "      <td>NaN</td>\n",
       "      <td>NaN</td>\n",
       "      <td>NaN</td>\n",
       "      <td>NaN</td>\n",
       "      <td>NaN</td>\n",
       "      <td>NaN</td>\n",
       "      <td>NaN</td>\n",
       "      <td>NaN</td>\n",
       "      <td>...</td>\n",
       "      <td>NaN</td>\n",
       "      <td>NaN</td>\n",
       "      <td>NaN</td>\n",
       "      <td>NaN</td>\n",
       "      <td>NaN</td>\n",
       "      <td>NaN</td>\n",
       "      <td>NaN</td>\n",
       "      <td>NaN</td>\n",
       "      <td>NaN</td>\n",
       "      <td>NaN</td>\n",
       "    </tr>\n",
       "    <tr>\n",
       "      <th>AZZFMMA477LRW</th>\n",
       "      <td>NaN</td>\n",
       "      <td>NaN</td>\n",
       "      <td>NaN</td>\n",
       "      <td>NaN</td>\n",
       "      <td>NaN</td>\n",
       "      <td>NaN</td>\n",
       "      <td>NaN</td>\n",
       "      <td>NaN</td>\n",
       "      <td>NaN</td>\n",
       "      <td>NaN</td>\n",
       "      <td>...</td>\n",
       "      <td>NaN</td>\n",
       "      <td>NaN</td>\n",
       "      <td>NaN</td>\n",
       "      <td>NaN</td>\n",
       "      <td>NaN</td>\n",
       "      <td>NaN</td>\n",
       "      <td>NaN</td>\n",
       "      <td>NaN</td>\n",
       "      <td>NaN</td>\n",
       "      <td>NaN</td>\n",
       "    </tr>\n",
       "  </tbody>\n",
       "</table>\n",
       "<p>9898 rows × 8132 columns</p>\n",
       "</div>"
      ],
      "text/plain": [
       "ProductId              1451646526  4057553908  753865058X  9788073409  \\\n",
       "UserId                                                                  \n",
       "A00407141VL6SB77B1GGG NaN         NaN         NaN         NaN           \n",
       "A00473363TJ8YSZ3YAGG9 NaN         NaN         NaN         NaN           \n",
       "A0056746VLX0I5VJCFN6  NaN         NaN         NaN         NaN           \n",
       "A05198112VVJ1HUQ3SWU5 NaN         NaN         NaN         NaN           \n",
       "A05510841IANN1R9RQYTZ NaN         NaN         NaN         NaN           \n",
       "...                    ..          ..          ..          ..           \n",
       "AZXZJMSR6FNAP         NaN         NaN         NaN         NaN           \n",
       "AZY5X93OVEWO7         NaN         NaN         NaN         NaN           \n",
       "AZYJE40XW6MFG         NaN         NaN         NaN         NaN           \n",
       "AZYKUCV9DGVIM         NaN         NaN         NaN         NaN           \n",
       "AZZFMMA477LRW         NaN         NaN         NaN         NaN           \n",
       "\n",
       "ProductId              9788080669  9790771584  9790778309  979079035X  \\\n",
       "UserId                                                                  \n",
       "A00407141VL6SB77B1GGG NaN         NaN         NaN         NaN           \n",
       "A00473363TJ8YSZ3YAGG9 NaN         NaN         NaN         NaN           \n",
       "A0056746VLX0I5VJCFN6  NaN         NaN         NaN         NaN           \n",
       "A05198112VVJ1HUQ3SWU5 NaN         NaN         NaN         NaN           \n",
       "A05510841IANN1R9RQYTZ NaN         NaN         NaN         NaN           \n",
       "...                    ..          ..          ..          ..           \n",
       "AZXZJMSR6FNAP         NaN         NaN         NaN         NaN           \n",
       "AZY5X93OVEWO7         NaN         NaN         NaN         NaN           \n",
       "AZYJE40XW6MFG         NaN         NaN         NaN         NaN           \n",
       "AZYKUCV9DGVIM         NaN         NaN         NaN         NaN           \n",
       "AZZFMMA477LRW         NaN         NaN         NaN         NaN           \n",
       "\n",
       "ProductId              9790790961  B00004TMFE  ...  B00KAL5JAU  B00KD73PBQ  \\\n",
       "UserId                                         ...                           \n",
       "A00407141VL6SB77B1GGG NaN         NaN          ... NaN         NaN           \n",
       "A00473363TJ8YSZ3YAGG9 NaN         NaN          ... NaN         NaN           \n",
       "A0056746VLX0I5VJCFN6  NaN         NaN          ... NaN         NaN           \n",
       "A05198112VVJ1HUQ3SWU5 NaN         NaN          ... NaN         NaN           \n",
       "A05510841IANN1R9RQYTZ NaN         NaN          ... NaN         NaN           \n",
       "...                    ..          ..          ...  ..          ..           \n",
       "AZXZJMSR6FNAP         NaN         NaN          ... NaN         NaN           \n",
       "AZY5X93OVEWO7         NaN         NaN          ... NaN         NaN           \n",
       "AZYJE40XW6MFG         NaN         NaN          ... NaN         NaN           \n",
       "AZYKUCV9DGVIM         NaN         NaN          ... NaN         NaN           \n",
       "AZZFMMA477LRW         NaN         NaN          ... NaN         NaN           \n",
       "\n",
       "ProductId              B00KECCJTY  B00KHH2VOY  B00KIWJ1W8  B00KNCUMDU  \\\n",
       "UserId                                                                  \n",
       "A00407141VL6SB77B1GGG NaN         NaN         NaN         NaN           \n",
       "A00473363TJ8YSZ3YAGG9 NaN         NaN         NaN         NaN           \n",
       "A0056746VLX0I5VJCFN6  NaN         NaN         NaN         NaN           \n",
       "A05198112VVJ1HUQ3SWU5 NaN         NaN         NaN         NaN           \n",
       "A05510841IANN1R9RQYTZ NaN         NaN         NaN         NaN           \n",
       "...                    ..          ..          ..          ..           \n",
       "AZXZJMSR6FNAP         NaN         NaN         NaN         NaN           \n",
       "AZY5X93OVEWO7         NaN         NaN         NaN         NaN           \n",
       "AZYJE40XW6MFG         NaN         NaN         NaN         NaN           \n",
       "AZYKUCV9DGVIM         NaN         NaN         NaN         NaN           \n",
       "AZZFMMA477LRW         NaN         NaN         NaN         NaN           \n",
       "\n",
       "ProductId              B00KQVTX06  B00KWE08Q0  B00L3KEIZO  B00LCLFMDG  \n",
       "UserId                                                                 \n",
       "A00407141VL6SB77B1GGG NaN         NaN         NaN         NaN          \n",
       "A00473363TJ8YSZ3YAGG9 NaN         NaN         NaN         NaN          \n",
       "A0056746VLX0I5VJCFN6  NaN         NaN         NaN         NaN          \n",
       "A05198112VVJ1HUQ3SWU5 NaN         NaN         NaN         NaN          \n",
       "A05510841IANN1R9RQYTZ NaN         NaN         NaN         NaN          \n",
       "...                    ..          ..          ..          ..          \n",
       "AZXZJMSR6FNAP         NaN         NaN         NaN         NaN          \n",
       "AZY5X93OVEWO7         NaN         NaN         NaN         NaN          \n",
       "AZYJE40XW6MFG         NaN         NaN         NaN         NaN          \n",
       "AZYKUCV9DGVIM         NaN         NaN         NaN         NaN          \n",
       "AZZFMMA477LRW         NaN         NaN         NaN         NaN          \n",
       "\n",
       "[9898 rows x 8132 columns]"
      ]
     },
     "execution_count": 114,
     "metadata": {},
     "output_type": "execute_result"
    }
   ],
   "source": [
    "# * Generar la matriz de ratings:\n",
    "ratings_matrix = df.pivot_table(\n",
    "    index=\"UserId\",\n",
    "    columns=\"ProductId\",\n",
    "    values=\"Rating\",\n",
    ")\n",
    "\n",
    "ratings_matrix"
   ]
  },
  {
   "cell_type": "code",
   "execution_count": 116,
   "metadata": {},
   "outputs": [
    {
     "data": {
      "text/plain": [
       "<Axes: xlabel='Mean Rating', ylabel='Count'>"
      ]
     },
     "execution_count": 116,
     "metadata": {},
     "output_type": "execute_result"
    },
    {
     "data": {
      "image/png": "[encoded data removed]",
      "text/plain": [
       "<Figure size 640x480 with 1 Axes>"
      ]
     },
     "metadata": {},
     "output_type": "display_data"
    }
   ],
   "source": [
    "df_rm = ratings_matrix\n",
    "df_rm[\"Mean Rating\"] = df_rm.mean(axis=1)\n",
    "sns.histplot(x=\"Mean Rating\", binwidth=0.5, data=df_rm)"
   ]
  },
  {
   "cell_type": "code",
   "execution_count": 117,
   "metadata": {},
   "outputs": [
    {
     "data": {
      "text/plain": [
       "array([[<Axes: title={'center': 'Rating'}>]], dtype=object)"
      ]
     },
     "execution_count": 117,
     "metadata": {},
     "output_type": "execute_result"
    },
    {
     "data": {
      "image/png": "[encoded data removed]",
      "text/plain": [
       "<Figure size 640x480 with 1 Axes>"
      ]
     },
     "metadata": {},
     "output_type": "display_data"
    },
    {
     "data": {
      "image/png": "[encoded data removed]",
      "text/plain": [
       "<Figure size 640x480 with 1 Axes>"
      ]
     },
     "metadata": {},
     "output_type": "display_data"
    },
    {
     "data": {
      "image/png": "[encoded data removed]",
      "text/plain": [
       "<Figure size 640x480 with 1 Axes>"
      ]
     },
     "metadata": {},
     "output_type": "display_data"
    }
   ],
   "source": [
    "# * EDA de la matriz de ratings:\n",
    "ratings_matrix.head()\n",
    "df_rm = ratings_matrix  #! - Cuidado antes de pegar esta linea\n",
    "df_rm[\"Mean Rating\"] = df_rm.mean(axis=1)  # ? - Get the mean score for each user\n",
    "sns.histplot(\n",
    "    x=\"Mean Rating\", binwidth=0.5, data=df_rm\n",
    ")  # ? - Histograma de la media de puntuación\n",
    "\n",
    "# * PARA PODER HACER ITEM Y USER PROFILING\n",
    "# * User-profiling para User-based\n",
    "# ? - Dataset para agrupar los items\n",
    "df_user_10k = (\n",
    "    pd.read_csv(\"ratings_Beauty.csv\").set_index(\"UserId\").drop(\"Timestamp\", axis=1)\n",
    ")\n",
    "items = df_user_10k.groupby(\n",
    "    \"ProductId\"\n",
    ")  # ? - Obtener lista de productos criticados por usuario\n",
    "items.get_group(\"B002OVV7F0\")  # ? - Pass ProductId - Get the ratings\n",
    "\n",
    "# ? - Dataset para agrupar los users\n",
    "df_item_10k = (\n",
    "    pd.read_csv(\"ratings_Beauty.csv\").set_index(\"ProductId\").drop(\"Timestamp\", axis=1)\n",
    ")\n",
    "users = df_item_10k.groupby(\"UserId\")  # ? - Obtener lista de usuarios por producto\n",
    "users.get_group(\"A39HTATAQ9V7YF\")  # ? - Pass UserId - Get the ratings for a user\n",
    "\n",
    "# ? - Observar distribución ratings producto especifico:\n",
    "df_item_10k.loc[\"B0050QLE4U\"].hist()\n",
    "# ? - Observar distribución ratings user especifico:\n",
    "df_user_10k.loc[\"A39HTATAQ9V7YF\"].hist()"
   ]
  },
  {
   "cell_type": "code",
   "execution_count": 118,
   "metadata": {},
   "outputs": [],
   "source": [
    "# * Normalise the ratings matrix by subtracting every user's rating by the mean users rating:\n",
    "normalized_ratings_matrix = ratings_matrix.subtract(ratings_matrix.mean(axis=1), axis=0)\n",
    "\n",
    "\n",
    "# * Generación de modelos user-based con Pearson, Cosine y centrados\n",
    "def userknn_cornac(df: pd.DataFrame):\n",
    "    # * Cuidado con el nombre de las columnas, a veces es userId, otras UserId\n",
    "    df = df.astype({\"UserId\": object, \"ProductId\": object})\n",
    "    records = df.to_records(index=False)\n",
    "    result = list(records)\n",
    "\n",
    "    K = 18  #! - Si te da error, baja el numero de k number of nearest neighbors\n",
    "    VERBOSE = False\n",
    "    SEED = 42\n",
    "    uknn_cosine = UserKNN(\n",
    "        k=K, similarity=\"cosine\", name=\"UserKNN-Cosine\", verbose=VERBOSE\n",
    "    )\n",
    "    uknn_cosine_mc = UserKNN(\n",
    "        k=K,\n",
    "        similarity=\"cosine\",\n",
    "        mean_centered=True,\n",
    "        name=\"UserKNN-Cosine-MC\",\n",
    "        verbose=VERBOSE,\n",
    "    )\n",
    "    uknn_pearson = UserKNN(\n",
    "        k=K, similarity=\"pearson\", name=\"UserKNN-Pearson\", verbose=VERBOSE\n",
    "    )\n",
    "    uknn_pearson_mc = UserKNN(\n",
    "        k=K,\n",
    "        similarity=\"pearson\",\n",
    "        mean_centered=True,\n",
    "        name=\"UserKNN-Pearson-MC\",\n",
    "        verbose=VERBOSE,\n",
    "    )\n",
    "\n",
    "    # Metrics\n",
    "    rec_300 = cornac.metrics.Recall(k=K)\n",
    "    prec_30 = cornac.metrics.Precision(k=K)\n",
    "    rmse = cornac.metrics.RMSE()\n",
    "    mae = cornac.metrics.MAE()\n",
    "\n",
    "    ratio_split = RatioSplit(result, test_size=0.1, seed=SEED, verbose=VERBOSE)\n",
    "    cornac.Experiment(\n",
    "        eval_method=ratio_split,\n",
    "        models=[uknn_cosine, uknn_cosine_mc, uknn_pearson, uknn_pearson_mc],\n",
    "        metrics=[rec_300, prec_30, rmse, mae],\n",
    "    ).run()\n",
    "\n",
    "    userknn_models = {\n",
    "        \"uknn_cosine\": uknn_cosine,\n",
    "        \"uknn_cosine_mc\": uknn_cosine_mc,\n",
    "        \"uknn_pearson\": uknn_pearson,\n",
    "        \"uknn_pearson_mc\": uknn_pearson_mc,\n",
    "    }\n",
    "\n",
    "    return userknn_models"
   ]
  },
  {
   "cell_type": "code",
   "execution_count": 119,
   "metadata": {},
   "outputs": [],
   "source": [
    "df.shape\n",
    "df = df.head(10000)"
   ]
  },
  {
   "cell_type": "code",
   "execution_count": 120,
   "metadata": {},
   "outputs": [
    {
     "name": "stdout",
     "output_type": "stream",
     "text": [
      "\n",
      "TEST:\n",
      "...\n",
      "                   |    MAE |   RMSE | Precision@18 | Recall@18 | Train (s) | Test (s)\n",
      "------------------ + ------ + ------ + ------------ + --------- + --------- + --------\n",
      "UserKNN-Cosine     | 1.0000 | 1.0000 |       0.0000 |    0.0000 |    0.4980 |   0.0956\n",
      "UserKNN-Cosine-MC  | 1.0000 | 1.0000 |       0.0000 |    0.0000 |    0.4907 |   0.0953\n",
      "UserKNN-Pearson    | 1.0000 | 1.0000 |       0.0000 |    0.0000 |    0.4903 |   0.0914\n",
      "UserKNN-Pearson-MC | 1.0000 | 1.0000 |       0.0000 |    0.0000 |    0.5198 |   0.0936\n",
      "\n"
     ]
    }
   ],
   "source": [
    "userknn_models = userknn_cornac(df)  # ? - Returns the data with the Metrics\n",
    "model = userknn_models.get(\n",
    "    \"uknn_cosine_mc\"\n",
    ")  # * Because of low sparticity we're taking the mc cosine\n",
    "# ?^^Luego tendras que justificar que modelo eliges. Esta bien que cojamos el mean centered (mc)"
   ]
  },
  {
   "cell_type": "code",
   "execution_count": 121,
   "metadata": {},
   "outputs": [],
   "source": [
    "def user_profiling(UID, model, user_df, TOPK=5):\n",
    "\n",
    "    rating_mat = model.train_set.matrix\n",
    "\n",
    "    UIDX = list(model.train_set.uid_map.items())[UID][0]\n",
    "\n",
    "    print(f\"UserID = {UIDX}\")\n",
    "    print(\"-\" * 35)\n",
    "    print(user_df.loc[UIDX])\n",
    "\n",
    "    ratings = pd.DataFrame(rating_mat.toarray())\n",
    "    user_ratings = ratings.loc[UID]\n",
    "    top_rated_items = np.argsort(user_ratings)[-TOPK:]\n",
    "    print(f\"\\nTOP {TOPK} RATED ITEMS BY USER {UID}:\")\n",
    "    print(\"-\" * 35)\n",
    "    print(user_df.iloc[top_rated_items.array])"
   ]
  },
  {
   "cell_type": "code",
   "execution_count": 122,
   "metadata": {},
   "outputs": [
    {
     "data": {
      "text/html": [
       "<div>\n",
       "<style scoped>\n",
       "    .dataframe tbody tr th:only-of-type {\n",
       "        vertical-align: middle;\n",
       "    }\n",
       "\n",
       "    .dataframe tbody tr th {\n",
       "        vertical-align: top;\n",
       "    }\n",
       "\n",
       "    .dataframe thead th {\n",
       "        text-align: right;\n",
       "    }\n",
       "</style>\n",
       "<table border=\"1\" class=\"dataframe\">\n",
       "  <thead>\n",
       "    <tr style=\"text-align: right;\">\n",
       "      <th></th>\n",
       "      <th>ProductId</th>\n",
       "      <th>Rating</th>\n",
       "      <th>Timestamp</th>\n",
       "    </tr>\n",
       "    <tr>\n",
       "      <th>UserId</th>\n",
       "      <th></th>\n",
       "      <th></th>\n",
       "      <th></th>\n",
       "    </tr>\n",
       "  </thead>\n",
       "  <tbody>\n",
       "    <tr>\n",
       "      <th>A39HTATAQ9V7YF</th>\n",
       "      <td>0205616461</td>\n",
       "      <td>5.0</td>\n",
       "      <td>1369699200</td>\n",
       "    </tr>\n",
       "    <tr>\n",
       "      <th>A3JM6GV9MNOF9X</th>\n",
       "      <td>0558925278</td>\n",
       "      <td>3.0</td>\n",
       "      <td>1355443200</td>\n",
       "    </tr>\n",
       "    <tr>\n",
       "      <th>A1Z513UWSAAO0F</th>\n",
       "      <td>0558925278</td>\n",
       "      <td>5.0</td>\n",
       "      <td>1404691200</td>\n",
       "    </tr>\n",
       "    <tr>\n",
       "      <th>A1WMRR494NWEWV</th>\n",
       "      <td>0733001998</td>\n",
       "      <td>4.0</td>\n",
       "      <td>1382572800</td>\n",
       "    </tr>\n",
       "    <tr>\n",
       "      <th>A3IAAVS479H7M7</th>\n",
       "      <td>0737104473</td>\n",
       "      <td>1.0</td>\n",
       "      <td>1274227200</td>\n",
       "    </tr>\n",
       "  </tbody>\n",
       "</table>\n",
       "</div>"
      ],
      "text/plain": [
       "                 ProductId  Rating   Timestamp\n",
       "UserId                                        \n",
       "A39HTATAQ9V7YF  0205616461  5.0     1369699200\n",
       "A3JM6GV9MNOF9X  0558925278  3.0     1355443200\n",
       "A1Z513UWSAAO0F  0558925278  5.0     1404691200\n",
       "A1WMRR494NWEWV  0733001998  4.0     1382572800\n",
       "A3IAAVS479H7M7  0737104473  1.0     1274227200"
      ]
     },
     "execution_count": 122,
     "metadata": {},
     "output_type": "execute_result"
    }
   ],
   "source": [
    "df_user = pd.read_csv(\"ratings_Beauty.csv\").set_index(\"UserId\")\n",
    "df_user.head()"
   ]
  },
  {
   "cell_type": "code",
   "execution_count": 123,
   "metadata": {},
   "outputs": [
    {
     "name": "stdout",
     "output_type": "stream",
     "text": [
      "UserID = A1N58DE9ZH8HR1\n",
      "-----------------------------------\n",
      "ProductId    B008YKNHN0\n",
      "Rating       5.0       \n",
      "Timestamp    1365811200\n",
      "Name: A1N58DE9ZH8HR1, dtype: object\n",
      "\n",
      "TOP 10 RATED ITEMS BY USER 3:\n",
      "-----------------------------------\n",
      "                 ProductId  Rating   Timestamp\n",
      "UserId                                        \n",
      "A3O4C1EA1O5SWP  B00004TMFE  2.0     1371254400\n",
      "AN2WR1JLFTR1H   B00004TMFE  2.0     1346371200\n",
      "A1SQZJIRATK95A  B00004TMFE  5.0     1319760000\n",
      "A34M18U6T33YDZ  B00004TMFE  5.0     1396828800\n",
      "A3W488NZMIW9LD  B00004TMFE  5.0     1349740800\n",
      "A16NAH39LN211W  B00004TMFE  5.0     1395446400\n",
      "A1ISPXMZL1IYSE  B00004TMFE  2.0     1358726400\n",
      "A149N75TZ34CE5  B00004TMFE  1.0     1373760000\n",
      "A1E5DVHYS3TQVG  B000052YM7  4.0     1273449600\n",
      "A1WMRR494NWEWV  0733001998  4.0     1382572800\n"
     ]
    }
   ],
   "source": [
    "top_rated_items = user_profiling(3, model, df_user, TOPK=10)"
   ]
  },
  {
   "cell_type": "code",
   "execution_count": 124,
   "metadata": {},
   "outputs": [],
   "source": [
    "# * Predicción de score para cualquier producto para un user especifico:\n",
    "def uknn_get_scores(UID, model, user_df, TOPK=5):\n",
    "\n",
    "    UIDX = list(model.train_set.uid_map.items())[UID][0]\n",
    "    recommendations, scores = model.rank(UID)\n",
    "    print(f\"\\nTOP {TOPK} RECOMMENDATIONS FOR USER {UIDX}:\")\n",
    "    print(\"Scores:\", scores[recommendations[:TOPK]])\n",
    "    print(user_df.iloc[recommendations[:TOPK]])"
   ]
  },
  {
   "cell_type": "code",
   "execution_count": 125,
   "metadata": {},
   "outputs": [
    {
     "data": {
      "text/html": [
       "<div>\n",
       "<style scoped>\n",
       "    .dataframe tbody tr th:only-of-type {\n",
       "        vertical-align: middle;\n",
       "    }\n",
       "\n",
       "    .dataframe tbody tr th {\n",
       "        vertical-align: top;\n",
       "    }\n",
       "\n",
       "    .dataframe thead th {\n",
       "        text-align: right;\n",
       "    }\n",
       "</style>\n",
       "<table border=\"1\" class=\"dataframe\">\n",
       "  <thead>\n",
       "    <tr style=\"text-align: right;\">\n",
       "      <th></th>\n",
       "      <th>(B00957Y17C, 0)</th>\n",
       "      <th>(B001LEYYJ2, 1)</th>\n",
       "      <th>(B0011GD5CM, 2)</th>\n",
       "      <th>(B008YKNHN0, 3)</th>\n",
       "      <th>(B001B8QIGA, 4)</th>\n",
       "      <th>(B001E96MQM, 5)</th>\n",
       "      <th>(B000F8JUJY, 6)</th>\n",
       "      <th>(B00AF52FQW, 7)</th>\n",
       "      <th>(B000ALBLZ2, 8)</th>\n",
       "      <th>(B005KUGUBS, 9)</th>\n",
       "      <th>...</th>\n",
       "      <th>(B0052DNBR4, 7399)</th>\n",
       "      <th>(B001AKB47C, 7400)</th>\n",
       "      <th>(B004QPIQJM, 7401)</th>\n",
       "      <th>(B00B1MG5JQ, 7402)</th>\n",
       "      <th>(B000Q2ZQ56, 7403)</th>\n",
       "      <th>(B00CLBLQYK, 7404)</th>\n",
       "      <th>(B003E1B6UU, 7405)</th>\n",
       "      <th>(B001TRTGJO, 7406)</th>\n",
       "      <th>(B000LTQA6I, 7407)</th>\n",
       "      <th>(B00BBA7OES, 7408)</th>\n",
       "    </tr>\n",
       "  </thead>\n",
       "  <tbody>\n",
       "    <tr>\n",
       "      <th>(AIXCVKMHYOYFR, 0)</th>\n",
       "      <td>4.0</td>\n",
       "      <td>0.0</td>\n",
       "      <td>0.0</td>\n",
       "      <td>0.0</td>\n",
       "      <td>0.0</td>\n",
       "      <td>0.0</td>\n",
       "      <td>0.0</td>\n",
       "      <td>0.0</td>\n",
       "      <td>0.0</td>\n",
       "      <td>0.0</td>\n",
       "      <td>...</td>\n",
       "      <td>0.0</td>\n",
       "      <td>0.0</td>\n",
       "      <td>0.0</td>\n",
       "      <td>0.0</td>\n",
       "      <td>0.0</td>\n",
       "      <td>0.0</td>\n",
       "      <td>0.0</td>\n",
       "      <td>0.0</td>\n",
       "      <td>0.0</td>\n",
       "      <td>0.0</td>\n",
       "    </tr>\n",
       "    <tr>\n",
       "      <th>(A1K6AKH56HMTGK, 1)</th>\n",
       "      <td>0.0</td>\n",
       "      <td>5.0</td>\n",
       "      <td>0.0</td>\n",
       "      <td>0.0</td>\n",
       "      <td>0.0</td>\n",
       "      <td>0.0</td>\n",
       "      <td>0.0</td>\n",
       "      <td>0.0</td>\n",
       "      <td>0.0</td>\n",
       "      <td>0.0</td>\n",
       "      <td>...</td>\n",
       "      <td>0.0</td>\n",
       "      <td>0.0</td>\n",
       "      <td>0.0</td>\n",
       "      <td>0.0</td>\n",
       "      <td>0.0</td>\n",
       "      <td>0.0</td>\n",
       "      <td>0.0</td>\n",
       "      <td>0.0</td>\n",
       "      <td>0.0</td>\n",
       "      <td>0.0</td>\n",
       "    </tr>\n",
       "    <tr>\n",
       "      <th>(A9QUSEMHTXYTA, 2)</th>\n",
       "      <td>0.0</td>\n",
       "      <td>0.0</td>\n",
       "      <td>3.0</td>\n",
       "      <td>0.0</td>\n",
       "      <td>0.0</td>\n",
       "      <td>0.0</td>\n",
       "      <td>0.0</td>\n",
       "      <td>0.0</td>\n",
       "      <td>0.0</td>\n",
       "      <td>0.0</td>\n",
       "      <td>...</td>\n",
       "      <td>0.0</td>\n",
       "      <td>0.0</td>\n",
       "      <td>0.0</td>\n",
       "      <td>0.0</td>\n",
       "      <td>0.0</td>\n",
       "      <td>0.0</td>\n",
       "      <td>0.0</td>\n",
       "      <td>0.0</td>\n",
       "      <td>0.0</td>\n",
       "      <td>0.0</td>\n",
       "    </tr>\n",
       "    <tr>\n",
       "      <th>(A1N58DE9ZH8HR1, 3)</th>\n",
       "      <td>0.0</td>\n",
       "      <td>0.0</td>\n",
       "      <td>0.0</td>\n",
       "      <td>5.0</td>\n",
       "      <td>0.0</td>\n",
       "      <td>0.0</td>\n",
       "      <td>0.0</td>\n",
       "      <td>0.0</td>\n",
       "      <td>0.0</td>\n",
       "      <td>0.0</td>\n",
       "      <td>...</td>\n",
       "      <td>0.0</td>\n",
       "      <td>0.0</td>\n",
       "      <td>0.0</td>\n",
       "      <td>0.0</td>\n",
       "      <td>0.0</td>\n",
       "      <td>0.0</td>\n",
       "      <td>0.0</td>\n",
       "      <td>0.0</td>\n",
       "      <td>0.0</td>\n",
       "      <td>0.0</td>\n",
       "    </tr>\n",
       "    <tr>\n",
       "      <th>(A7MOT1CZP2GJF, 4)</th>\n",
       "      <td>0.0</td>\n",
       "      <td>0.0</td>\n",
       "      <td>0.0</td>\n",
       "      <td>0.0</td>\n",
       "      <td>5.0</td>\n",
       "      <td>0.0</td>\n",
       "      <td>0.0</td>\n",
       "      <td>0.0</td>\n",
       "      <td>0.0</td>\n",
       "      <td>0.0</td>\n",
       "      <td>...</td>\n",
       "      <td>0.0</td>\n",
       "      <td>0.0</td>\n",
       "      <td>0.0</td>\n",
       "      <td>0.0</td>\n",
       "      <td>0.0</td>\n",
       "      <td>0.0</td>\n",
       "      <td>0.0</td>\n",
       "      <td>0.0</td>\n",
       "      <td>0.0</td>\n",
       "      <td>0.0</td>\n",
       "    </tr>\n",
       "  </tbody>\n",
       "</table>\n",
       "<p>5 rows × 7409 columns</p>\n",
       "</div>"
      ],
      "text/plain": [
       "                     (B00957Y17C, 0)  (B001LEYYJ2, 1)  (B0011GD5CM, 2)  \\\n",
       "(AIXCVKMHYOYFR, 0)   4.0              0.0              0.0               \n",
       "(A1K6AKH56HMTGK, 1)  0.0              5.0              0.0               \n",
       "(A9QUSEMHTXYTA, 2)   0.0              0.0              3.0               \n",
       "(A1N58DE9ZH8HR1, 3)  0.0              0.0              0.0               \n",
       "(A7MOT1CZP2GJF, 4)   0.0              0.0              0.0               \n",
       "\n",
       "                     (B008YKNHN0, 3)  (B001B8QIGA, 4)  (B001E96MQM, 5)  \\\n",
       "(AIXCVKMHYOYFR, 0)   0.0              0.0              0.0               \n",
       "(A1K6AKH56HMTGK, 1)  0.0              0.0              0.0               \n",
       "(A9QUSEMHTXYTA, 2)   0.0              0.0              0.0               \n",
       "(A1N58DE9ZH8HR1, 3)  5.0              0.0              0.0               \n",
       "(A7MOT1CZP2GJF, 4)   0.0              5.0              0.0               \n",
       "\n",
       "                     (B000F8JUJY, 6)  (B00AF52FQW, 7)  (B000ALBLZ2, 8)  \\\n",
       "(AIXCVKMHYOYFR, 0)   0.0              0.0              0.0               \n",
       "(A1K6AKH56HMTGK, 1)  0.0              0.0              0.0               \n",
       "(A9QUSEMHTXYTA, 2)   0.0              0.0              0.0               \n",
       "(A1N58DE9ZH8HR1, 3)  0.0              0.0              0.0               \n",
       "(A7MOT1CZP2GJF, 4)   0.0              0.0              0.0               \n",
       "\n",
       "                     (B005KUGUBS, 9)  ...  (B0052DNBR4, 7399)  \\\n",
       "(AIXCVKMHYOYFR, 0)   0.0              ...  0.0                  \n",
       "(A1K6AKH56HMTGK, 1)  0.0              ...  0.0                  \n",
       "(A9QUSEMHTXYTA, 2)   0.0              ...  0.0                  \n",
       "(A1N58DE9ZH8HR1, 3)  0.0              ...  0.0                  \n",
       "(A7MOT1CZP2GJF, 4)   0.0              ...  0.0                  \n",
       "\n",
       "                     (B001AKB47C, 7400)  (B004QPIQJM, 7401)  \\\n",
       "(AIXCVKMHYOYFR, 0)   0.0                 0.0                  \n",
       "(A1K6AKH56HMTGK, 1)  0.0                 0.0                  \n",
       "(A9QUSEMHTXYTA, 2)   0.0                 0.0                  \n",
       "(A1N58DE9ZH8HR1, 3)  0.0                 0.0                  \n",
       "(A7MOT1CZP2GJF, 4)   0.0                 0.0                  \n",
       "\n",
       "                     (B00B1MG5JQ, 7402)  (B000Q2ZQ56, 7403)  \\\n",
       "(AIXCVKMHYOYFR, 0)   0.0                 0.0                  \n",
       "(A1K6AKH56HMTGK, 1)  0.0                 0.0                  \n",
       "(A9QUSEMHTXYTA, 2)   0.0                 0.0                  \n",
       "(A1N58DE9ZH8HR1, 3)  0.0                 0.0                  \n",
       "(A7MOT1CZP2GJF, 4)   0.0                 0.0                  \n",
       "\n",
       "                     (B00CLBLQYK, 7404)  (B003E1B6UU, 7405)  \\\n",
       "(AIXCVKMHYOYFR, 0)   0.0                 0.0                  \n",
       "(A1K6AKH56HMTGK, 1)  0.0                 0.0                  \n",
       "(A9QUSEMHTXYTA, 2)   0.0                 0.0                  \n",
       "(A1N58DE9ZH8HR1, 3)  0.0                 0.0                  \n",
       "(A7MOT1CZP2GJF, 4)   0.0                 0.0                  \n",
       "\n",
       "                     (B001TRTGJO, 7406)  (B000LTQA6I, 7407)  \\\n",
       "(AIXCVKMHYOYFR, 0)   0.0                 0.0                  \n",
       "(A1K6AKH56HMTGK, 1)  0.0                 0.0                  \n",
       "(A9QUSEMHTXYTA, 2)   0.0                 0.0                  \n",
       "(A1N58DE9ZH8HR1, 3)  0.0                 0.0                  \n",
       "(A7MOT1CZP2GJF, 4)   0.0                 0.0                  \n",
       "\n",
       "                     (B00BBA7OES, 7408)  \n",
       "(AIXCVKMHYOYFR, 0)   0.0                 \n",
       "(A1K6AKH56HMTGK, 1)  0.0                 \n",
       "(A9QUSEMHTXYTA, 2)   0.0                 \n",
       "(A1N58DE9ZH8HR1, 3)  0.0                 \n",
       "(A7MOT1CZP2GJF, 4)   0.0                 \n",
       "\n",
       "[5 rows x 7409 columns]"
      ]
     },
     "execution_count": 125,
     "metadata": {},
     "output_type": "execute_result"
    }
   ],
   "source": [
    "predicted_ratings = pd.DataFrame(\n",
    "    model.train_set.matrix.toarray(),\n",
    "    columns=list(model.train_set.iid_map.items()),\n",
    "    index=list(model.train_set.uid_map.items()),\n",
    ")\n",
    "\n",
    "predicted_ratings.head()"
   ]
  },
  {
   "cell_type": "code",
   "execution_count": 126,
   "metadata": {},
   "outputs": [
    {
     "data": {
      "text/plain": [
       "5.00000001"
      ]
     },
     "execution_count": 126,
     "metadata": {},
     "output_type": "execute_result"
    }
   ],
   "source": [
    "user_model = userknn_models.get(\"uknn_pearson_mc\")\n",
    "item_mat_id = user_model.train_set.iid_map.get(\"B001LEYYJ2\")\n",
    "user_mat_id = user_model.train_set.uid_map.get(\"A1K6AKH56HMTGK\")\n",
    "# * Get the rating\n",
    "user_model.score(user_mat_id, item_mat_id)  # * Wow, un 0"
   ]
  },
  {
   "cell_type": "markdown",
   "metadata": {},
   "source": [
    "#### **2. Item-based**"
   ]
  },
  {
   "cell_type": "code",
   "execution_count": 127,
   "metadata": {},
   "outputs": [],
   "source": [
    "def itemknn_cornac(df):\n",
    "    # * Cuidado aquí con los nombres de las columnas\n",
    "    df = df.astype({\"UserId\": object, \"ProductId\": object})\n",
    "    records = df.to_records(index=False)\n",
    "    result = list(records)\n",
    "    K = 18  # ! - number of nearest neighbors\n",
    "    VERBOSE = False\n",
    "    SEED = 42\n",
    "    iknn_cosine = ItemKNN(\n",
    "        k=K, similarity=\"cosine\", name=\"ItemKNN-Cosine\", verbose=VERBOSE\n",
    "    )\n",
    "    iknn_cosine_mc = ItemKNN(\n",
    "        k=K,\n",
    "        similarity=\"cosine\",\n",
    "        mean_centered=True,\n",
    "        name=\"ItemKNN-Cosine-MC\",\n",
    "        verbose=VERBOSE,\n",
    "    )\n",
    "    iknn_pearson = ItemKNN(\n",
    "        k=K, similarity=\"pearson\", name=\"ItemKNN-Pearson\", verbose=VERBOSE\n",
    "    )\n",
    "    iknn_pearson_mc = ItemKNN(\n",
    "        k=K,\n",
    "        similarity=\"pearson\",\n",
    "        mean_centered=True,\n",
    "        name=\"ItemKNN-Pearson-MC\",\n",
    "        verbose=VERBOSE,\n",
    "    )\n",
    "\n",
    "    # Metrics\n",
    "    rmse = cornac.metrics.RMSE()\n",
    "    mae = cornac.metrics.MAE()\n",
    "    prec = cornac.metrics.Precision(k=K)\n",
    "    ratio_split = RatioSplit(result, test_size=0.2, seed=SEED, verbose=VERBOSE)\n",
    "    cornac.Experiment(\n",
    "        eval_method=ratio_split,\n",
    "        models=[iknn_cosine, iknn_pearson, iknn_pearson_mc, iknn_cosine_mc],\n",
    "        metrics=[rmse, mae, prec],\n",
    "    ).run()\n",
    "    itemknn_models = {\n",
    "        \"iknn_cosine\": iknn_cosine,\n",
    "        \"iknn_pearson\": iknn_pearson,\n",
    "        \"iknn_pearson_mc\": iknn_pearson_mc,\n",
    "        \"iknn_cosine_mc\": iknn_cosine_mc,\n",
    "    }\n",
    "    return itemknn_models"
   ]
  },
  {
   "cell_type": "code",
   "execution_count": 128,
   "metadata": {},
   "outputs": [],
   "source": [
    "def item_profiling(UID, model, item_df, TOPK=5):\n",
    "\n",
    "    rating_mat = model.train_set.matrix\n",
    "\n",
    "    UIDX = list(model.train_set.iid_map.items())[UID][0]\n",
    "\n",
    "    print(f\"ProductID = {UIDX}\")\n",
    "    print(\"-\" * 35)\n",
    "    print(item_df.loc[UIDX])\n",
    "\n",
    "    ratings = pd.DataFrame(rating_mat.toarray())\n",
    "    item_ratings = ratings.iloc[UID]\n",
    "    top_rated_items = np.argsort(item_ratings)[-TOPK:]\n",
    "    print(f\"\\nTOP {TOPK} RECOMMENDED USERS FOR ITEM {UID}:\")\n",
    "    print(\"-\" * 35)\n",
    "    print(df_item_10k.iloc[top_rated_items.array])"
   ]
  },
  {
   "cell_type": "code",
   "execution_count": 129,
   "metadata": {},
   "outputs": [],
   "source": [
    "def itemknn_get_scores(\n",
    "    UID, model, item_df, TOPK=5\n",
    "):  # ? En caso que quieras una función más especifica a los ratings: (Puedes pasar)\n",
    "    UIDX = list(model.train_set.iid_map.items())[UID][0]\n",
    "    recommendations, scores = model.rank(UID)\n",
    "    print(f\"\\nTOP {5} USERS FOR ITEM {UIDX}:\")\n",
    "    print(\"Scores:\", scores[recommendations[:TOPK]])\n",
    "    print(item_df.iloc[recommendations[:TOPK]])"
   ]
  },
  {
   "cell_type": "code",
   "execution_count": 130,
   "metadata": {},
   "outputs": [
    {
     "name": "stdout",
     "output_type": "stream",
     "text": [
      "\n",
      "TEST:\n",
      "...\n",
      "                   |    MAE |   RMSE | Precision@18 | Train (s) | Test (s)\n",
      "------------------ + ------ + ------ + ------------ + --------- + --------\n",
      "ItemKNN-Cosine     | 1.1250 | 1.1250 |       0.0000 |    0.3693 |   0.0922\n",
      "ItemKNN-Pearson    | 1.1250 | 1.1250 |       0.0000 |    0.3241 |   0.0825\n",
      "ItemKNN-Pearson-MC | 1.1250 | 1.1250 |       0.0000 |    0.3366 |   0.0989\n",
      "ItemKNN-Cosine-MC  | 1.1250 | 1.1250 |       0.0000 |    0.2950 |   0.0870\n",
      "\n"
     ]
    }
   ],
   "source": [
    "itemknn_models = itemknn_cornac(\n",
    "    df\n",
    ")  # * Pearson MC is the highest Precision, so let's go with that one"
   ]
  },
  {
   "cell_type": "code",
   "execution_count": 131,
   "metadata": {},
   "outputs": [],
   "source": [
    "item_model = itemknn_models.get(\n",
    "    \"iknn_pearson_mc\"\n",
    ")  #!!! - SUPER IMPORTANTE HACER LA ELECCIÓN DEL MODELO"
   ]
  },
  {
   "cell_type": "code",
   "execution_count": 132,
   "metadata": {},
   "outputs": [
    {
     "name": "stdout",
     "output_type": "stream",
     "text": [
      "ProductID = B0011GD5CM\n",
      "-----------------------------------\n",
      "                    UserId  Rating\n",
      "ProductId                         \n",
      "B0011GD5CM  A11RU2YNML78P1  5.0   \n",
      "B0011GD5CM  A1POFYCQ9096DU  5.0   \n",
      "B0011GD5CM  A2UO3JTBIQV1UM  5.0   \n",
      "B0011GD5CM  A2WBFDC7SDHPT6  5.0   \n",
      "B0011GD5CM  AFEU4FI71UYNJ   5.0   \n",
      "B0011GD5CM  A3QV0ZJJ7R8R91  5.0   \n",
      "B0011GD5CM  AZP9Z4R8JKE     5.0   \n",
      "B0011GD5CM  A9QUSEMHTXYTA   3.0   \n",
      "B0011GD5CM  A1NX16398HCGX1  5.0   \n",
      "B0011GD5CM  A8RIPCG68GRZN   5.0   \n",
      "B0011GD5CM  A1PO9TVZO5BOV   1.0   \n",
      "\n",
      "TOP 5 RECOMMENDED USERS FOR ITEM 2:\n",
      "-----------------------------------\n",
      "                    UserId  Rating\n",
      "ProductId                         \n",
      "B00004TMFE  A16NAH39LN211W  5.0   \n",
      "B00004TMFE  A1ISPXMZL1IYSE  2.0   \n",
      "B00004TMFE  A149N75TZ34CE5  1.0   \n",
      "B000052YM7  A1E5DVHYS3TQVG  4.0   \n",
      "0558925278  A1Z513UWSAAO0F  5.0   \n"
     ]
    }
   ],
   "source": [
    "# * Get the top rated items for a specific user\n",
    "top_rated_items = item_profiling(2, model, df_item_10k)"
   ]
  },
  {
   "cell_type": "code",
   "execution_count": 133,
   "metadata": {},
   "outputs": [
    {
     "data": {
      "text/html": [
       "<div>\n",
       "<style scoped>\n",
       "    .dataframe tbody tr th:only-of-type {\n",
       "        vertical-align: middle;\n",
       "    }\n",
       "\n",
       "    .dataframe tbody tr th {\n",
       "        vertical-align: top;\n",
       "    }\n",
       "\n",
       "    .dataframe thead th {\n",
       "        text-align: right;\n",
       "    }\n",
       "</style>\n",
       "<table border=\"1\" class=\"dataframe\">\n",
       "  <thead>\n",
       "    <tr style=\"text-align: right;\">\n",
       "      <th></th>\n",
       "      <th>UserId</th>\n",
       "      <th>Rating</th>\n",
       "    </tr>\n",
       "    <tr>\n",
       "      <th>ProductId</th>\n",
       "      <th></th>\n",
       "      <th></th>\n",
       "    </tr>\n",
       "  </thead>\n",
       "  <tbody>\n",
       "    <tr>\n",
       "      <th>0205616461</th>\n",
       "      <td>A39HTATAQ9V7YF</td>\n",
       "      <td>5.0</td>\n",
       "    </tr>\n",
       "    <tr>\n",
       "      <th>0558925278</th>\n",
       "      <td>A3JM6GV9MNOF9X</td>\n",
       "      <td>3.0</td>\n",
       "    </tr>\n",
       "    <tr>\n",
       "      <th>0558925278</th>\n",
       "      <td>A1Z513UWSAAO0F</td>\n",
       "      <td>5.0</td>\n",
       "    </tr>\n",
       "    <tr>\n",
       "      <th>0733001998</th>\n",
       "      <td>A1WMRR494NWEWV</td>\n",
       "      <td>4.0</td>\n",
       "    </tr>\n",
       "    <tr>\n",
       "      <th>0737104473</th>\n",
       "      <td>A3IAAVS479H7M7</td>\n",
       "      <td>1.0</td>\n",
       "    </tr>\n",
       "  </tbody>\n",
       "</table>\n",
       "</div>"
      ],
      "text/plain": [
       "                    UserId  Rating\n",
       "ProductId                         \n",
       "0205616461  A39HTATAQ9V7YF  5.0   \n",
       "0558925278  A3JM6GV9MNOF9X  3.0   \n",
       "0558925278  A1Z513UWSAAO0F  5.0   \n",
       "0733001998  A1WMRR494NWEWV  4.0   \n",
       "0737104473  A3IAAVS479H7M7  1.0   "
      ]
     },
     "execution_count": 133,
     "metadata": {},
     "output_type": "execute_result"
    }
   ],
   "source": [
    "df_item_10k.head()"
   ]
  },
  {
   "cell_type": "code",
   "execution_count": 134,
   "metadata": {},
   "outputs": [
    {
     "name": "stdout",
     "output_type": "stream",
     "text": [
      "\n",
      "TOP 5 USERS FOR ITEM B008YKNHN0:\n",
      "Scores: [5.00000001 5.         5.         5.         5.        ]\n",
      "                    UserId  Rating\n",
      "ProductId                         \n",
      "0733001998  A1WMRR494NWEWV  4.0   \n",
      "B000052YM7  A1E5DVHYS3TQVG  4.0   \n",
      "B00004TMFE  A149N75TZ34CE5  1.0   \n",
      "B00004TMFE  A1ISPXMZL1IYSE  2.0   \n",
      "B00004TMFE  A16NAH39LN211W  5.0   \n"
     ]
    }
   ],
   "source": [
    "# * Indice del item, modelo seleccionado, y le pasas el dataset\n",
    "itemknn_get_scores(3, model, df_item_10k)"
   ]
  },
  {
   "cell_type": "code",
   "execution_count": 135,
   "metadata": {},
   "outputs": [
    {
     "data": {
      "text/html": [
       "<div>\n",
       "<style scoped>\n",
       "    .dataframe tbody tr th:only-of-type {\n",
       "        vertical-align: middle;\n",
       "    }\n",
       "\n",
       "    .dataframe tbody tr th {\n",
       "        vertical-align: top;\n",
       "    }\n",
       "\n",
       "    .dataframe thead th {\n",
       "        text-align: right;\n",
       "    }\n",
       "</style>\n",
       "<table border=\"1\" class=\"dataframe\">\n",
       "  <thead>\n",
       "    <tr style=\"text-align: right;\">\n",
       "      <th></th>\n",
       "      <th>(B00957Y17C, 0)</th>\n",
       "      <th>(B001LEYYJ2, 1)</th>\n",
       "      <th>(B0011GD5CM, 2)</th>\n",
       "      <th>(B008YKNHN0, 3)</th>\n",
       "      <th>(B001B8QIGA, 4)</th>\n",
       "      <th>(B001E96MQM, 5)</th>\n",
       "      <th>(B000F8JUJY, 6)</th>\n",
       "      <th>(B00AF52FQW, 7)</th>\n",
       "      <th>(B000ALBLZ2, 8)</th>\n",
       "      <th>(B005KUGUBS, 9)</th>\n",
       "      <th>...</th>\n",
       "      <th>(B0052DNBR4, 7399)</th>\n",
       "      <th>(B001AKB47C, 7400)</th>\n",
       "      <th>(B004QPIQJM, 7401)</th>\n",
       "      <th>(B00B1MG5JQ, 7402)</th>\n",
       "      <th>(B000Q2ZQ56, 7403)</th>\n",
       "      <th>(B00CLBLQYK, 7404)</th>\n",
       "      <th>(B003E1B6UU, 7405)</th>\n",
       "      <th>(B001TRTGJO, 7406)</th>\n",
       "      <th>(B000LTQA6I, 7407)</th>\n",
       "      <th>(B00BBA7OES, 7408)</th>\n",
       "    </tr>\n",
       "  </thead>\n",
       "  <tbody>\n",
       "    <tr>\n",
       "      <th>(AIXCVKMHYOYFR, 0)</th>\n",
       "      <td>4.0</td>\n",
       "      <td>0.0</td>\n",
       "      <td>0.0</td>\n",
       "      <td>0.0</td>\n",
       "      <td>0.0</td>\n",
       "      <td>0.0</td>\n",
       "      <td>0.0</td>\n",
       "      <td>0.0</td>\n",
       "      <td>0.0</td>\n",
       "      <td>0.0</td>\n",
       "      <td>...</td>\n",
       "      <td>0.0</td>\n",
       "      <td>0.0</td>\n",
       "      <td>0.0</td>\n",
       "      <td>0.0</td>\n",
       "      <td>0.0</td>\n",
       "      <td>0.0</td>\n",
       "      <td>0.0</td>\n",
       "      <td>0.0</td>\n",
       "      <td>0.0</td>\n",
       "      <td>0.0</td>\n",
       "    </tr>\n",
       "    <tr>\n",
       "      <th>(A1K6AKH56HMTGK, 1)</th>\n",
       "      <td>0.0</td>\n",
       "      <td>5.0</td>\n",
       "      <td>0.0</td>\n",
       "      <td>0.0</td>\n",
       "      <td>0.0</td>\n",
       "      <td>0.0</td>\n",
       "      <td>0.0</td>\n",
       "      <td>0.0</td>\n",
       "      <td>0.0</td>\n",
       "      <td>0.0</td>\n",
       "      <td>...</td>\n",
       "      <td>0.0</td>\n",
       "      <td>0.0</td>\n",
       "      <td>0.0</td>\n",
       "      <td>0.0</td>\n",
       "      <td>0.0</td>\n",
       "      <td>0.0</td>\n",
       "      <td>0.0</td>\n",
       "      <td>0.0</td>\n",
       "      <td>0.0</td>\n",
       "      <td>0.0</td>\n",
       "    </tr>\n",
       "    <tr>\n",
       "      <th>(A9QUSEMHTXYTA, 2)</th>\n",
       "      <td>0.0</td>\n",
       "      <td>0.0</td>\n",
       "      <td>3.0</td>\n",
       "      <td>0.0</td>\n",
       "      <td>0.0</td>\n",
       "      <td>0.0</td>\n",
       "      <td>0.0</td>\n",
       "      <td>0.0</td>\n",
       "      <td>0.0</td>\n",
       "      <td>0.0</td>\n",
       "      <td>...</td>\n",
       "      <td>0.0</td>\n",
       "      <td>0.0</td>\n",
       "      <td>0.0</td>\n",
       "      <td>0.0</td>\n",
       "      <td>0.0</td>\n",
       "      <td>0.0</td>\n",
       "      <td>0.0</td>\n",
       "      <td>0.0</td>\n",
       "      <td>0.0</td>\n",
       "      <td>0.0</td>\n",
       "    </tr>\n",
       "    <tr>\n",
       "      <th>(A1N58DE9ZH8HR1, 3)</th>\n",
       "      <td>0.0</td>\n",
       "      <td>0.0</td>\n",
       "      <td>0.0</td>\n",
       "      <td>5.0</td>\n",
       "      <td>0.0</td>\n",
       "      <td>0.0</td>\n",
       "      <td>0.0</td>\n",
       "      <td>0.0</td>\n",
       "      <td>0.0</td>\n",
       "      <td>0.0</td>\n",
       "      <td>...</td>\n",
       "      <td>0.0</td>\n",
       "      <td>0.0</td>\n",
       "      <td>0.0</td>\n",
       "      <td>0.0</td>\n",
       "      <td>0.0</td>\n",
       "      <td>0.0</td>\n",
       "      <td>0.0</td>\n",
       "      <td>0.0</td>\n",
       "      <td>0.0</td>\n",
       "      <td>0.0</td>\n",
       "    </tr>\n",
       "    <tr>\n",
       "      <th>(A7MOT1CZP2GJF, 4)</th>\n",
       "      <td>0.0</td>\n",
       "      <td>0.0</td>\n",
       "      <td>0.0</td>\n",
       "      <td>0.0</td>\n",
       "      <td>5.0</td>\n",
       "      <td>0.0</td>\n",
       "      <td>0.0</td>\n",
       "      <td>0.0</td>\n",
       "      <td>0.0</td>\n",
       "      <td>0.0</td>\n",
       "      <td>...</td>\n",
       "      <td>0.0</td>\n",
       "      <td>0.0</td>\n",
       "      <td>0.0</td>\n",
       "      <td>0.0</td>\n",
       "      <td>0.0</td>\n",
       "      <td>0.0</td>\n",
       "      <td>0.0</td>\n",
       "      <td>0.0</td>\n",
       "      <td>0.0</td>\n",
       "      <td>0.0</td>\n",
       "    </tr>\n",
       "  </tbody>\n",
       "</table>\n",
       "<p>5 rows × 7409 columns</p>\n",
       "</div>"
      ],
      "text/plain": [
       "                     (B00957Y17C, 0)  (B001LEYYJ2, 1)  (B0011GD5CM, 2)  \\\n",
       "(AIXCVKMHYOYFR, 0)   4.0              0.0              0.0               \n",
       "(A1K6AKH56HMTGK, 1)  0.0              5.0              0.0               \n",
       "(A9QUSEMHTXYTA, 2)   0.0              0.0              3.0               \n",
       "(A1N58DE9ZH8HR1, 3)  0.0              0.0              0.0               \n",
       "(A7MOT1CZP2GJF, 4)   0.0              0.0              0.0               \n",
       "\n",
       "                     (B008YKNHN0, 3)  (B001B8QIGA, 4)  (B001E96MQM, 5)  \\\n",
       "(AIXCVKMHYOYFR, 0)   0.0              0.0              0.0               \n",
       "(A1K6AKH56HMTGK, 1)  0.0              0.0              0.0               \n",
       "(A9QUSEMHTXYTA, 2)   0.0              0.0              0.0               \n",
       "(A1N58DE9ZH8HR1, 3)  5.0              0.0              0.0               \n",
       "(A7MOT1CZP2GJF, 4)   0.0              5.0              0.0               \n",
       "\n",
       "                     (B000F8JUJY, 6)  (B00AF52FQW, 7)  (B000ALBLZ2, 8)  \\\n",
       "(AIXCVKMHYOYFR, 0)   0.0              0.0              0.0               \n",
       "(A1K6AKH56HMTGK, 1)  0.0              0.0              0.0               \n",
       "(A9QUSEMHTXYTA, 2)   0.0              0.0              0.0               \n",
       "(A1N58DE9ZH8HR1, 3)  0.0              0.0              0.0               \n",
       "(A7MOT1CZP2GJF, 4)   0.0              0.0              0.0               \n",
       "\n",
       "                     (B005KUGUBS, 9)  ...  (B0052DNBR4, 7399)  \\\n",
       "(AIXCVKMHYOYFR, 0)   0.0              ...  0.0                  \n",
       "(A1K6AKH56HMTGK, 1)  0.0              ...  0.0                  \n",
       "(A9QUSEMHTXYTA, 2)   0.0              ...  0.0                  \n",
       "(A1N58DE9ZH8HR1, 3)  0.0              ...  0.0                  \n",
       "(A7MOT1CZP2GJF, 4)   0.0              ...  0.0                  \n",
       "\n",
       "                     (B001AKB47C, 7400)  (B004QPIQJM, 7401)  \\\n",
       "(AIXCVKMHYOYFR, 0)   0.0                 0.0                  \n",
       "(A1K6AKH56HMTGK, 1)  0.0                 0.0                  \n",
       "(A9QUSEMHTXYTA, 2)   0.0                 0.0                  \n",
       "(A1N58DE9ZH8HR1, 3)  0.0                 0.0                  \n",
       "(A7MOT1CZP2GJF, 4)   0.0                 0.0                  \n",
       "\n",
       "                     (B00B1MG5JQ, 7402)  (B000Q2ZQ56, 7403)  \\\n",
       "(AIXCVKMHYOYFR, 0)   0.0                 0.0                  \n",
       "(A1K6AKH56HMTGK, 1)  0.0                 0.0                  \n",
       "(A9QUSEMHTXYTA, 2)   0.0                 0.0                  \n",
       "(A1N58DE9ZH8HR1, 3)  0.0                 0.0                  \n",
       "(A7MOT1CZP2GJF, 4)   0.0                 0.0                  \n",
       "\n",
       "                     (B00CLBLQYK, 7404)  (B003E1B6UU, 7405)  \\\n",
       "(AIXCVKMHYOYFR, 0)   0.0                 0.0                  \n",
       "(A1K6AKH56HMTGK, 1)  0.0                 0.0                  \n",
       "(A9QUSEMHTXYTA, 2)   0.0                 0.0                  \n",
       "(A1N58DE9ZH8HR1, 3)  0.0                 0.0                  \n",
       "(A7MOT1CZP2GJF, 4)   0.0                 0.0                  \n",
       "\n",
       "                     (B001TRTGJO, 7406)  (B000LTQA6I, 7407)  \\\n",
       "(AIXCVKMHYOYFR, 0)   0.0                 0.0                  \n",
       "(A1K6AKH56HMTGK, 1)  0.0                 0.0                  \n",
       "(A9QUSEMHTXYTA, 2)   0.0                 0.0                  \n",
       "(A1N58DE9ZH8HR1, 3)  0.0                 0.0                  \n",
       "(A7MOT1CZP2GJF, 4)   0.0                 0.0                  \n",
       "\n",
       "                     (B00BBA7OES, 7408)  \n",
       "(AIXCVKMHYOYFR, 0)   0.0                 \n",
       "(A1K6AKH56HMTGK, 1)  0.0                 \n",
       "(A9QUSEMHTXYTA, 2)   0.0                 \n",
       "(A1N58DE9ZH8HR1, 3)  0.0                 \n",
       "(A7MOT1CZP2GJF, 4)   0.0                 \n",
       "\n",
       "[5 rows x 7409 columns]"
      ]
     },
     "execution_count": 135,
     "metadata": {},
     "output_type": "execute_result"
    }
   ],
   "source": [
    "# * Get the predictions matrix filled in\n",
    "predicted_ratings = pd.DataFrame(\n",
    "    model.train_set.matrix.toarray(),\n",
    "    columns=list(model.train_set.iid_map.items()),\n",
    "    index=list(model.train_set.uid_map.items()),\n",
    ")\n",
    "\n",
    "predicted_ratings.head()"
   ]
  },
  {
   "cell_type": "code",
   "execution_count": 137,
   "metadata": {},
   "outputs": [
    {
     "data": {
      "text/plain": [
       "5.00000001"
      ]
     },
     "execution_count": 137,
     "metadata": {},
     "output_type": "execute_result"
    }
   ],
   "source": [
    "item_mat_id = item_model.train_set.iid_map.get(\"B001LEYYJ2\")\n",
    "user_mat_id = item_model.train_set.uid_map.get(\"A1K6AKH56HMTGK\")\n",
    "item_model.score(user_mat_id, item_mat_id)"
   ]
  },
  {
   "cell_type": "markdown",
   "metadata": {},
   "source": [
    "#### **3. Model-Based**"
   ]
  },
  {
   "cell_type": "markdown",
   "metadata": {},
   "source": [
    "**3.1 SVD**"
   ]
  },
  {
   "cell_type": "code",
   "execution_count": 138,
   "metadata": {},
   "outputs": [],
   "source": [
    "# * - Función para generar el módelo SVD\n",
    "def svd_cornac(\n",
    "    df, k_min=10, k_max=2000, step=100\n",
    "):  # ! - Modificar dependiendo del dataset\n",
    "    \"\"\"\n",
    "    Ejecuta experimentos SVD para un rango de valores de 'k' sobre un DataFrame utilizando Cornac.\n",
    "\n",
    "    Devuelve:\n",
    "    - (lista, cornac.Experiment): Lista de modelos SVD entrenados y el objeto experimento con los resultados.\n",
    "\n",
    "    \"\"\"\n",
    "    # * Cuidado aquí con las columnas - userId o UserId\n",
    "    df = df.astype({\"UserId\": object, \"ProductId\": object})\n",
    "    records = df.to_records(index=False)\n",
    "    result = list(records)\n",
    "\n",
    "    VERBOSE = False\n",
    "    SEED = 42\n",
    "\n",
    "    svd_models = []\n",
    "    k_values = np.arange(k_min, k_max, step)\n",
    "    for k in k_values:\n",
    "        svd_models.append(\n",
    "            SVD(\n",
    "                name=\"SVD\" + str(k),\n",
    "                k=k,\n",
    "                max_iter=30,\n",
    "                learning_rate=0.01,\n",
    "                lambda_reg=0.02,\n",
    "                verbose=True,\n",
    "            )\n",
    "        )\n",
    "\n",
    "    # Metrics\n",
    "    rmse = cornac.metrics.RMSE()\n",
    "    mae = cornac.metrics.MAE()\n",
    "\n",
    "    ratio_split = RatioSplit(result, test_size=0.1, seed=SEED, verbose=VERBOSE)\n",
    "    svd_experiment = cornac.Experiment(\n",
    "        eval_method=ratio_split,\n",
    "        models=svd_models,\n",
    "        show_validation=True,\n",
    "        metrics=[rmse, mae],\n",
    "    )\n",
    "    svd_experiment.run()\n",
    "\n",
    "    return svd_models, svd_experiment"
   ]
  },
  {
   "cell_type": "code",
   "execution_count": 139,
   "metadata": {},
   "outputs": [
    {
     "data": {
      "application/vnd.jupyter.widget-view+json": {
       "model_id": "9c61949793e9440b8a3ece569c0ba72c",
       "version_major": 2,
       "version_minor": 0
      },
      "text/plain": [
       "  0%|          | 0/30 [00:00<?, ?it/s]"
      ]
     },
     "metadata": {},
     "output_type": "display_data"
    },
    {
     "name": "stdout",
     "output_type": "stream",
     "text": [
      "Optimization finished!\n"
     ]
    },
    {
     "data": {
      "application/vnd.jupyter.widget-view+json": {
       "model_id": "f167b41bb1f04bccb90529d733d0c3d1",
       "version_major": 2,
       "version_minor": 0
      },
      "text/plain": [
       "  0%|          | 0/30 [00:00<?, ?it/s]"
      ]
     },
     "metadata": {},
     "output_type": "display_data"
    },
    {
     "name": "stdout",
     "output_type": "stream",
     "text": [
      "Optimization finished!\n"
     ]
    },
    {
     "data": {
      "application/vnd.jupyter.widget-view+json": {
       "model_id": "61306832c45e4adda2ebc22b838e9562",
       "version_major": 2,
       "version_minor": 0
      },
      "text/plain": [
       "  0%|          | 0/30 [00:00<?, ?it/s]"
      ]
     },
     "metadata": {},
     "output_type": "display_data"
    },
    {
     "name": "stdout",
     "output_type": "stream",
     "text": [
      "Optimization finished!\n"
     ]
    },
    {
     "data": {
      "application/vnd.jupyter.widget-view+json": {
       "model_id": "86978976b0914f6fb91758691ddd21c7",
       "version_major": 2,
       "version_minor": 0
      },
      "text/plain": [
       "  0%|          | 0/30 [00:00<?, ?it/s]"
      ]
     },
     "metadata": {},
     "output_type": "display_data"
    },
    {
     "name": "stdout",
     "output_type": "stream",
     "text": [
      "Optimization finished!\n"
     ]
    },
    {
     "data": {
      "application/vnd.jupyter.widget-view+json": {
       "model_id": "cec14259bc70410296dca52e58bae3fe",
       "version_major": 2,
       "version_minor": 0
      },
      "text/plain": [
       "  0%|          | 0/30 [00:00<?, ?it/s]"
      ]
     },
     "metadata": {},
     "output_type": "display_data"
    },
    {
     "name": "stdout",
     "output_type": "stream",
     "text": [
      "Optimization finished!\n"
     ]
    },
    {
     "data": {
      "application/vnd.jupyter.widget-view+json": {
       "model_id": "c13c3cf0c5e344a8ab1f02c4bd8184e7",
       "version_major": 2,
       "version_minor": 0
      },
      "text/plain": [
       "  0%|          | 0/30 [00:00<?, ?it/s]"
      ]
     },
     "metadata": {},
     "output_type": "display_data"
    },
    {
     "name": "stdout",
     "output_type": "stream",
     "text": [
      "Optimization finished!\n"
     ]
    },
    {
     "data": {
      "application/vnd.jupyter.widget-view+json": {
       "model_id": "2c35659c37134ba28e2011d9304b6074",
       "version_major": 2,
       "version_minor": 0
      },
      "text/plain": [
       "  0%|          | 0/30 [00:00<?, ?it/s]"
      ]
     },
     "metadata": {},
     "output_type": "display_data"
    },
    {
     "name": "stdout",
     "output_type": "stream",
     "text": [
      "Optimization finished!\n"
     ]
    },
    {
     "data": {
      "application/vnd.jupyter.widget-view+json": {
       "model_id": "26d0584d2f464d8f8d25d17997279874",
       "version_major": 2,
       "version_minor": 0
      },
      "text/plain": [
       "  0%|          | 0/30 [00:00<?, ?it/s]"
      ]
     },
     "metadata": {},
     "output_type": "display_data"
    },
    {
     "name": "stdout",
     "output_type": "stream",
     "text": [
      "Optimization finished!\n",
      "\n",
      "TEST:\n",
      "...\n",
      "       |    MAE |   RMSE | Train (s) | Test (s)\n",
      "------ + ------ + ------ + --------- + --------\n",
      "SVD100 | 0.9274 | 0.9274 |    0.0605 |   0.0016\n",
      "SVD150 | 0.9280 | 0.9280 |    0.0782 |   0.0009\n",
      "SVD200 | 0.9275 | 0.9275 |    0.1058 |   0.0011\n",
      "SVD250 | 0.9279 | 0.9279 |    0.1408 |   0.0007\n",
      "SVD300 | 0.9264 | 0.9264 |    0.1991 |   0.0011\n",
      "SVD350 | 0.9254 | 0.9254 |    0.1807 |   0.0008\n",
      "SVD400 | 0.9268 | 0.9268 |    0.1715 |   0.0007\n",
      "SVD450 | 0.9266 | 0.9266 |    0.2769 |   0.0032\n",
      "\n"
     ]
    }
   ],
   "source": [
    "svd_models, svd_experiment = svd_cornac(df, 100, 500, 50)"
   ]
  },
  {
   "cell_type": "code",
   "execution_count": 140,
   "metadata": {},
   "outputs": [],
   "source": [
    "# * Función para hacer el plot comparando el número de dimensiones latentes vs. Error RMSE.\n",
    "# * Propósito: Obtener el K óptimo\n",
    "def plot_rmse_cornac(experiment, metric_name=\"RMSE\"):\n",
    "    metric_values = []\n",
    "    names_models = []\n",
    "    for i in range(len(experiment.result)):\n",
    "        metric_values.append(\n",
    "            svd_experiment.result[i].metric_avg_results.get(metric_name)\n",
    "        )\n",
    "        names_models.append(svd_experiment.result[i].model_name)\n",
    "\n",
    "    plt.xlabel(\"Latent Dimensions\")\n",
    "    plt.ylabel(\"RMSE\")\n",
    "    plt.title(\"SVD\")\n",
    "    plt.plot(names_models, metric_values, \"o-\")\n",
    "    plt.show()"
   ]
  },
  {
   "cell_type": "code",
   "execution_count": 141,
   "metadata": {},
   "outputs": [
    {
     "data": {
      "image/png": "[encoded data removed]",
      "text/plain": [
       "<Figure size 640x480 with 1 Axes>"
      ]
     },
     "metadata": {},
     "output_type": "display_data"
    }
   ],
   "source": [
    "plot_rmse_cornac(svd_experiment)\n",
    "\n",
    "# * El numero optimo es K = 46?"
   ]
  },
  {
   "cell_type": "code",
   "execution_count": 142,
   "metadata": {},
   "outputs": [
    {
     "name": "stdout",
     "output_type": "stream",
     "text": [
      "rating_threshold = 1.0\n",
      "exclude_unknowns = True\n",
      "---\n",
      "Training data:\n",
      "Number of users = 8917\n",
      "Number of items = 7420\n",
      "Number of ratings = 9000\n",
      "Max rating = 5.0\n",
      "Min rating = 1.0\n",
      "Global mean = 4.1\n",
      "---\n",
      "Test data:\n",
      "Number of users = 8917\n",
      "Number of items = 7420\n",
      "Number of ratings = 9\n",
      "Number of unknown users = 0\n",
      "Number of unknown items = 0\n",
      "---\n",
      "Total users = 8917\n",
      "Total items = 7420\n",
      "\n",
      "[BaselineOnly] Training started!\n"
     ]
    },
    {
     "data": {
      "application/vnd.jupyter.widget-view+json": {
       "model_id": "719e8145bfb24a838ab48b046095ad57",
       "version_major": 2,
       "version_minor": 0
      },
      "text/plain": [
       "  0%|          | 0/30 [00:00<?, ?it/s]"
      ]
     },
     "metadata": {},
     "output_type": "display_data"
    },
    {
     "name": "stdout",
     "output_type": "stream",
     "text": [
      "Optimization finished!\n",
      "\n",
      "[BaselineOnly] Evaluation started!\n"
     ]
    },
    {
     "data": {
      "application/vnd.jupyter.widget-view+json": {
       "model_id": "21a1d652a78549a98314ee496cee1c5c",
       "version_major": 2,
       "version_minor": 0
      },
      "text/plain": [
       "Rating:   0%|          | 0/9 [00:00<?, ?it/s]"
      ]
     },
     "metadata": {},
     "output_type": "display_data"
    },
    {
     "name": "stdout",
     "output_type": "stream",
     "text": [
      "\n",
      "TEST:\n",
      "...\n",
      "             |    MAE |   RMSE | Train (s) | Test (s)\n",
      "------------ + ------ + ------ + --------- + --------\n",
      "BaselineOnly | 0.9010 | 0.9010 |    0.0510 |   0.0060\n",
      "\n"
     ]
    }
   ],
   "source": [
    "# * En caso de querer hacer un baseline model para SVD - Solo considerando los bias:\n",
    "df = df.astype({\"UserId\": object, \"ProductId\": object})\n",
    "records = df.to_records(index=False)\n",
    "result = list(records)\n",
    "\n",
    "# ? - Instantiate an evaluation method to split data into train and test sets.\n",
    "ratio_split = cornac.eval_methods.RatioSplit(\n",
    "    data=df.values, test_size=0.1, verbose=True\n",
    ")\n",
    "\n",
    "# ? - Instantiate the models of interest\n",
    "bo = cornac.models.BaselineOnly(\n",
    "    max_iter=30, learning_rate=0.01, lambda_reg=0.02, verbose=True\n",
    ")\n",
    "\n",
    "# Instantiate evaluation measures\n",
    "mae = cornac.metrics.MAE()\n",
    "rmse = cornac.metrics.RMSE()\n",
    "\n",
    "# Instantiate and run an experiment.\n",
    "cornac.Experiment(eval_method=ratio_split, models=[bo], metrics=[mae, rmse]).run()\n",
    "# ? - Tras ejecutar esto compara con el bloque de arriba"
   ]
  },
  {
   "cell_type": "code",
   "execution_count": 143,
   "metadata": {},
   "outputs": [],
   "source": [
    "# * Función para recomendar a un usuario mediante el indice su producto\n",
    "def recommend_products(index, model, data, num_products=5):\n",
    "\n",
    "    print(\n",
    "        \"Name of Model:\", model.name\n",
    "    )  # ? - Sustituir el n, por el indice del modelo con menor RMSE\n",
    "\n",
    "    # Rank all test items for a given user.\n",
    "    df_rank = pd.DataFrame(\n",
    "        {\"ranked_items\": model.rank(index)[0], \"item_scores\": model.rank(index)[1]},\n",
    "        columns=[\"ranked_items\", \"item_scores\"],\n",
    "    )\n",
    "    print(\"Target UserId\", data.iloc[index].UserId)  # * Cuidado aqui con el df_smaple\n",
    "\n",
    "    df_rank.sort_values(\"item_scores\", ascending=False, inplace=True)\n",
    "\n",
    "    print(\n",
    "        \"Recommended products:\",\n",
    "        data.iloc[df_rank.head(num_products).ranked_items.values][\"ProductId\"].values,\n",
    "    )\n",
    "    print(\"Predicted scoreds: \", df_rank.head(num_products).item_scores.values)"
   ]
  },
  {
   "cell_type": "code",
   "execution_count": 144,
   "metadata": {},
   "outputs": [
    {
     "data": {
      "text/plain": [
       "[<cornac.models.svd.recom_svd.SVD at 0x3d048c740>,\n",
       " <cornac.models.svd.recom_svd.SVD at 0x446db9670>,\n",
       " <cornac.models.svd.recom_svd.SVD at 0x3d048dfd0>,\n",
       " <cornac.models.svd.recom_svd.SVD at 0x3d048c920>,\n",
       " <cornac.models.svd.recom_svd.SVD at 0x3d048c590>,\n",
       " <cornac.models.svd.recom_svd.SVD at 0x3d048cb60>,\n",
       " <cornac.models.svd.recom_svd.SVD at 0x3d048c230>,\n",
       " <cornac.models.svd.recom_svd.SVD at 0x3d047a480>]"
      ]
     },
     "execution_count": 144,
     "metadata": {},
     "output_type": "execute_result"
    }
   ],
   "source": [
    "svd_models"
   ]
  },
  {
   "cell_type": "code",
   "execution_count": 145,
   "metadata": {},
   "outputs": [
    {
     "name": "stdout",
     "output_type": "stream",
     "text": [
      "Name of Model: SVD450\n",
      "Target UserId A3V2Z5651OC7R8\n",
      "Recommended products: ['B000JNLMF0' 'B001BKM6ZA' 'B001SERK9G' 'B000ELP5KA' 'B003VJTRFQ']\n",
      "Predicted scoreds:  [4.950256  4.9276724 4.9024224 4.897957  4.880681 ]\n"
     ]
    }
   ],
   "source": [
    "recommend_products(1, svd_models[7], df)"
   ]
  },
  {
   "cell_type": "markdown",
   "metadata": {},
   "source": [
    "**3.2. Matrix Factorisation**"
   ]
  },
  {
   "cell_type": "code",
   "execution_count": 146,
   "metadata": {},
   "outputs": [
    {
     "name": "stdout",
     "output_type": "stream",
     "text": [
      "\n",
      "TEST:\n",
      "...\n",
      "                       |   RMSE | Train (s) | Test (s)\n",
      "---------------------- + ------ + --------- + --------\n",
      "MF(K=10,lambda=0.0100) | 2.6731 |    1.2377 |   4.9911\n",
      "\n"
     ]
    }
   ],
   "source": [
    "pandas_df = pd.read_csv(\"ratings_Beauty.csv\")\n",
    "df = pandas_df.astype({\"UserId\": object, \"ProductId\": object})\n",
    "records = df.to_records(index=False)\n",
    "result = list(records)\n",
    "\n",
    "# * Data split and calculate the RMSE\n",
    "rs = RatioSplit(result, test_size=0.2, seed=SEED, verbose=VERBOSE)\n",
    "rmse = cornac.metrics.RMSE()\n",
    "\n",
    "K = 10\n",
    "lbd = 0.01  # ? Lambda -> Regularisation\n",
    "mf = MF(\n",
    "    k=K,\n",
    "    max_iter=20,\n",
    "    learning_rate=0.01,\n",
    "    lambda_reg=lbd,\n",
    "    use_bias=False,\n",
    "    verbose=VERBOSE,\n",
    "    seed=SEED,\n",
    "    name=f\"MF(K={K},lambda={lbd:.4f})\",\n",
    ")\n",
    "\n",
    "# * Execute the MF model\n",
    "cornac.Experiment(eval_method=rs, models=[mf], metrics=[rmse]).run()\n",
    "# ? - ^^If you only have one model."
   ]
  },
  {
   "cell_type": "code",
   "execution_count": 147,
   "metadata": {},
   "outputs": [],
   "source": [
    "# * NMF: Variant where the latent factors are constrained to be non-negative\n",
    "# * Ideal for non-negative factors like image processing, text mining, and rec. systems.\n",
    "# * As there are no negative factors.\n",
    "# * Allows for better interpretabiliy to reason with positive values:\n",
    "def mf_cornac(df, K=10):\n",
    "    df = df.astype({\"UserId\": object, \"ProductId\": object})\n",
    "    records = df.to_records(index=False)\n",
    "    result = list(records)\n",
    "    VERBOSE = False\n",
    "    SEED = 42\n",
    "    lbd = 0.01\n",
    "    baseline = BaselineOnly(\n",
    "        max_iter=20, learning_rate=0.01, lambda_reg=lbd, verbose=VERBOSE\n",
    "    )\n",
    "    mf1 = MF(\n",
    "        k=K,\n",
    "        max_iter=20,\n",
    "        learning_rate=0.01,\n",
    "        lambda_reg=0.0,\n",
    "        use_bias=False,\n",
    "        verbose=VERBOSE,\n",
    "        seed=SEED,\n",
    "        name=f\"MF(K={K})\",\n",
    "    )\n",
    "    mf2 = MF(\n",
    "        k=K,\n",
    "        max_iter=20,\n",
    "        learning_rate=0.01,\n",
    "        lambda_reg=lbd,\n",
    "        use_bias=False,\n",
    "        verbose=VERBOSE,\n",
    "        seed=SEED,\n",
    "        name=f\"MF(K={K},lambda={lbd:.4f})\",\n",
    "    )\n",
    "    mf3 = MF(\n",
    "        k=K,\n",
    "        max_iter=20,\n",
    "        learning_rate=0.01,\n",
    "        lambda_reg=lbd,\n",
    "        use_bias=True,\n",
    "        verbose=VERBOSE,\n",
    "        seed=SEED,\n",
    "        name=f\"MF(K={K},bias)\",\n",
    "    )\n",
    "    nmf = NMF(\n",
    "        k=K,\n",
    "        max_iter=200,\n",
    "        learning_rate=0.01,\n",
    "        use_bias=False,\n",
    "        verbose=VERBOSE,\n",
    "        seed=SEED,\n",
    "        name=f\"NMF(K={K})\",\n",
    "    )\n",
    "    pmf = PMF(\n",
    "        k=K,\n",
    "        max_iter=50,\n",
    "        learning_rate=0.001,\n",
    "        lambda_reg=0.01,\n",
    "        verbose=VERBOSE,\n",
    "        seed=SEED,\n",
    "    )\n",
    "    ratio_split = RatioSplit(result, test_size=0.1, seed=SEED, verbose=VERBOSE)\n",
    "    cornac.Experiment(\n",
    "        eval_method=ratio_split,\n",
    "        models=[baseline, mf1, mf2, mf3, nmf, pmf],\n",
    "        metrics=[cornac.metrics.RMSE()],\n",
    "    ).run()\n",
    "\n",
    "    mf_models = {\n",
    "        \"baseline\": baseline,\n",
    "        \"mf1\": mf1,\n",
    "        \"mf2\": mf2,\n",
    "        \"mf3\": mf3,\n",
    "        \"nmf\": nmf,\n",
    "        \"pmf\": pmf,\n",
    "    }\n",
    "\n",
    "    return mf_models"
   ]
  },
  {
   "cell_type": "code",
   "execution_count": 148,
   "metadata": {},
   "outputs": [
    {
     "name": "stdout",
     "output_type": "stream",
     "text": [
      "\n",
      "TEST:\n",
      "...\n",
      "                       |   RMSE | Train (s) | Test (s)\n",
      "---------------------- + ------ + --------- + --------\n",
      "BaselineOnly           | 0.9050 |    0.0803 |   2.8226\n",
      "MF(K=10)               | 2.3467 |    1.3876 |   2.9809\n",
      "MF(K=10,lambda=0.0100) | 2.3440 |    1.4771 |   3.0006\n",
      "MF(K=10,bias)          | 0.9051 |    1.6000 |   2.8746\n",
      "NMF(K=10)              | 1.2468 |   33.6176 |   2.9391\n",
      "PMF                    | 1.6025 |   28.3070 |   2.8193\n",
      "\n"
     ]
    }
   ],
   "source": [
    "K = 10\n",
    "mf_models = mf_cornac(df, K)"
   ]
  },
  {
   "cell_type": "code",
   "execution_count": 149,
   "metadata": {},
   "outputs": [
    {
     "data": {
      "text/plain": [
       "<Axes: title={'center': 'MF Factors for model: <cornac.models.mf.recom_mf.MF object at 0x3d0464410>'}, xlabel='Factor', ylabel='Variance'>"
      ]
     },
     "execution_count": 149,
     "metadata": {},
     "output_type": "execute_result"
    },
    {
     "data": {
      "image/png": "[encoded data removed]",
      "text/plain": [
       "<Figure size 1200x500 with 1 Axes>"
      ]
     },
     "metadata": {},
     "output_type": "display_data"
    }
   ],
   "source": [
    "model = mf_models.get(\"mf3\")  # ? - Selecciona el que mejor RMSE tenga\n",
    "var_df = pd.DataFrame(\n",
    "    {\"Factor\": np.arange(K), \"Variance\": np.var(model.i_factors, axis=0)}\n",
    ")\n",
    "\n",
    "# * Observar la info y varianza de cada dimensión latente del MF\n",
    "fig, ax = plt.subplots(figsize=(12, 5))\n",
    "plt.title(f\"MF Factors for model: {model}\")\n",
    "sns.barplot(x=\"Factor\", y=\"Variance\", data=var_df, hue=\"Factor\", legend=False, ax=ax)\n",
    "# TODO: When is NMF vs. MF relevant? And how about choosing between SVD and MF?\n",
    "# * Con NMF estas forzando que los autovalores sean positivos, para poder mejorar su interpretabilidad\n",
    "# * PMF -> Probabilistic Matrix Factorisation -> Y esa casi siempre mejora (Estudiaría así - Hazte un esquema)"
   ]
  },
  {
   "cell_type": "markdown",
   "metadata": {},
   "source": [
    "**3.3 KMeans for any model**"
   ]
  },
  {
   "cell_type": "code",
   "execution_count": 156,
   "metadata": {},
   "outputs": [
    {
     "data": {
      "text/plain": [
       "<seaborn.axisgrid.FacetGrid at 0x446d12450>"
      ]
     },
     "execution_count": 156,
     "metadata": {},
     "output_type": "execute_result"
    },
    {
     "data": {
      "image/png": "[encoded data removed]",
      "text/plain": [
       "<Figure size 1100x1100 with 1 Axes>"
      ]
     },
     "metadata": {},
     "output_type": "display_data"
    }
   ],
   "source": [
    "TOP2F = (3, 9)  # * Modificar a los factores más significativos\n",
    "SAMPLE_SIZE = 500\n",
    "\n",
    "mf = model\n",
    "rng = np.random.RandomState(42)\n",
    "sample_inds = rng.choice(np.arange(mf.i_factors.shape[0]), size=SAMPLE_SIZE)\n",
    "sample_df = pd.DataFrame(data=mf.i_factors[sample_inds][:, TOP2F], columns=[\"x\", \"y\"])\n",
    "sns.lmplot(x=\"x\", y=\"y\", data=sample_df, height=11.0, fit_reg=False)"
   ]
  },
  {
   "cell_type": "code",
   "execution_count": 157,
   "metadata": {},
   "outputs": [],
   "source": [
    "def pick_centroids(data, k):\n",
    "    indexes = np.random.choice(len(data), size=k, replace=False)\n",
    "    centroids = data[indexes]\n",
    "    return centroids\n",
    "\n",
    "\n",
    "def assign_cluster(data, centroids):\n",
    "    # Pairwise squared L2 distances. Shape [n, k]\n",
    "    distances = ((data[:, np.newaxis] - centroids) ** 2).sum(axis=2)\n",
    "    # find closest centroid index. Shape [n]\n",
    "    clusters = np.argmin(distances, axis=1)\n",
    "    return clusters\n",
    "\n",
    "\n",
    "def update_centroids(data, clusters, k):\n",
    "    # Mean positions of data within clusters\n",
    "    centroids = [np.mean(data[clusters == i], axis=0) for i in range(k)]\n",
    "    return np.array(centroids)"
   ]
  },
  {
   "cell_type": "code",
   "execution_count": 162,
   "metadata": {},
   "outputs": [],
   "source": [
    "class KMEANS:\n",
    "    def __init__(self, k):\n",
    "        self.k = k\n",
    "\n",
    "    def fit(self, data, steps=20):\n",
    "        self.centroids = pick_centroids(data, self.k)\n",
    "        for step in range(steps):\n",
    "            clusters = assign_cluster(data, self.centroids)\n",
    "            self.centroids = update_centroids(data, clusters, self.k)\n",
    "\n",
    "    def predict(self, data):\n",
    "        return assign_cluster(data, self.centroids)"
   ]
  },
  {
   "cell_type": "code",
   "execution_count": 163,
   "metadata": {},
   "outputs": [],
   "source": [
    "kmeans = KMEANS(k=3)\n",
    "data = sample_df.to_numpy()\n",
    "kmeans.fit(data)\n",
    "clusters = kmeans.predict(data)"
   ]
  },
  {
   "cell_type": "code",
   "execution_count": 164,
   "metadata": {},
   "outputs": [
    {
     "data": {
      "image/png": "[encoded data removed]",
      "text/plain": [
       "<Figure size 640x480 with 1 Axes>"
      ]
     },
     "metadata": {},
     "output_type": "display_data"
    }
   ],
   "source": [
    "plt.scatter(data[:, 0], data[:, 1], c=clusters, cmap=\"viridis\", alpha=0.5)\n",
    "plt.scatter(\n",
    "    kmeans.centroids[:, 0],\n",
    "    kmeans.centroids[:, 1],\n",
    "    c=\"red\",\n",
    "    s=100,\n",
    "    edgecolor=\"black\",\n",
    "    label=\"Centroids\",\n",
    ")\n",
    "plt.title(\"Cluster Visualization with Centroids\")\n",
    "plt.grid(False)\n",
    "plt.show()"
   ]
  },
  {
   "cell_type": "code",
   "execution_count": 165,
   "metadata": {},
   "outputs": [
    {
     "data": {
      "image/png": "[encoded data removed]",
      "text/plain": [
       "<Figure size 640x480 with 1 Axes>"
      ]
     },
     "metadata": {},
     "output_type": "display_data"
    }
   ],
   "source": [
    "def plot_decision_boundaries(clusterer, X, resolution=1000):\n",
    "    plt.figure()\n",
    "    mins = X.min(axis=0)\n",
    "    maxs = X.max(axis=0)\n",
    "    xx, yy = np.meshgrid(\n",
    "        np.linspace(mins[0], maxs[0], resolution),\n",
    "        np.linspace(mins[1], maxs[1], resolution),\n",
    "    )\n",
    "    Z = clusterer.predict(np.c_[xx.ravel(), yy.ravel()])\n",
    "    Z = Z.reshape(xx.shape)\n",
    "    plt.title(\"Cluster Visualization with Voronoi cells\")\n",
    "    plt.contourf(Z, extent=(mins[0], maxs[0], mins[1], maxs[1]), cmap=\"Pastel2\")\n",
    "    plt.contour(\n",
    "        Z, extent=(mins[0], maxs[0], mins[1], maxs[1]), linewidths=1, colors=\"k\"\n",
    "    )\n",
    "    plt.scatter(data[:, 0], data[:, 1], c=clusters, cmap=\"viridis\", alpha=0.5)\n",
    "    plt.scatter(\n",
    "        kmeans.centroids[:, 0],\n",
    "        kmeans.centroids[:, 1],\n",
    "        c=\"red\",\n",
    "        s=100,\n",
    "        edgecolor=\"black\",\n",
    "        label=\"Centroids\",\n",
    "    )\n",
    "    plt.show()\n",
    "\n",
    "\n",
    "plot_decision_boundaries(kmeans, data)"
   ]
  },
  {
   "cell_type": "markdown",
   "metadata": {},
   "source": [
    "#### **4. Conclusions and Comparisons**"
   ]
  }
 ],
 "metadata": {
  "kernelspec": {
   "display_name": "envml3",
   "language": "python",
   "name": "python3"
  },
  "language_info": {
   "codemirror_mode": {
    "name": "ipython",
    "version": 3
   },
   "file_extension": ".py",
   "mimetype": "text/x-python",
   "name": "python",
   "nbconvert_exporter": "python",
   "pygments_lexer": "ipython3",
   "version": "3.12.3"
  }
 },
 "nbformat": 4,
 "nbformat_minor": 2
}
