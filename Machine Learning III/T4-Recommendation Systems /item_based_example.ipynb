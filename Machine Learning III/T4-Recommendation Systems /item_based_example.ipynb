{
 "cells": [
  {
   "cell_type": "markdown",
   "metadata": {
    "id": "b6MQr7AYLVt8"
   },
   "source": [
    "# **ITEM-BASED COLLABORATIVE FILTERING**"
   ]
  },
  {
   "cell_type": "markdown",
   "metadata": {
    "id": "l31fue7nnpYX"
   },
   "source": [
    "Item-based collaborative filtering is also called item-item collaborative filtering. \n",
    "\n",
    "It is a type of recommendation system algorithm that uses item similarity to make product recommendations."
   ]
  },
  {
   "cell_type": "markdown",
   "metadata": {
    "id": "n_JptLRauK5-"
   },
   "source": [
    "# Step 0: Item-Based Collaborative Filtering Recommendation Algorithm"
   ]
  },
  {
   "cell_type": "markdown",
   "metadata": {
    "id": "xMdkjwpKuR2S"
   },
   "source": [
    "Firstly, let's understand how item-based collaborative filtering works.\n",
    "\n",
    "Item-based collaborative filtering makes recommendations based on user-product interactions in the past. The assumption behind the algorithm is that users like similar products and dislike similar products, so they give similar ratings to similar products.\n",
    "\n",
    "Item-based collaborative filtering algorithm usually has the following steps:\n",
    "\n",
    "1. Calculate item similarity scores based on all the user ratings.\n",
    "2. Identify the top n items that are most similar to the item of interest.\n",
    "3. Calculate the weighted average score for the most similar items by the user.\n",
    "4. Rank items based on the score and pick top n items to recommend."
   ]
  },
  {
   "cell_type": "markdown",
   "metadata": {
    "id": "CxYEWIeoC7Ji"
   },
   "source": [
    "# Step 1: Import Python Libraries"
   ]
  },
  {
   "cell_type": "markdown",
   "metadata": {
    "id": "m88P6Q0u1JYy"
   },
   "source": [
    "In the first step, we will import Python libraries `pandas`, `numpy`, and `scipy.stats`. These three libraries are for data processing and calculations.\n",
    "\n",
    "We also imported `seaborn` for visualization and `cosine_similarity` for calculating similarity scores."
   ]
  },
  {
   "cell_type": "code",
   "execution_count": 1,
   "metadata": {
    "id": "JBESx3d0HdRL"
   },
   "outputs": [],
   "source": [
    "# Data processing\n",
    "import pandas as pd\n",
    "import numpy as np\n",
    "import scipy.stats\n",
    "\n",
    "# Visualization\n",
    "import seaborn as sns\n",
    "\n",
    "# Similarity\n",
    "from sklearn.metrics.pairwise import cosine_similarity"
   ]
  },
  {
   "cell_type": "markdown",
   "metadata": {
    "id": "aPspT8_JC-jV"
   },
   "source": [
    "# Step 2: Download And Read In Data"
   ]
  },
  {
   "cell_type": "markdown",
   "metadata": {
    "id": "UNfi5DEbDGLU"
   },
   "source": [
    "In step 2, we will follow the steps below to get the datasets:\n",
    "1. Go to https://grouplens.org/datasets/movielens/\n",
    "2. Download the 100k dataset with the file name \"ml-latest-small.zip\"\n",
    "3. Unzip \"ml-latest-small.zip\"\n",
    "4. Copy the \"ml-latest-small\" folder to your project folder"
   ]
  },
  {
   "cell_type": "markdown",
   "metadata": {
    "id": "01GfDb-RIphe"
   },
   "source": [
    "There are multiple datasets in the 100k movielens folder. For this tutorial, we will use two ratings and movies.\n",
    "\n",
    "Now let's read in the rating data."
   ]
  },
  {
   "cell_type": "code",
   "execution_count": 2,
   "metadata": {
    "colab": {
     "base_uri": "https://localhost:8080/",
     "height": 206
    },
    "id": "H62RNzlYH0Ok",
    "outputId": "fd824857-a041-4796-8fb0-afad83d7d26b"
   },
   "outputs": [
    {
     "data": {
      "text/html": [
       "<div>\n",
       "<style scoped>\n",
       "    .dataframe tbody tr th:only-of-type {\n",
       "        vertical-align: middle;\n",
       "    }\n",
       "\n",
       "    .dataframe tbody tr th {\n",
       "        vertical-align: top;\n",
       "    }\n",
       "\n",
       "    .dataframe thead th {\n",
       "        text-align: right;\n",
       "    }\n",
       "</style>\n",
       "<table border=\"1\" class=\"dataframe\">\n",
       "  <thead>\n",
       "    <tr style=\"text-align: right;\">\n",
       "      <th></th>\n",
       "      <th>userId</th>\n",
       "      <th>movieId</th>\n",
       "      <th>rating</th>\n",
       "      <th>timestamp</th>\n",
       "    </tr>\n",
       "  </thead>\n",
       "  <tbody>\n",
       "    <tr>\n",
       "      <th>0</th>\n",
       "      <td>1</td>\n",
       "      <td>1</td>\n",
       "      <td>4.0</td>\n",
       "      <td>964982703</td>\n",
       "    </tr>\n",
       "    <tr>\n",
       "      <th>1</th>\n",
       "      <td>1</td>\n",
       "      <td>3</td>\n",
       "      <td>4.0</td>\n",
       "      <td>964981247</td>\n",
       "    </tr>\n",
       "    <tr>\n",
       "      <th>2</th>\n",
       "      <td>1</td>\n",
       "      <td>6</td>\n",
       "      <td>4.0</td>\n",
       "      <td>964982224</td>\n",
       "    </tr>\n",
       "    <tr>\n",
       "      <th>3</th>\n",
       "      <td>1</td>\n",
       "      <td>47</td>\n",
       "      <td>5.0</td>\n",
       "      <td>964983815</td>\n",
       "    </tr>\n",
       "    <tr>\n",
       "      <th>4</th>\n",
       "      <td>1</td>\n",
       "      <td>50</td>\n",
       "      <td>5.0</td>\n",
       "      <td>964982931</td>\n",
       "    </tr>\n",
       "  </tbody>\n",
       "</table>\n",
       "</div>"
      ],
      "text/plain": [
       "   userId  movieId  rating  timestamp\n",
       "0       1        1     4.0  964982703\n",
       "1       1        3     4.0  964981247\n",
       "2       1        6     4.0  964982224\n",
       "3       1       47     5.0  964983815\n",
       "4       1       50     5.0  964982931"
      ]
     },
     "execution_count": 2,
     "metadata": {},
     "output_type": "execute_result"
    }
   ],
   "source": [
    "# Read in data\n",
    "ratings = pd.read_csv(\"ml-latest-small/ratings.csv\")\n",
    "\n",
    "# Take a look at the data\n",
    "ratings.head()"
   ]
  },
  {
   "cell_type": "markdown",
   "metadata": {
    "id": "ypyk6KHMI8XJ"
   },
   "source": [
    "There are four columns in the ratings dataset, userID, movieID, rating, and timestamp.\n",
    "\n",
    "The dataset has over 100k records, and there is no missing data."
   ]
  },
  {
   "cell_type": "code",
   "execution_count": 3,
   "metadata": {
    "colab": {
     "base_uri": "https://localhost:8080/"
    },
    "id": "LKgfhxylIcdq",
    "outputId": "8edff024-0af7-447c-a59f-85fdc8a4bc82"
   },
   "outputs": [
    {
     "name": "stdout",
     "output_type": "stream",
     "text": [
      "<class 'pandas.core.frame.DataFrame'>\n",
      "RangeIndex: 100836 entries, 0 to 100835\n",
      "Data columns (total 4 columns):\n",
      " #   Column     Non-Null Count   Dtype  \n",
      "---  ------     --------------   -----  \n",
      " 0   userId     100836 non-null  int64  \n",
      " 1   movieId    100836 non-null  int64  \n",
      " 2   rating     100836 non-null  float64\n",
      " 3   timestamp  100836 non-null  int64  \n",
      "dtypes: float64(1), int64(3)\n",
      "memory usage: 3.1 MB\n"
     ]
    }
   ],
   "source": [
    "# Get the dataset information\n",
    "ratings.info()"
   ]
  },
  {
   "cell_type": "markdown",
   "metadata": {
    "id": "KszMRHj24fgN"
   },
   "source": [
    "The 100k ratings are from 610 users on 9724 movies. The rating has ten unique values from 0.5 to 5."
   ]
  },
  {
   "cell_type": "code",
   "execution_count": 4,
   "metadata": {
    "colab": {
     "base_uri": "https://localhost:8080/"
    },
    "id": "mU6QYpBNIm3e",
    "outputId": "e557d68c-cea4-4952-c7d3-7512a521dc45"
   },
   "outputs": [
    {
     "name": "stdout",
     "output_type": "stream",
     "text": [
      "The ratings dataset has 610 unique users\n",
      "The ratings dataset has 9724 unique movies\n",
      "The ratings dataset has 10 unique ratings\n",
      "The unique ratings are [0.5, 1.0, 1.5, 2.0, 2.5, 3.0, 3.5, 4.0, 4.5, 5.0]\n"
     ]
    }
   ],
   "source": [
    "# Number of users\n",
    "print(\"The ratings dataset has\", ratings[\"userId\"].nunique(), \"unique users\")\n",
    "\n",
    "# Number of movies\n",
    "print(\"The ratings dataset has\", ratings[\"movieId\"].nunique(), \"unique movies\")\n",
    "\n",
    "# Number of ratings\n",
    "print(\"The ratings dataset has\", ratings[\"rating\"].nunique(), \"unique ratings\")\n",
    "\n",
    "# List of unique ratings\n",
    "print(\"The unique ratings are\", sorted(ratings[\"rating\"].unique()))"
   ]
  },
  {
   "cell_type": "markdown",
   "metadata": {
    "id": "0e14-64CL-Wy"
   },
   "source": [
    "Next, let's read in the movies data to get the movie names.\n",
    "\n",
    "The movies dataset has movieID, title, and genres."
   ]
  },
  {
   "cell_type": "code",
   "execution_count": 5,
   "metadata": {
    "colab": {
     "base_uri": "https://localhost:8080/",
     "height": 206
    },
    "id": "5MioG60zKXa_",
    "outputId": "a990a747-60b4-4bc5-c233-0c3896368178"
   },
   "outputs": [
    {
     "data": {
      "text/html": [
       "<div>\n",
       "<style scoped>\n",
       "    .dataframe tbody tr th:only-of-type {\n",
       "        vertical-align: middle;\n",
       "    }\n",
       "\n",
       "    .dataframe tbody tr th {\n",
       "        vertical-align: top;\n",
       "    }\n",
       "\n",
       "    .dataframe thead th {\n",
       "        text-align: right;\n",
       "    }\n",
       "</style>\n",
       "<table border=\"1\" class=\"dataframe\">\n",
       "  <thead>\n",
       "    <tr style=\"text-align: right;\">\n",
       "      <th></th>\n",
       "      <th>movieId</th>\n",
       "      <th>title</th>\n",
       "      <th>genres</th>\n",
       "    </tr>\n",
       "  </thead>\n",
       "  <tbody>\n",
       "    <tr>\n",
       "      <th>0</th>\n",
       "      <td>1</td>\n",
       "      <td>Toy Story (1995)</td>\n",
       "      <td>Adventure|Animation|Children|Comedy|Fantasy</td>\n",
       "    </tr>\n",
       "    <tr>\n",
       "      <th>1</th>\n",
       "      <td>2</td>\n",
       "      <td>Jumanji (1995)</td>\n",
       "      <td>Adventure|Children|Fantasy</td>\n",
       "    </tr>\n",
       "    <tr>\n",
       "      <th>2</th>\n",
       "      <td>3</td>\n",
       "      <td>Grumpier Old Men (1995)</td>\n",
       "      <td>Comedy|Romance</td>\n",
       "    </tr>\n",
       "    <tr>\n",
       "      <th>3</th>\n",
       "      <td>4</td>\n",
       "      <td>Waiting to Exhale (1995)</td>\n",
       "      <td>Comedy|Drama|Romance</td>\n",
       "    </tr>\n",
       "    <tr>\n",
       "      <th>4</th>\n",
       "      <td>5</td>\n",
       "      <td>Father of the Bride Part II (1995)</td>\n",
       "      <td>Comedy</td>\n",
       "    </tr>\n",
       "  </tbody>\n",
       "</table>\n",
       "</div>"
      ],
      "text/plain": [
       "   movieId                               title  \\\n",
       "0        1                    Toy Story (1995)   \n",
       "1        2                      Jumanji (1995)   \n",
       "2        3             Grumpier Old Men (1995)   \n",
       "3        4            Waiting to Exhale (1995)   \n",
       "4        5  Father of the Bride Part II (1995)   \n",
       "\n",
       "                                        genres  \n",
       "0  Adventure|Animation|Children|Comedy|Fantasy  \n",
       "1                   Adventure|Children|Fantasy  \n",
       "2                               Comedy|Romance  \n",
       "3                         Comedy|Drama|Romance  \n",
       "4                                       Comedy  "
      ]
     },
     "execution_count": 5,
     "metadata": {},
     "output_type": "execute_result"
    }
   ],
   "source": [
    "# Read in data\n",
    "movies = pd.read_csv(\"ml-latest-small/movies.csv\")\n",
    "\n",
    "# Take a look at the data\n",
    "movies.head()"
   ]
  },
  {
   "cell_type": "markdown",
   "metadata": {
    "id": "ojUlI_KXPx3T"
   },
   "source": [
    "Using `movieID` as the matching key, we appended movie information to the rating dataset and named it `df`. So now we have the movie tile and movie rating in the same dataset!\n"
   ]
  },
  {
   "cell_type": "code",
   "execution_count": 6,
   "metadata": {
    "colab": {
     "base_uri": "https://localhost:8080/",
     "height": 206
    },
    "id": "SFKBfIl5P8PG",
    "outputId": "489e6b2c-d44e-448d-f9a3-dabfad6e47cd"
   },
   "outputs": [
    {
     "data": {
      "text/html": [
       "<div>\n",
       "<style scoped>\n",
       "    .dataframe tbody tr th:only-of-type {\n",
       "        vertical-align: middle;\n",
       "    }\n",
       "\n",
       "    .dataframe tbody tr th {\n",
       "        vertical-align: top;\n",
       "    }\n",
       "\n",
       "    .dataframe thead th {\n",
       "        text-align: right;\n",
       "    }\n",
       "</style>\n",
       "<table border=\"1\" class=\"dataframe\">\n",
       "  <thead>\n",
       "    <tr style=\"text-align: right;\">\n",
       "      <th></th>\n",
       "      <th>userId</th>\n",
       "      <th>movieId</th>\n",
       "      <th>rating</th>\n",
       "      <th>timestamp</th>\n",
       "      <th>title</th>\n",
       "      <th>genres</th>\n",
       "    </tr>\n",
       "  </thead>\n",
       "  <tbody>\n",
       "    <tr>\n",
       "      <th>0</th>\n",
       "      <td>1</td>\n",
       "      <td>1</td>\n",
       "      <td>4.0</td>\n",
       "      <td>964982703</td>\n",
       "      <td>Toy Story (1995)</td>\n",
       "      <td>Adventure|Animation|Children|Comedy|Fantasy</td>\n",
       "    </tr>\n",
       "    <tr>\n",
       "      <th>1</th>\n",
       "      <td>5</td>\n",
       "      <td>1</td>\n",
       "      <td>4.0</td>\n",
       "      <td>847434962</td>\n",
       "      <td>Toy Story (1995)</td>\n",
       "      <td>Adventure|Animation|Children|Comedy|Fantasy</td>\n",
       "    </tr>\n",
       "    <tr>\n",
       "      <th>2</th>\n",
       "      <td>7</td>\n",
       "      <td>1</td>\n",
       "      <td>4.5</td>\n",
       "      <td>1106635946</td>\n",
       "      <td>Toy Story (1995)</td>\n",
       "      <td>Adventure|Animation|Children|Comedy|Fantasy</td>\n",
       "    </tr>\n",
       "    <tr>\n",
       "      <th>3</th>\n",
       "      <td>15</td>\n",
       "      <td>1</td>\n",
       "      <td>2.5</td>\n",
       "      <td>1510577970</td>\n",
       "      <td>Toy Story (1995)</td>\n",
       "      <td>Adventure|Animation|Children|Comedy|Fantasy</td>\n",
       "    </tr>\n",
       "    <tr>\n",
       "      <th>4</th>\n",
       "      <td>17</td>\n",
       "      <td>1</td>\n",
       "      <td>4.5</td>\n",
       "      <td>1305696483</td>\n",
       "      <td>Toy Story (1995)</td>\n",
       "      <td>Adventure|Animation|Children|Comedy|Fantasy</td>\n",
       "    </tr>\n",
       "  </tbody>\n",
       "</table>\n",
       "</div>"
      ],
      "text/plain": [
       "   userId  movieId  rating   timestamp             title  \\\n",
       "0       1        1     4.0   964982703  Toy Story (1995)   \n",
       "1       5        1     4.0   847434962  Toy Story (1995)   \n",
       "2       7        1     4.5  1106635946  Toy Story (1995)   \n",
       "3      15        1     2.5  1510577970  Toy Story (1995)   \n",
       "4      17        1     4.5  1305696483  Toy Story (1995)   \n",
       "\n",
       "                                        genres  \n",
       "0  Adventure|Animation|Children|Comedy|Fantasy  \n",
       "1  Adventure|Animation|Children|Comedy|Fantasy  \n",
       "2  Adventure|Animation|Children|Comedy|Fantasy  \n",
       "3  Adventure|Animation|Children|Comedy|Fantasy  \n",
       "4  Adventure|Animation|Children|Comedy|Fantasy  "
      ]
     },
     "execution_count": 6,
     "metadata": {},
     "output_type": "execute_result"
    }
   ],
   "source": [
    "# Merge ratings and movies datasets\n",
    "df = pd.merge(ratings, movies, on=\"movieId\", how=\"inner\")\n",
    "\n",
    "# Take a look at the data\n",
    "df.head()"
   ]
  },
  {
   "cell_type": "markdown",
   "metadata": {
    "id": "e3OdutCvPDws"
   },
   "source": [
    "# Step 3: Exploratory Data Analysis (EDA)"
   ]
  },
  {
   "cell_type": "markdown",
   "metadata": {
    "id": "O9RqCaSl0VOZ"
   },
   "source": [
    "In step 3, we need to filter the movies and keep only those with over 100 ratings for the analysis. This is to make the calculation manageable by the Google Colab memory.\n",
    "\n",
    "To do that, we first group the movies by title, count the number of ratings, and keep only the movies with greater than 100 ratings.\n",
    "\n",
    "The average ratings for the movies are calculated as well.\n",
    "\n",
    "From the `.info()` output, we can see that there are 134 movies left."
   ]
  },
  {
   "cell_type": "code",
   "execution_count": 7,
   "metadata": {
    "colab": {
     "base_uri": "https://localhost:8080/"
    },
    "id": "u0EPqtPs1NpB",
    "outputId": "918a3827-355d-4be6-a1e0-947cbdc21a03"
   },
   "outputs": [
    {
     "name": "stdout",
     "output_type": "stream",
     "text": [
      "<class 'pandas.core.frame.DataFrame'>\n",
      "Index: 134 entries, 74 to 9615\n",
      "Data columns (total 3 columns):\n",
      " #   Column             Non-Null Count  Dtype  \n",
      "---  ------             --------------  -----  \n",
      " 0   title              134 non-null    object \n",
      " 1   mean_rating        134 non-null    float64\n",
      " 2   number_of_ratings  134 non-null    int64  \n",
      "dtypes: float64(1), int64(1), object(1)\n",
      "memory usage: 4.2+ KB\n"
     ]
    }
   ],
   "source": [
    "# Aggregate by movie\n",
    "agg_ratings = (\n",
    "    df.groupby(\"title\")\n",
    "    .agg(mean_rating=(\"rating\", \"mean\"), number_of_ratings=(\"rating\", \"count\"))\n",
    "    .reset_index()\n",
    ")\n",
    "\n",
    "# Keep the movies with over 100 ratings\n",
    "agg_ratings_GT100 = agg_ratings[agg_ratings[\"number_of_ratings\"] > 100]\n",
    "\n",
    "# Check the information of the dataframe\n",
    "agg_ratings_GT100.info()"
   ]
  },
  {
   "cell_type": "markdown",
   "metadata": {
    "id": "7Ug05NNFQqwN"
   },
   "source": [
    "Let's check what the most popular movies and their ratings are."
   ]
  },
  {
   "cell_type": "code",
   "execution_count": 8,
   "metadata": {
    "colab": {
     "base_uri": "https://localhost:8080/",
     "height": 206
    },
    "id": "H6qAvnu2r7YQ",
    "outputId": "3c01d965-7ad6-4df5-d0ba-dac187d99ed9"
   },
   "outputs": [
    {
     "data": {
      "text/html": [
       "<div>\n",
       "<style scoped>\n",
       "    .dataframe tbody tr th:only-of-type {\n",
       "        vertical-align: middle;\n",
       "    }\n",
       "\n",
       "    .dataframe tbody tr th {\n",
       "        vertical-align: top;\n",
       "    }\n",
       "\n",
       "    .dataframe thead th {\n",
       "        text-align: right;\n",
       "    }\n",
       "</style>\n",
       "<table border=\"1\" class=\"dataframe\">\n",
       "  <thead>\n",
       "    <tr style=\"text-align: right;\">\n",
       "      <th></th>\n",
       "      <th>title</th>\n",
       "      <th>mean_rating</th>\n",
       "      <th>number_of_ratings</th>\n",
       "    </tr>\n",
       "  </thead>\n",
       "  <tbody>\n",
       "    <tr>\n",
       "      <th>3158</th>\n",
       "      <td>Forrest Gump (1994)</td>\n",
       "      <td>4.164134</td>\n",
       "      <td>329</td>\n",
       "    </tr>\n",
       "    <tr>\n",
       "      <th>7593</th>\n",
       "      <td>Shawshank Redemption, The (1994)</td>\n",
       "      <td>4.429022</td>\n",
       "      <td>317</td>\n",
       "    </tr>\n",
       "    <tr>\n",
       "      <th>6865</th>\n",
       "      <td>Pulp Fiction (1994)</td>\n",
       "      <td>4.197068</td>\n",
       "      <td>307</td>\n",
       "    </tr>\n",
       "    <tr>\n",
       "      <th>7680</th>\n",
       "      <td>Silence of the Lambs, The (1991)</td>\n",
       "      <td>4.161290</td>\n",
       "      <td>279</td>\n",
       "    </tr>\n",
       "    <tr>\n",
       "      <th>5512</th>\n",
       "      <td>Matrix, The (1999)</td>\n",
       "      <td>4.192446</td>\n",
       "      <td>278</td>\n",
       "    </tr>\n",
       "  </tbody>\n",
       "</table>\n",
       "</div>"
      ],
      "text/plain": [
       "                                 title  mean_rating  number_of_ratings\n",
       "3158               Forrest Gump (1994)     4.164134                329\n",
       "7593  Shawshank Redemption, The (1994)     4.429022                317\n",
       "6865               Pulp Fiction (1994)     4.197068                307\n",
       "7680  Silence of the Lambs, The (1991)     4.161290                279\n",
       "5512                Matrix, The (1999)     4.192446                278"
      ]
     },
     "execution_count": 8,
     "metadata": {},
     "output_type": "execute_result"
    }
   ],
   "source": [
    "# Check popular movies\n",
    "agg_ratings_GT100.sort_values(by=\"number_of_ratings\", ascending=False).head()"
   ]
  },
  {
   "cell_type": "markdown",
   "metadata": {
    "id": "rGeC-fn7uOcR"
   },
   "source": [
    "Next, let's use a `jointplot` to check the correlation between the average rating and the number of ratings.\n",
    "\n",
    "We can see an upward trend from the scatter plot, showing that popular movies get higher ratings.\n",
    "\n",
    "The average rating distribution shows that most movies in the dataset have an average rating of around 4.\n",
    "\n",
    "The number of rating distribution shows that most movies have less than 150 ratings."
   ]
  },
  {
   "cell_type": "code",
   "execution_count": 11,
   "metadata": {
    "colab": {
     "base_uri": "https://localhost:8080/",
     "height": 458
    },
    "id": "-aOVhLD8NcO7",
    "outputId": "261b0d3c-fba8-49e2-97c0-914b2f0575a6"
   },
   "outputs": [
    {
     "data": {
      "text/plain": [
       "<Axes: xlabel='mean_rating', ylabel='number_of_ratings'>"
      ]
     },
     "execution_count": 11,
     "metadata": {},
     "output_type": "execute_result"
    },
    {
     "data": {
      "image/png": "[encoded data removed]",
      "text/plain": [
       "<Figure size 640x480 with 1 Axes>"
      ]
     },
     "metadata": {},
     "output_type": "display_data"
    }
   ],
   "source": [
    "# Visulization\n",
    "sns.histplot(x=\"mean_rating\", y=\"number_of_ratings\", data=agg_ratings_GT100)"
   ]
  },
  {
   "cell_type": "markdown",
   "metadata": {
    "id": "VD5-AAmKv1Gg"
   },
   "source": [
    "To keep only the 134 movies with more than 100 ratings, we need to join the movie with the user-rating level dataframe.\n",
    "\n",
    "`how='inner'` and `on='title'` ensure that only the movies with more than 100 ratings are included."
   ]
  },
  {
   "cell_type": "code",
   "execution_count": 12,
   "metadata": {
    "colab": {
     "base_uri": "https://localhost:8080/"
    },
    "id": "DjBAkBqL1coX",
    "outputId": "e0579636-8180-406b-c859-227f99ca1272"
   },
   "outputs": [
    {
     "name": "stdout",
     "output_type": "stream",
     "text": [
      "<class 'pandas.core.frame.DataFrame'>\n",
      "RangeIndex: 19788 entries, 0 to 19787\n",
      "Data columns (total 6 columns):\n",
      " #   Column     Non-Null Count  Dtype  \n",
      "---  ------     --------------  -----  \n",
      " 0   userId     19788 non-null  int64  \n",
      " 1   movieId    19788 non-null  int64  \n",
      " 2   rating     19788 non-null  float64\n",
      " 3   timestamp  19788 non-null  int64  \n",
      " 4   title      19788 non-null  object \n",
      " 5   genres     19788 non-null  object \n",
      "dtypes: float64(1), int64(3), object(2)\n",
      "memory usage: 927.7+ KB\n"
     ]
    }
   ],
   "source": [
    "# Merge data\n",
    "df_GT100 = pd.merge(df, agg_ratings_GT100[[\"title\"]], on=\"title\", how=\"inner\")\n",
    "df_GT100.info()"
   ]
  },
  {
   "cell_type": "markdown",
   "metadata": {
    "id": "2zMd7DpI0IAD"
   },
   "source": [
    "After filtering the movies with over 100 ratings, we have 597 users that rated 134 movies."
   ]
  },
  {
   "cell_type": "code",
   "execution_count": 15,
   "metadata": {
    "colab": {
     "base_uri": "https://localhost:8080/"
    },
    "id": "c4sOcbQLJkpH",
    "outputId": "787022cd-3fc2-41ce-f802-372c57906956"
   },
   "outputs": [
    {
     "name": "stdout",
     "output_type": "stream",
     "text": [
      "The ratings dataset has 597 unique users\n",
      "The ratings dataset has 134 unique movies\n",
      "The ratings dataset has 10 unique ratings\n",
      "The unique ratings are [0.5, 1.0, 1.5, 2.0, 2.5, 3.0, 3.5, 4.0, 4.5, 5.0]\n"
     ]
    }
   ],
   "source": [
    "# Number of users\n",
    "print(\"The ratings dataset has\", df_GT100[\"userId\"].nunique(), \"unique users\")\n",
    "\n",
    "# Number of movies\n",
    "print(\"The ratings dataset has\", df_GT100[\"movieId\"].nunique(), \"unique movies\")\n",
    "\n",
    "# Number of ratings\n",
    "print(\"The ratings dataset has\", df_GT100[\"rating\"].nunique(), \"unique ratings\")\n",
    "\n",
    "# List of unique ratings\n",
    "print(\"The unique ratings are\", sorted(df_GT100[\"rating\"].unique()))"
   ]
  },
  {
   "cell_type": "markdown",
   "metadata": {
    "id": "c5MS5A5mrWDb"
   },
   "source": [
    "# Step 4: Create User-Movie Matrix"
   ]
  },
  {
   "cell_type": "markdown",
   "metadata": {
    "id": "pVfNEoBGGBkT"
   },
   "source": [
    "In step 4, we will transform the dataset into a matrix format. The rows of the matrix are movies, and the columns of the matrix are users. The value of the matrix is the user rating of the movie if there is a rating. Otherwise, it shows 'NaN'."
   ]
  },
  {
   "cell_type": "code",
   "execution_count": 16,
   "metadata": {
    "colab": {
     "base_uri": "https://localhost:8080/",
     "height": 504
    },
    "id": "KySPgXj6wRmh",
    "outputId": "397978f3-b4ba-4704-9c55-f2452b83b5af"
   },
   "outputs": [
    {
     "data": {
      "text/html": [
       "<div>\n",
       "<style scoped>\n",
       "    .dataframe tbody tr th:only-of-type {\n",
       "        vertical-align: middle;\n",
       "    }\n",
       "\n",
       "    .dataframe tbody tr th {\n",
       "        vertical-align: top;\n",
       "    }\n",
       "\n",
       "    .dataframe thead th {\n",
       "        text-align: right;\n",
       "    }\n",
       "</style>\n",
       "<table border=\"1\" class=\"dataframe\">\n",
       "  <thead>\n",
       "    <tr style=\"text-align: right;\">\n",
       "      <th>userId</th>\n",
       "      <th>1</th>\n",
       "      <th>2</th>\n",
       "      <th>3</th>\n",
       "      <th>4</th>\n",
       "      <th>5</th>\n",
       "      <th>6</th>\n",
       "      <th>7</th>\n",
       "      <th>8</th>\n",
       "      <th>9</th>\n",
       "      <th>10</th>\n",
       "      <th>...</th>\n",
       "      <th>601</th>\n",
       "      <th>602</th>\n",
       "      <th>603</th>\n",
       "      <th>604</th>\n",
       "      <th>605</th>\n",
       "      <th>606</th>\n",
       "      <th>607</th>\n",
       "      <th>608</th>\n",
       "      <th>609</th>\n",
       "      <th>610</th>\n",
       "    </tr>\n",
       "    <tr>\n",
       "      <th>title</th>\n",
       "      <th></th>\n",
       "      <th></th>\n",
       "      <th></th>\n",
       "      <th></th>\n",
       "      <th></th>\n",
       "      <th></th>\n",
       "      <th></th>\n",
       "      <th></th>\n",
       "      <th></th>\n",
       "      <th></th>\n",
       "      <th></th>\n",
       "      <th></th>\n",
       "      <th></th>\n",
       "      <th></th>\n",
       "      <th></th>\n",
       "      <th></th>\n",
       "      <th></th>\n",
       "      <th></th>\n",
       "      <th></th>\n",
       "      <th></th>\n",
       "      <th></th>\n",
       "    </tr>\n",
       "  </thead>\n",
       "  <tbody>\n",
       "    <tr>\n",
       "      <th>2001: A Space Odyssey (1968)</th>\n",
       "      <td>NaN</td>\n",
       "      <td>NaN</td>\n",
       "      <td>NaN</td>\n",
       "      <td>NaN</td>\n",
       "      <td>NaN</td>\n",
       "      <td>NaN</td>\n",
       "      <td>4.0</td>\n",
       "      <td>NaN</td>\n",
       "      <td>NaN</td>\n",
       "      <td>NaN</td>\n",
       "      <td>...</td>\n",
       "      <td>NaN</td>\n",
       "      <td>NaN</td>\n",
       "      <td>5.0</td>\n",
       "      <td>NaN</td>\n",
       "      <td>NaN</td>\n",
       "      <td>5.0</td>\n",
       "      <td>NaN</td>\n",
       "      <td>3.0</td>\n",
       "      <td>NaN</td>\n",
       "      <td>4.5</td>\n",
       "    </tr>\n",
       "    <tr>\n",
       "      <th>Ace Ventura: Pet Detective (1994)</th>\n",
       "      <td>NaN</td>\n",
       "      <td>NaN</td>\n",
       "      <td>NaN</td>\n",
       "      <td>NaN</td>\n",
       "      <td>3.0</td>\n",
       "      <td>3.0</td>\n",
       "      <td>NaN</td>\n",
       "      <td>NaN</td>\n",
       "      <td>NaN</td>\n",
       "      <td>NaN</td>\n",
       "      <td>...</td>\n",
       "      <td>NaN</td>\n",
       "      <td>2.0</td>\n",
       "      <td>NaN</td>\n",
       "      <td>2.0</td>\n",
       "      <td>NaN</td>\n",
       "      <td>NaN</td>\n",
       "      <td>NaN</td>\n",
       "      <td>3.5</td>\n",
       "      <td>NaN</td>\n",
       "      <td>3.0</td>\n",
       "    </tr>\n",
       "    <tr>\n",
       "      <th>Aladdin (1992)</th>\n",
       "      <td>NaN</td>\n",
       "      <td>NaN</td>\n",
       "      <td>NaN</td>\n",
       "      <td>4.0</td>\n",
       "      <td>4.0</td>\n",
       "      <td>5.0</td>\n",
       "      <td>3.0</td>\n",
       "      <td>NaN</td>\n",
       "      <td>NaN</td>\n",
       "      <td>4.0</td>\n",
       "      <td>...</td>\n",
       "      <td>NaN</td>\n",
       "      <td>NaN</td>\n",
       "      <td>NaN</td>\n",
       "      <td>3.0</td>\n",
       "      <td>3.5</td>\n",
       "      <td>NaN</td>\n",
       "      <td>NaN</td>\n",
       "      <td>3.0</td>\n",
       "      <td>NaN</td>\n",
       "      <td>NaN</td>\n",
       "    </tr>\n",
       "    <tr>\n",
       "      <th>Alien (1979)</th>\n",
       "      <td>4.0</td>\n",
       "      <td>NaN</td>\n",
       "      <td>NaN</td>\n",
       "      <td>NaN</td>\n",
       "      <td>NaN</td>\n",
       "      <td>NaN</td>\n",
       "      <td>NaN</td>\n",
       "      <td>NaN</td>\n",
       "      <td>NaN</td>\n",
       "      <td>NaN</td>\n",
       "      <td>...</td>\n",
       "      <td>NaN</td>\n",
       "      <td>NaN</td>\n",
       "      <td>5.0</td>\n",
       "      <td>NaN</td>\n",
       "      <td>NaN</td>\n",
       "      <td>4.0</td>\n",
       "      <td>3.0</td>\n",
       "      <td>4.0</td>\n",
       "      <td>NaN</td>\n",
       "      <td>4.5</td>\n",
       "    </tr>\n",
       "    <tr>\n",
       "      <th>Aliens (1986)</th>\n",
       "      <td>NaN</td>\n",
       "      <td>NaN</td>\n",
       "      <td>NaN</td>\n",
       "      <td>NaN</td>\n",
       "      <td>NaN</td>\n",
       "      <td>NaN</td>\n",
       "      <td>NaN</td>\n",
       "      <td>NaN</td>\n",
       "      <td>NaN</td>\n",
       "      <td>NaN</td>\n",
       "      <td>...</td>\n",
       "      <td>NaN</td>\n",
       "      <td>NaN</td>\n",
       "      <td>4.0</td>\n",
       "      <td>NaN</td>\n",
       "      <td>NaN</td>\n",
       "      <td>3.5</td>\n",
       "      <td>NaN</td>\n",
       "      <td>4.5</td>\n",
       "      <td>NaN</td>\n",
       "      <td>5.0</td>\n",
       "    </tr>\n",
       "  </tbody>\n",
       "</table>\n",
       "<p>5 rows × 597 columns</p>\n",
       "</div>"
      ],
      "text/plain": [
       "userId                             1    2    3    4    5    6    7    8    \\\n",
       "title                                                                       \n",
       "2001: A Space Odyssey (1968)       NaN  NaN  NaN  NaN  NaN  NaN  4.0  NaN   \n",
       "Ace Ventura: Pet Detective (1994)  NaN  NaN  NaN  NaN  3.0  3.0  NaN  NaN   \n",
       "Aladdin (1992)                     NaN  NaN  NaN  4.0  4.0  5.0  3.0  NaN   \n",
       "Alien (1979)                       4.0  NaN  NaN  NaN  NaN  NaN  NaN  NaN   \n",
       "Aliens (1986)                      NaN  NaN  NaN  NaN  NaN  NaN  NaN  NaN   \n",
       "\n",
       "userId                             9    10   ...  601  602  603  604  605  \\\n",
       "title                                        ...                            \n",
       "2001: A Space Odyssey (1968)       NaN  NaN  ...  NaN  NaN  5.0  NaN  NaN   \n",
       "Ace Ventura: Pet Detective (1994)  NaN  NaN  ...  NaN  2.0  NaN  2.0  NaN   \n",
       "Aladdin (1992)                     NaN  4.0  ...  NaN  NaN  NaN  3.0  3.5   \n",
       "Alien (1979)                       NaN  NaN  ...  NaN  NaN  5.0  NaN  NaN   \n",
       "Aliens (1986)                      NaN  NaN  ...  NaN  NaN  4.0  NaN  NaN   \n",
       "\n",
       "userId                             606  607  608  609  610  \n",
       "title                                                       \n",
       "2001: A Space Odyssey (1968)       5.0  NaN  3.0  NaN  4.5  \n",
       "Ace Ventura: Pet Detective (1994)  NaN  NaN  3.5  NaN  3.0  \n",
       "Aladdin (1992)                     NaN  NaN  3.0  NaN  NaN  \n",
       "Alien (1979)                       4.0  3.0  4.0  NaN  4.5  \n",
       "Aliens (1986)                      3.5  NaN  4.5  NaN  5.0  \n",
       "\n",
       "[5 rows x 597 columns]"
      ]
     },
     "execution_count": 16,
     "metadata": {},
     "output_type": "execute_result"
    }
   ],
   "source": [
    "# Create user-item matrix\n",
    "matrix = df_GT100.pivot_table(index=\"title\", columns=\"userId\", values=\"rating\")\n",
    "matrix.head()"
   ]
  },
  {
   "cell_type": "markdown",
   "metadata": {
    "id": "wuM7ChbWxXKY"
   },
   "source": [
    "# Step 5: Data Normalization"
   ]
  },
  {
   "cell_type": "markdown",
   "metadata": {
    "id": "DXMTp-zGHfTf"
   },
   "source": [
    "In Step 5, we will normalize the data by subtracting the average rating of each movie. The cosine similarity calculated based on the normalized data is called mean-centered cosine similarity.\n",
    "\n",
    "After normalization, the ratings less than the movie's average rating get a negative value, and the ratings more than the movie's average rating get a positive value."
   ]
  },
  {
   "cell_type": "code",
   "execution_count": 17,
   "metadata": {
    "colab": {
     "base_uri": "https://localhost:8080/",
     "height": 504
    },
    "id": "bouLA2wixGWT",
    "outputId": "b480aeff-bb1d-408d-fe82-f10fa26aca14"
   },
   "outputs": [
    {
     "data": {
      "text/html": [
       "<div>\n",
       "<style scoped>\n",
       "    .dataframe tbody tr th:only-of-type {\n",
       "        vertical-align: middle;\n",
       "    }\n",
       "\n",
       "    .dataframe tbody tr th {\n",
       "        vertical-align: top;\n",
       "    }\n",
       "\n",
       "    .dataframe thead th {\n",
       "        text-align: right;\n",
       "    }\n",
       "</style>\n",
       "<table border=\"1\" class=\"dataframe\">\n",
       "  <thead>\n",
       "    <tr style=\"text-align: right;\">\n",
       "      <th>userId</th>\n",
       "      <th>1</th>\n",
       "      <th>2</th>\n",
       "      <th>3</th>\n",
       "      <th>4</th>\n",
       "      <th>5</th>\n",
       "      <th>6</th>\n",
       "      <th>7</th>\n",
       "      <th>8</th>\n",
       "      <th>9</th>\n",
       "      <th>10</th>\n",
       "      <th>...</th>\n",
       "      <th>601</th>\n",
       "      <th>602</th>\n",
       "      <th>603</th>\n",
       "      <th>604</th>\n",
       "      <th>605</th>\n",
       "      <th>606</th>\n",
       "      <th>607</th>\n",
       "      <th>608</th>\n",
       "      <th>609</th>\n",
       "      <th>610</th>\n",
       "    </tr>\n",
       "    <tr>\n",
       "      <th>title</th>\n",
       "      <th></th>\n",
       "      <th></th>\n",
       "      <th></th>\n",
       "      <th></th>\n",
       "      <th></th>\n",
       "      <th></th>\n",
       "      <th></th>\n",
       "      <th></th>\n",
       "      <th></th>\n",
       "      <th></th>\n",
       "      <th></th>\n",
       "      <th></th>\n",
       "      <th></th>\n",
       "      <th></th>\n",
       "      <th></th>\n",
       "      <th></th>\n",
       "      <th></th>\n",
       "      <th></th>\n",
       "      <th></th>\n",
       "      <th></th>\n",
       "      <th></th>\n",
       "    </tr>\n",
       "  </thead>\n",
       "  <tbody>\n",
       "    <tr>\n",
       "      <th>2001: A Space Odyssey (1968)</th>\n",
       "      <td>NaN</td>\n",
       "      <td>NaN</td>\n",
       "      <td>NaN</td>\n",
       "      <td>NaN</td>\n",
       "      <td>NaN</td>\n",
       "      <td>NaN</td>\n",
       "      <td>0.105505</td>\n",
       "      <td>NaN</td>\n",
       "      <td>NaN</td>\n",
       "      <td>NaN</td>\n",
       "      <td>...</td>\n",
       "      <td>NaN</td>\n",
       "      <td>NaN</td>\n",
       "      <td>1.105505</td>\n",
       "      <td>NaN</td>\n",
       "      <td>NaN</td>\n",
       "      <td>1.105505</td>\n",
       "      <td>NaN</td>\n",
       "      <td>-0.894495</td>\n",
       "      <td>NaN</td>\n",
       "      <td>0.605505</td>\n",
       "    </tr>\n",
       "    <tr>\n",
       "      <th>Ace Ventura: Pet Detective (1994)</th>\n",
       "      <td>NaN</td>\n",
       "      <td>NaN</td>\n",
       "      <td>NaN</td>\n",
       "      <td>NaN</td>\n",
       "      <td>-0.040373</td>\n",
       "      <td>-0.040373</td>\n",
       "      <td>NaN</td>\n",
       "      <td>NaN</td>\n",
       "      <td>NaN</td>\n",
       "      <td>NaN</td>\n",
       "      <td>...</td>\n",
       "      <td>NaN</td>\n",
       "      <td>-1.040373</td>\n",
       "      <td>NaN</td>\n",
       "      <td>-1.040373</td>\n",
       "      <td>NaN</td>\n",
       "      <td>NaN</td>\n",
       "      <td>NaN</td>\n",
       "      <td>0.459627</td>\n",
       "      <td>NaN</td>\n",
       "      <td>-0.040373</td>\n",
       "    </tr>\n",
       "    <tr>\n",
       "      <th>Aladdin (1992)</th>\n",
       "      <td>NaN</td>\n",
       "      <td>NaN</td>\n",
       "      <td>NaN</td>\n",
       "      <td>0.20765</td>\n",
       "      <td>0.207650</td>\n",
       "      <td>1.207650</td>\n",
       "      <td>-0.792350</td>\n",
       "      <td>NaN</td>\n",
       "      <td>NaN</td>\n",
       "      <td>0.20765</td>\n",
       "      <td>...</td>\n",
       "      <td>NaN</td>\n",
       "      <td>NaN</td>\n",
       "      <td>NaN</td>\n",
       "      <td>-0.792350</td>\n",
       "      <td>-0.29235</td>\n",
       "      <td>NaN</td>\n",
       "      <td>NaN</td>\n",
       "      <td>-0.792350</td>\n",
       "      <td>NaN</td>\n",
       "      <td>NaN</td>\n",
       "    </tr>\n",
       "    <tr>\n",
       "      <th>Alien (1979)</th>\n",
       "      <td>0.030822</td>\n",
       "      <td>NaN</td>\n",
       "      <td>NaN</td>\n",
       "      <td>NaN</td>\n",
       "      <td>NaN</td>\n",
       "      <td>NaN</td>\n",
       "      <td>NaN</td>\n",
       "      <td>NaN</td>\n",
       "      <td>NaN</td>\n",
       "      <td>NaN</td>\n",
       "      <td>...</td>\n",
       "      <td>NaN</td>\n",
       "      <td>NaN</td>\n",
       "      <td>1.030822</td>\n",
       "      <td>NaN</td>\n",
       "      <td>NaN</td>\n",
       "      <td>0.030822</td>\n",
       "      <td>-0.969178</td>\n",
       "      <td>0.030822</td>\n",
       "      <td>NaN</td>\n",
       "      <td>0.530822</td>\n",
       "    </tr>\n",
       "    <tr>\n",
       "      <th>Aliens (1986)</th>\n",
       "      <td>NaN</td>\n",
       "      <td>NaN</td>\n",
       "      <td>NaN</td>\n",
       "      <td>NaN</td>\n",
       "      <td>NaN</td>\n",
       "      <td>NaN</td>\n",
       "      <td>NaN</td>\n",
       "      <td>NaN</td>\n",
       "      <td>NaN</td>\n",
       "      <td>NaN</td>\n",
       "      <td>...</td>\n",
       "      <td>NaN</td>\n",
       "      <td>NaN</td>\n",
       "      <td>0.035714</td>\n",
       "      <td>NaN</td>\n",
       "      <td>NaN</td>\n",
       "      <td>-0.464286</td>\n",
       "      <td>NaN</td>\n",
       "      <td>0.535714</td>\n",
       "      <td>NaN</td>\n",
       "      <td>1.035714</td>\n",
       "    </tr>\n",
       "  </tbody>\n",
       "</table>\n",
       "<p>5 rows × 597 columns</p>\n",
       "</div>"
      ],
      "text/plain": [
       "userId                                  1    2    3        4         5    \\\n",
       "title                                                                      \n",
       "2001: A Space Odyssey (1968)            NaN  NaN  NaN      NaN       NaN   \n",
       "Ace Ventura: Pet Detective (1994)       NaN  NaN  NaN      NaN -0.040373   \n",
       "Aladdin (1992)                          NaN  NaN  NaN  0.20765  0.207650   \n",
       "Alien (1979)                       0.030822  NaN  NaN      NaN       NaN   \n",
       "Aliens (1986)                           NaN  NaN  NaN      NaN       NaN   \n",
       "\n",
       "userId                                  6         7    8    9        10   ...  \\\n",
       "title                                                                     ...   \n",
       "2001: A Space Odyssey (1968)            NaN  0.105505  NaN  NaN      NaN  ...   \n",
       "Ace Ventura: Pet Detective (1994) -0.040373       NaN  NaN  NaN      NaN  ...   \n",
       "Aladdin (1992)                     1.207650 -0.792350  NaN  NaN  0.20765  ...   \n",
       "Alien (1979)                            NaN       NaN  NaN  NaN      NaN  ...   \n",
       "Aliens (1986)                           NaN       NaN  NaN  NaN      NaN  ...   \n",
       "\n",
       "userId                             601       602       603       604      605  \\\n",
       "title                                                                           \n",
       "2001: A Space Odyssey (1968)       NaN       NaN  1.105505       NaN      NaN   \n",
       "Ace Ventura: Pet Detective (1994)  NaN -1.040373       NaN -1.040373      NaN   \n",
       "Aladdin (1992)                     NaN       NaN       NaN -0.792350 -0.29235   \n",
       "Alien (1979)                       NaN       NaN  1.030822       NaN      NaN   \n",
       "Aliens (1986)                      NaN       NaN  0.035714       NaN      NaN   \n",
       "\n",
       "userId                                  606       607       608  609       610  \n",
       "title                                                                           \n",
       "2001: A Space Odyssey (1968)       1.105505       NaN -0.894495  NaN  0.605505  \n",
       "Ace Ventura: Pet Detective (1994)       NaN       NaN  0.459627  NaN -0.040373  \n",
       "Aladdin (1992)                          NaN       NaN -0.792350  NaN       NaN  \n",
       "Alien (1979)                       0.030822 -0.969178  0.030822  NaN  0.530822  \n",
       "Aliens (1986)                     -0.464286       NaN  0.535714  NaN  1.035714  \n",
       "\n",
       "[5 rows x 597 columns]"
      ]
     },
     "execution_count": 17,
     "metadata": {},
     "output_type": "execute_result"
    }
   ],
   "source": [
    "# Normalize user-item matrix\n",
    "matrix_norm = matrix.subtract(matrix.mean(axis=1), axis=0)\n",
    "matrix_norm.head()"
   ]
  },
  {
   "cell_type": "markdown",
   "metadata": {
    "id": "PwU9xz1Q3sQl"
   },
   "source": [
    "# Step 6: Calculate Similarity Score"
   ]
  },
  {
   "cell_type": "markdown",
   "metadata": {
    "id": "jcGz5l_DJhoG"
   },
   "source": [
    "There are different ways to measure similarities. Pearson correlation and cosine similarity are two widely used methods.\n",
    "\n",
    "In this tutorial, we will calculate the item similarity matrix using Pearson correlation."
   ]
  },
  {
   "cell_type": "code",
   "execution_count": 18,
   "metadata": {
    "colab": {
     "base_uri": "https://localhost:8080/",
     "height": 678
    },
    "id": "1Zo4UEFWJVyt",
    "outputId": "4c514bb6-00f4-4191-937a-865e107a64f9"
   },
   "outputs": [
    {
     "data": {
      "text/html": [
       "<div>\n",
       "<style scoped>\n",
       "    .dataframe tbody tr th:only-of-type {\n",
       "        vertical-align: middle;\n",
       "    }\n",
       "\n",
       "    .dataframe tbody tr th {\n",
       "        vertical-align: top;\n",
       "    }\n",
       "\n",
       "    .dataframe thead th {\n",
       "        text-align: right;\n",
       "    }\n",
       "</style>\n",
       "<table border=\"1\" class=\"dataframe\">\n",
       "  <thead>\n",
       "    <tr style=\"text-align: right;\">\n",
       "      <th>title</th>\n",
       "      <th>2001: A Space Odyssey (1968)</th>\n",
       "      <th>Ace Ventura: Pet Detective (1994)</th>\n",
       "      <th>Aladdin (1992)</th>\n",
       "      <th>Alien (1979)</th>\n",
       "      <th>Aliens (1986)</th>\n",
       "      <th>Amelie (Fabuleux destin d'Amélie Poulain, Le) (2001)</th>\n",
       "      <th>American Beauty (1999)</th>\n",
       "      <th>American History X (1998)</th>\n",
       "      <th>American Pie (1999)</th>\n",
       "      <th>Apocalypse Now (1979)</th>\n",
       "      <th>...</th>\n",
       "      <th>True Lies (1994)</th>\n",
       "      <th>Truman Show, The (1998)</th>\n",
       "      <th>Twelve Monkeys (a.k.a. 12 Monkeys) (1995)</th>\n",
       "      <th>Twister (1996)</th>\n",
       "      <th>Up (2009)</th>\n",
       "      <th>Usual Suspects, The (1995)</th>\n",
       "      <th>WALL·E (2008)</th>\n",
       "      <th>Waterworld (1995)</th>\n",
       "      <th>Willy Wonka &amp; the Chocolate Factory (1971)</th>\n",
       "      <th>X-Men (2000)</th>\n",
       "    </tr>\n",
       "    <tr>\n",
       "      <th>title</th>\n",
       "      <th></th>\n",
       "      <th></th>\n",
       "      <th></th>\n",
       "      <th></th>\n",
       "      <th></th>\n",
       "      <th></th>\n",
       "      <th></th>\n",
       "      <th></th>\n",
       "      <th></th>\n",
       "      <th></th>\n",
       "      <th></th>\n",
       "      <th></th>\n",
       "      <th></th>\n",
       "      <th></th>\n",
       "      <th></th>\n",
       "      <th></th>\n",
       "      <th></th>\n",
       "      <th></th>\n",
       "      <th></th>\n",
       "      <th></th>\n",
       "      <th></th>\n",
       "    </tr>\n",
       "  </thead>\n",
       "  <tbody>\n",
       "    <tr>\n",
       "      <th>2001: A Space Odyssey (1968)</th>\n",
       "      <td>1.000000</td>\n",
       "      <td>-0.036319</td>\n",
       "      <td>0.017446</td>\n",
       "      <td>0.318523</td>\n",
       "      <td>0.317386</td>\n",
       "      <td>0.324150</td>\n",
       "      <td>0.193592</td>\n",
       "      <td>0.152405</td>\n",
       "      <td>0.011490</td>\n",
       "      <td>0.478877</td>\n",
       "      <td>...</td>\n",
       "      <td>-0.108291</td>\n",
       "      <td>-0.012451</td>\n",
       "      <td>-0.041791</td>\n",
       "      <td>-0.458642</td>\n",
       "      <td>0.152271</td>\n",
       "      <td>0.245279</td>\n",
       "      <td>0.100172</td>\n",
       "      <td>-0.447306</td>\n",
       "      <td>0.087803</td>\n",
       "      <td>-0.123862</td>\n",
       "    </tr>\n",
       "    <tr>\n",
       "      <th>Ace Ventura: Pet Detective (1994)</th>\n",
       "      <td>-0.036319</td>\n",
       "      <td>1.000000</td>\n",
       "      <td>0.302193</td>\n",
       "      <td>-0.208017</td>\n",
       "      <td>-0.107524</td>\n",
       "      <td>-0.030425</td>\n",
       "      <td>0.040435</td>\n",
       "      <td>0.065549</td>\n",
       "      <td>0.173855</td>\n",
       "      <td>0.245829</td>\n",
       "      <td>...</td>\n",
       "      <td>0.139896</td>\n",
       "      <td>0.188089</td>\n",
       "      <td>0.054408</td>\n",
       "      <td>0.176930</td>\n",
       "      <td>-0.007853</td>\n",
       "      <td>-0.061520</td>\n",
       "      <td>0.170717</td>\n",
       "      <td>0.176155</td>\n",
       "      <td>0.051239</td>\n",
       "      <td>0.045676</td>\n",
       "    </tr>\n",
       "    <tr>\n",
       "      <th>Aladdin (1992)</th>\n",
       "      <td>0.017446</td>\n",
       "      <td>0.302193</td>\n",
       "      <td>1.000000</td>\n",
       "      <td>0.026514</td>\n",
       "      <td>0.151152</td>\n",
       "      <td>0.445204</td>\n",
       "      <td>0.127764</td>\n",
       "      <td>0.262014</td>\n",
       "      <td>0.367076</td>\n",
       "      <td>0.015038</td>\n",
       "      <td>...</td>\n",
       "      <td>0.333687</td>\n",
       "      <td>0.562311</td>\n",
       "      <td>-0.069176</td>\n",
       "      <td>0.137215</td>\n",
       "      <td>0.171330</td>\n",
       "      <td>0.153934</td>\n",
       "      <td>0.272375</td>\n",
       "      <td>0.065342</td>\n",
       "      <td>0.164459</td>\n",
       "      <td>0.285480</td>\n",
       "    </tr>\n",
       "    <tr>\n",
       "      <th>Alien (1979)</th>\n",
       "      <td>0.318523</td>\n",
       "      <td>-0.208017</td>\n",
       "      <td>0.026514</td>\n",
       "      <td>1.000000</td>\n",
       "      <td>0.705925</td>\n",
       "      <td>0.387215</td>\n",
       "      <td>0.215751</td>\n",
       "      <td>0.035373</td>\n",
       "      <td>-0.006804</td>\n",
       "      <td>0.378709</td>\n",
       "      <td>...</td>\n",
       "      <td>0.199538</td>\n",
       "      <td>0.178620</td>\n",
       "      <td>0.108327</td>\n",
       "      <td>0.022007</td>\n",
       "      <td>-0.098813</td>\n",
       "      <td>0.350428</td>\n",
       "      <td>0.270697</td>\n",
       "      <td>0.119849</td>\n",
       "      <td>0.117749</td>\n",
       "      <td>0.030257</td>\n",
       "    </tr>\n",
       "    <tr>\n",
       "      <th>Aliens (1986)</th>\n",
       "      <td>0.317386</td>\n",
       "      <td>-0.107524</td>\n",
       "      <td>0.151152</td>\n",
       "      <td>0.705925</td>\n",
       "      <td>1.000000</td>\n",
       "      <td>0.540458</td>\n",
       "      <td>0.111452</td>\n",
       "      <td>0.139326</td>\n",
       "      <td>0.076674</td>\n",
       "      <td>0.221920</td>\n",
       "      <td>...</td>\n",
       "      <td>0.369971</td>\n",
       "      <td>0.287243</td>\n",
       "      <td>0.084792</td>\n",
       "      <td>0.092412</td>\n",
       "      <td>0.195581</td>\n",
       "      <td>0.296933</td>\n",
       "      <td>0.294852</td>\n",
       "      <td>-0.014274</td>\n",
       "      <td>0.111864</td>\n",
       "      <td>0.225923</td>\n",
       "    </tr>\n",
       "  </tbody>\n",
       "</table>\n",
       "<p>5 rows × 134 columns</p>\n",
       "</div>"
      ],
      "text/plain": [
       "title                              2001: A Space Odyssey (1968)  \\\n",
       "title                                                             \n",
       "2001: A Space Odyssey (1968)                           1.000000   \n",
       "Ace Ventura: Pet Detective (1994)                     -0.036319   \n",
       "Aladdin (1992)                                         0.017446   \n",
       "Alien (1979)                                           0.318523   \n",
       "Aliens (1986)                                          0.317386   \n",
       "\n",
       "title                              Ace Ventura: Pet Detective (1994)  \\\n",
       "title                                                                  \n",
       "2001: A Space Odyssey (1968)                               -0.036319   \n",
       "Ace Ventura: Pet Detective (1994)                           1.000000   \n",
       "Aladdin (1992)                                              0.302193   \n",
       "Alien (1979)                                               -0.208017   \n",
       "Aliens (1986)                                              -0.107524   \n",
       "\n",
       "title                              Aladdin (1992)  Alien (1979)  \\\n",
       "title                                                             \n",
       "2001: A Space Odyssey (1968)             0.017446      0.318523   \n",
       "Ace Ventura: Pet Detective (1994)        0.302193     -0.208017   \n",
       "Aladdin (1992)                           1.000000      0.026514   \n",
       "Alien (1979)                             0.026514      1.000000   \n",
       "Aliens (1986)                            0.151152      0.705925   \n",
       "\n",
       "title                              Aliens (1986)  \\\n",
       "title                                              \n",
       "2001: A Space Odyssey (1968)            0.317386   \n",
       "Ace Ventura: Pet Detective (1994)      -0.107524   \n",
       "Aladdin (1992)                          0.151152   \n",
       "Alien (1979)                            0.705925   \n",
       "Aliens (1986)                           1.000000   \n",
       "\n",
       "title                              Amelie (Fabuleux destin d'Amélie Poulain, Le) (2001)  \\\n",
       "title                                                                                     \n",
       "2001: A Space Odyssey (1968)                                                0.324150      \n",
       "Ace Ventura: Pet Detective (1994)                                          -0.030425      \n",
       "Aladdin (1992)                                                              0.445204      \n",
       "Alien (1979)                                                                0.387215      \n",
       "Aliens (1986)                                                               0.540458      \n",
       "\n",
       "title                              American Beauty (1999)  \\\n",
       "title                                                       \n",
       "2001: A Space Odyssey (1968)                     0.193592   \n",
       "Ace Ventura: Pet Detective (1994)                0.040435   \n",
       "Aladdin (1992)                                   0.127764   \n",
       "Alien (1979)                                     0.215751   \n",
       "Aliens (1986)                                    0.111452   \n",
       "\n",
       "title                              American History X (1998)  \\\n",
       "title                                                          \n",
       "2001: A Space Odyssey (1968)                        0.152405   \n",
       "Ace Ventura: Pet Detective (1994)                   0.065549   \n",
       "Aladdin (1992)                                      0.262014   \n",
       "Alien (1979)                                        0.035373   \n",
       "Aliens (1986)                                       0.139326   \n",
       "\n",
       "title                              American Pie (1999)  Apocalypse Now (1979)  \\\n",
       "title                                                                           \n",
       "2001: A Space Odyssey (1968)                  0.011490               0.478877   \n",
       "Ace Ventura: Pet Detective (1994)             0.173855               0.245829   \n",
       "Aladdin (1992)                                0.367076               0.015038   \n",
       "Alien (1979)                                 -0.006804               0.378709   \n",
       "Aliens (1986)                                 0.076674               0.221920   \n",
       "\n",
       "title                              ...  True Lies (1994)  \\\n",
       "title                              ...                     \n",
       "2001: A Space Odyssey (1968)       ...         -0.108291   \n",
       "Ace Ventura: Pet Detective (1994)  ...          0.139896   \n",
       "Aladdin (1992)                     ...          0.333687   \n",
       "Alien (1979)                       ...          0.199538   \n",
       "Aliens (1986)                      ...          0.369971   \n",
       "\n",
       "title                              Truman Show, The (1998)  \\\n",
       "title                                                        \n",
       "2001: A Space Odyssey (1968)                     -0.012451   \n",
       "Ace Ventura: Pet Detective (1994)                 0.188089   \n",
       "Aladdin (1992)                                    0.562311   \n",
       "Alien (1979)                                      0.178620   \n",
       "Aliens (1986)                                     0.287243   \n",
       "\n",
       "title                              Twelve Monkeys (a.k.a. 12 Monkeys) (1995)  \\\n",
       "title                                                                          \n",
       "2001: A Space Odyssey (1968)                                       -0.041791   \n",
       "Ace Ventura: Pet Detective (1994)                                   0.054408   \n",
       "Aladdin (1992)                                                     -0.069176   \n",
       "Alien (1979)                                                        0.108327   \n",
       "Aliens (1986)                                                       0.084792   \n",
       "\n",
       "title                              Twister (1996)  Up (2009)  \\\n",
       "title                                                          \n",
       "2001: A Space Odyssey (1968)            -0.458642   0.152271   \n",
       "Ace Ventura: Pet Detective (1994)        0.176930  -0.007853   \n",
       "Aladdin (1992)                           0.137215   0.171330   \n",
       "Alien (1979)                             0.022007  -0.098813   \n",
       "Aliens (1986)                            0.092412   0.195581   \n",
       "\n",
       "title                              Usual Suspects, The (1995)  WALL·E (2008)  \\\n",
       "title                                                                          \n",
       "2001: A Space Odyssey (1968)                         0.245279       0.100172   \n",
       "Ace Ventura: Pet Detective (1994)                   -0.061520       0.170717   \n",
       "Aladdin (1992)                                       0.153934       0.272375   \n",
       "Alien (1979)                                         0.350428       0.270697   \n",
       "Aliens (1986)                                        0.296933       0.294852   \n",
       "\n",
       "title                              Waterworld (1995)  \\\n",
       "title                                                  \n",
       "2001: A Space Odyssey (1968)               -0.447306   \n",
       "Ace Ventura: Pet Detective (1994)           0.176155   \n",
       "Aladdin (1992)                              0.065342   \n",
       "Alien (1979)                                0.119849   \n",
       "Aliens (1986)                              -0.014274   \n",
       "\n",
       "title                              Willy Wonka & the Chocolate Factory (1971)  \\\n",
       "title                                                                           \n",
       "2001: A Space Odyssey (1968)                                         0.087803   \n",
       "Ace Ventura: Pet Detective (1994)                                    0.051239   \n",
       "Aladdin (1992)                                                       0.164459   \n",
       "Alien (1979)                                                         0.117749   \n",
       "Aliens (1986)                                                        0.111864   \n",
       "\n",
       "title                              X-Men (2000)  \n",
       "title                                            \n",
       "2001: A Space Odyssey (1968)          -0.123862  \n",
       "Ace Ventura: Pet Detective (1994)      0.045676  \n",
       "Aladdin (1992)                         0.285480  \n",
       "Alien (1979)                           0.030257  \n",
       "Aliens (1986)                          0.225923  \n",
       "\n",
       "[5 rows x 134 columns]"
      ]
     },
     "execution_count": 18,
     "metadata": {},
     "output_type": "execute_result"
    }
   ],
   "source": [
    "# Item similarity matrix using Pearson correlation\n",
    "item_similarity = matrix_norm.T.corr()\n",
    "item_similarity.head()"
   ]
  },
  {
   "cell_type": "markdown",
   "metadata": {
    "id": "OiqZyek3LpYL"
   },
   "source": [
    "Those who are interested in using cosine similarity can refer to this code. Since `cosine_similarity` does not take missing values, we need to impute the missing values with 0s before the calculation."
   ]
  },
  {
   "cell_type": "code",
   "execution_count": 19,
   "metadata": {
    "colab": {
     "base_uri": "https://localhost:8080/"
    },
    "id": "N-eeqclzKm_V",
    "outputId": "0606bd65-40b0-4407-9f9a-1a460c4c640c"
   },
   "outputs": [
    {
     "data": {
      "text/plain": [
       "array([[ 1.        , -0.00896029,  0.01415581, ..., -0.08543583,\n",
       "         0.0387289 , -0.05929884],\n",
       "       [-0.00896029,  1.        ,  0.18349799, ...,  0.09401611,\n",
       "         0.01525033,  0.01682738],\n",
       "       [ 0.01415581,  0.18349799,  1.        , ...,  0.03938066,\n",
       "         0.06071451,  0.08986864],\n",
       "       ...,\n",
       "       [-0.08543583,  0.09401611,  0.03938066, ...,  1.        ,\n",
       "         0.03348121,  0.02301284],\n",
       "       [ 0.0387289 ,  0.01525033,  0.06071451, ...,  0.03348121,\n",
       "         1.        ,  0.035578  ],\n",
       "       [-0.05929884,  0.01682738,  0.08986864, ...,  0.02301284,\n",
       "         0.035578  ,  1.        ]])"
      ]
     },
     "execution_count": 19,
     "metadata": {},
     "output_type": "execute_result"
    }
   ],
   "source": [
    "# Item similarity matrix using cosine similarity\n",
    "item_similarity_cosine = cosine_similarity(matrix_norm.fillna(0))\n",
    "item_similarity_cosine"
   ]
  },
  {
   "cell_type": "markdown",
   "metadata": {
    "id": "9dW_zH8wl1Bs"
   },
   "source": [
    "In the movie similarity matrix, the values range from -1 to 1, where -1 means opposite movie similarity and 1 means very high movie similarity."
   ]
  },
  {
   "cell_type": "markdown",
   "metadata": {
    "id": "NwjVPkZPctFU"
   },
   "source": [
    "# Step 7: Predict User's Rating For One Movie"
   ]
  },
  {
   "cell_type": "markdown",
   "metadata": {
    "id": "nnurgPBvdM87"
   },
   "source": [
    "In step 7, we will predict a user's rating for one movie. Let's use user 1 and the movie American Pie as an example.\n",
    "\n",
    "The prediction follows the process below:\n",
    "1. Create a list of the movies that user 1 has watched and rated.\n",
    "2. Rank the similarities between the movies user 1 rated and American Pie.\n",
    "3. Select top n movies with highest similarity scores.\n",
    "4. Calculate the predicted rating using weighted average of similarity scores and the ratings from user 1."
   ]
  },
  {
   "cell_type": "markdown",
   "metadata": {
    "id": "IvUsbxDz5ftp"
   },
   "source": [
    "Now let's implement the process using Python.\n",
    "\n",
    "Firstly, we removed all the movies that have a missing rating for user 1, and sorted the movies by the ratings."
   ]
  },
  {
   "cell_type": "code",
   "execution_count": 20,
   "metadata": {
    "colab": {
     "base_uri": "https://localhost:8080/",
     "height": 206
    },
    "id": "_NLnHDM34R2B",
    "outputId": "821f3edb-518b-4226-cca7-3560983aad70"
   },
   "outputs": [
    {
     "data": {
      "text/html": [
       "<div>\n",
       "<style scoped>\n",
       "    .dataframe tbody tr th:only-of-type {\n",
       "        vertical-align: middle;\n",
       "    }\n",
       "\n",
       "    .dataframe tbody tr th {\n",
       "        vertical-align: top;\n",
       "    }\n",
       "\n",
       "    .dataframe thead th {\n",
       "        text-align: right;\n",
       "    }\n",
       "</style>\n",
       "<table border=\"1\" class=\"dataframe\">\n",
       "  <thead>\n",
       "    <tr style=\"text-align: right;\">\n",
       "      <th></th>\n",
       "      <th>title</th>\n",
       "      <th>rating</th>\n",
       "    </tr>\n",
       "  </thead>\n",
       "  <tbody>\n",
       "    <tr>\n",
       "      <th>0</th>\n",
       "      <td>Dumb &amp; Dumber (Dumb and Dumber) (1994)</td>\n",
       "      <td>1.939850</td>\n",
       "    </tr>\n",
       "    <tr>\n",
       "      <th>1</th>\n",
       "      <td>Indiana Jones and the Temple of Doom (1984)</td>\n",
       "      <td>1.361111</td>\n",
       "    </tr>\n",
       "    <tr>\n",
       "      <th>2</th>\n",
       "      <td>X-Men (2000)</td>\n",
       "      <td>1.300752</td>\n",
       "    </tr>\n",
       "    <tr>\n",
       "      <th>3</th>\n",
       "      <td>E.T. the Extra-Terrestrial (1982)</td>\n",
       "      <td>1.233607</td>\n",
       "    </tr>\n",
       "    <tr>\n",
       "      <th>4</th>\n",
       "      <td>Ghostbusters (a.k.a. Ghost Busters) (1984)</td>\n",
       "      <td>1.225000</td>\n",
       "    </tr>\n",
       "  </tbody>\n",
       "</table>\n",
       "</div>"
      ],
      "text/plain": [
       "                                         title    rating\n",
       "0       Dumb & Dumber (Dumb and Dumber) (1994)  1.939850\n",
       "1  Indiana Jones and the Temple of Doom (1984)  1.361111\n",
       "2                                 X-Men (2000)  1.300752\n",
       "3            E.T. the Extra-Terrestrial (1982)  1.233607\n",
       "4   Ghostbusters (a.k.a. Ghost Busters) (1984)  1.225000"
      ]
     },
     "execution_count": 20,
     "metadata": {},
     "output_type": "execute_result"
    }
   ],
   "source": [
    "# Pick a user ID\n",
    "picked_userid = 1\n",
    "\n",
    "# Pick a movie\n",
    "picked_movie = \"American Pie (1999)\"\n",
    "\n",
    "# Movies that the target user has watched\n",
    "picked_userid_watched = (\n",
    "    pd.DataFrame(\n",
    "        matrix_norm[picked_userid]\n",
    "        .dropna(axis=0, how=\"all\")\n",
    "        .sort_values(ascending=False)\n",
    "    )\n",
    "    .reset_index()\n",
    "    .rename(columns={1: \"rating\"})\n",
    ")\n",
    "\n",
    "picked_userid_watched.head()"
   ]
  },
  {
   "cell_type": "markdown",
   "metadata": {
    "id": "rNFCR6437f--"
   },
   "source": [
    "We can see that user 1's favorite movie is Dumb and Dumber, followed by Indiana Jones and the Temple of Doom."
   ]
  },
  {
   "cell_type": "markdown",
   "metadata": {
    "id": "PERQJtks7xXl"
   },
   "source": [
    "Next, we get the similarity score of the movie American Pie with the movie user 1 has watched, and pick the top 5 movies with the highest similarity score."
   ]
  },
  {
   "cell_type": "code",
   "execution_count": 21,
   "metadata": {
    "colab": {
     "base_uri": "https://localhost:8080/",
     "height": 206
    },
    "id": "-cyp2p_RtrYD",
    "outputId": "972a2204-bc56-4880-f224-dae974ade30c"
   },
   "outputs": [
    {
     "data": {
      "text/html": [
       "<div>\n",
       "<style scoped>\n",
       "    .dataframe tbody tr th:only-of-type {\n",
       "        vertical-align: middle;\n",
       "    }\n",
       "\n",
       "    .dataframe tbody tr th {\n",
       "        vertical-align: top;\n",
       "    }\n",
       "\n",
       "    .dataframe thead th {\n",
       "        text-align: right;\n",
       "    }\n",
       "</style>\n",
       "<table border=\"1\" class=\"dataframe\">\n",
       "  <thead>\n",
       "    <tr style=\"text-align: right;\">\n",
       "      <th></th>\n",
       "      <th>title</th>\n",
       "      <th>rating</th>\n",
       "      <th>similarity_score</th>\n",
       "    </tr>\n",
       "  </thead>\n",
       "  <tbody>\n",
       "    <tr>\n",
       "      <th>52</th>\n",
       "      <td>Mission: Impossible (1996)</td>\n",
       "      <td>-0.537037</td>\n",
       "      <td>0.510888</td>\n",
       "    </tr>\n",
       "    <tr>\n",
       "      <th>47</th>\n",
       "      <td>Twister (1996)</td>\n",
       "      <td>-0.321138</td>\n",
       "      <td>0.476518</td>\n",
       "    </tr>\n",
       "    <tr>\n",
       "      <th>16</th>\n",
       "      <td>Star Wars: Episode I - The Phantom Menace (1999)</td>\n",
       "      <td>0.892857</td>\n",
       "      <td>0.443614</td>\n",
       "    </tr>\n",
       "    <tr>\n",
       "      <th>10</th>\n",
       "      <td>Fugitive, The (1993)</td>\n",
       "      <td>1.007895</td>\n",
       "      <td>0.442128</td>\n",
       "    </tr>\n",
       "    <tr>\n",
       "      <th>19</th>\n",
       "      <td>Green Mile, The (1999)</td>\n",
       "      <td>0.851351</td>\n",
       "      <td>0.429560</td>\n",
       "    </tr>\n",
       "  </tbody>\n",
       "</table>\n",
       "</div>"
      ],
      "text/plain": [
       "                                               title    rating  \\\n",
       "52                        Mission: Impossible (1996) -0.537037   \n",
       "47                                    Twister (1996) -0.321138   \n",
       "16  Star Wars: Episode I - The Phantom Menace (1999)  0.892857   \n",
       "10                              Fugitive, The (1993)  1.007895   \n",
       "19                            Green Mile, The (1999)  0.851351   \n",
       "\n",
       "    similarity_score  \n",
       "52          0.510888  \n",
       "47          0.476518  \n",
       "16          0.443614  \n",
       "10          0.442128  \n",
       "19          0.429560  "
      ]
     },
     "execution_count": 21,
     "metadata": {},
     "output_type": "execute_result"
    }
   ],
   "source": [
    "# Similarity score of the movie American Pie with all the other movies\n",
    "picked_movie_similarity_score = (\n",
    "    item_similarity[[picked_movie]]\n",
    "    .reset_index()\n",
    "    .rename(columns={\"American Pie (1999)\": \"similarity_score\"})\n",
    ")\n",
    "\n",
    "# Rank the similarities between the movies user 1 rated and American Pie.\n",
    "n = 5\n",
    "picked_userid_watched_similarity = pd.merge(\n",
    "    left=picked_userid_watched,\n",
    "    right=picked_movie_similarity_score,\n",
    "    on=\"title\",\n",
    "    how=\"inner\",\n",
    ").sort_values(\"similarity_score\", ascending=False)[:5]\n",
    "\n",
    "# Take a look at the User 1 watched movies with highest similarity\n",
    "picked_userid_watched_similarity"
   ]
  },
  {
   "cell_type": "markdown",
   "metadata": {
    "id": "DSV9L7g3-J-6"
   },
   "source": [
    "After that, calculate the weighted average of ratings and similarities scores, so the movies with higher similarity scores get more weight. This weighted average is the predicted rating for American Pie by user 1."
   ]
  },
  {
   "cell_type": "code",
   "execution_count": 22,
   "metadata": {
    "colab": {
     "base_uri": "https://localhost:8080/"
    },
    "id": "peIuk2tEvjXE",
    "outputId": "14192017-effd-4318-8b7f-faa1f01eef5a"
   },
   "outputs": [
    {
     "name": "stdout",
     "output_type": "stream",
     "text": [
      "The predicted rating for American Pie (1999) by user 1 is 0.338739\n"
     ]
    }
   ],
   "source": [
    "# Calculate the predicted rating using weighted average of similarity scores and the ratings from user 1\n",
    "predicted_rating = round(\n",
    "    np.average(\n",
    "        picked_userid_watched_similarity[\"rating\"],\n",
    "        weights=picked_userid_watched_similarity[\"similarity_score\"],\n",
    "    ),\n",
    "    6,\n",
    ")\n",
    "\n",
    "print(\n",
    "    f\"The predicted rating for {picked_movie} by user {picked_userid} is {predicted_rating}\"\n",
    ")"
   ]
  },
  {
   "cell_type": "markdown",
   "metadata": {
    "id": "voj-J2Idz844"
   },
   "source": [
    "# Step 8: Movie Recommendation"
   ]
  },
  {
   "cell_type": "markdown",
   "metadata": {
    "id": "-w3PgTUp0kaF"
   },
   "source": [
    "In step 8, we will create an item-item movie recommendation system following four steps:\n",
    "1. Create a list of movie that the target user has not watched before.\n",
    "2. Loop through the unwatched movie and create predicted scores for each movie.\n",
    "3. Rank the predicted score of unwatched movie from high to low.\n",
    "4. Select the top k movies as the recommendations for the target user.\n",
    "\n",
    "The Python function below implemented the four steps. With the input of `picked_userid`, `number_of_similar_items`, and `number_of_recommendations`, we can get the top movies for the user and their corresponding ratings. Note that the ratings are normalized by extracting the average rating for the movie, so we need to add the average value back to the predicted ratings if we want the predicted ratings to be on the same scale as the original ratings."
   ]
  },
  {
   "cell_type": "code",
   "execution_count": 23,
   "metadata": {
    "colab": {
     "base_uri": "https://localhost:8080/"
    },
    "id": "DaXllw2ePo_h",
    "outputId": "d3785415-0a01-4ff6-b453-1cc180d655b6"
   },
   "outputs": [
    {
     "data": {
      "text/plain": [
       "[('Austin Powers: The Spy Who Shagged Me (1999)', 1.096288),\n",
       " ('Crouching Tiger, Hidden Dragon (Wo hu cang long) (2000)', 0.92924),\n",
       " ('Lord of the Rings: The Return of the King, The (2003)', 0.926824)]"
      ]
     },
     "execution_count": 23,
     "metadata": {},
     "output_type": "execute_result"
    }
   ],
   "source": [
    "# Item-based recommendation function\n",
    "def item_based_rec(\n",
    "    picked_userid=1, number_of_similar_items=5, number_of_recommendations=3\n",
    "):\n",
    "    import operator\n",
    "\n",
    "    # Movies that the target user has not watched\n",
    "    picked_userid_unwatched = pd.DataFrame(\n",
    "        matrix_norm[picked_userid].isna()\n",
    "    ).reset_index()\n",
    "    picked_userid_unwatched = picked_userid_unwatched[\n",
    "        picked_userid_unwatched[1] == True\n",
    "    ][\"title\"].values.tolist()\n",
    "\n",
    "    # Movies that the target user has watched\n",
    "    picked_userid_watched = (\n",
    "        pd.DataFrame(\n",
    "            matrix_norm[picked_userid]\n",
    "            .dropna(axis=0, how=\"all\")\n",
    "            .sort_values(ascending=False)\n",
    "        )\n",
    "        .reset_index()\n",
    "        .rename(columns={1: \"rating\"})\n",
    "    )\n",
    "\n",
    "    # Dictionary to save the unwatched movie and predicted rating pair\n",
    "    rating_prediction = {}\n",
    "\n",
    "    # Loop through unwatched movies\n",
    "    for picked_movie in picked_userid_unwatched:\n",
    "        # Calculate the similarity score of the picked movie iwth other movies\n",
    "        picked_movie_similarity_score = (\n",
    "            item_similarity[[picked_movie]]\n",
    "            .reset_index()\n",
    "            .rename(columns={picked_movie: \"similarity_score\"})\n",
    "        )\n",
    "        # Rank the similarities between the picked user watched movie and the picked unwatched movie.\n",
    "        picked_userid_watched_similarity = pd.merge(\n",
    "            left=picked_userid_watched,\n",
    "            right=picked_movie_similarity_score,\n",
    "            on=\"title\",\n",
    "            how=\"inner\",\n",
    "        ).sort_values(\"similarity_score\", ascending=False)[:number_of_similar_items]\n",
    "        # Calculate the predicted rating using weighted average of similarity scores and the ratings from user 1\n",
    "        predicted_rating = round(\n",
    "            np.average(\n",
    "                picked_userid_watched_similarity[\"rating\"],\n",
    "                weights=picked_userid_watched_similarity[\"similarity_score\"],\n",
    "            ),\n",
    "            6,\n",
    "        )\n",
    "        # Save the predicted rating in the dictionary\n",
    "        rating_prediction[picked_movie] = predicted_rating\n",
    "        # Return the top recommended movies\n",
    "    return sorted(rating_prediction.items(), key=operator.itemgetter(1), reverse=True)[\n",
    "        :number_of_recommendations\n",
    "    ]\n",
    "\n",
    "\n",
    "# Get recommendations\n",
    "recommended_movie = item_based_rec(\n",
    "    picked_userid=1, number_of_similar_items=5, number_of_recommendations=3\n",
    ")\n",
    "recommended_movie"
   ]
  },
  {
   "cell_type": "markdown",
   "metadata": {
    "id": "PkTtpSovOQlK"
   },
   "source": [
    "# References"
   ]
  },
  {
   "cell_type": "markdown",
   "metadata": {
    "id": "PR-39LZ2q0sI"
   },
   "source": [
    "* [Item-Based Collaborative Filtering Lecture From Stanford](https://www.youtube.com/watch?v=FFi0iPY5fko)"
   ]
  }
 ],
 "metadata": {
  "colab": {
   "provenance": []
  },
  "kernelspec": {
   "display_name": "Python 3",
   "name": "python3"
  },
  "language_info": {
   "codemirror_mode": {
    "name": "ipython",
    "version": 3
   },
   "file_extension": ".py",
   "mimetype": "text/x-python",
   "name": "python",
   "nbconvert_exporter": "python",
   "pygments_lexer": "ipython3",
   "version": "3.11.7"
  }
 },
 "nbformat": 4,
 "nbformat_minor": 0
}
