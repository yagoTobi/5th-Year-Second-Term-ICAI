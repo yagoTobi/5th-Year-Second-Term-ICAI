{
 "cells": [
  {
   "cell_type": "markdown",
   "metadata": {},
   "source": [
    "---\n",
    "title: \"Test 2: Recommender Systems\"\n",
    "subtitle: \"Machine Learning III: Unsupervised and Network Analysis\"\n",
    "date: \"9 April 2024\"\n",
    "author: \n",
    "  -  María del Valle Varo García\n",
    "\n",
    "\n",
    "---\n",
    "---"
   ]
  },
  {
   "cell_type": "markdown",
   "metadata": {},
   "source": [
    "`fill here your name`"
   ]
  },
  {
   "cell_type": "markdown",
   "metadata": {},
   "source": [
    "::: {.callout-important icon=false}\n",
    "\n",
    "No puedes utilizar ChatGPT, pero tienes pleno acceso a Internet; no dudes en utilizarlo, ya que suele ser mucho más útil para programar, mirar documentación o resolver errores de código.\n",
    ":::"
   ]
  },
  {
   "cell_type": "markdown",
   "metadata": {},
   "source": [
    "::: {.callout-warning icon=false}\n",
    "\n",
    "Evita dedicar tiempo a generar código o gráficas no solicitadas. \n",
    "\n",
    "No se evaluarán y sólo servirán para consumir tiempo del examen.\n",
    ":::"
   ]
  },
  {
   "cell_type": "markdown",
   "metadata": {},
   "source": [
    "---"
   ]
  },
  {
   "cell_type": "markdown",
   "metadata": {},
   "source": [
    "# **Análisis de ratings a Video Juegos**\n",
    "### Utilizando la base de datos proporcionada que contiene información sobre usuarios, videojuegos y las calificaciones otorgadas por los usuarios a los videojuegos, realiza las siguientes tareas:"
   ]
  },
  {
   "cell_type": "markdown",
   "metadata": {},
   "source": [
    "\n",
    "\n",
    "\n",
    "::: {.callout-tip icon=\"false}\n",
    "### Question 0 (0.25 points)\n",
    "Carga los datos como un objeto **panda.DataFrame**.\n",
    ":::"
   ]
  },
  {
   "cell_type": "code",
   "execution_count": 2,
   "metadata": {},
   "outputs": [
    {
     "name": "stdout",
     "output_type": "stream",
     "text": [
      "FM model is only supported on Linux.\n",
      "Windows executable can be found at http://www.libfm.org.\n"
     ]
    }
   ],
   "source": [
    "import numpy as np\n",
    "import pandas as pd\n",
    "import cornac\n",
    "from cornac.eval_methods import RatioSplit\n",
    "from cornac.models import UserKNN, ItemKNN"
   ]
  },
  {
   "cell_type": "code",
   "execution_count": 3,
   "metadata": {},
   "outputs": [],
   "source": [
    "dataset = pd.read_csv(\"reduced_video_games.csv\")"
   ]
  },
  {
   "cell_type": "code",
   "execution_count": 4,
   "metadata": {},
   "outputs": [
    {
     "data": {
      "text/html": [
       "<div>\n",
       "<style scoped>\n",
       "    .dataframe tbody tr th:only-of-type {\n",
       "        vertical-align: middle;\n",
       "    }\n",
       "\n",
       "    .dataframe tbody tr th {\n",
       "        vertical-align: top;\n",
       "    }\n",
       "\n",
       "    .dataframe thead th {\n",
       "        text-align: right;\n",
       "    }\n",
       "</style>\n",
       "<table border=\"1\" class=\"dataframe\">\n",
       "  <thead>\n",
       "    <tr style=\"text-align: right;\">\n",
       "      <th></th>\n",
       "      <th>userId</th>\n",
       "      <th>productId</th>\n",
       "      <th>rating</th>\n",
       "    </tr>\n",
       "  </thead>\n",
       "  <tbody>\n",
       "    <tr>\n",
       "      <th>0</th>\n",
       "      <td>A2BQXTSS8G6ZL2</td>\n",
       "      <td>B001TOQ8UW</td>\n",
       "      <td>5.0</td>\n",
       "    </tr>\n",
       "    <tr>\n",
       "      <th>1</th>\n",
       "      <td>AEJZHD61JTJKK</td>\n",
       "      <td>B0029LJIFG</td>\n",
       "      <td>5.0</td>\n",
       "    </tr>\n",
       "    <tr>\n",
       "      <th>2</th>\n",
       "      <td>A3TY2AEFHQRTWJ</td>\n",
       "      <td>B003O6E1JS</td>\n",
       "      <td>4.0</td>\n",
       "    </tr>\n",
       "    <tr>\n",
       "      <th>3</th>\n",
       "      <td>A8RITE7SJ9GYS</td>\n",
       "      <td>B0000E5U6I</td>\n",
       "      <td>3.0</td>\n",
       "    </tr>\n",
       "    <tr>\n",
       "      <th>4</th>\n",
       "      <td>A1SCCUZEPM657Y</td>\n",
       "      <td>B00DJFIMW6</td>\n",
       "      <td>5.0</td>\n",
       "    </tr>\n",
       "  </tbody>\n",
       "</table>\n",
       "</div>"
      ],
      "text/plain": [
       "           userId   productId  rating\n",
       "0  A2BQXTSS8G6ZL2  B001TOQ8UW     5.0\n",
       "1   AEJZHD61JTJKK  B0029LJIFG     5.0\n",
       "2  A3TY2AEFHQRTWJ  B003O6E1JS     4.0\n",
       "3   A8RITE7SJ9GYS  B0000E5U6I     3.0\n",
       "4  A1SCCUZEPM657Y  B00DJFIMW6     5.0"
      ]
     },
     "execution_count": 4,
     "metadata": {},
     "output_type": "execute_result"
    }
   ],
   "source": [
    "dataset.head()"
   ]
  },
  {
   "cell_type": "markdown",
   "metadata": {},
   "source": [
    "\n",
    "\n",
    "\n",
    "::: {.callout-tip icon=\"false}\n",
    "### Question 1 (0.75 points)\n",
    "Filtra el conjunto de datos y conserva sólo los productos que hayan sido valorados al menos 20 veces **en cada una de las cateogorías de ratings**.\n",
    "\n",
    ":::"
   ]
  },
  {
   "cell_type": "code",
   "execution_count": 5,
   "metadata": {},
   "outputs": [
    {
     "data": {
      "text/plain": [
       "(11405, 3)"
      ]
     },
     "execution_count": 5,
     "metadata": {},
     "output_type": "execute_result"
    }
   ],
   "source": [
    "reviews_per_rating = dataset[[\"productId\", \"rating\"]].value_counts()\n",
    "select_product = (reviews_per_rating >= 20).groupby(\"productId\").all()\n",
    "select_product = select_product.index[select_product].to_list()\n",
    "df = dataset.loc[dataset[\"productId\"].isin(select_product)]\n",
    "df.shape"
   ]
  },
  {
   "cell_type": "markdown",
   "metadata": {},
   "source": [
    "::: {.callout-tip icon=\"false}\n",
    "\n",
    "### Question 2 (0.25 points)\n",
    "\n",
    "¿Qué porcentaje de los datos (ya filtrados) tiene una calificación de 4 o superior?\n",
    "\n",
    ":::"
   ]
  },
  {
   "cell_type": "code",
   "execution_count": 6,
   "metadata": {},
   "outputs": [
    {
     "data": {
      "text/plain": [
       "rating\n",
       "5.0    0.496361\n",
       "1.0    0.208680\n",
       "4.0    0.150460\n",
       "3.0    0.078211\n",
       "2.0    0.066287\n",
       "Name: proportion, dtype: float64"
      ]
     },
     "execution_count": 6,
     "metadata": {},
     "output_type": "execute_result"
    }
   ],
   "source": [
    "df.value_counts(\"rating\", normalize=True)"
   ]
  },
  {
   "cell_type": "code",
   "execution_count": 7,
   "metadata": {},
   "outputs": [
    {
     "data": {
      "text/plain": [
       "0.646821569487067"
      ]
     },
     "execution_count": 7,
     "metadata": {},
     "output_type": "execute_result"
    }
   ],
   "source": [
    "(\n",
    "    df.value_counts(\"rating\", normalize=True).values[0]\n",
    "    + df.value_counts(\"rating\", normalize=True).values[2]\n",
    ")"
   ]
  },
  {
   "cell_type": "markdown",
   "metadata": {},
   "source": [
    "::: {.callout-tip icon=\"false}\n",
    "### Question 3 (0.25 points)\n",
    "\n",
    "¿Cuántos usuarios únicos y productos hay?\n",
    "\n",
    ":::"
   ]
  },
  {
   "cell_type": "code",
   "execution_count": 8,
   "metadata": {},
   "outputs": [
    {
     "name": "stdout",
     "output_type": "stream",
     "text": [
      "UNIQUE USERS:  11331\n",
      "UNIQUE PRODUCTS:  20\n"
     ]
    }
   ],
   "source": [
    "# Numer of unique users and products\n",
    "n_users = df[\"userId\"].nunique()\n",
    "print(\"UNIQUE USERS: \", n_users)\n",
    "n_products = df[\"productId\"].nunique()\n",
    "print(\"UNIQUE PRODUCTS: \", n_products)"
   ]
  },
  {
   "cell_type": "markdown",
   "metadata": {},
   "source": [
    "::: {.callout-tip icon=\"false}\n",
    "### Question 4 (0.25 points)\n",
    "\n",
    "¿Qué porcentaje de valores atípicos hay?\n",
    "\n",
    ":::"
   ]
  },
  {
   "cell_type": "code",
   "execution_count": 9,
   "metadata": {},
   "outputs": [],
   "source": [
    "from matplotlib.cbook import boxplot_stats\n",
    "import seaborn as sns\n",
    "\n",
    "\n",
    "def explore_outliers(df, num_vars):\n",
    "    outliers_df = dict()\n",
    "    for k in range(len(num_vars)):\n",
    "        var = num_vars[k]\n",
    "        sns.boxplot(df, x=var)\n",
    "        outliers_df[var] = boxplot_stats(df[var])[0][\"fliers\"]\n",
    "        out_pos = np.where(df[var].isin(outliers_df[var]))[0].tolist()\n",
    "        out_idx = [df[var].index.tolist()[k] for k in out_pos]\n",
    "        outliers_df[var] = {\n",
    "            \"values\": outliers_df[var],\n",
    "            \"positions\": out_pos,\n",
    "            \"indices\": out_idx,\n",
    "        }\n",
    "    return outliers_df"
   ]
  },
  {
   "cell_type": "code",
   "execution_count": 10,
   "metadata": {},
   "outputs": [
    {
     "data": {
      "image/png": "[encoded data removed]",
      "text/plain": [
       "<Figure size 640x480 with 1 Axes>"
      ]
     },
     "metadata": {},
     "output_type": "display_data"
    }
   ],
   "source": [
    "out_XTR = explore_outliers(df, [\"rating\"])"
   ]
  },
  {
   "cell_type": "code",
   "execution_count": 11,
   "metadata": {},
   "outputs": [
    {
     "name": "stdout",
     "output_type": "stream",
     "text": [
      "Percetage of outliers 0.0\n"
     ]
    }
   ],
   "source": [
    "print(\"Percetage of outliers\", len(out_XTR.get(\"rating\").get(\"indices\")) / len(df))"
   ]
  },
  {
   "cell_type": "markdown",
   "metadata": {},
   "source": [
    "::: {.callout-tip icon=\"false}\n",
    "### Question 5 (1 points)\n",
    "\n",
    "¿Cuál es la dispersión (sparsity) del conjunto de datos antes y después de filtrar los productos con más de 20 valoraciones? \n",
    "\n",
    "¿Es de esperar que los recomendadores memory-based funcionen mejor que los model-based conociendo ahora la dispersión?\n",
    "\n",
    "\n",
    ":::"
   ]
  },
  {
   "cell_type": "code",
   "execution_count": 12,
   "metadata": {},
   "outputs": [
    {
     "name": "stdout",
     "output_type": "stream",
     "text": [
      "Number of users: 11331\n",
      "Number of items: 20\n",
      "Number of available ratings: 11405\n",
      "Number of all possible ratings: 226620\n",
      "----------------------------------------\n",
      "SPARSITY: 94.97%\n",
      "Number of users: 206770\n",
      "Number of items: 31263\n",
      "Number of available ratings: 250000\n",
      "Number of all possible ratings: 6464250510\n",
      "----------------------------------------\n",
      "SPARSITY: 100.00%\n"
     ]
    }
   ],
   "source": [
    "def print_sparsity(df):\n",
    "    n_users = df.userId.nunique()\n",
    "    n_items = df.productId.nunique()\n",
    "    n_ratings = len(df)\n",
    "    rating_matrix_size = n_users * n_items\n",
    "    sparsity = 1 - n_ratings / rating_matrix_size\n",
    "\n",
    "    print(f\"Number of users: {n_users}\")\n",
    "    print(f\"Number of items: {n_items}\")\n",
    "    print(f\"Number of available ratings: {n_ratings}\")\n",
    "    print(f\"Number of all possible ratings: {rating_matrix_size}\")\n",
    "    print(\"-\" * 40)\n",
    "    print(f\"SPARSITY: {sparsity * 100.0:.2f}%\")\n",
    "\n",
    "\n",
    "print_sparsity(df)\n",
    "print_sparsity(dataset)"
   ]
  },
  {
   "cell_type": "markdown",
   "metadata": {},
   "source": [
    "\n",
    "\n",
    "::: {.callout-tip icon=\"false}\n",
    "### Question 6 (0.75 points)\n",
    "\n",
    "¿Cuál es el producto menos valorado? ¿Cuántas veces ha sido valorado?\n",
    "\n",
    "\n",
    ":::"
   ]
  },
  {
   "cell_type": "code",
   "execution_count": 13,
   "metadata": {},
   "outputs": [
    {
     "data": {
      "text/plain": [
       "rating    22\n",
       "Name: B00001OWYW, dtype: int64"
      ]
     },
     "execution_count": 13,
     "metadata": {},
     "output_type": "execute_result"
    }
   ],
   "source": [
    "popular_products = pd.DataFrame(df.groupby(\"productId\")[\"rating\"].count())\n",
    "least_popular = popular_products.sort_values(\"rating\", ascending=True)\n",
    "least_popular.iloc[0]"
   ]
  },
  {
   "cell_type": "markdown",
   "metadata": {},
   "source": [
    "::: {.callout-tip icon=true}\n",
    "\n",
    "### Question 7 (0.75 points)\n",
    "\n",
    "Haz un histograma de las valoraciones del segundo producto más valorado.\n",
    "\n",
    "¿Cuál es la valoración media de este producto entre todos los usuarios?\n",
    "\n",
    ":::"
   ]
  },
  {
   "cell_type": "code",
   "execution_count": 14,
   "metadata": {},
   "outputs": [
    {
     "data": {
      "text/plain": [
       "rating    1114\n",
       "Name: B00FAX6XQC, dtype: int64"
      ]
     },
     "execution_count": 14,
     "metadata": {},
     "output_type": "execute_result"
    }
   ],
   "source": [
    "least_popular.iloc[-2]"
   ]
  },
  {
   "cell_type": "code",
   "execution_count": 15,
   "metadata": {},
   "outputs": [
    {
     "data": {
      "text/plain": [
       "<Axes: >"
      ]
     },
     "execution_count": 15,
     "metadata": {},
     "output_type": "execute_result"
    },
    {
     "data": {
      "image/png": "[encoded data removed]",
      "text/plain": [
       "<Figure size 640x480 with 1 Axes>"
      ]
     },
     "metadata": {},
     "output_type": "display_data"
    }
   ],
   "source": [
    "df[df[\"productId\"] == \"B00FAX6XQC\"][\"rating\"].hist()"
   ]
  },
  {
   "cell_type": "code",
   "execution_count": 16,
   "metadata": {},
   "outputs": [
    {
     "data": {
      "text/plain": [
       "4.212746858168761"
      ]
     },
     "execution_count": 16,
     "metadata": {},
     "output_type": "execute_result"
    }
   ],
   "source": [
    "df[df[\"productId\"] == \"B00FAX6XQC\"][\"rating\"].mean()"
   ]
  },
  {
   "cell_type": "markdown",
   "metadata": {},
   "source": [
    "::: {.callout-tip icon=true}\n",
    "\n",
    "### Question 8 (1.0 points)\n",
    "\n",
    "Haz varios sistemas de recomendación **User-Based** para este conjunto de datos para `k=30` vecinos.\n",
    "\n",
    "Compara la similitud Pearson con la similitud Coseno. ¿Ayuda el centrado medio?\n",
    "\n",
    "Comprueba diferentes métricas: RMSE, MAE, Precisión.\n",
    ":::"
   ]
  },
  {
   "cell_type": "code",
   "execution_count": 17,
   "metadata": {},
   "outputs": [
    {
     "data": {
      "text/html": [
       "<div>\n",
       "<style scoped>\n",
       "    .dataframe tbody tr th:only-of-type {\n",
       "        vertical-align: middle;\n",
       "    }\n",
       "\n",
       "    .dataframe tbody tr th {\n",
       "        vertical-align: top;\n",
       "    }\n",
       "\n",
       "    .dataframe thead th {\n",
       "        text-align: right;\n",
       "    }\n",
       "</style>\n",
       "<table border=\"1\" class=\"dataframe\">\n",
       "  <thead>\n",
       "    <tr style=\"text-align: right;\">\n",
       "      <th>productId</th>\n",
       "      <th>B00001OWYW</th>\n",
       "      <th>B000ZKA0J6</th>\n",
       "      <th>B0015AARJI</th>\n",
       "      <th>B00178630A</th>\n",
       "      <th>B002I098JE</th>\n",
       "      <th>B0038TT8QM</th>\n",
       "      <th>B003JVCA9Q</th>\n",
       "      <th>B003JVKHEQ</th>\n",
       "      <th>B003VANOFY</th>\n",
       "      <th>B004FYEZMQ</th>\n",
       "      <th>B00503E8S2</th>\n",
       "      <th>B0050SYLRK</th>\n",
       "      <th>B007FTE2VW</th>\n",
       "      <th>B007VTVRFA</th>\n",
       "      <th>B007XVTR3K</th>\n",
       "      <th>B009KS4XRO</th>\n",
       "      <th>B00CMQTVUA</th>\n",
       "      <th>B00D4WTO1M</th>\n",
       "      <th>B00DJFIMW6</th>\n",
       "      <th>B00FAX6XQC</th>\n",
       "    </tr>\n",
       "    <tr>\n",
       "      <th>userId</th>\n",
       "      <th></th>\n",
       "      <th></th>\n",
       "      <th></th>\n",
       "      <th></th>\n",
       "      <th></th>\n",
       "      <th></th>\n",
       "      <th></th>\n",
       "      <th></th>\n",
       "      <th></th>\n",
       "      <th></th>\n",
       "      <th></th>\n",
       "      <th></th>\n",
       "      <th></th>\n",
       "      <th></th>\n",
       "      <th></th>\n",
       "      <th></th>\n",
       "      <th></th>\n",
       "      <th></th>\n",
       "      <th></th>\n",
       "      <th></th>\n",
       "    </tr>\n",
       "  </thead>\n",
       "  <tbody>\n",
       "    <tr>\n",
       "      <th>A0061198154UGJDK69CYW</th>\n",
       "      <td>NaN</td>\n",
       "      <td>NaN</td>\n",
       "      <td>5.0</td>\n",
       "      <td>NaN</td>\n",
       "      <td>NaN</td>\n",
       "      <td>NaN</td>\n",
       "      <td>NaN</td>\n",
       "      <td>NaN</td>\n",
       "      <td>NaN</td>\n",
       "      <td>NaN</td>\n",
       "      <td>NaN</td>\n",
       "      <td>NaN</td>\n",
       "      <td>NaN</td>\n",
       "      <td>NaN</td>\n",
       "      <td>NaN</td>\n",
       "      <td>NaN</td>\n",
       "      <td>NaN</td>\n",
       "      <td>NaN</td>\n",
       "      <td>NaN</td>\n",
       "      <td>NaN</td>\n",
       "    </tr>\n",
       "    <tr>\n",
       "      <th>A02210111RNJ8RSJ7F1YO</th>\n",
       "      <td>NaN</td>\n",
       "      <td>NaN</td>\n",
       "      <td>NaN</td>\n",
       "      <td>NaN</td>\n",
       "      <td>NaN</td>\n",
       "      <td>NaN</td>\n",
       "      <td>NaN</td>\n",
       "      <td>NaN</td>\n",
       "      <td>NaN</td>\n",
       "      <td>NaN</td>\n",
       "      <td>NaN</td>\n",
       "      <td>NaN</td>\n",
       "      <td>NaN</td>\n",
       "      <td>NaN</td>\n",
       "      <td>NaN</td>\n",
       "      <td>NaN</td>\n",
       "      <td>5.0</td>\n",
       "      <td>NaN</td>\n",
       "      <td>NaN</td>\n",
       "      <td>NaN</td>\n",
       "    </tr>\n",
       "    <tr>\n",
       "      <th>A0436342QLT4257JODYJ</th>\n",
       "      <td>NaN</td>\n",
       "      <td>NaN</td>\n",
       "      <td>NaN</td>\n",
       "      <td>NaN</td>\n",
       "      <td>NaN</td>\n",
       "      <td>NaN</td>\n",
       "      <td>NaN</td>\n",
       "      <td>NaN</td>\n",
       "      <td>NaN</td>\n",
       "      <td>NaN</td>\n",
       "      <td>NaN</td>\n",
       "      <td>NaN</td>\n",
       "      <td>NaN</td>\n",
       "      <td>NaN</td>\n",
       "      <td>5.0</td>\n",
       "      <td>NaN</td>\n",
       "      <td>NaN</td>\n",
       "      <td>NaN</td>\n",
       "      <td>NaN</td>\n",
       "      <td>NaN</td>\n",
       "    </tr>\n",
       "    <tr>\n",
       "      <th>A04942912GL09NU0DDO8B</th>\n",
       "      <td>NaN</td>\n",
       "      <td>NaN</td>\n",
       "      <td>5.0</td>\n",
       "      <td>NaN</td>\n",
       "      <td>NaN</td>\n",
       "      <td>NaN</td>\n",
       "      <td>NaN</td>\n",
       "      <td>NaN</td>\n",
       "      <td>NaN</td>\n",
       "      <td>NaN</td>\n",
       "      <td>NaN</td>\n",
       "      <td>NaN</td>\n",
       "      <td>NaN</td>\n",
       "      <td>NaN</td>\n",
       "      <td>NaN</td>\n",
       "      <td>NaN</td>\n",
       "      <td>NaN</td>\n",
       "      <td>NaN</td>\n",
       "      <td>NaN</td>\n",
       "      <td>NaN</td>\n",
       "    </tr>\n",
       "    <tr>\n",
       "      <th>A05645781CK8V6Y1DOBE6</th>\n",
       "      <td>NaN</td>\n",
       "      <td>NaN</td>\n",
       "      <td>NaN</td>\n",
       "      <td>NaN</td>\n",
       "      <td>NaN</td>\n",
       "      <td>NaN</td>\n",
       "      <td>NaN</td>\n",
       "      <td>NaN</td>\n",
       "      <td>NaN</td>\n",
       "      <td>NaN</td>\n",
       "      <td>NaN</td>\n",
       "      <td>NaN</td>\n",
       "      <td>NaN</td>\n",
       "      <td>NaN</td>\n",
       "      <td>NaN</td>\n",
       "      <td>5.0</td>\n",
       "      <td>NaN</td>\n",
       "      <td>NaN</td>\n",
       "      <td>NaN</td>\n",
       "      <td>NaN</td>\n",
       "    </tr>\n",
       "  </tbody>\n",
       "</table>\n",
       "</div>"
      ],
      "text/plain": [
       "productId              B00001OWYW  B000ZKA0J6  B0015AARJI  B00178630A  \\\n",
       "userId                                                                  \n",
       "A0061198154UGJDK69CYW         NaN         NaN         5.0         NaN   \n",
       "A02210111RNJ8RSJ7F1YO         NaN         NaN         NaN         NaN   \n",
       "A0436342QLT4257JODYJ          NaN         NaN         NaN         NaN   \n",
       "A04942912GL09NU0DDO8B         NaN         NaN         5.0         NaN   \n",
       "A05645781CK8V6Y1DOBE6         NaN         NaN         NaN         NaN   \n",
       "\n",
       "productId              B002I098JE  B0038TT8QM  B003JVCA9Q  B003JVKHEQ  \\\n",
       "userId                                                                  \n",
       "A0061198154UGJDK69CYW         NaN         NaN         NaN         NaN   \n",
       "A02210111RNJ8RSJ7F1YO         NaN         NaN         NaN         NaN   \n",
       "A0436342QLT4257JODYJ          NaN         NaN         NaN         NaN   \n",
       "A04942912GL09NU0DDO8B         NaN         NaN         NaN         NaN   \n",
       "A05645781CK8V6Y1DOBE6         NaN         NaN         NaN         NaN   \n",
       "\n",
       "productId              B003VANOFY  B004FYEZMQ  B00503E8S2  B0050SYLRK  \\\n",
       "userId                                                                  \n",
       "A0061198154UGJDK69CYW         NaN         NaN         NaN         NaN   \n",
       "A02210111RNJ8RSJ7F1YO         NaN         NaN         NaN         NaN   \n",
       "A0436342QLT4257JODYJ          NaN         NaN         NaN         NaN   \n",
       "A04942912GL09NU0DDO8B         NaN         NaN         NaN         NaN   \n",
       "A05645781CK8V6Y1DOBE6         NaN         NaN         NaN         NaN   \n",
       "\n",
       "productId              B007FTE2VW  B007VTVRFA  B007XVTR3K  B009KS4XRO  \\\n",
       "userId                                                                  \n",
       "A0061198154UGJDK69CYW         NaN         NaN         NaN         NaN   \n",
       "A02210111RNJ8RSJ7F1YO         NaN         NaN         NaN         NaN   \n",
       "A0436342QLT4257JODYJ          NaN         NaN         5.0         NaN   \n",
       "A04942912GL09NU0DDO8B         NaN         NaN         NaN         NaN   \n",
       "A05645781CK8V6Y1DOBE6         NaN         NaN         NaN         5.0   \n",
       "\n",
       "productId              B00CMQTVUA  B00D4WTO1M  B00DJFIMW6  B00FAX6XQC  \n",
       "userId                                                                 \n",
       "A0061198154UGJDK69CYW         NaN         NaN         NaN         NaN  \n",
       "A02210111RNJ8RSJ7F1YO         5.0         NaN         NaN         NaN  \n",
       "A0436342QLT4257JODYJ          NaN         NaN         NaN         NaN  \n",
       "A04942912GL09NU0DDO8B         NaN         NaN         NaN         NaN  \n",
       "A05645781CK8V6Y1DOBE6         NaN         NaN         NaN         NaN  "
      ]
     },
     "execution_count": 17,
     "metadata": {},
     "output_type": "execute_result"
    }
   ],
   "source": [
    "ratings_matrix = df.pivot_table(values=\"rating\", index=\"userId\", columns=\"productId\")\n",
    "ratings_matrix.head()"
   ]
  },
  {
   "cell_type": "code",
   "execution_count": 18,
   "metadata": {},
   "outputs": [
    {
     "name": "stdout",
     "output_type": "stream",
     "text": [
      "\n",
      "TEST:\n",
      "...\n",
      "                   |    MAE |   RMSE | Precision@30 | Recall@30 | Train (s) | Test (s)\n",
      "------------------ + ------ + ------ + ------------ + --------- + --------- + --------\n",
      "UserKNN-Cosine     | 0.6905 | 0.6905 |       0.0500 |    1.0000 |    1.0813 |   0.0051\n",
      "UserKNN-Cosine-MC  | 0.6667 | 0.6667 |       0.0500 |    1.0000 |    1.0251 |   0.0083\n",
      "UserKNN-Pearson    | 0.6667 | 0.6667 |       0.0500 |    1.0000 |    1.0928 |   0.0106\n",
      "UserKNN-Pearson-MC | 0.6667 | 0.6667 |       0.0500 |    1.0000 |    1.0744 |   0.0055\n",
      "\n"
     ]
    }
   ],
   "source": [
    "def userknn_cornac(df: pd.DataFrame):\n",
    "\n",
    "    df = df.astype({\"userId\": object, \"productId\": object})\n",
    "    records = df.to_records(index=False)\n",
    "    result = list(records)\n",
    "\n",
    "    K = 30  # number of nearest neighbors\n",
    "    VERBOSE = False\n",
    "    SEED = 42\n",
    "    uknn_cosine = UserKNN(\n",
    "        k=K, similarity=\"cosine\", name=\"UserKNN-Cosine\", verbose=VERBOSE\n",
    "    )\n",
    "    uknn_cosine_mc = UserKNN(\n",
    "        k=K,\n",
    "        similarity=\"cosine\",\n",
    "        mean_centered=True,\n",
    "        name=\"UserKNN-Cosine-MC\",\n",
    "        verbose=VERBOSE,\n",
    "    )\n",
    "    uknn_pearson = UserKNN(\n",
    "        k=K, similarity=\"pearson\", name=\"UserKNN-Pearson\", verbose=VERBOSE\n",
    "    )\n",
    "    uknn_pearson_mc = UserKNN(\n",
    "        k=K,\n",
    "        similarity=\"pearson\",\n",
    "        mean_centered=True,\n",
    "        name=\"UserKNN-Pearson-MC\",\n",
    "        verbose=VERBOSE,\n",
    "    )\n",
    "\n",
    "    # Metrics\n",
    "    rec_300 = cornac.metrics.Recall(k=K)\n",
    "    rmse = cornac.metrics.RMSE()\n",
    "    mae = cornac.metrics.MAE()\n",
    "    prec_30 = cornac.metrics.Precision(k=K)\n",
    "\n",
    "    ratio_split = RatioSplit(result, test_size=0.1, seed=SEED, verbose=VERBOSE)\n",
    "    cornac.Experiment(\n",
    "        eval_method=ratio_split,\n",
    "        models=[uknn_cosine, uknn_cosine_mc, uknn_pearson, uknn_pearson_mc],\n",
    "        metrics=[rmse, mae, prec_30, rec_300],\n",
    "    ).run()\n",
    "\n",
    "    userknn_models = {\n",
    "        \"uknn_cosine\": uknn_cosine,\n",
    "        \"uknn_cosine_mc\": uknn_cosine_mc,\n",
    "        \"uknn_pearson\": uknn_pearson,\n",
    "        \"uknn_pearson_mc\": uknn_pearson_mc,\n",
    "    }\n",
    "\n",
    "    return userknn_models\n",
    "\n",
    "\n",
    "userknn_models = userknn_cornac(df)"
   ]
  },
  {
   "cell_type": "markdown",
   "metadata": {},
   "source": [
    "::: {.callout-tip icon=true}\n",
    "\n",
    "### Question 9 (0.75 points)\n",
    "\n",
    "Selecciona un usuario y recomiendale los 10 mejores productos basándote en el modelo de user-based que consideres oportuno dado el entrenamiento.\n",
    "\n",
    ":::"
   ]
  },
  {
   "cell_type": "code",
   "execution_count": 19,
   "metadata": {},
   "outputs": [
    {
     "data": {
      "text/html": [
       "<div>\n",
       "<style scoped>\n",
       "    .dataframe tbody tr th:only-of-type {\n",
       "        vertical-align: middle;\n",
       "    }\n",
       "\n",
       "    .dataframe tbody tr th {\n",
       "        vertical-align: top;\n",
       "    }\n",
       "\n",
       "    .dataframe thead th {\n",
       "        text-align: right;\n",
       "    }\n",
       "</style>\n",
       "<table border=\"1\" class=\"dataframe\">\n",
       "  <thead>\n",
       "    <tr style=\"text-align: right;\">\n",
       "      <th></th>\n",
       "      <th>productId</th>\n",
       "      <th>rating</th>\n",
       "    </tr>\n",
       "    <tr>\n",
       "      <th>userId</th>\n",
       "      <th></th>\n",
       "      <th></th>\n",
       "    </tr>\n",
       "  </thead>\n",
       "  <tbody>\n",
       "    <tr>\n",
       "      <th>A2BQXTSS8G6ZL2</th>\n",
       "      <td>B001TOQ8UW</td>\n",
       "      <td>5.0</td>\n",
       "    </tr>\n",
       "    <tr>\n",
       "      <th>AEJZHD61JTJKK</th>\n",
       "      <td>B0029LJIFG</td>\n",
       "      <td>5.0</td>\n",
       "    </tr>\n",
       "    <tr>\n",
       "      <th>A3TY2AEFHQRTWJ</th>\n",
       "      <td>B003O6E1JS</td>\n",
       "      <td>4.0</td>\n",
       "    </tr>\n",
       "    <tr>\n",
       "      <th>A8RITE7SJ9GYS</th>\n",
       "      <td>B0000E5U6I</td>\n",
       "      <td>3.0</td>\n",
       "    </tr>\n",
       "    <tr>\n",
       "      <th>A1SCCUZEPM657Y</th>\n",
       "      <td>B00DJFIMW6</td>\n",
       "      <td>5.0</td>\n",
       "    </tr>\n",
       "  </tbody>\n",
       "</table>\n",
       "</div>"
      ],
      "text/plain": [
       "                 productId  rating\n",
       "userId                            \n",
       "A2BQXTSS8G6ZL2  B001TOQ8UW     5.0\n",
       "AEJZHD61JTJKK   B0029LJIFG     5.0\n",
       "A3TY2AEFHQRTWJ  B003O6E1JS     4.0\n",
       "A8RITE7SJ9GYS   B0000E5U6I     3.0\n",
       "A1SCCUZEPM657Y  B00DJFIMW6     5.0"
      ]
     },
     "execution_count": 19,
     "metadata": {},
     "output_type": "execute_result"
    }
   ],
   "source": [
    "df_user = pd.read_csv(\"reduced_video_games.csv\").set_index(\"userId\")\n",
    "df_user.head()"
   ]
  },
  {
   "cell_type": "code",
   "execution_count": 20,
   "metadata": {},
   "outputs": [
    {
     "data": {
      "text/plain": [
       "productId    B00DJFIMW6\n",
       "rating              5.0\n",
       "Name: A1SCCUZEPM657Y, dtype: object"
      ]
     },
     "execution_count": 20,
     "metadata": {},
     "output_type": "execute_result"
    }
   ],
   "source": [
    "df_user.loc[\"A1SCCUZEPM657Y\"]"
   ]
  },
  {
   "cell_type": "code",
   "execution_count": 21,
   "metadata": {},
   "outputs": [
    {
     "data": {
      "text/plain": [
       "userId       A31HGROF3856IH\n",
       "productId        B00DJFIMW6\n",
       "rating                  5.0\n",
       "Name: 120, dtype: object"
      ]
     },
     "execution_count": 21,
     "metadata": {},
     "output_type": "execute_result"
    }
   ],
   "source": [
    "df.iloc[4]"
   ]
  },
  {
   "cell_type": "code",
   "execution_count": 22,
   "metadata": {},
   "outputs": [],
   "source": [
    "model = userknn_models.get(\"uknn_cosine\")"
   ]
  },
  {
   "cell_type": "code",
   "execution_count": 23,
   "metadata": {},
   "outputs": [
    {
     "name": "stdout",
     "output_type": "stream",
     "text": [
      "UserID = A33I59E9I8YHZK\n",
      "-----------------------------------\n",
      "productId    B00DJFIMW6\n",
      "rating              4.0\n",
      "Name: A33I59E9I8YHZK, dtype: object\n",
      "\n",
      "TOP 5 RATED ITEMS BY USER 4:\n",
      "-----------------------------------\n",
      "                 productId  rating\n",
      "userId                            \n",
      "A8RITE7SJ9GYS   B0000E5U6I     3.0\n",
      "AEJZHD61JTJKK   B0029LJIFG     5.0\n",
      "A21S5N7ZEU4QK9  B0016BVY7U     4.0\n",
      "A1W269IB6MYVT8  B001IYR53W     5.0\n",
      "A3TY2AEFHQRTWJ  B003O6E1JS     4.0\n"
     ]
    }
   ],
   "source": [
    "def user_profiling(UID, model, user_df, TOPK=5):\n",
    "\n",
    "    rating_mat = model.train_set.matrix\n",
    "\n",
    "    UIDX = list(model.train_set.uid_map.items())[UID][0]\n",
    "\n",
    "    print(f\"UserID = {UIDX}\")\n",
    "    print(\"-\" * 35)\n",
    "    print(user_df.loc[UIDX])\n",
    "\n",
    "    ratings = pd.DataFrame(rating_mat.toarray())\n",
    "    user_ratings = ratings.loc[UID]\n",
    "    top_rated_items = np.argsort(user_ratings)[-TOPK:]\n",
    "    print(f\"\\nTOP {TOPK} RATED ITEMS BY USER {UID}:\")\n",
    "    print(\"-\" * 35)\n",
    "    print(user_df.iloc[top_rated_items.array])\n",
    "\n",
    "\n",
    "model = userknn_models.get(\"uknn_cosine\")\n",
    "\n",
    "top_rated_items = user_profiling(4, model, df_user)"
   ]
  },
  {
   "cell_type": "markdown",
   "metadata": {},
   "source": [
    "::: {.callout-tip icon=true}\n",
    "\n",
    "### Question 10 (1.0 points)\n",
    "Haz varios sistemas de recomendación **Item-based** para este conjunto de datos para `k=30` vecinos.\n",
    "\n",
    "Compara la similitud Pearson, la similitud Coseno ajustado y la similitud Coseno. ¿Ayuda el centrado medio?\n",
    "\n",
    "Comprueba diferentes métricas: RMSE, MAE, Precisión.\n",
    ":::"
   ]
  },
  {
   "cell_type": "code",
   "execution_count": 24,
   "metadata": {},
   "outputs": [
    {
     "name": "stdout",
     "output_type": "stream",
     "text": [
      "\n",
      "TEST:\n",
      "...\n",
      "                       |    MAE |   RMSE | Train (s) | Test (s)\n",
      "---------------------- + ------ + ------ + --------- + --------\n",
      "ItemKNN-Cosine         | 0.3571 | 0.3571 |    0.0483 |   0.0016\n",
      "ItemKNN-Pearson        | 0.3571 | 0.3571 |    0.0475 |   0.0015\n",
      "ItemKNN-Pearson-MC     | 0.3571 | 0.3571 |    0.0477 |   0.0014\n",
      "ItemKNN-AdjustedCosine | 0.3571 | 0.3571 |    0.0478 |   0.0014\n",
      "\n"
     ]
    }
   ],
   "source": [
    "def itemknn_cornac(df):\n",
    "    df = df.astype({\"userId\": object, \"productId\": object})\n",
    "    records = df.to_records(index=False)\n",
    "    result = list(records)\n",
    "    K = 50  # number of nearest neighbors\n",
    "    VERBOSE = False\n",
    "    SEED = 42\n",
    "    iknn_cosine = ItemKNN(\n",
    "        k=K, similarity=\"cosine\", name=\"ItemKNN-Cosine\", verbose=VERBOSE\n",
    "    )\n",
    "    iknn_pearson = ItemKNN(\n",
    "        k=K, similarity=\"pearson\", name=\"ItemKNN-Pearson\", verbose=VERBOSE\n",
    "    )\n",
    "    iknn_pearson_mc = ItemKNN(\n",
    "        k=K,\n",
    "        similarity=\"pearson\",\n",
    "        mean_centered=True,\n",
    "        name=\"ItemKNN-Pearson-MC\",\n",
    "        verbose=VERBOSE,\n",
    "    )\n",
    "    iknn_adjusted = ItemKNN(\n",
    "        k=K,\n",
    "        similarity=\"cosine\",\n",
    "        mean_centered=True,\n",
    "        name=\"ItemKNN-AdjustedCosine\",\n",
    "        verbose=VERBOSE,\n",
    "    )\n",
    "\n",
    "    # Metrics\n",
    "    rmse = cornac.metrics.RMSE()\n",
    "    mae = cornac.metrics.MAE()\n",
    "\n",
    "    ratio_split = RatioSplit(result, test_size=0.1, seed=SEED, verbose=VERBOSE)\n",
    "    cornac.Experiment(\n",
    "        eval_method=ratio_split,\n",
    "        models=[iknn_cosine, iknn_pearson, iknn_pearson_mc, iknn_adjusted],\n",
    "        metrics=[rmse, mae],\n",
    "    ).run()\n",
    "    itemknn_models = {\n",
    "        \"iknn_cosine\": iknn_cosine,\n",
    "        \"iknn_pearson\": iknn_pearson,\n",
    "        \"iknn_pearson_mc\": iknn_pearson_mc,\n",
    "        \"iknn_adjusted\": iknn_adjusted,\n",
    "    }\n",
    "    return itemknn_models\n",
    "\n",
    "\n",
    "itemknn_models = itemknn_cornac(df)"
   ]
  },
  {
   "cell_type": "markdown",
   "metadata": {},
   "source": [
    "::: {.callout-tip icon=true}\n",
    "\n",
    "### Question 11 (0.75 points)\n",
    "\n",
    "Convierte la matriz de ratings pronosticadas en el entrenamiento de tu modelo **Item-Based** favorito en un objeto `pd.DataFrame`.\n",
    ":::"
   ]
  },
  {
   "cell_type": "code",
   "execution_count": 25,
   "metadata": {},
   "outputs": [
    {
     "data": {
      "text/html": [
       "<div>\n",
       "<style scoped>\n",
       "    .dataframe tbody tr th:only-of-type {\n",
       "        vertical-align: middle;\n",
       "    }\n",
       "\n",
       "    .dataframe tbody tr th {\n",
       "        vertical-align: top;\n",
       "    }\n",
       "\n",
       "    .dataframe thead th {\n",
       "        text-align: right;\n",
       "    }\n",
       "</style>\n",
       "<table border=\"1\" class=\"dataframe\">\n",
       "  <thead>\n",
       "    <tr style=\"text-align: right;\">\n",
       "      <th></th>\n",
       "      <th>(B000ZKA0J6, 0)</th>\n",
       "      <th>(B007VTVRFA, 1)</th>\n",
       "      <th>(B00DJFIMW6, 2)</th>\n",
       "      <th>(B00503E8S2, 3)</th>\n",
       "      <th>(B00178630A, 4)</th>\n",
       "      <th>(B003VANOFY, 5)</th>\n",
       "      <th>(B0050SYLRK, 6)</th>\n",
       "      <th>(B007FTE2VW, 7)</th>\n",
       "      <th>(B004FYEZMQ, 8)</th>\n",
       "      <th>(B00CMQTVUA, 9)</th>\n",
       "      <th>(B00FAX6XQC, 10)</th>\n",
       "      <th>(B0038TT8QM, 11)</th>\n",
       "      <th>(B00001OWYW, 12)</th>\n",
       "      <th>(B003JVCA9Q, 13)</th>\n",
       "      <th>(B00D4WTO1M, 14)</th>\n",
       "      <th>(B009KS4XRO, 15)</th>\n",
       "      <th>(B0015AARJI, 16)</th>\n",
       "      <th>(B003JVKHEQ, 17)</th>\n",
       "      <th>(B002I098JE, 18)</th>\n",
       "      <th>(B007XVTR3K, 19)</th>\n",
       "    </tr>\n",
       "  </thead>\n",
       "  <tbody>\n",
       "    <tr>\n",
       "      <th>(A2YYMMJFEG3ZG1, 0)</th>\n",
       "      <td>5.0</td>\n",
       "      <td>0.0</td>\n",
       "      <td>0.0</td>\n",
       "      <td>0.0</td>\n",
       "      <td>0.0</td>\n",
       "      <td>0.0</td>\n",
       "      <td>0.0</td>\n",
       "      <td>0.0</td>\n",
       "      <td>0.0</td>\n",
       "      <td>0.0</td>\n",
       "      <td>0.0</td>\n",
       "      <td>0.0</td>\n",
       "      <td>0.0</td>\n",
       "      <td>0.0</td>\n",
       "      <td>0.0</td>\n",
       "      <td>0.0</td>\n",
       "      <td>0.0</td>\n",
       "      <td>0.0</td>\n",
       "      <td>0.0</td>\n",
       "      <td>0.0</td>\n",
       "    </tr>\n",
       "    <tr>\n",
       "      <th>(A196G2C13JQ2EI, 1)</th>\n",
       "      <td>0.0</td>\n",
       "      <td>1.0</td>\n",
       "      <td>0.0</td>\n",
       "      <td>0.0</td>\n",
       "      <td>0.0</td>\n",
       "      <td>0.0</td>\n",
       "      <td>0.0</td>\n",
       "      <td>0.0</td>\n",
       "      <td>0.0</td>\n",
       "      <td>0.0</td>\n",
       "      <td>0.0</td>\n",
       "      <td>0.0</td>\n",
       "      <td>0.0</td>\n",
       "      <td>0.0</td>\n",
       "      <td>0.0</td>\n",
       "      <td>0.0</td>\n",
       "      <td>0.0</td>\n",
       "      <td>0.0</td>\n",
       "      <td>0.0</td>\n",
       "      <td>0.0</td>\n",
       "    </tr>\n",
       "    <tr>\n",
       "      <th>(A418OINFE4WTM, 2)</th>\n",
       "      <td>0.0</td>\n",
       "      <td>0.0</td>\n",
       "      <td>5.0</td>\n",
       "      <td>0.0</td>\n",
       "      <td>0.0</td>\n",
       "      <td>0.0</td>\n",
       "      <td>0.0</td>\n",
       "      <td>0.0</td>\n",
       "      <td>0.0</td>\n",
       "      <td>0.0</td>\n",
       "      <td>0.0</td>\n",
       "      <td>0.0</td>\n",
       "      <td>0.0</td>\n",
       "      <td>0.0</td>\n",
       "      <td>0.0</td>\n",
       "      <td>0.0</td>\n",
       "      <td>0.0</td>\n",
       "      <td>0.0</td>\n",
       "      <td>0.0</td>\n",
       "      <td>0.0</td>\n",
       "    </tr>\n",
       "    <tr>\n",
       "      <th>(A26OALL5BYR5UH, 3)</th>\n",
       "      <td>0.0</td>\n",
       "      <td>0.0</td>\n",
       "      <td>0.0</td>\n",
       "      <td>3.0</td>\n",
       "      <td>0.0</td>\n",
       "      <td>0.0</td>\n",
       "      <td>0.0</td>\n",
       "      <td>0.0</td>\n",
       "      <td>0.0</td>\n",
       "      <td>0.0</td>\n",
       "      <td>0.0</td>\n",
       "      <td>0.0</td>\n",
       "      <td>0.0</td>\n",
       "      <td>0.0</td>\n",
       "      <td>0.0</td>\n",
       "      <td>0.0</td>\n",
       "      <td>0.0</td>\n",
       "      <td>0.0</td>\n",
       "      <td>0.0</td>\n",
       "      <td>0.0</td>\n",
       "    </tr>\n",
       "    <tr>\n",
       "      <th>(A33I59E9I8YHZK, 4)</th>\n",
       "      <td>0.0</td>\n",
       "      <td>0.0</td>\n",
       "      <td>4.0</td>\n",
       "      <td>0.0</td>\n",
       "      <td>0.0</td>\n",
       "      <td>0.0</td>\n",
       "      <td>0.0</td>\n",
       "      <td>0.0</td>\n",
       "      <td>0.0</td>\n",
       "      <td>0.0</td>\n",
       "      <td>0.0</td>\n",
       "      <td>0.0</td>\n",
       "      <td>0.0</td>\n",
       "      <td>0.0</td>\n",
       "      <td>0.0</td>\n",
       "      <td>0.0</td>\n",
       "      <td>0.0</td>\n",
       "      <td>0.0</td>\n",
       "      <td>0.0</td>\n",
       "      <td>0.0</td>\n",
       "    </tr>\n",
       "  </tbody>\n",
       "</table>\n",
       "</div>"
      ],
      "text/plain": [
       "                     (B000ZKA0J6, 0)  (B007VTVRFA, 1)  (B00DJFIMW6, 2)  \\\n",
       "(A2YYMMJFEG3ZG1, 0)              5.0              0.0              0.0   \n",
       "(A196G2C13JQ2EI, 1)              0.0              1.0              0.0   \n",
       "(A418OINFE4WTM, 2)               0.0              0.0              5.0   \n",
       "(A26OALL5BYR5UH, 3)              0.0              0.0              0.0   \n",
       "(A33I59E9I8YHZK, 4)              0.0              0.0              4.0   \n",
       "\n",
       "                     (B00503E8S2, 3)  (B00178630A, 4)  (B003VANOFY, 5)  \\\n",
       "(A2YYMMJFEG3ZG1, 0)              0.0              0.0              0.0   \n",
       "(A196G2C13JQ2EI, 1)              0.0              0.0              0.0   \n",
       "(A418OINFE4WTM, 2)               0.0              0.0              0.0   \n",
       "(A26OALL5BYR5UH, 3)              3.0              0.0              0.0   \n",
       "(A33I59E9I8YHZK, 4)              0.0              0.0              0.0   \n",
       "\n",
       "                     (B0050SYLRK, 6)  (B007FTE2VW, 7)  (B004FYEZMQ, 8)  \\\n",
       "(A2YYMMJFEG3ZG1, 0)              0.0              0.0              0.0   \n",
       "(A196G2C13JQ2EI, 1)              0.0              0.0              0.0   \n",
       "(A418OINFE4WTM, 2)               0.0              0.0              0.0   \n",
       "(A26OALL5BYR5UH, 3)              0.0              0.0              0.0   \n",
       "(A33I59E9I8YHZK, 4)              0.0              0.0              0.0   \n",
       "\n",
       "                     (B00CMQTVUA, 9)  (B00FAX6XQC, 10)  (B0038TT8QM, 11)  \\\n",
       "(A2YYMMJFEG3ZG1, 0)              0.0               0.0               0.0   \n",
       "(A196G2C13JQ2EI, 1)              0.0               0.0               0.0   \n",
       "(A418OINFE4WTM, 2)               0.0               0.0               0.0   \n",
       "(A26OALL5BYR5UH, 3)              0.0               0.0               0.0   \n",
       "(A33I59E9I8YHZK, 4)              0.0               0.0               0.0   \n",
       "\n",
       "                     (B00001OWYW, 12)  (B003JVCA9Q, 13)  (B00D4WTO1M, 14)  \\\n",
       "(A2YYMMJFEG3ZG1, 0)               0.0               0.0               0.0   \n",
       "(A196G2C13JQ2EI, 1)               0.0               0.0               0.0   \n",
       "(A418OINFE4WTM, 2)                0.0               0.0               0.0   \n",
       "(A26OALL5BYR5UH, 3)               0.0               0.0               0.0   \n",
       "(A33I59E9I8YHZK, 4)               0.0               0.0               0.0   \n",
       "\n",
       "                     (B009KS4XRO, 15)  (B0015AARJI, 16)  (B003JVKHEQ, 17)  \\\n",
       "(A2YYMMJFEG3ZG1, 0)               0.0               0.0               0.0   \n",
       "(A196G2C13JQ2EI, 1)               0.0               0.0               0.0   \n",
       "(A418OINFE4WTM, 2)                0.0               0.0               0.0   \n",
       "(A26OALL5BYR5UH, 3)               0.0               0.0               0.0   \n",
       "(A33I59E9I8YHZK, 4)               0.0               0.0               0.0   \n",
       "\n",
       "                     (B002I098JE, 18)  (B007XVTR3K, 19)  \n",
       "(A2YYMMJFEG3ZG1, 0)               0.0               0.0  \n",
       "(A196G2C13JQ2EI, 1)               0.0               0.0  \n",
       "(A418OINFE4WTM, 2)                0.0               0.0  \n",
       "(A26OALL5BYR5UH, 3)               0.0               0.0  \n",
       "(A33I59E9I8YHZK, 4)               0.0               0.0  "
      ]
     },
     "execution_count": 25,
     "metadata": {},
     "output_type": "execute_result"
    }
   ],
   "source": [
    "predicted_ratings = pd.DataFrame(\n",
    "    model.train_set.matrix.toarray(),\n",
    "    columns=list(model.train_set.iid_map.items()),\n",
    "    index=list(model.train_set.uid_map.items()),\n",
    ")\n",
    "predicted_ratings.head()"
   ]
  },
  {
   "cell_type": "markdown",
   "metadata": {},
   "source": [
    "::: {.callout-tip icon=true}\n",
    "\n",
    "### Question 12 (0.75 points)\n",
    "\n",
    "¿Qué puntuación recibe el artículo `'B002I098JE` del usuario `'A7B5JEED0RKXG'` según este modelo?\n",
    "\n",
    "¿Y según el model User-based?\n",
    "\n",
    ":::"
   ]
  },
  {
   "cell_type": "code",
   "execution_count": 26,
   "metadata": {},
   "outputs": [],
   "source": [
    "item_model = itemknn_models.get(\"iknn_adjusted\")"
   ]
  },
  {
   "cell_type": "code",
   "execution_count": 27,
   "metadata": {},
   "outputs": [
    {
     "data": {
      "text/plain": [
       "18"
      ]
     },
     "execution_count": 27,
     "metadata": {},
     "output_type": "execute_result"
    }
   ],
   "source": [
    "item_model.train_set.iid_map.get(\"B002I098JE\")"
   ]
  },
  {
   "cell_type": "code",
   "execution_count": 28,
   "metadata": {},
   "outputs": [
    {
     "data": {
      "text/plain": [
       "40"
      ]
     },
     "execution_count": 28,
     "metadata": {},
     "output_type": "execute_result"
    }
   ],
   "source": [
    "item_model.train_set.uid_map.get(\"A7B5JEED0RKXG\")"
   ]
  },
  {
   "cell_type": "code",
   "execution_count": 29,
   "metadata": {},
   "outputs": [
    {
     "data": {
      "text/plain": [
       "5.0"
      ]
     },
     "execution_count": 29,
     "metadata": {},
     "output_type": "execute_result"
    }
   ],
   "source": [
    "item_model.score(50, 18)"
   ]
  },
  {
   "cell_type": "markdown",
   "metadata": {},
   "source": [
    "::: {.callout-tip icon=true}\n",
    "\n",
    "### Question 13 (1 points)\n",
    "\n",
    "Haz un sistema de recomendación utilizando SVD para este dataset con k=100, otro para k=150 y otro para k=200. \n",
    "\n",
    ":::"
   ]
  },
  {
   "cell_type": "code",
   "execution_count": 30,
   "metadata": {},
   "outputs": [
    {
     "name": "stdout",
     "output_type": "stream",
     "text": [
      "\n",
      "TEST:\n",
      "...\n",
      "      |   RMSE | Train (s) | Test (s)\n",
      "----- + ------ + --------- + --------\n",
      "SVD2  | 1.0905 |    0.0022 |   0.0009\n",
      "SVD7  | 1.0684 |    0.0033 |   0.0007\n",
      "SVD12 | 1.0512 |    0.0043 |   0.0007\n",
      "SVD17 | 1.0221 |    0.0049 |   0.0008\n",
      "SVD22 | 1.0707 |    0.0064 |   0.0007\n",
      "\n"
     ]
    }
   ],
   "source": [
    "from cornac.models import UserKNN, ItemKNN, SVD\n",
    "\n",
    "\n",
    "def svd_cornac(df, k_min=5, k_max=2000, step=100):\n",
    "    df = df.astype({\"userId\": object, \"productId\": object})\n",
    "    records = df.to_records(index=False)\n",
    "    result = list(records)\n",
    "\n",
    "    VERBOSE = False\n",
    "    SEED = 42\n",
    "\n",
    "    svd_models = []\n",
    "    k_values = np.arange(k_min, k_max, step)\n",
    "    for k in k_values:\n",
    "        svd_models.append(SVD(name=\"SVD\" + str(k), k=k))\n",
    "\n",
    "    # Metrics\n",
    "    rmse = cornac.metrics.RMSE()\n",
    "\n",
    "    ratio_split = RatioSplit(result, test_size=0.1, seed=SEED, verbose=VERBOSE)\n",
    "    svd_experiment = cornac.Experiment(\n",
    "        eval_method=ratio_split,\n",
    "        models=svd_models,\n",
    "        show_validation=True,\n",
    "        metrics=[rmse],\n",
    "    )\n",
    "    svd_experiment.run()\n",
    "\n",
    "    return svd_models, svd_experiment\n",
    "\n",
    "\n",
    "svd_models, svd_experiment = svd_cornac(df, 2, 25, 5)"
   ]
  },
  {
   "cell_type": "markdown",
   "metadata": {},
   "source": [
    "::: {.callout-tip icon=true}\n",
    "\n",
    "### Question 14 (0.75 points)\n",
    "\n",
    "Selecciona uno de los modelos de SVD, elige a un usuario y recomiéndale 5 productos, luego imprime las puntuaciones que les otorgaría a esos productos.\n",
    "\n",
    ":::"
   ]
  },
  {
   "cell_type": "code",
   "execution_count": 31,
   "metadata": {},
   "outputs": [],
   "source": [
    "svd = svd_models[0]"
   ]
  },
  {
   "cell_type": "code",
   "execution_count": 32,
   "metadata": {},
   "outputs": [
    {
     "name": "stdout",
     "output_type": "stream",
     "text": [
      "Name of Model: SVD2\n",
      "Target UserId A8WEWLW72ZF3S\n",
      "Recommended products: ['B00DJFIMW6' 'B00CMQTVUA' 'B002I098JE' 'B0050SYLRK' 'B002I098JE']\n",
      "Predicted scoreds:  [4.7447906 4.41736   4.0588737 4.053536  3.8982158]\n"
     ]
    }
   ],
   "source": [
    "def recommend_products(index, model, data, num_products=5):\n",
    "\n",
    "    print(\"Name of Model:\", svd.name)\n",
    "\n",
    "    # Rank all test items for a given user.\n",
    "    df_rank = pd.DataFrame(\n",
    "        {\"ranked_items\": model.rank(index)[0], \"item_scores\": model.rank(index)[1]},\n",
    "        columns=[\"ranked_items\", \"item_scores\"],\n",
    "    )\n",
    "    print(\"Target UserId\", data.iloc[index].userId)\n",
    "\n",
    "    df_rank.sort_values(\"item_scores\", ascending=False, inplace=True)\n",
    "\n",
    "    print(\n",
    "        \"Recommended products:\",\n",
    "        data.iloc[df_rank.head(num_products).ranked_items.values][\"productId\"].values,\n",
    "    )\n",
    "    print(\"Predicted scoreds: \", df_rank.head(num_products).item_scores.values)\n",
    "\n",
    "\n",
    "recommend_products(1, svd, df)"
   ]
  },
  {
   "cell_type": "markdown",
   "metadata": {},
   "source": [
    "---"
   ]
  },
  {
   "cell_type": "markdown",
   "metadata": {},
   "source": []
  }
 ],
 "metadata": {
  "kernelspec": {
   "display_name": "envml3",
   "language": "python",
   "name": "python3"
  },
  "language_info": {
   "codemirror_mode": {
    "name": "ipython",
    "version": 3
   },
   "file_extension": ".py",
   "mimetype": "text/x-python",
   "name": "python",
   "nbconvert_exporter": "python",
   "pygments_lexer": "ipython3",
   "version": "3.12.3"
  }
 },
 "nbformat": 4,
 "nbformat_minor": 2
}
