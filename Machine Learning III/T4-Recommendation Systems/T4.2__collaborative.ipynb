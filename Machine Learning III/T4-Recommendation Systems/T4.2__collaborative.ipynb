{
 "cells": [
  {
   "cell_type": "markdown",
   "metadata": {},
   "source": [
    "## **4.2 Model-Based Collaborative Filtering**\n",
    "\n",
    "Model-based recommender systems often have a number of advantages over neighborhood-based methods:\n",
    "1. **Space-efficiency**: Typically, the size of the learned model is much smaller than the original ratings matrix. Thus, the space requirements are often quite low. On the other hand, a user-based neighborhood method might have $O(m^2)$ space complexity, where $m$ is the number of users. An item-based method will have $O(n^2)$ space complexity.\n",
    "   \n",
    "2. **Training speed and prediction speed**: One problem with neighborhood-based methods is that the pre-processing stage is quadratic in either the number of users or the number of items. Model-based systems are usually much faster in the preprocessing phase of constructing the trained model. In most cases, the compact and summarized model can be used to make predictions efficiently.\n",
    "   \n",
    "3. **Avoiding overfitting**: Overfitting is a serious problem in many machine learning algorithms, in which the prediction is overly influenced by random artifacts in the data. This problem is also encountered in classification and regression models. The sum- marization approach of model-based methods can often help in avoiding overfitting. Furthermore, regularization methods can be used to make these models robust."
   ]
  },
  {
   "cell_type": "markdown",
   "metadata": {},
   "source": [
    "### **4.2.1 Matrix Factorisation**\n",
    "\n",
    "Matrix factorisation is a class of collaborative filtering models. Specifically, the model factorises the user-item interaction matrix (i.e. rating matrix) into the product of two lower-rank matrices, capturing the low-rank structure of the user-item interactions. \n",
    "\n",
    "Let $\\mathbf{Y} \\in \\mathbb{R}^{m\\times n}$ denote the interaction matrix with $m$ users and $n$ items, and the value of $\\mathbf{Y}$ represent explicit ratings. The user-item interaction will be factorised into a user latent matrix $\\mathbf{P}\\in \\mathbb{R}^{m \\times k}$ and an item latent matrix $\\mathbf{Q} \\in \\mathbb{R}^{n \\times k}$, where $k<<m,n$ is the latent factor size.\n",
    "\n",
    " Let $p_{u}$ denote the $u^{th}$ row of $\\mathbf{P}$ and $q_{i}$ denote the $i^{th}$ row of $\\mathbf{Q}$. \n",
    " \n",
    " - For a given item $i$, the elements of $q_{i}$ measure the extent to which the item possesses those characteristics such as the genres and languages of a movie. \n",
    " \n",
    " - For a given user $u$, the elements of $p_{u}$ measure the extent of interest the user has in items’ corresponding characteristics. \n",
    " \n",
    " These latent factors might measure obvious dimensions as mentioned in those examples or are completely uninterpretable. The predicted ratings can be estimated by, \n",
    "\n",
    " $$ \\hat{\\mathbf{Y}} = \\mathbf{P}\\mathbf{Q}^{T}$$\n",
    "\n",
    " where  $\\hat{\\mathbf{Y}} \\in \\mathbb{R}^{m \\times n}$ is the predicted rating matrix which has the same shape as $\\mathbf{Y}$.\n",
    "\n",
    "\n",
    "---"
   ]
  },
  {
   "cell_type": "markdown",
   "metadata": {},
   "source": [
    "### **4.2.2 Singular Value Decomposition (SVD)**\n",
    "\n",
    "For any real matrix $ M \\in \\mathbb{R}^{m \\times n} $, we can decompose $M$ into three matrices (a rotation, followed by a rescaling followed by another rotation - rescaling can include a flip too) such as:\n",
    "\n",
    "$$ M = U \\Sigma V^T $$\n",
    "\n",
    "where $ U \\in \\mathbb{R}^{m \\times m} $ has orthonormal columns, $ \\Sigma \\in \\mathbb{R}^{m \\times n} $ is a matrix containing $D = \\mathrm{min}(m,n)$ singular values $ \\sigma_i \\geq 0 $ on the main diagonal, and $ V \\in \\mathbb{R}^{n \\times n} $ has orthonormal columns and rows.\n",
    "When $ \\Sigma \\in \\mathbb{R}^{m \\times k} $ where $k<<m,n$ we talk about $\\textit{truncated}$ SVD.\n",
    "\n",
    "\n",
    "---"
   ]
  },
  {
   "cell_type": "markdown",
   "metadata": {},
   "source": [
    "<img src=\"https://upload.wikimedia.org/wikipedia/commons/b/bb/Singular-Value-Decomposition.svg\" width=\"500\" height=\"500\" />"
   ]
  },
  {
   "cell_type": "markdown",
   "metadata": {},
   "source": [
    "(https://www.youtube.com/watch?v=CpD9XlTu3ys)"
   ]
  },
  {
   "cell_type": "markdown",
   "metadata": {},
   "source": [
    "---\n",
    "\n",
    "\n",
    "Therefore, we can view the recommender problem as one of matrix completion, in which we wish to predict all the missing entries of $\\mathbf{Y}$. \n",
    "\n",
    "We can formulate this as the following optimization problem:\n",
    "\n",
    "$$\\mathcal{L}(\\mathbf{\\hat{Y}}) = \\sum_{ij:Y_{ij} \\neq ?} (\\hat{Y}_{ij} - Y_{ij})^{2} = ||\\mathbf{\\hat{Y}} - \\mathbf{Y}||^{2}$$\n",
    "\n",
    "If we observe all the $Y_{ij}$ entries, we can find the optima $\\hat{\\mathbf{Y}}$ using $\\mathbf{SVD}$. \n",
    "\n",
    "When $\\mathbf{Y}$ has missing entries, the objective function is no longer convex, and does not have a unique optimum (do you know why?). We can fit this using:\n",
    "- **Alternating least squares (ALS)**, where we estimate $\\mathbf{Q}$ given $\\mathbf{P}$ and then estimate $\\mathbf{P}$ given $\\mathbf{Q}$. \n",
    "\n",
    "- **$\\mathbf{SGD}$**. (the one we are going to be using)\n",
    "\n",
    "In practice, it is important to also allow for user-specific $b_{u}$ and item-specific baselines $c_{i}$, and also $\\mu$ the global mean of the entire rating matrix. To do so, we introduce biases in the optimisation problem. Specifically, the **predicted rating user** gives to item  is calculated by,\n",
    "\n",
    "- Matrix Decomposition:\n",
    "\n",
    "$$\\hat{y}_{ui} = p_{u}q_{i}^{T} + \\mu + b_{u} + c_{i} $$\n",
    "\n",
    "- SVD:\n",
    "\n",
    "$$\\hat{y}_{ui} = U\\Sigma V^{T} + \\mu + b_{u} + c_{i} $$\n",
    "\n",
    "This can capture the fact that some users might always tend to give low ratings and others may give high ratings; in addition, some items (e.g., very popular movies) might have unusually high ratings.\n",
    "\n",
    "In addition, we can add some $\\ell_{2}$ regularisation to the parameters to get the objective, \n",
    "\n",
    "$$\\mathcal{L}(\\theta) = \\sum_{ij:Y_{ij} \\neq ?} (y_{ij} - \\hat{y}_{ij})^{2} + \\frac{\\lambda}{2}(b^{2}_{u} + c_{i}^{2} + ||p_{u}||^{2} + ||q_{i}||^{2})$$\n",
    "\n",
    "where $\\lambda$ denotes the regularisation rate. The regularising term is used to avoid over-fitting by penalising the magnitude of the parameters. \n",
    "\n",
    "We can optimize this using SGD by sampling a random $(u, i)$ entry from the set of observed values, and performing the following updates:\n",
    "\n",
    "$$b_{u} = b_{u} + \\eta(e_{ui} - \\lambda b_{u})$$\n",
    "\n",
    "$$c_{i} = c_{i} + \\eta(e_{ui} - \\lambda c_{i})$$\n",
    "\n",
    "$$\\mathbf{p}_{u} = \\mathbf{p}_{u} + \\eta(e_{ui}\\mathbf{q}_{i} - \\lambda \\mathbf{p}_{u})$$\n",
    "\n",
    "$$\\mathbf{q}_{i} = \\mathbf{q}_{i} + \\eta(e_{ui}\\mathbf{p}_{u} - \\lambda \\mathbf{q}_{i} )$$\n",
    "\n",
    "where $e_{ui} = y_{ui} − \\hat{y}_{ui}$ is the error term, and $\\eta >0$ is the learning rate. \n",
    "\n",
    "This approach was first proposed by Simon Funk, who was one of the first to do well in the early days of the Netflix competition (https://sifter.org/~simon/journal/20061211.html)"
   ]
  },
  {
   "cell_type": "markdown",
   "metadata": {},
   "source": [
    "---\n",
    "\n",
    "Let us remember the RMSE (root-mean-square error) measure, which is commonly used to measure the differences between rating scores predicted by the model and the actually observed ratings (ground truth) (Gunawardana and Shani, 2015). RMSE is defined as:\n",
    "\n",
    "$$ RMSE = \\sqrt{\\frac{1}{|\\mathcal{T}|}\\sum_{(u,i)\\in \\mathcal{T}} (Y_{ui} - \\hat{Y}_{ui})^{2}} $$\n",
    "\n",
    "where $\\mathcal{T}$ is the set consisting of pairs of users and items that you want to evaluate on, and $|\\mathcal{T}|$ is the size of the set. "
   ]
  },
  {
   "cell_type": "markdown",
   "metadata": {},
   "source": [
    "---\n",
    "\n",
    "### **Example: MovieLens**"
   ]
  },
  {
   "cell_type": "markdown",
   "metadata": {},
   "source": [
    "Now suppose we apply PMF to the MovieLens-1M dataset with 6040 users, 3706 movies, and 1,000,209 ratings. \n",
    "\n",
    "For simplicity, we fit this using SVD applied to the dense ratings matrix, where we replace missing values with 0. (This is just a simple approximation to keep the demo code simple.) "
   ]
  },
  {
   "cell_type": "code",
   "execution_count": 1,
   "metadata": {},
   "outputs": [],
   "source": [
    "import pandas as pd\n",
    "import numpy as np\n",
    "import matplotlib.pyplot as plt\n",
    "\n",
    "DATA_DIR = \"./collaborative_based/memory/ml-latest-small/\""
   ]
  },
  {
   "cell_type": "code",
   "execution_count": 2,
   "metadata": {},
   "outputs": [
    {
     "ename": "FileNotFoundError",
     "evalue": "[Errno 2] No such file or directory: './collaborative_based/memory/ml-latest-small/ratings.csv'",
     "output_type": "error",
     "traceback": [
      "\u001b[0;31m---------------------------------------------------------------------------\u001b[0m",
      "\u001b[0;31mFileNotFoundError\u001b[0m                         Traceback (most recent call last)",
      "Cell \u001b[0;32mIn[2], line 1\u001b[0m\n\u001b[0;32m----> 1\u001b[0m ratings_df \u001b[38;5;241m=\u001b[39m \u001b[43mpd\u001b[49m\u001b[38;5;241;43m.\u001b[39;49m\u001b[43mread_csv\u001b[49m\u001b[43m(\u001b[49m\u001b[43mDATA_DIR\u001b[49m\u001b[43m \u001b[49m\u001b[38;5;241;43m+\u001b[39;49m\u001b[43m \u001b[49m\u001b[38;5;124;43m\"\u001b[39;49m\u001b[38;5;124;43mratings.csv\u001b[39;49m\u001b[38;5;124;43m\"\u001b[39;49m\u001b[43m)\u001b[49m\n\u001b[1;32m      2\u001b[0m movies_df \u001b[38;5;241m=\u001b[39m pd\u001b[38;5;241m.\u001b[39mread_csv(DATA_DIR \u001b[38;5;241m+\u001b[39m \u001b[38;5;124m\"\u001b[39m\u001b[38;5;124mmovies.csv\u001b[39m\u001b[38;5;124m\"\u001b[39m)\n",
      "File \u001b[0;32m/Library/Frameworks/Python.framework/Versions/3.12/lib/python3.12/site-packages/pandas/io/parsers/readers.py:1026\u001b[0m, in \u001b[0;36mread_csv\u001b[0;34m(filepath_or_buffer, sep, delimiter, header, names, index_col, usecols, dtype, engine, converters, true_values, false_values, skipinitialspace, skiprows, skipfooter, nrows, na_values, keep_default_na, na_filter, verbose, skip_blank_lines, parse_dates, infer_datetime_format, keep_date_col, date_parser, date_format, dayfirst, cache_dates, iterator, chunksize, compression, thousands, decimal, lineterminator, quotechar, quoting, doublequote, escapechar, comment, encoding, encoding_errors, dialect, on_bad_lines, delim_whitespace, low_memory, memory_map, float_precision, storage_options, dtype_backend)\u001b[0m\n\u001b[1;32m   1013\u001b[0m kwds_defaults \u001b[38;5;241m=\u001b[39m _refine_defaults_read(\n\u001b[1;32m   1014\u001b[0m     dialect,\n\u001b[1;32m   1015\u001b[0m     delimiter,\n\u001b[0;32m   (...)\u001b[0m\n\u001b[1;32m   1022\u001b[0m     dtype_backend\u001b[38;5;241m=\u001b[39mdtype_backend,\n\u001b[1;32m   1023\u001b[0m )\n\u001b[1;32m   1024\u001b[0m kwds\u001b[38;5;241m.\u001b[39mupdate(kwds_defaults)\n\u001b[0;32m-> 1026\u001b[0m \u001b[38;5;28;01mreturn\u001b[39;00m \u001b[43m_read\u001b[49m\u001b[43m(\u001b[49m\u001b[43mfilepath_or_buffer\u001b[49m\u001b[43m,\u001b[49m\u001b[43m \u001b[49m\u001b[43mkwds\u001b[49m\u001b[43m)\u001b[49m\n",
      "File \u001b[0;32m/Library/Frameworks/Python.framework/Versions/3.12/lib/python3.12/site-packages/pandas/io/parsers/readers.py:620\u001b[0m, in \u001b[0;36m_read\u001b[0;34m(filepath_or_buffer, kwds)\u001b[0m\n\u001b[1;32m    617\u001b[0m _validate_names(kwds\u001b[38;5;241m.\u001b[39mget(\u001b[38;5;124m\"\u001b[39m\u001b[38;5;124mnames\u001b[39m\u001b[38;5;124m\"\u001b[39m, \u001b[38;5;28;01mNone\u001b[39;00m))\n\u001b[1;32m    619\u001b[0m \u001b[38;5;66;03m# Create the parser.\u001b[39;00m\n\u001b[0;32m--> 620\u001b[0m parser \u001b[38;5;241m=\u001b[39m \u001b[43mTextFileReader\u001b[49m\u001b[43m(\u001b[49m\u001b[43mfilepath_or_buffer\u001b[49m\u001b[43m,\u001b[49m\u001b[43m \u001b[49m\u001b[38;5;241;43m*\u001b[39;49m\u001b[38;5;241;43m*\u001b[39;49m\u001b[43mkwds\u001b[49m\u001b[43m)\u001b[49m\n\u001b[1;32m    622\u001b[0m \u001b[38;5;28;01mif\u001b[39;00m chunksize \u001b[38;5;129;01mor\u001b[39;00m iterator:\n\u001b[1;32m    623\u001b[0m     \u001b[38;5;28;01mreturn\u001b[39;00m parser\n",
      "File \u001b[0;32m/Library/Frameworks/Python.framework/Versions/3.12/lib/python3.12/site-packages/pandas/io/parsers/readers.py:1620\u001b[0m, in \u001b[0;36mTextFileReader.__init__\u001b[0;34m(self, f, engine, **kwds)\u001b[0m\n\u001b[1;32m   1617\u001b[0m     \u001b[38;5;28mself\u001b[39m\u001b[38;5;241m.\u001b[39moptions[\u001b[38;5;124m\"\u001b[39m\u001b[38;5;124mhas_index_names\u001b[39m\u001b[38;5;124m\"\u001b[39m] \u001b[38;5;241m=\u001b[39m kwds[\u001b[38;5;124m\"\u001b[39m\u001b[38;5;124mhas_index_names\u001b[39m\u001b[38;5;124m\"\u001b[39m]\n\u001b[1;32m   1619\u001b[0m \u001b[38;5;28mself\u001b[39m\u001b[38;5;241m.\u001b[39mhandles: IOHandles \u001b[38;5;241m|\u001b[39m \u001b[38;5;28;01mNone\u001b[39;00m \u001b[38;5;241m=\u001b[39m \u001b[38;5;28;01mNone\u001b[39;00m\n\u001b[0;32m-> 1620\u001b[0m \u001b[38;5;28mself\u001b[39m\u001b[38;5;241m.\u001b[39m_engine \u001b[38;5;241m=\u001b[39m \u001b[38;5;28;43mself\u001b[39;49m\u001b[38;5;241;43m.\u001b[39;49m\u001b[43m_make_engine\u001b[49m\u001b[43m(\u001b[49m\u001b[43mf\u001b[49m\u001b[43m,\u001b[49m\u001b[43m \u001b[49m\u001b[38;5;28;43mself\u001b[39;49m\u001b[38;5;241;43m.\u001b[39;49m\u001b[43mengine\u001b[49m\u001b[43m)\u001b[49m\n",
      "File \u001b[0;32m/Library/Frameworks/Python.framework/Versions/3.12/lib/python3.12/site-packages/pandas/io/parsers/readers.py:1880\u001b[0m, in \u001b[0;36mTextFileReader._make_engine\u001b[0;34m(self, f, engine)\u001b[0m\n\u001b[1;32m   1878\u001b[0m     \u001b[38;5;28;01mif\u001b[39;00m \u001b[38;5;124m\"\u001b[39m\u001b[38;5;124mb\u001b[39m\u001b[38;5;124m\"\u001b[39m \u001b[38;5;129;01mnot\u001b[39;00m \u001b[38;5;129;01min\u001b[39;00m mode:\n\u001b[1;32m   1879\u001b[0m         mode \u001b[38;5;241m+\u001b[39m\u001b[38;5;241m=\u001b[39m \u001b[38;5;124m\"\u001b[39m\u001b[38;5;124mb\u001b[39m\u001b[38;5;124m\"\u001b[39m\n\u001b[0;32m-> 1880\u001b[0m \u001b[38;5;28mself\u001b[39m\u001b[38;5;241m.\u001b[39mhandles \u001b[38;5;241m=\u001b[39m \u001b[43mget_handle\u001b[49m\u001b[43m(\u001b[49m\n\u001b[1;32m   1881\u001b[0m \u001b[43m    \u001b[49m\u001b[43mf\u001b[49m\u001b[43m,\u001b[49m\n\u001b[1;32m   1882\u001b[0m \u001b[43m    \u001b[49m\u001b[43mmode\u001b[49m\u001b[43m,\u001b[49m\n\u001b[1;32m   1883\u001b[0m \u001b[43m    \u001b[49m\u001b[43mencoding\u001b[49m\u001b[38;5;241;43m=\u001b[39;49m\u001b[38;5;28;43mself\u001b[39;49m\u001b[38;5;241;43m.\u001b[39;49m\u001b[43moptions\u001b[49m\u001b[38;5;241;43m.\u001b[39;49m\u001b[43mget\u001b[49m\u001b[43m(\u001b[49m\u001b[38;5;124;43m\"\u001b[39;49m\u001b[38;5;124;43mencoding\u001b[39;49m\u001b[38;5;124;43m\"\u001b[39;49m\u001b[43m,\u001b[49m\u001b[43m \u001b[49m\u001b[38;5;28;43;01mNone\u001b[39;49;00m\u001b[43m)\u001b[49m\u001b[43m,\u001b[49m\n\u001b[1;32m   1884\u001b[0m \u001b[43m    \u001b[49m\u001b[43mcompression\u001b[49m\u001b[38;5;241;43m=\u001b[39;49m\u001b[38;5;28;43mself\u001b[39;49m\u001b[38;5;241;43m.\u001b[39;49m\u001b[43moptions\u001b[49m\u001b[38;5;241;43m.\u001b[39;49m\u001b[43mget\u001b[49m\u001b[43m(\u001b[49m\u001b[38;5;124;43m\"\u001b[39;49m\u001b[38;5;124;43mcompression\u001b[39;49m\u001b[38;5;124;43m\"\u001b[39;49m\u001b[43m,\u001b[49m\u001b[43m \u001b[49m\u001b[38;5;28;43;01mNone\u001b[39;49;00m\u001b[43m)\u001b[49m\u001b[43m,\u001b[49m\n\u001b[1;32m   1885\u001b[0m \u001b[43m    \u001b[49m\u001b[43mmemory_map\u001b[49m\u001b[38;5;241;43m=\u001b[39;49m\u001b[38;5;28;43mself\u001b[39;49m\u001b[38;5;241;43m.\u001b[39;49m\u001b[43moptions\u001b[49m\u001b[38;5;241;43m.\u001b[39;49m\u001b[43mget\u001b[49m\u001b[43m(\u001b[49m\u001b[38;5;124;43m\"\u001b[39;49m\u001b[38;5;124;43mmemory_map\u001b[39;49m\u001b[38;5;124;43m\"\u001b[39;49m\u001b[43m,\u001b[49m\u001b[43m \u001b[49m\u001b[38;5;28;43;01mFalse\u001b[39;49;00m\u001b[43m)\u001b[49m\u001b[43m,\u001b[49m\n\u001b[1;32m   1886\u001b[0m \u001b[43m    \u001b[49m\u001b[43mis_text\u001b[49m\u001b[38;5;241;43m=\u001b[39;49m\u001b[43mis_text\u001b[49m\u001b[43m,\u001b[49m\n\u001b[1;32m   1887\u001b[0m \u001b[43m    \u001b[49m\u001b[43merrors\u001b[49m\u001b[38;5;241;43m=\u001b[39;49m\u001b[38;5;28;43mself\u001b[39;49m\u001b[38;5;241;43m.\u001b[39;49m\u001b[43moptions\u001b[49m\u001b[38;5;241;43m.\u001b[39;49m\u001b[43mget\u001b[49m\u001b[43m(\u001b[49m\u001b[38;5;124;43m\"\u001b[39;49m\u001b[38;5;124;43mencoding_errors\u001b[39;49m\u001b[38;5;124;43m\"\u001b[39;49m\u001b[43m,\u001b[49m\u001b[43m \u001b[49m\u001b[38;5;124;43m\"\u001b[39;49m\u001b[38;5;124;43mstrict\u001b[39;49m\u001b[38;5;124;43m\"\u001b[39;49m\u001b[43m)\u001b[49m\u001b[43m,\u001b[49m\n\u001b[1;32m   1888\u001b[0m \u001b[43m    \u001b[49m\u001b[43mstorage_options\u001b[49m\u001b[38;5;241;43m=\u001b[39;49m\u001b[38;5;28;43mself\u001b[39;49m\u001b[38;5;241;43m.\u001b[39;49m\u001b[43moptions\u001b[49m\u001b[38;5;241;43m.\u001b[39;49m\u001b[43mget\u001b[49m\u001b[43m(\u001b[49m\u001b[38;5;124;43m\"\u001b[39;49m\u001b[38;5;124;43mstorage_options\u001b[39;49m\u001b[38;5;124;43m\"\u001b[39;49m\u001b[43m,\u001b[49m\u001b[43m \u001b[49m\u001b[38;5;28;43;01mNone\u001b[39;49;00m\u001b[43m)\u001b[49m\u001b[43m,\u001b[49m\n\u001b[1;32m   1889\u001b[0m \u001b[43m\u001b[49m\u001b[43m)\u001b[49m\n\u001b[1;32m   1890\u001b[0m \u001b[38;5;28;01massert\u001b[39;00m \u001b[38;5;28mself\u001b[39m\u001b[38;5;241m.\u001b[39mhandles \u001b[38;5;129;01mis\u001b[39;00m \u001b[38;5;129;01mnot\u001b[39;00m \u001b[38;5;28;01mNone\u001b[39;00m\n\u001b[1;32m   1891\u001b[0m f \u001b[38;5;241m=\u001b[39m \u001b[38;5;28mself\u001b[39m\u001b[38;5;241m.\u001b[39mhandles\u001b[38;5;241m.\u001b[39mhandle\n",
      "File \u001b[0;32m/Library/Frameworks/Python.framework/Versions/3.12/lib/python3.12/site-packages/pandas/io/common.py:873\u001b[0m, in \u001b[0;36mget_handle\u001b[0;34m(path_or_buf, mode, encoding, compression, memory_map, is_text, errors, storage_options)\u001b[0m\n\u001b[1;32m    868\u001b[0m \u001b[38;5;28;01melif\u001b[39;00m \u001b[38;5;28misinstance\u001b[39m(handle, \u001b[38;5;28mstr\u001b[39m):\n\u001b[1;32m    869\u001b[0m     \u001b[38;5;66;03m# Check whether the filename is to be opened in binary mode.\u001b[39;00m\n\u001b[1;32m    870\u001b[0m     \u001b[38;5;66;03m# Binary mode does not support 'encoding' and 'newline'.\u001b[39;00m\n\u001b[1;32m    871\u001b[0m     \u001b[38;5;28;01mif\u001b[39;00m ioargs\u001b[38;5;241m.\u001b[39mencoding \u001b[38;5;129;01mand\u001b[39;00m \u001b[38;5;124m\"\u001b[39m\u001b[38;5;124mb\u001b[39m\u001b[38;5;124m\"\u001b[39m \u001b[38;5;129;01mnot\u001b[39;00m \u001b[38;5;129;01min\u001b[39;00m ioargs\u001b[38;5;241m.\u001b[39mmode:\n\u001b[1;32m    872\u001b[0m         \u001b[38;5;66;03m# Encoding\u001b[39;00m\n\u001b[0;32m--> 873\u001b[0m         handle \u001b[38;5;241m=\u001b[39m \u001b[38;5;28;43mopen\u001b[39;49m\u001b[43m(\u001b[49m\n\u001b[1;32m    874\u001b[0m \u001b[43m            \u001b[49m\u001b[43mhandle\u001b[49m\u001b[43m,\u001b[49m\n\u001b[1;32m    875\u001b[0m \u001b[43m            \u001b[49m\u001b[43mioargs\u001b[49m\u001b[38;5;241;43m.\u001b[39;49m\u001b[43mmode\u001b[49m\u001b[43m,\u001b[49m\n\u001b[1;32m    876\u001b[0m \u001b[43m            \u001b[49m\u001b[43mencoding\u001b[49m\u001b[38;5;241;43m=\u001b[39;49m\u001b[43mioargs\u001b[49m\u001b[38;5;241;43m.\u001b[39;49m\u001b[43mencoding\u001b[49m\u001b[43m,\u001b[49m\n\u001b[1;32m    877\u001b[0m \u001b[43m            \u001b[49m\u001b[43merrors\u001b[49m\u001b[38;5;241;43m=\u001b[39;49m\u001b[43merrors\u001b[49m\u001b[43m,\u001b[49m\n\u001b[1;32m    878\u001b[0m \u001b[43m            \u001b[49m\u001b[43mnewline\u001b[49m\u001b[38;5;241;43m=\u001b[39;49m\u001b[38;5;124;43m\"\u001b[39;49m\u001b[38;5;124;43m\"\u001b[39;49m\u001b[43m,\u001b[49m\n\u001b[1;32m    879\u001b[0m \u001b[43m        \u001b[49m\u001b[43m)\u001b[49m\n\u001b[1;32m    880\u001b[0m     \u001b[38;5;28;01melse\u001b[39;00m:\n\u001b[1;32m    881\u001b[0m         \u001b[38;5;66;03m# Binary mode\u001b[39;00m\n\u001b[1;32m    882\u001b[0m         handle \u001b[38;5;241m=\u001b[39m \u001b[38;5;28mopen\u001b[39m(handle, ioargs\u001b[38;5;241m.\u001b[39mmode)\n",
      "\u001b[0;31mFileNotFoundError\u001b[0m: [Errno 2] No such file or directory: './collaborative_based/memory/ml-latest-small/ratings.csv'"
     ]
    }
   ],
   "source": [
    "ratings_df = pd.read_csv(DATA_DIR + \"ratings.csv\")\n",
    "movies_df = pd.read_csv(DATA_DIR + \"movies.csv\")"
   ]
  },
  {
   "cell_type": "code",
   "execution_count": null,
   "metadata": {},
   "outputs": [
    {
     "data": {
      "text/plain": [
       "Index(['userId', 'movieId', 'rating', 'timestamp'], dtype='object')"
      ]
     },
     "execution_count": 23,
     "metadata": {},
     "output_type": "execute_result"
    }
   ],
   "source": [
    "ratings_df.columns"
   ]
  },
  {
   "cell_type": "code",
   "execution_count": null,
   "metadata": {},
   "outputs": [
    {
     "data": {
      "text/plain": [
       "array([0.5, 1. , 1.5, 2. , 2.5, 3. , 3.5, 4. , 4.5, 5. ])"
      ]
     },
     "execution_count": 24,
     "metadata": {},
     "output_type": "execute_result"
    }
   ],
   "source": [
    "np.sort(ratings_df[\"rating\"].unique())"
   ]
  },
  {
   "cell_type": "code",
   "execution_count": null,
   "metadata": {},
   "outputs": [
    {
     "data": {
      "text/plain": [
       "Index(['movieId', 'title', 'genres'], dtype='object')"
      ]
     },
     "execution_count": 25,
     "metadata": {},
     "output_type": "execute_result"
    }
   ],
   "source": [
    "movies_df.columns"
   ]
  },
  {
   "cell_type": "markdown",
   "metadata": {},
   "source": [
    "Compute the ratings-matrix"
   ]
  },
  {
   "cell_type": "code",
   "execution_count": null,
   "metadata": {},
   "outputs": [],
   "source": [
    "mu = 3"
   ]
  },
  {
   "cell_type": "code",
   "execution_count": null,
   "metadata": {},
   "outputs": [
    {
     "data": {
      "text/html": [
       "<div>\n",
       "<style scoped>\n",
       "    .dataframe tbody tr th:only-of-type {\n",
       "        vertical-align: middle;\n",
       "    }\n",
       "\n",
       "    .dataframe tbody tr th {\n",
       "        vertical-align: top;\n",
       "    }\n",
       "\n",
       "    .dataframe thead th {\n",
       "        text-align: right;\n",
       "    }\n",
       "</style>\n",
       "<table border=\"1\" class=\"dataframe\">\n",
       "  <thead>\n",
       "    <tr style=\"text-align: right;\">\n",
       "      <th>movieId</th>\n",
       "      <th>1</th>\n",
       "      <th>2</th>\n",
       "      <th>3</th>\n",
       "      <th>4</th>\n",
       "      <th>5</th>\n",
       "      <th>6</th>\n",
       "      <th>7</th>\n",
       "      <th>8</th>\n",
       "      <th>9</th>\n",
       "      <th>10</th>\n",
       "      <th>...</th>\n",
       "      <th>193565</th>\n",
       "      <th>193567</th>\n",
       "      <th>193571</th>\n",
       "      <th>193573</th>\n",
       "      <th>193579</th>\n",
       "      <th>193581</th>\n",
       "      <th>193583</th>\n",
       "      <th>193585</th>\n",
       "      <th>193587</th>\n",
       "      <th>193609</th>\n",
       "    </tr>\n",
       "    <tr>\n",
       "      <th>userId</th>\n",
       "      <th></th>\n",
       "      <th></th>\n",
       "      <th></th>\n",
       "      <th></th>\n",
       "      <th></th>\n",
       "      <th></th>\n",
       "      <th></th>\n",
       "      <th></th>\n",
       "      <th></th>\n",
       "      <th></th>\n",
       "      <th></th>\n",
       "      <th></th>\n",
       "      <th></th>\n",
       "      <th></th>\n",
       "      <th></th>\n",
       "      <th></th>\n",
       "      <th></th>\n",
       "      <th></th>\n",
       "      <th></th>\n",
       "      <th></th>\n",
       "      <th></th>\n",
       "    </tr>\n",
       "  </thead>\n",
       "  <tbody>\n",
       "    <tr>\n",
       "      <th>1</th>\n",
       "      <td>4.0</td>\n",
       "      <td>3.0</td>\n",
       "      <td>4.0</td>\n",
       "      <td>3.0</td>\n",
       "      <td>3.0</td>\n",
       "      <td>4.0</td>\n",
       "      <td>3.0</td>\n",
       "      <td>3.0</td>\n",
       "      <td>3.0</td>\n",
       "      <td>3.0</td>\n",
       "      <td>...</td>\n",
       "      <td>3.0</td>\n",
       "      <td>3.0</td>\n",
       "      <td>3.0</td>\n",
       "      <td>3.0</td>\n",
       "      <td>3.0</td>\n",
       "      <td>3.0</td>\n",
       "      <td>3.0</td>\n",
       "      <td>3.0</td>\n",
       "      <td>3.0</td>\n",
       "      <td>3.0</td>\n",
       "    </tr>\n",
       "    <tr>\n",
       "      <th>2</th>\n",
       "      <td>3.0</td>\n",
       "      <td>3.0</td>\n",
       "      <td>3.0</td>\n",
       "      <td>3.0</td>\n",
       "      <td>3.0</td>\n",
       "      <td>3.0</td>\n",
       "      <td>3.0</td>\n",
       "      <td>3.0</td>\n",
       "      <td>3.0</td>\n",
       "      <td>3.0</td>\n",
       "      <td>...</td>\n",
       "      <td>3.0</td>\n",
       "      <td>3.0</td>\n",
       "      <td>3.0</td>\n",
       "      <td>3.0</td>\n",
       "      <td>3.0</td>\n",
       "      <td>3.0</td>\n",
       "      <td>3.0</td>\n",
       "      <td>3.0</td>\n",
       "      <td>3.0</td>\n",
       "      <td>3.0</td>\n",
       "    </tr>\n",
       "    <tr>\n",
       "      <th>3</th>\n",
       "      <td>3.0</td>\n",
       "      <td>3.0</td>\n",
       "      <td>3.0</td>\n",
       "      <td>3.0</td>\n",
       "      <td>3.0</td>\n",
       "      <td>3.0</td>\n",
       "      <td>3.0</td>\n",
       "      <td>3.0</td>\n",
       "      <td>3.0</td>\n",
       "      <td>3.0</td>\n",
       "      <td>...</td>\n",
       "      <td>3.0</td>\n",
       "      <td>3.0</td>\n",
       "      <td>3.0</td>\n",
       "      <td>3.0</td>\n",
       "      <td>3.0</td>\n",
       "      <td>3.0</td>\n",
       "      <td>3.0</td>\n",
       "      <td>3.0</td>\n",
       "      <td>3.0</td>\n",
       "      <td>3.0</td>\n",
       "    </tr>\n",
       "    <tr>\n",
       "      <th>4</th>\n",
       "      <td>3.0</td>\n",
       "      <td>3.0</td>\n",
       "      <td>3.0</td>\n",
       "      <td>3.0</td>\n",
       "      <td>3.0</td>\n",
       "      <td>3.0</td>\n",
       "      <td>3.0</td>\n",
       "      <td>3.0</td>\n",
       "      <td>3.0</td>\n",
       "      <td>3.0</td>\n",
       "      <td>...</td>\n",
       "      <td>3.0</td>\n",
       "      <td>3.0</td>\n",
       "      <td>3.0</td>\n",
       "      <td>3.0</td>\n",
       "      <td>3.0</td>\n",
       "      <td>3.0</td>\n",
       "      <td>3.0</td>\n",
       "      <td>3.0</td>\n",
       "      <td>3.0</td>\n",
       "      <td>3.0</td>\n",
       "    </tr>\n",
       "    <tr>\n",
       "      <th>5</th>\n",
       "      <td>4.0</td>\n",
       "      <td>3.0</td>\n",
       "      <td>3.0</td>\n",
       "      <td>3.0</td>\n",
       "      <td>3.0</td>\n",
       "      <td>3.0</td>\n",
       "      <td>3.0</td>\n",
       "      <td>3.0</td>\n",
       "      <td>3.0</td>\n",
       "      <td>3.0</td>\n",
       "      <td>...</td>\n",
       "      <td>3.0</td>\n",
       "      <td>3.0</td>\n",
       "      <td>3.0</td>\n",
       "      <td>3.0</td>\n",
       "      <td>3.0</td>\n",
       "      <td>3.0</td>\n",
       "      <td>3.0</td>\n",
       "      <td>3.0</td>\n",
       "      <td>3.0</td>\n",
       "      <td>3.0</td>\n",
       "    </tr>\n",
       "  </tbody>\n",
       "</table>\n",
       "<p>5 rows × 9724 columns</p>\n",
       "</div>"
      ],
      "text/plain": [
       "movieId  1       2       3       4       5       6       7       8       \\\n",
       "userId                                                                    \n",
       "1           4.0     3.0     4.0     3.0     3.0     4.0     3.0     3.0   \n",
       "2           3.0     3.0     3.0     3.0     3.0     3.0     3.0     3.0   \n",
       "3           3.0     3.0     3.0     3.0     3.0     3.0     3.0     3.0   \n",
       "4           3.0     3.0     3.0     3.0     3.0     3.0     3.0     3.0   \n",
       "5           4.0     3.0     3.0     3.0     3.0     3.0     3.0     3.0   \n",
       "\n",
       "movieId  9       10      ...  193565  193567  193571  193573  193579  193581  \\\n",
       "userId                   ...                                                   \n",
       "1           3.0     3.0  ...     3.0     3.0     3.0     3.0     3.0     3.0   \n",
       "2           3.0     3.0  ...     3.0     3.0     3.0     3.0     3.0     3.0   \n",
       "3           3.0     3.0  ...     3.0     3.0     3.0     3.0     3.0     3.0   \n",
       "4           3.0     3.0  ...     3.0     3.0     3.0     3.0     3.0     3.0   \n",
       "5           3.0     3.0  ...     3.0     3.0     3.0     3.0     3.0     3.0   \n",
       "\n",
       "movieId  193583  193585  193587  193609  \n",
       "userId                                   \n",
       "1           3.0     3.0     3.0     3.0  \n",
       "2           3.0     3.0     3.0     3.0  \n",
       "3           3.0     3.0     3.0     3.0  \n",
       "4           3.0     3.0     3.0     3.0  \n",
       "5           3.0     3.0     3.0     3.0  \n",
       "\n",
       "[5 rows x 9724 columns]"
      ]
     },
     "execution_count": 27,
     "metadata": {},
     "output_type": "execute_result"
    }
   ],
   "source": [
    "R_df = ratings_df.pivot(index=\"userId\", columns=\"movieId\", values=\"rating\").fillna(mu)\n",
    "\n",
    "R_df.head()"
   ]
  },
  {
   "cell_type": "code",
   "execution_count": null,
   "metadata": {},
   "outputs": [
    {
     "name": "stdout",
     "output_type": "stream",
     "text": [
      "(610, 9724)\n",
      "5931640\n"
     ]
    }
   ],
   "source": [
    "R = R_df.to_numpy()\n",
    "\n",
    "# center the ratings\n",
    "user_ratings_mean = np.mean(R, axis=1)\n",
    "R_demeaned = R - user_ratings_mean.reshape(-1, 1)\n",
    "\n",
    "print(R.shape)\n",
    "print(np.count_nonzero(R))"
   ]
  },
  {
   "cell_type": "markdown",
   "metadata": {},
   "source": [
    "Scipy and Numpy both have functions to do the singular value decomposition. \n",
    "\n",
    "I'm going to use the Scipy function `svds` because it let's me choose how many latent factors I want to use to approximate the original ratings matrix (instead of having to truncate it after)."
   ]
  },
  {
   "cell_type": "code",
   "execution_count": null,
   "metadata": {},
   "outputs": [],
   "source": [
    "from scipy.sparse.linalg import svds\n",
    "import math\n",
    "\n",
    "U, sigma, Vt = svds(R_demeaned, k=50)\n",
    "sigma = np.diag(sigma)"
   ]
  },
  {
   "cell_type": "code",
   "execution_count": null,
   "metadata": {},
   "outputs": [
    {
     "data": {
      "text/plain": [
       "610"
      ]
     },
     "execution_count": 30,
     "metadata": {},
     "output_type": "execute_result"
    }
   ],
   "source": [
    "from numpy.linalg import matrix_rank\n",
    "\n",
    "matrix_rank(R_demeaned)"
   ]
  },
  {
   "cell_type": "code",
   "execution_count": null,
   "metadata": {},
   "outputs": [],
   "source": [
    "latents = [3, 10, 20, 30, 40, 50, 150, 300]\n",
    "rmse_errors = []\n",
    "for latent_dim in latents:\n",
    "    U, sigma, Vt = svds(R_demeaned, k=latent_dim)\n",
    "    sigma = np.diag(sigma)\n",
    "    Rpred = np.dot(np.dot(U, sigma), Vt) + user_ratings_mean.reshape(-1, 1)\n",
    "    Rpred[Rpred < 0] = 0\n",
    "    Rpred[Rpred > 5] = 5\n",
    "    MSE = np.square(np.subtract(R, Rpred)).mean()\n",
    "    RMSE = math.sqrt(MSE)\n",
    "    rmse_errors.append(RMSE)"
   ]
  },
  {
   "cell_type": "code",
   "execution_count": null,
   "metadata": {},
   "outputs": [
    {
     "data": {
      "image/png": "[encoded data removed]",
      "text/plain": [
       "<Figure size 640x480 with 1 Axes>"
      ]
     },
     "metadata": {},
     "output_type": "display_data"
    }
   ],
   "source": [
    "import seaborn as sns\n",
    "\n",
    "plt.xlabel(\"Latent Dimensions\")\n",
    "plt.ylabel(\"RMSE\")\n",
    "plt.title(\"SVD\")\n",
    "plt.plot(latents, rmse_errors, \"o-\")\n",
    "plt.show()"
   ]
  },
  {
   "cell_type": "code",
   "execution_count": null,
   "metadata": {},
   "outputs": [
    {
     "data": {
      "text/html": [
       "<div>\n",
       "<style scoped>\n",
       "    .dataframe tbody tr th:only-of-type {\n",
       "        vertical-align: middle;\n",
       "    }\n",
       "\n",
       "    .dataframe tbody tr th {\n",
       "        vertical-align: top;\n",
       "    }\n",
       "\n",
       "    .dataframe thead th {\n",
       "        text-align: right;\n",
       "    }\n",
       "</style>\n",
       "<table border=\"1\" class=\"dataframe\">\n",
       "  <thead>\n",
       "    <tr style=\"text-align: right;\">\n",
       "      <th></th>\n",
       "      <th>0</th>\n",
       "      <th>1</th>\n",
       "      <th>2</th>\n",
       "      <th>3</th>\n",
       "      <th>4</th>\n",
       "      <th>5</th>\n",
       "      <th>6</th>\n",
       "      <th>7</th>\n",
       "      <th>8</th>\n",
       "      <th>9</th>\n",
       "      <th>...</th>\n",
       "      <th>9714</th>\n",
       "      <th>9715</th>\n",
       "      <th>9716</th>\n",
       "      <th>9717</th>\n",
       "      <th>9718</th>\n",
       "      <th>9719</th>\n",
       "      <th>9720</th>\n",
       "      <th>9721</th>\n",
       "      <th>9722</th>\n",
       "      <th>9723</th>\n",
       "    </tr>\n",
       "  </thead>\n",
       "  <tbody>\n",
       "    <tr>\n",
       "      <th>0</th>\n",
       "      <td>4.113887</td>\n",
       "      <td>2.991394</td>\n",
       "      <td>3.977271</td>\n",
       "      <td>3.014018</td>\n",
       "      <td>2.996851</td>\n",
       "      <td>4.032697</td>\n",
       "      <td>3.036739</td>\n",
       "      <td>2.989184</td>\n",
       "      <td>2.991469</td>\n",
       "      <td>2.934997</td>\n",
       "      <td>...</td>\n",
       "      <td>2.999383</td>\n",
       "      <td>3.000025</td>\n",
       "      <td>2.998742</td>\n",
       "      <td>2.998742</td>\n",
       "      <td>2.999383</td>\n",
       "      <td>2.998742</td>\n",
       "      <td>2.999383</td>\n",
       "      <td>2.999383</td>\n",
       "      <td>2.999383</td>\n",
       "      <td>2.999066</td>\n",
       "    </tr>\n",
       "    <tr>\n",
       "      <th>1</th>\n",
       "      <td>2.970751</td>\n",
       "      <td>3.004656</td>\n",
       "      <td>2.921116</td>\n",
       "      <td>3.019859</td>\n",
       "      <td>3.024215</td>\n",
       "      <td>2.901931</td>\n",
       "      <td>2.959077</td>\n",
       "      <td>2.981246</td>\n",
       "      <td>2.985186</td>\n",
       "      <td>3.102985</td>\n",
       "      <td>...</td>\n",
       "      <td>3.006477</td>\n",
       "      <td>3.000247</td>\n",
       "      <td>3.012706</td>\n",
       "      <td>3.012706</td>\n",
       "      <td>3.006477</td>\n",
       "      <td>3.012706</td>\n",
       "      <td>3.006477</td>\n",
       "      <td>3.006477</td>\n",
       "      <td>3.006477</td>\n",
       "      <td>3.025560</td>\n",
       "    </tr>\n",
       "    <tr>\n",
       "      <th>2</th>\n",
       "      <td>2.948330</td>\n",
       "      <td>3.013328</td>\n",
       "      <td>2.937705</td>\n",
       "      <td>3.003137</td>\n",
       "      <td>2.962295</td>\n",
       "      <td>3.047376</td>\n",
       "      <td>2.913775</td>\n",
       "      <td>2.976536</td>\n",
       "      <td>2.962972</td>\n",
       "      <td>2.902675</td>\n",
       "      <td>...</td>\n",
       "      <td>3.001223</td>\n",
       "      <td>3.000446</td>\n",
       "      <td>3.001999</td>\n",
       "      <td>3.001999</td>\n",
       "      <td>3.001223</td>\n",
       "      <td>3.001999</td>\n",
       "      <td>3.001223</td>\n",
       "      <td>3.001223</td>\n",
       "      <td>3.001223</td>\n",
       "      <td>2.993162</td>\n",
       "    </tr>\n",
       "    <tr>\n",
       "      <th>3</th>\n",
       "      <td>3.034389</td>\n",
       "      <td>3.028468</td>\n",
       "      <td>3.011799</td>\n",
       "      <td>3.041744</td>\n",
       "      <td>3.045418</td>\n",
       "      <td>2.991794</td>\n",
       "      <td>3.020722</td>\n",
       "      <td>2.995950</td>\n",
       "      <td>3.012849</td>\n",
       "      <td>3.038418</td>\n",
       "      <td>...</td>\n",
       "      <td>3.000365</td>\n",
       "      <td>2.999866</td>\n",
       "      <td>3.000864</td>\n",
       "      <td>3.000864</td>\n",
       "      <td>3.000365</td>\n",
       "      <td>3.000864</td>\n",
       "      <td>3.000365</td>\n",
       "      <td>3.000365</td>\n",
       "      <td>3.000365</td>\n",
       "      <td>2.999136</td>\n",
       "    </tr>\n",
       "    <tr>\n",
       "      <th>4</th>\n",
       "      <td>3.985156</td>\n",
       "      <td>3.172021</td>\n",
       "      <td>3.094408</td>\n",
       "      <td>2.947081</td>\n",
       "      <td>3.098795</td>\n",
       "      <td>3.032509</td>\n",
       "      <td>3.173364</td>\n",
       "      <td>3.096320</td>\n",
       "      <td>2.967677</td>\n",
       "      <td>2.732633</td>\n",
       "      <td>...</td>\n",
       "      <td>3.003512</td>\n",
       "      <td>2.999246</td>\n",
       "      <td>3.007779</td>\n",
       "      <td>3.007779</td>\n",
       "      <td>3.003512</td>\n",
       "      <td>3.007779</td>\n",
       "      <td>3.003512</td>\n",
       "      <td>3.003512</td>\n",
       "      <td>3.003512</td>\n",
       "      <td>2.978596</td>\n",
       "    </tr>\n",
       "  </tbody>\n",
       "</table>\n",
       "<p>5 rows × 9724 columns</p>\n",
       "</div>"
      ],
      "text/plain": [
       "       0         1         2         3         4         5         6     \\\n",
       "0  4.113887  2.991394  3.977271  3.014018  2.996851  4.032697  3.036739   \n",
       "1  2.970751  3.004656  2.921116  3.019859  3.024215  2.901931  2.959077   \n",
       "2  2.948330  3.013328  2.937705  3.003137  2.962295  3.047376  2.913775   \n",
       "3  3.034389  3.028468  3.011799  3.041744  3.045418  2.991794  3.020722   \n",
       "4  3.985156  3.172021  3.094408  2.947081  3.098795  3.032509  3.173364   \n",
       "\n",
       "       7         8         9     ...      9714      9715      9716      9717  \\\n",
       "0  2.989184  2.991469  2.934997  ...  2.999383  3.000025  2.998742  2.998742   \n",
       "1  2.981246  2.985186  3.102985  ...  3.006477  3.000247  3.012706  3.012706   \n",
       "2  2.976536  2.962972  2.902675  ...  3.001223  3.000446  3.001999  3.001999   \n",
       "3  2.995950  3.012849  3.038418  ...  3.000365  2.999866  3.000864  3.000864   \n",
       "4  3.096320  2.967677  2.732633  ...  3.003512  2.999246  3.007779  3.007779   \n",
       "\n",
       "       9718      9719      9720      9721      9722      9723  \n",
       "0  2.999383  2.998742  2.999383  2.999383  2.999383  2.999066  \n",
       "1  3.006477  3.012706  3.006477  3.006477  3.006477  3.025560  \n",
       "2  3.001223  3.001999  3.001223  3.001223  3.001223  2.993162  \n",
       "3  3.000365  3.000864  3.000365  3.000365  3.000365  2.999136  \n",
       "4  3.003512  3.007779  3.003512  3.003512  3.003512  2.978596  \n",
       "\n",
       "[5 rows x 9724 columns]"
      ]
     },
     "execution_count": 33,
     "metadata": {},
     "output_type": "execute_result"
    }
   ],
   "source": [
    "Rpred_df = pd.DataFrame(Rpred)\n",
    "Rpred_df.head()"
   ]
  },
  {
   "cell_type": "markdown",
   "metadata": {},
   "source": [
    "### Making Predictions from the Decomposed Matrices\n",
    "\n",
    "I now have everything I need to make movie ratings predictions for every user. I can do it all at once by following the math and matrix multiply $U$, $\\Sigma$, and $V^{T}$ back to get the rank $k=50$ approximation of $\\mathbf{Y}$.\n",
    "\n",
    "I also need to add the user means back to get the actual star ratings prediction."
   ]
  },
  {
   "cell_type": "code",
   "execution_count": null,
   "metadata": {},
   "outputs": [
    {
     "data": {
      "text/html": [
       "<div>\n",
       "<style scoped>\n",
       "    .dataframe tbody tr th:only-of-type {\n",
       "        vertical-align: middle;\n",
       "    }\n",
       "\n",
       "    .dataframe tbody tr th {\n",
       "        vertical-align: top;\n",
       "    }\n",
       "\n",
       "    .dataframe thead th {\n",
       "        text-align: right;\n",
       "    }\n",
       "</style>\n",
       "<table border=\"1\" class=\"dataframe\">\n",
       "  <thead>\n",
       "    <tr style=\"text-align: right;\">\n",
       "      <th>movieId</th>\n",
       "      <th>1</th>\n",
       "      <th>2</th>\n",
       "      <th>3</th>\n",
       "      <th>4</th>\n",
       "      <th>5</th>\n",
       "      <th>6</th>\n",
       "      <th>7</th>\n",
       "      <th>8</th>\n",
       "      <th>9</th>\n",
       "      <th>10</th>\n",
       "      <th>...</th>\n",
       "      <th>193565</th>\n",
       "      <th>193567</th>\n",
       "      <th>193571</th>\n",
       "      <th>193573</th>\n",
       "      <th>193579</th>\n",
       "      <th>193581</th>\n",
       "      <th>193583</th>\n",
       "      <th>193585</th>\n",
       "      <th>193587</th>\n",
       "      <th>193609</th>\n",
       "    </tr>\n",
       "  </thead>\n",
       "  <tbody>\n",
       "    <tr>\n",
       "      <th>0</th>\n",
       "      <td>4.113887</td>\n",
       "      <td>2.991394</td>\n",
       "      <td>3.977271</td>\n",
       "      <td>3.014018</td>\n",
       "      <td>2.996851</td>\n",
       "      <td>4.032697</td>\n",
       "      <td>3.036739</td>\n",
       "      <td>2.989184</td>\n",
       "      <td>2.991469</td>\n",
       "      <td>2.934997</td>\n",
       "      <td>...</td>\n",
       "      <td>2.999383</td>\n",
       "      <td>3.000025</td>\n",
       "      <td>2.998742</td>\n",
       "      <td>2.998742</td>\n",
       "      <td>2.999383</td>\n",
       "      <td>2.998742</td>\n",
       "      <td>2.999383</td>\n",
       "      <td>2.999383</td>\n",
       "      <td>2.999383</td>\n",
       "      <td>2.999066</td>\n",
       "    </tr>\n",
       "    <tr>\n",
       "      <th>1</th>\n",
       "      <td>2.970751</td>\n",
       "      <td>3.004656</td>\n",
       "      <td>2.921116</td>\n",
       "      <td>3.019859</td>\n",
       "      <td>3.024215</td>\n",
       "      <td>2.901931</td>\n",
       "      <td>2.959077</td>\n",
       "      <td>2.981246</td>\n",
       "      <td>2.985186</td>\n",
       "      <td>3.102985</td>\n",
       "      <td>...</td>\n",
       "      <td>3.006477</td>\n",
       "      <td>3.000247</td>\n",
       "      <td>3.012706</td>\n",
       "      <td>3.012706</td>\n",
       "      <td>3.006477</td>\n",
       "      <td>3.012706</td>\n",
       "      <td>3.006477</td>\n",
       "      <td>3.006477</td>\n",
       "      <td>3.006477</td>\n",
       "      <td>3.025560</td>\n",
       "    </tr>\n",
       "    <tr>\n",
       "      <th>2</th>\n",
       "      <td>2.948330</td>\n",
       "      <td>3.013328</td>\n",
       "      <td>2.937705</td>\n",
       "      <td>3.003137</td>\n",
       "      <td>2.962295</td>\n",
       "      <td>3.047376</td>\n",
       "      <td>2.913775</td>\n",
       "      <td>2.976536</td>\n",
       "      <td>2.962972</td>\n",
       "      <td>2.902675</td>\n",
       "      <td>...</td>\n",
       "      <td>3.001223</td>\n",
       "      <td>3.000446</td>\n",
       "      <td>3.001999</td>\n",
       "      <td>3.001999</td>\n",
       "      <td>3.001223</td>\n",
       "      <td>3.001999</td>\n",
       "      <td>3.001223</td>\n",
       "      <td>3.001223</td>\n",
       "      <td>3.001223</td>\n",
       "      <td>2.993162</td>\n",
       "    </tr>\n",
       "    <tr>\n",
       "      <th>3</th>\n",
       "      <td>3.034389</td>\n",
       "      <td>3.028468</td>\n",
       "      <td>3.011799</td>\n",
       "      <td>3.041744</td>\n",
       "      <td>3.045418</td>\n",
       "      <td>2.991794</td>\n",
       "      <td>3.020722</td>\n",
       "      <td>2.995950</td>\n",
       "      <td>3.012849</td>\n",
       "      <td>3.038418</td>\n",
       "      <td>...</td>\n",
       "      <td>3.000365</td>\n",
       "      <td>2.999866</td>\n",
       "      <td>3.000864</td>\n",
       "      <td>3.000864</td>\n",
       "      <td>3.000365</td>\n",
       "      <td>3.000864</td>\n",
       "      <td>3.000365</td>\n",
       "      <td>3.000365</td>\n",
       "      <td>3.000365</td>\n",
       "      <td>2.999136</td>\n",
       "    </tr>\n",
       "    <tr>\n",
       "      <th>4</th>\n",
       "      <td>3.985156</td>\n",
       "      <td>3.172021</td>\n",
       "      <td>3.094408</td>\n",
       "      <td>2.947081</td>\n",
       "      <td>3.098795</td>\n",
       "      <td>3.032509</td>\n",
       "      <td>3.173364</td>\n",
       "      <td>3.096320</td>\n",
       "      <td>2.967677</td>\n",
       "      <td>2.732633</td>\n",
       "      <td>...</td>\n",
       "      <td>3.003512</td>\n",
       "      <td>2.999246</td>\n",
       "      <td>3.007779</td>\n",
       "      <td>3.007779</td>\n",
       "      <td>3.003512</td>\n",
       "      <td>3.007779</td>\n",
       "      <td>3.003512</td>\n",
       "      <td>3.003512</td>\n",
       "      <td>3.003512</td>\n",
       "      <td>2.978596</td>\n",
       "    </tr>\n",
       "  </tbody>\n",
       "</table>\n",
       "<p>5 rows × 9724 columns</p>\n",
       "</div>"
      ],
      "text/plain": [
       "movieId    1         2         3         4         5         6         7       \\\n",
       "0        4.113887  2.991394  3.977271  3.014018  2.996851  4.032697  3.036739   \n",
       "1        2.970751  3.004656  2.921116  3.019859  3.024215  2.901931  2.959077   \n",
       "2        2.948330  3.013328  2.937705  3.003137  2.962295  3.047376  2.913775   \n",
       "3        3.034389  3.028468  3.011799  3.041744  3.045418  2.991794  3.020722   \n",
       "4        3.985156  3.172021  3.094408  2.947081  3.098795  3.032509  3.173364   \n",
       "\n",
       "movieId    8         9         10      ...    193565    193567    193571  \\\n",
       "0        2.989184  2.991469  2.934997  ...  2.999383  3.000025  2.998742   \n",
       "1        2.981246  2.985186  3.102985  ...  3.006477  3.000247  3.012706   \n",
       "2        2.976536  2.962972  2.902675  ...  3.001223  3.000446  3.001999   \n",
       "3        2.995950  3.012849  3.038418  ...  3.000365  2.999866  3.000864   \n",
       "4        3.096320  2.967677  2.732633  ...  3.003512  2.999246  3.007779   \n",
       "\n",
       "movieId    193573    193579    193581    193583    193585    193587    193609  \n",
       "0        2.998742  2.999383  2.998742  2.999383  2.999383  2.999383  2.999066  \n",
       "1        3.012706  3.006477  3.012706  3.006477  3.006477  3.006477  3.025560  \n",
       "2        3.001999  3.001223  3.001999  3.001223  3.001223  3.001223  2.993162  \n",
       "3        3.000864  3.000365  3.000864  3.000365  3.000365  3.000365  2.999136  \n",
       "4        3.007779  3.003512  3.007779  3.003512  3.003512  3.003512  2.978596  \n",
       "\n",
       "[5 rows x 9724 columns]"
      ]
     },
     "execution_count": 34,
     "metadata": {},
     "output_type": "execute_result"
    }
   ],
   "source": [
    "# Y = U Sigma Vt + mean\n",
    "all_user_predicted_ratings = np.dot(np.dot(U, sigma), Vt) + user_ratings_mean.reshape(\n",
    "    -1, 1\n",
    ")\n",
    "\n",
    "all_user_predicted_ratings[all_user_predicted_ratings < 0] = 0\n",
    "all_user_predicted_ratings[all_user_predicted_ratings > 5] = 5\n",
    "\n",
    "preds_df = pd.DataFrame(all_user_predicted_ratings, columns=R_df.columns)\n",
    "preds_df.head()"
   ]
  },
  {
   "cell_type": "markdown",
   "metadata": {},
   "source": [
    "### Making Movie Recommendations\n",
    "Finally, it's time. With the predictions matrix for every user, I can build a function to recommend movies for any user. All I need to do is return the movies with the highest predicted rating that the specified user hasn't already rated. Though I didn't use actually use any explicit movie content features (such as genre or title), I'll merge in that information to get a more complete picture of the recommendations.\n",
    "\n",
    "I'll also return the list of movies the user has already rated, for the sake of comparison."
   ]
  },
  {
   "cell_type": "code",
   "execution_count": null,
   "metadata": {},
   "outputs": [],
   "source": [
    "def recommend_movies(\n",
    "    preds_df, userID, movies_df, original_ratings_df, num_recommendations=5\n",
    "):\n",
    "\n",
    "    # Get and sort the user's predictions\n",
    "    user_row_number = userID - 1\n",
    "    sorted_user_predictions = preds_df.iloc[user_row_number].sort_values(\n",
    "        ascending=False\n",
    "    )\n",
    "\n",
    "    # Get the user's data and merge in the movie information.\n",
    "    user_data = original_ratings_df[original_ratings_df.userId == (userID)]\n",
    "    user_full = user_data.merge(\n",
    "        movies_df, how=\"left\", left_on=\"movieId\", right_on=\"movieId\"\n",
    "    ).sort_values([\"rating\"], ascending=False)\n",
    "\n",
    "    print(\"User {0} has already rated {1} movies.\".format(userID, user_full.shape[0]))\n",
    "    print(\n",
    "        \"Recommending highest {0} predicted ratings movies not already rated.\".format(\n",
    "            num_recommendations\n",
    "        )\n",
    "    )\n",
    "\n",
    "    # Recommend the highest predicted rating movies that the user hasn't seen yet.\n",
    "    recommendations = (\n",
    "        movies_df[~movies_df[\"movieId\"].isin(user_full[\"movieId\"])]\n",
    "        .merge(\n",
    "            pd.DataFrame(sorted_user_predictions).reset_index(),\n",
    "            how=\"left\",\n",
    "            left_on=\"movieId\",\n",
    "            right_on=\"movieId\",\n",
    "        )\n",
    "        .rename(columns={user_row_number: \"Predictions\"})\n",
    "        .sort_values(\"Predictions\", ascending=False)\n",
    "        .iloc[:num_recommendations, :-1]\n",
    "    )\n",
    "\n",
    "    return user_full, recommendations"
   ]
  },
  {
   "cell_type": "code",
   "execution_count": null,
   "metadata": {},
   "outputs": [
    {
     "name": "stdout",
     "output_type": "stream",
     "text": [
      "User 29 has already rated 81 movies.\n",
      "Recommending highest 5 predicted ratings movies not already rated.\n"
     ]
    },
    {
     "data": {
      "text/html": [
       "<div>\n",
       "<style scoped>\n",
       "    .dataframe tbody tr th:only-of-type {\n",
       "        vertical-align: middle;\n",
       "    }\n",
       "\n",
       "    .dataframe tbody tr th {\n",
       "        vertical-align: top;\n",
       "    }\n",
       "\n",
       "    .dataframe thead th {\n",
       "        text-align: right;\n",
       "    }\n",
       "</style>\n",
       "<table border=\"1\" class=\"dataframe\">\n",
       "  <thead>\n",
       "    <tr style=\"text-align: right;\">\n",
       "      <th></th>\n",
       "      <th>movieId</th>\n",
       "      <th>title</th>\n",
       "      <th>genres</th>\n",
       "    </tr>\n",
       "  </thead>\n",
       "  <tbody>\n",
       "    <tr>\n",
       "      <th>2956</th>\n",
       "      <td>4022</td>\n",
       "      <td>Cast Away (2000)</td>\n",
       "      <td>Drama</td>\n",
       "    </tr>\n",
       "    <tr>\n",
       "      <th>245</th>\n",
       "      <td>288</td>\n",
       "      <td>Natural Born Killers (1994)</td>\n",
       "      <td>Action|Crime|Thriller</td>\n",
       "    </tr>\n",
       "    <tr>\n",
       "      <th>1756</th>\n",
       "      <td>2395</td>\n",
       "      <td>Rushmore (1998)</td>\n",
       "      <td>Comedy|Drama</td>\n",
       "    </tr>\n",
       "    <tr>\n",
       "      <th>2870</th>\n",
       "      <td>3916</td>\n",
       "      <td>Remember the Titans (2000)</td>\n",
       "      <td>Drama</td>\n",
       "    </tr>\n",
       "    <tr>\n",
       "      <th>193</th>\n",
       "      <td>231</td>\n",
       "      <td>Dumb &amp; Dumber (Dumb and Dumber) (1994)</td>\n",
       "      <td>Adventure|Comedy</td>\n",
       "    </tr>\n",
       "  </tbody>\n",
       "</table>\n",
       "</div>"
      ],
      "text/plain": [
       "      movieId                                   title                 genres\n",
       "2956     4022                        Cast Away (2000)                  Drama\n",
       "245       288             Natural Born Killers (1994)  Action|Crime|Thriller\n",
       "1756     2395                         Rushmore (1998)           Comedy|Drama\n",
       "2870     3916              Remember the Titans (2000)                  Drama\n",
       "193       231  Dumb & Dumber (Dumb and Dumber) (1994)       Adventure|Comedy"
      ]
     },
     "execution_count": 36,
     "metadata": {},
     "output_type": "execute_result"
    }
   ],
   "source": [
    "already_rated, predictions = recommend_movies(preds_df, 29, movies_df, ratings_df)\n",
    "df = already_rated[[\"movieId\", \"title\", \"genres\"]].copy()\n",
    "# df.head(5)\n",
    "predictions.head(5)"
   ]
  },
  {
   "cell_type": "markdown",
   "metadata": {},
   "source": [
    "These look like pretty good recommendations. It's also good to see that, though I didn't actually use the genre of the movie as a feature, the truncated matrix factorization features \"picked up\" on the underlying tastes and preferences of the user. I've recommended some film-noirs, crime, drama, and war movies - all of which were genres of some of this user's top rated movies."
   ]
  },
  {
   "cell_type": "code",
   "execution_count": null,
   "metadata": {},
   "outputs": [
    {
     "ename": "NameError",
     "evalue": "name 'plt' is not defined",
     "output_type": "error",
     "traceback": [
      "\u001b[0;31m---------------------------------------------------------------------------\u001b[0m",
      "\u001b[0;31mNameError\u001b[0m                                 Traceback (most recent call last)",
      "Cell \u001b[0;32mIn[1], line 5\u001b[0m\n\u001b[1;32m      1\u001b[0m nusers \u001b[38;5;241m=\u001b[39m \u001b[38;5;241m20\u001b[39m\n\u001b[1;32m      2\u001b[0m nitems \u001b[38;5;241m=\u001b[39m \u001b[38;5;241m20\u001b[39m\n\u001b[0;32m----> 5\u001b[0m \u001b[43mplt\u001b[49m\u001b[38;5;241m.\u001b[39mfigure(figsize\u001b[38;5;241m=\u001b[39m(\u001b[38;5;241m10\u001b[39m, \u001b[38;5;241m10\u001b[39m))\n\u001b[1;32m      6\u001b[0m plt\u001b[38;5;241m.\u001b[39mimshow(R[:nusers, :nitems], cmap\u001b[38;5;241m=\u001b[39m\u001b[38;5;124m\"\u001b[39m\u001b[38;5;124mjet\u001b[39m\u001b[38;5;124m\"\u001b[39m)\n\u001b[1;32m      7\u001b[0m plt\u001b[38;5;241m.\u001b[39mxlabel(\u001b[38;5;124m\"\u001b[39m\u001b[38;5;124mitem\u001b[39m\u001b[38;5;124m\"\u001b[39m)\n",
      "\u001b[0;31mNameError\u001b[0m: name 'plt' is not defined"
     ]
    }
   ],
   "source": [
    "nusers = 20\n",
    "nitems = 20\n",
    "\n",
    "\n",
    "plt.figure(figsize=(10, 10))\n",
    "plt.imshow(R[:nusers, :nitems], cmap=\"jet\")\n",
    "plt.xlabel(\"item\")\n",
    "plt.ylabel(\"user\")\n",
    "plt.title(\"True ratings\")\n",
    "plt.colorbar()\n",
    "\n",
    "\n",
    "plt.figure(figsize=(10, 10))\n",
    "plt.imshow(Rpred[:nusers, :nitems], cmap=\"jet\")\n",
    "plt.xlabel(\"item\")\n",
    "plt.ylabel(\"user\")\n",
    "plt.title(\"Predicted ratings\")\n",
    "plt.colorbar()\n",
    "\n",
    "MSE = np.square(np.subtract(R[:nusers, :nitems], Rpred[:nusers, :nitems]))\n",
    "\n",
    "plt.figure(figsize=(10, 10))\n",
    "plt.imshow(MSE, cmap=\"jet\")\n",
    "plt.xlabel(\"item\")\n",
    "plt.ylabel(\"user\")\n",
    "plt.title(\"Error in prediction\")\n",
    "plt.colorbar()"
   ]
  },
  {
   "cell_type": "markdown",
   "metadata": {},
   "source": [
    "`Using Cornac`"
   ]
  },
  {
   "cell_type": "markdown",
   "metadata": {},
   "source": [
    "**SVD for Prediction**"
   ]
  },
  {
   "cell_type": "code",
   "execution_count": 1,
   "metadata": {},
   "outputs": [],
   "source": [
    "import os\n",
    "import sys\n",
    "import itertools\n",
    "\n",
    "import scipy.sparse as sp\n",
    "import numpy as np\n",
    "import pandas as pd\n",
    "import seaborn as sns\n",
    "import matplotlib.pyplot as plt\n",
    "from adjustText import adjust_text\n",
    "\n",
    "import cornac\n",
    "from cornac.utils import cache\n",
    "from cornac.datasets import movielens\n",
    "from cornac.eval_methods import RatioSplit\n",
    "from cornac.models import MF, NMF, BaselineOnly\n",
    "\n",
    "SEED = 42\n",
    "VERBOSE = False"
   ]
  },
  {
   "cell_type": "markdown",
   "metadata": {},
   "source": [
    "For the purpose of illustration, we use a simple dataset involving 5 users and 6 items."
   ]
  },
  {
   "cell_type": "code",
   "execution_count": 2,
   "metadata": {},
   "outputs": [],
   "source": [
    "sample_df = pd.read_csv(\n",
    "    cache(\"https://static.preferred.ai/tutorials/recommender-systems/sample_data.csv\"),\n",
    "    sep=\",\",\n",
    "    names=[\"UserID\", \"ItemID\", \"Rating\"],\n",
    ")"
   ]
  },
  {
   "cell_type": "code",
   "execution_count": 3,
   "metadata": {},
   "outputs": [],
   "source": [
    "dataset = cornac.data.Dataset.from_uir(sample_df.itertuples(index=False))"
   ]
  },
  {
   "cell_type": "code",
   "execution_count": 4,
   "metadata": {},
   "outputs": [
    {
     "data": {
      "text/html": [
       "<div>\n",
       "<style scoped>\n",
       "    .dataframe tbody tr th:only-of-type {\n",
       "        vertical-align: middle;\n",
       "    }\n",
       "\n",
       "    .dataframe tbody tr th {\n",
       "        vertical-align: top;\n",
       "    }\n",
       "\n",
       "    .dataframe thead th {\n",
       "        text-align: right;\n",
       "    }\n",
       "</style>\n",
       "<table border=\"1\" class=\"dataframe\">\n",
       "  <thead>\n",
       "    <tr style=\"text-align: right;\">\n",
       "      <th></th>\n",
       "      <th>Item 1</th>\n",
       "      <th>Item 2</th>\n",
       "      <th>Item 3</th>\n",
       "      <th>Item 4</th>\n",
       "      <th>Item 5</th>\n",
       "      <th>Item 6</th>\n",
       "    </tr>\n",
       "  </thead>\n",
       "  <tbody>\n",
       "    <tr>\n",
       "      <th>User 1</th>\n",
       "      <td>7.0</td>\n",
       "      <td>6.0</td>\n",
       "      <td>7.0</td>\n",
       "      <td>4.0</td>\n",
       "      <td>5.0</td>\n",
       "      <td>4.0</td>\n",
       "    </tr>\n",
       "    <tr>\n",
       "      <th>User 2</th>\n",
       "      <td>6.0</td>\n",
       "      <td>7.0</td>\n",
       "      <td>NaN</td>\n",
       "      <td>4.0</td>\n",
       "      <td>3.0</td>\n",
       "      <td>4.0</td>\n",
       "    </tr>\n",
       "    <tr>\n",
       "      <th>User 3</th>\n",
       "      <td>NaN</td>\n",
       "      <td>3.0</td>\n",
       "      <td>3.0</td>\n",
       "      <td>1.0</td>\n",
       "      <td>1.0</td>\n",
       "      <td>NaN</td>\n",
       "    </tr>\n",
       "    <tr>\n",
       "      <th>User 4</th>\n",
       "      <td>1.0</td>\n",
       "      <td>2.0</td>\n",
       "      <td>2.0</td>\n",
       "      <td>3.0</td>\n",
       "      <td>3.0</td>\n",
       "      <td>4.0</td>\n",
       "    </tr>\n",
       "    <tr>\n",
       "      <th>User 5</th>\n",
       "      <td>1.0</td>\n",
       "      <td>NaN</td>\n",
       "      <td>1.0</td>\n",
       "      <td>2.0</td>\n",
       "      <td>3.0</td>\n",
       "      <td>3.0</td>\n",
       "    </tr>\n",
       "  </tbody>\n",
       "</table>\n",
       "</div>"
      ],
      "text/plain": [
       "        Item 1  Item 2  Item 3  Item 4  Item 5  Item 6\n",
       "User 1     7.0     6.0     7.0     4.0     5.0     4.0\n",
       "User 2     6.0     7.0     NaN     4.0     3.0     4.0\n",
       "User 3     NaN     3.0     3.0     1.0     1.0     NaN\n",
       "User 4     1.0     2.0     2.0     3.0     3.0     4.0\n",
       "User 5     1.0     NaN     1.0     2.0     3.0     3.0"
      ]
     },
     "execution_count": 4,
     "metadata": {},
     "output_type": "execute_result"
    }
   ],
   "source": [
    "# NaNs are ceros\n",
    "R = dataset.matrix.A\n",
    "user_ratings_mean = np.mean(R, axis=1)\n",
    "\n",
    "R_mask = (R > 0).astype(float)\n",
    "\n",
    "pd.DataFrame(\n",
    "    data=R,\n",
    "    index=[f\"User {u + 1}\" for u in np.arange(dataset.num_users)],\n",
    "    columns=[f\"Item {i + 1}\" for i in np.arange(dataset.num_items)],\n",
    ").replace(0, np.nan)"
   ]
  },
  {
   "cell_type": "code",
   "execution_count": 5,
   "metadata": {},
   "outputs": [
    {
     "data": {
      "text/plain": [
       "array([[7., 6., 7., 4., 5., 4.],\n",
       "       [6., 7., 0., 4., 3., 4.],\n",
       "       [0., 3., 3., 1., 1., 0.],\n",
       "       [1., 2., 2., 3., 3., 4.],\n",
       "       [1., 0., 1., 2., 3., 3.]])"
      ]
     },
     "execution_count": 5,
     "metadata": {},
     "output_type": "execute_result"
    }
   ],
   "source": [
    "R"
   ]
  },
  {
   "cell_type": "code",
   "execution_count": 6,
   "metadata": {},
   "outputs": [
    {
     "name": "stdout",
     "output_type": "stream",
     "text": [
      "Singular values:  [18.703  5.187  4.537  2.526  0.561]\n"
     ]
    }
   ],
   "source": [
    "U, sigma, Vt = np.linalg.svd(R, full_matrices=True)\n",
    "print(\"Singular values: \", sigma.round(3))"
   ]
  },
  {
   "cell_type": "code",
   "execution_count": 7,
   "metadata": {},
   "outputs": [
    {
     "data": {
      "text/plain": [
       "array([[0., 0., 0., 0., 0., 0.],\n",
       "       [0., 0., 0., 0., 0., 0.],\n",
       "       [0., 0., 0., 0., 0., 0.],\n",
       "       [0., 0., 0., 0., 0., 0.],\n",
       "       [0., 0., 0., 0., 0., 0.]])"
      ]
     },
     "execution_count": 7,
     "metadata": {},
     "output_type": "execute_result"
    }
   ],
   "source": [
    "Sigma = np.zeros((R.shape[0], R.shape[1]))\n",
    "Sigma"
   ]
  },
  {
   "cell_type": "code",
   "execution_count": 8,
   "metadata": {},
   "outputs": [
    {
     "data": {
      "text/plain": [
       "array([[18.70330042,  0.        ,  0.        ,  0.        ,  0.        ,\n",
       "         0.        ],\n",
       "       [ 0.        ,  5.18701077,  0.        ,  0.        ,  0.        ,\n",
       "         0.        ],\n",
       "       [ 0.        ,  0.        ,  4.53745621,  0.        ,  0.        ,\n",
       "         0.        ],\n",
       "       [ 0.        ,  0.        ,  0.        ,  2.52554323,  0.        ,\n",
       "         0.        ],\n",
       "       [ 0.        ,  0.        ,  0.        ,  0.        ,  0.56088795,\n",
       "         0.        ]])"
      ]
     },
     "execution_count": 8,
     "metadata": {},
     "output_type": "execute_result"
    }
   ],
   "source": [
    "Sigma[: R.shape[0], : R.shape[0]] = np.diag(sigma)\n",
    "Sigma"
   ]
  },
  {
   "cell_type": "code",
   "execution_count": 9,
   "metadata": {},
   "outputs": [],
   "source": [
    "K = 1\n",
    "Sigma = Sigma[:, :K]\n",
    "Vt = Vt[:K, :]"
   ]
  },
  {
   "cell_type": "code",
   "execution_count": 10,
   "metadata": {},
   "outputs": [],
   "source": [
    "# Y = U SIGMA Vt\n",
    "recon_R = U.dot(Sigma.dot(Vt))"
   ]
  },
  {
   "cell_type": "code",
   "execution_count": 11,
   "metadata": {},
   "outputs": [
    {
     "name": "stdout",
     "output_type": "stream",
     "text": [
      "\n",
      "RMSE = 1.065\n",
      "Reconstructed matrix:\n"
     ]
    },
    {
     "data": {
      "text/html": [
       "<div>\n",
       "<style scoped>\n",
       "    .dataframe tbody tr th:only-of-type {\n",
       "        vertical-align: middle;\n",
       "    }\n",
       "\n",
       "    .dataframe tbody tr th {\n",
       "        vertical-align: top;\n",
       "    }\n",
       "\n",
       "    .dataframe thead th {\n",
       "        text-align: right;\n",
       "    }\n",
       "</style>\n",
       "<table border=\"1\" class=\"dataframe\">\n",
       "  <thead>\n",
       "    <tr style=\"text-align: right;\">\n",
       "      <th></th>\n",
       "      <th>Item 1</th>\n",
       "      <th>Item 2</th>\n",
       "      <th>Item 3</th>\n",
       "      <th>Item 4</th>\n",
       "      <th>Item 5</th>\n",
       "      <th>Item 6</th>\n",
       "    </tr>\n",
       "  </thead>\n",
       "  <tbody>\n",
       "    <tr>\n",
       "      <th>User 1</th>\n",
       "      <td>6.44</td>\n",
       "      <td>6.78</td>\n",
       "      <td>4.63</td>\n",
       "      <td>4.79</td>\n",
       "      <td>5.06</td>\n",
       "      <td>5.04</td>\n",
       "    </tr>\n",
       "    <tr>\n",
       "      <th>User 2</th>\n",
       "      <td>4.95</td>\n",
       "      <td>5.21</td>\n",
       "      <td>3.56</td>\n",
       "      <td>3.69</td>\n",
       "      <td>3.89</td>\n",
       "      <td>3.87</td>\n",
       "    </tr>\n",
       "    <tr>\n",
       "      <th>User 3</th>\n",
       "      <td>1.55</td>\n",
       "      <td>1.63</td>\n",
       "      <td>1.12</td>\n",
       "      <td>1.16</td>\n",
       "      <td>1.22</td>\n",
       "      <td>1.21</td>\n",
       "    </tr>\n",
       "    <tr>\n",
       "      <th>User 4</th>\n",
       "      <td>2.78</td>\n",
       "      <td>2.93</td>\n",
       "      <td>2.00</td>\n",
       "      <td>2.07</td>\n",
       "      <td>2.18</td>\n",
       "      <td>2.18</td>\n",
       "    </tr>\n",
       "    <tr>\n",
       "      <th>User 5</th>\n",
       "      <td>1.79</td>\n",
       "      <td>1.89</td>\n",
       "      <td>1.29</td>\n",
       "      <td>1.34</td>\n",
       "      <td>1.41</td>\n",
       "      <td>1.40</td>\n",
       "    </tr>\n",
       "  </tbody>\n",
       "</table>\n",
       "</div>"
      ],
      "text/plain": [
       "        Item 1  Item 2  Item 3  Item 4  Item 5  Item 6\n",
       "User 1    6.44    6.78    4.63    4.79    5.06    5.04\n",
       "User 2    4.95    5.21    3.56    3.69    3.89    3.87\n",
       "User 3    1.55    1.63    1.12    1.16    1.22    1.21\n",
       "User 4    2.78    2.93    2.00    2.07    2.18    2.18\n",
       "User 5    1.79    1.89    1.29    1.34    1.41    1.40"
      ]
     },
     "execution_count": 11,
     "metadata": {},
     "output_type": "execute_result"
    }
   ],
   "source": [
    "rmse = np.sqrt((((R - recon_R) ** 2) * R_mask).mean())\n",
    "print(f\"\\nRMSE = {rmse:.3f}\")\n",
    "print(\"Reconstructed matrix:\")\n",
    "pd.DataFrame(\n",
    "    recon_R.round(2),\n",
    "    index=[f\"User {u + 1}\" for u in np.arange(dataset.num_users)],\n",
    "    columns=[f\"Item {i + 1}\" for i in np.arange(dataset.num_items)],\n",
    ")"
   ]
  },
  {
   "cell_type": "markdown",
   "metadata": {},
   "source": [
    "**Matrix Factorisation**"
   ]
  },
  {
   "cell_type": "code",
   "execution_count": 12,
   "metadata": {},
   "outputs": [
    {
     "data": {
      "application/vnd.jupyter.widget-view+json": {
       "model_id": "f138e8fef939422a93933af839ccd8b9",
       "version_major": 2,
       "version_minor": 0
      },
      "text/plain": [
       "  0%|          | 0/100 [00:00<?, ?it/s]"
      ]
     },
     "metadata": {},
     "output_type": "display_data"
    },
    {
     "name": "stdout",
     "output_type": "stream",
     "text": [
      "Optimization finished!\n"
     ]
    }
   ],
   "source": [
    "# Matrix Factorisation\n",
    "mf = MF(\n",
    "    k=1, max_iter=100, learning_rate=0.01, lambda_reg=0.0, use_bias=True, verbose=True\n",
    ").fit(dataset)\n",
    "\n",
    "# print(\"User factors:\\n\", mf.u_factors)\n",
    "# print(\"Item factors:\\n\", mf.i_factors)"
   ]
  },
  {
   "cell_type": "code",
   "execution_count": 16,
   "metadata": {},
   "outputs": [],
   "source": [
    "for u, i in itertools.product(range(recon_R.shape[0]), range(recon_R.shape[1])):\n",
    "    recon_R[u, i] = mf.score(u, i)"
   ]
  },
  {
   "cell_type": "code",
   "execution_count": 17,
   "metadata": {},
   "outputs": [
    {
     "name": "stdout",
     "output_type": "stream",
     "text": [
      "\n",
      "RMSE = 0.940\n",
      "Reconstructed matrix:\n"
     ]
    },
    {
     "data": {
      "text/html": [
       "<div>\n",
       "<style scoped>\n",
       "    .dataframe tbody tr th:only-of-type {\n",
       "        vertical-align: middle;\n",
       "    }\n",
       "\n",
       "    .dataframe tbody tr th {\n",
       "        vertical-align: top;\n",
       "    }\n",
       "\n",
       "    .dataframe thead th {\n",
       "        text-align: right;\n",
       "    }\n",
       "</style>\n",
       "<table border=\"1\" class=\"dataframe\">\n",
       "  <thead>\n",
       "    <tr style=\"text-align: right;\">\n",
       "      <th></th>\n",
       "      <th>Item 1</th>\n",
       "      <th>Item 2</th>\n",
       "      <th>Item 3</th>\n",
       "      <th>Item 4</th>\n",
       "      <th>Item 5</th>\n",
       "      <th>Item 6</th>\n",
       "    </tr>\n",
       "  </thead>\n",
       "  <tbody>\n",
       "    <tr>\n",
       "      <th>User 1</th>\n",
       "      <td>5.55</td>\n",
       "      <td>6.28</td>\n",
       "      <td>5.69</td>\n",
       "      <td>4.86</td>\n",
       "      <td>5.04</td>\n",
       "      <td>5.47</td>\n",
       "    </tr>\n",
       "    <tr>\n",
       "      <th>User 2</th>\n",
       "      <td>4.87</td>\n",
       "      <td>5.60</td>\n",
       "      <td>5.02</td>\n",
       "      <td>4.18</td>\n",
       "      <td>4.37</td>\n",
       "      <td>4.80</td>\n",
       "    </tr>\n",
       "    <tr>\n",
       "      <th>User 3</th>\n",
       "      <td>2.08</td>\n",
       "      <td>2.82</td>\n",
       "      <td>2.23</td>\n",
       "      <td>1.43</td>\n",
       "      <td>1.62</td>\n",
       "      <td>2.05</td>\n",
       "    </tr>\n",
       "    <tr>\n",
       "      <th>User 4</th>\n",
       "      <td>2.46</td>\n",
       "      <td>3.26</td>\n",
       "      <td>2.64</td>\n",
       "      <td>1.97</td>\n",
       "      <td>2.19</td>\n",
       "      <td>2.61</td>\n",
       "    </tr>\n",
       "    <tr>\n",
       "      <th>User 5</th>\n",
       "      <td>2.12</td>\n",
       "      <td>2.91</td>\n",
       "      <td>2.29</td>\n",
       "      <td>1.61</td>\n",
       "      <td>1.83</td>\n",
       "      <td>2.25</td>\n",
       "    </tr>\n",
       "  </tbody>\n",
       "</table>\n",
       "</div>"
      ],
      "text/plain": [
       "        Item 1  Item 2  Item 3  Item 4  Item 5  Item 6\n",
       "User 1    5.55    6.28    5.69    4.86    5.04    5.47\n",
       "User 2    4.87    5.60    5.02    4.18    4.37    4.80\n",
       "User 3    2.08    2.82    2.23    1.43    1.62    2.05\n",
       "User 4    2.46    3.26    2.64    1.97    2.19    2.61\n",
       "User 5    2.12    2.91    2.29    1.61    1.83    2.25"
      ]
     },
     "execution_count": 17,
     "metadata": {},
     "output_type": "execute_result"
    }
   ],
   "source": [
    "rmse = np.sqrt((((R - recon_R) ** 2) * R_mask).mean())\n",
    "print(f\"\\nRMSE = {rmse:.3f}\")\n",
    "print(\"Reconstructed matrix:\")\n",
    "pd.DataFrame(\n",
    "    recon_R.round(2),\n",
    "    index=[f\"User {u + 1}\" for u in np.arange(dataset.num_users)],\n",
    "    columns=[f\"Item {i + 1}\" for i in np.arange(dataset.num_items)],\n",
    ")"
   ]
  },
  {
   "cell_type": "markdown",
   "metadata": {},
   "source": [
    "**Real Dataset**\n",
    "\n",
    "Here, we try MF on MovieLens 100K dataset.  You can experiment with different number of factors."
   ]
  },
  {
   "cell_type": "code",
   "execution_count": 18,
   "metadata": {},
   "outputs": [
    {
     "name": "stdout",
     "output_type": "stream",
     "text": [
      "Data from http://files.grouplens.org/datasets/movielens/ml-100k/u.data\n",
      "will be cached into /Users/ytobio/.cornac/ml-100k/u.data\n"
     ]
    },
    {
     "data": {
      "application/vnd.jupyter.widget-view+json": {
       "model_id": "408101ad8a9041d0afd80e234230f686",
       "version_major": 2,
       "version_minor": 0
      },
      "text/plain": [
       "0.00B [00:00, ?B/s]"
      ]
     },
     "metadata": {},
     "output_type": "display_data"
    },
    {
     "name": "stdout",
     "output_type": "stream",
     "text": [
      "File cached!\n",
      "\n",
      "TEST:\n",
      "...\n",
      "         |   RMSE | Train (s) | Test (s)\n",
      "-------- + ------ + --------- + --------\n",
      "MF(K=10) | 0.9029 |    0.0132 |   0.1396\n",
      "\n"
     ]
    }
   ],
   "source": [
    "K = 10\n",
    "mf = MF(\n",
    "    k=K,\n",
    "    max_iter=20,\n",
    "    learning_rate=0.01,\n",
    "    lambda_reg=0.0,\n",
    "    use_bias=False,\n",
    "    verbose=VERBOSE,\n",
    "    seed=SEED,\n",
    "    name=f\"MF(K={K})\",\n",
    ")\n",
    "\n",
    "data = movielens.load_feedback(variant=\"100K\")\n",
    "rs = RatioSplit(data, test_size=0.2, seed=SEED, verbose=VERBOSE)\n",
    "rmse = cornac.metrics.RMSE()\n",
    "cornac.Experiment(eval_method=rs, models=[mf], metrics=[rmse]).run()"
   ]
  },
  {
   "cell_type": "markdown",
   "metadata": {},
   "source": [
    "In MF, we minimize *l2-norm* of the user and item factors, the regularization term is defined as:\n",
    "\n",
    "$$ \\mathrm{regularization} = \\frac{\\lambda}{2} \\big( ||p_u||^2 + ||q_i||^2 \\big) $$\n",
    "\n",
    "Let's see how MF with regularization performs."
   ]
  },
  {
   "cell_type": "code",
   "execution_count": 19,
   "metadata": {},
   "outputs": [
    {
     "name": "stdout",
     "output_type": "stream",
     "text": [
      "\n",
      "TEST:\n",
      "...\n",
      "                       |   RMSE | Train (s) | Test (s)\n",
      "---------------------- + ------ + --------- + --------\n",
      "MF(K=10,lambda=0.0100) | 0.9027 |    0.0132 |   0.1320\n",
      "\n"
     ]
    }
   ],
   "source": [
    "K = 10\n",
    "lbd = 0.01\n",
    "mf = MF(\n",
    "    k=K,\n",
    "    max_iter=20,\n",
    "    learning_rate=0.01,\n",
    "    lambda_reg=lbd,\n",
    "    use_bias=False,\n",
    "    verbose=VERBOSE,\n",
    "    seed=SEED,\n",
    "    name=f\"MF(K={K},lambda={lbd:.4f})\",\n",
    ")\n",
    "\n",
    "data = movielens.load_feedback(variant=\"100K\")\n",
    "rs = RatioSplit(data, test_size=0.2, seed=SEED, verbose=VERBOSE)\n",
    "rmse = cornac.metrics.RMSE()\n",
    "cornac.Experiment(eval_method=rs, models=[mf], metrics=[rmse]).run()"
   ]
  },
  {
   "cell_type": "markdown",
   "metadata": {},
   "source": [
    "Incorporating bias terms into prediction formular:\n",
    "\n",
    "$$\\hat{r}_{ui} =  \\mathbf{p}_u \\mathbf{q}^{T}_i + \\mu + b_u + c_i $$\n",
    "\n",
    "where $\\mu$ is global average rating, $b_u$ and $c_i$ are user bias and item bias, respectively.\n",
    "\n",
    "Let's compare MF models with and without biases.  \n",
    "The *BaselineOnly* model is the one using only bias terms for prediction ($\\hat{r}_{ij} = \\mu + b_u + c_i $)."
   ]
  },
  {
   "cell_type": "code",
   "execution_count": 20,
   "metadata": {},
   "outputs": [
    {
     "name": "stdout",
     "output_type": "stream",
     "text": [
      "\n",
      "TEST:\n",
      "...\n",
      "              |   RMSE | Train (s) | Test (s)\n",
      "------------- + ------ + --------- + --------\n",
      "BaselineOnly  | 0.9110 |    0.0024 |   0.1089\n",
      "MF(K=10)      | 0.9027 |    0.0135 |   0.1359\n",
      "MF(K=10,bias) | 0.8961 |    0.0151 |   0.1197\n",
      "\n"
     ]
    }
   ],
   "source": [
    "K = 10\n",
    "models = [\n",
    "    BaselineOnly(max_iter=20, learning_rate=0.01, lambda_reg=0.01, verbose=VERBOSE),\n",
    "    MF(\n",
    "        k=K,\n",
    "        max_iter=20,\n",
    "        learning_rate=0.01,\n",
    "        lambda_reg=0.01,\n",
    "        use_bias=False,\n",
    "        verbose=VERBOSE,\n",
    "        seed=SEED,\n",
    "        name=f\"MF(K={K})\",\n",
    "    ),\n",
    "    MF(\n",
    "        k=K,\n",
    "        max_iter=20,\n",
    "        learning_rate=0.01,\n",
    "        lambda_reg=0.01,\n",
    "        use_bias=True,\n",
    "        verbose=VERBOSE,\n",
    "        seed=SEED,\n",
    "        name=f\"MF(K={K},bias)\",\n",
    "    ),\n",
    "]\n",
    "\n",
    "data = movielens.load_feedback(variant=\"100K\")\n",
    "rs = RatioSplit(data, test_size=0.2, seed=SEED, verbose=VERBOSE)\n",
    "rmse = cornac.metrics.RMSE()\n",
    "cornac.Experiment(eval_method=rs, models=models, metrics=[rmse]).run()"
   ]
  },
  {
   "cell_type": "code",
   "execution_count": 21,
   "metadata": {},
   "outputs": [
    {
     "name": "stderr",
     "output_type": "stream",
     "text": [
      "/var/folders/hs/d248yjt91hj682bsqhd1bv0m0000gn/T/ipykernel_53213/3875154641.py:6: FutureWarning: \n",
      "\n",
      "Passing `palette` without assigning `hue` is deprecated and will be removed in v0.14.0. Assign the `x` variable to `hue` and set `legend=False` for the same effect.\n",
      "\n",
      "  sns.barplot(x=\"Factor\", y=\"Variance\", data=var_df, palette=\"ch:.25\", ax=ax);\n"
     ]
    },
    {
     "data": {
      "image/png": "[encoded data removed]",
      "text/plain": [
       "<Figure size 1200x500 with 1 Axes>"
      ]
     },
     "metadata": {},
     "output_type": "display_data"
    }
   ],
   "source": [
    "var_df = pd.DataFrame(\n",
    "    {\"Factor\": np.arange(K), \"Variance\": np.var(mf.i_factors, axis=0)}\n",
    ")\n",
    "fig, ax = plt.subplots(figsize=(12, 5))\n",
    "plt.title(\"MF\")\n",
    "sns.barplot(x=\"Factor\", y=\"Variance\", data=var_df, palette=\"ch:.25\", ax=ax);"
   ]
  },
  {
   "cell_type": "code",
   "execution_count": 22,
   "metadata": {},
   "outputs": [
    {
     "name": "stdout",
     "output_type": "stream",
     "text": [
      "Data from http://files.grouplens.org/datasets/movielens/ml-100k/u.item\n",
      "will be cached into /Users/ytobio/.cornac/u.item\n"
     ]
    },
    {
     "data": {
      "application/vnd.jupyter.widget-view+json": {
       "model_id": "1c9e7a6f958144f8b5b4110265ccadb6",
       "version_major": 2,
       "version_minor": 0
      },
      "text/plain": [
       "0.00B [00:00, ?B/s]"
      ]
     },
     "metadata": {},
     "output_type": "display_data"
    },
    {
     "name": "stdout",
     "output_type": "stream",
     "text": [
      "File cached!\n"
     ]
    }
   ],
   "source": [
    "# Download some information of MovieLens 100K dataset\n",
    "item_df = (\n",
    "    pd.read_csv(\n",
    "        cache(\"http://files.grouplens.org/datasets/movielens/ml-100k/u.item\"),\n",
    "        sep=\"|\",\n",
    "        encoding=\"ISO-8859-1\",\n",
    "        names=[\n",
    "            \"ItemID\",\n",
    "            \"Title\",\n",
    "            \"Release Date\",\n",
    "            \"Video Release Date\",\n",
    "            \"IMDb URL\",\n",
    "            \"unknown\",\n",
    "            \"Action\",\n",
    "            \"Adventure\",\n",
    "            \"Animation\",\n",
    "            \"Children's\",\n",
    "            \"Comedy\",\n",
    "            \"Crime\",\n",
    "            \"Documentary\",\n",
    "            \"Drama\",\n",
    "            \"Fantasy\",\n",
    "            \"Film-Noir\",\n",
    "            \"Horror\",\n",
    "            \"Musical\",\n",
    "            \"Mystery\",\n",
    "            \"Romance\",\n",
    "            \"Sci-Fi\",\n",
    "            \"Thriller\",\n",
    "            \"War\",\n",
    "            \"Western\",\n",
    "        ],\n",
    "    )\n",
    "    .set_index(\"ItemID\")\n",
    "    .drop(columns=[\"Video Release Date\", \"IMDb URL\", \"unknown\"])\n",
    ")"
   ]
  },
  {
   "cell_type": "code",
   "execution_count": 23,
   "metadata": {},
   "outputs": [
    {
     "data": {
      "image/png": "[encoded data removed]",
      "text/plain": [
       "<Figure size 1100x1100 with 1 Axes>"
      ]
     },
     "metadata": {},
     "output_type": "display_data"
    }
   ],
   "source": [
    "TOP2F = (0, 2)\n",
    "SAMPLE_SIZE = 20\n",
    "\n",
    "rng = np.random.RandomState(SEED)\n",
    "sample_inds = rng.choice(\n",
    "    np.arange(mf.i_factors.shape[0]), size=SAMPLE_SIZE, replace=False\n",
    ")\n",
    "sample_df = pd.DataFrame(data=mf.i_factors[sample_inds][:, TOP2F], columns=[\"x\", \"y\"])\n",
    "\n",
    "sns.lmplot(x=\"x\", y=\"y\", data=sample_df, height=11.0, fit_reg=False)\n",
    "item_idx2id = list(mf.train_set.item_ids)\n",
    "titles = item_df.loc[[int(item_idx2id[i]) for i in sample_inds]][\"Title\"].values\n",
    "adjust_text(\n",
    "    [plt.text(*sample_df.loc[i].values, titles[i], size=10) for i in range(len(titles))]\n",
    ");"
   ]
  },
  {
   "cell_type": "markdown",
   "metadata": {},
   "source": [
    "### **4.2.3 Non-Negative Matrix Factorization (NMF)**\n",
    "\n",
    "A variant of matrix factorization is non-negative matrix factorization. In this case the latent factors are constrained to be non-negative.  \n",
    "This allows for better interpretability as we can reason with positive values."
   ]
  },
  {
   "cell_type": "code",
   "execution_count": 24,
   "metadata": {},
   "outputs": [
    {
     "name": "stdout",
     "output_type": "stream",
     "text": [
      "\n",
      "RMSE = 0.922\n",
      "Reconstructed matrix:\n"
     ]
    },
    {
     "data": {
      "text/html": [
       "<div>\n",
       "<style scoped>\n",
       "    .dataframe tbody tr th:only-of-type {\n",
       "        vertical-align: middle;\n",
       "    }\n",
       "\n",
       "    .dataframe tbody tr th {\n",
       "        vertical-align: top;\n",
       "    }\n",
       "\n",
       "    .dataframe thead th {\n",
       "        text-align: right;\n",
       "    }\n",
       "</style>\n",
       "<table border=\"1\" class=\"dataframe\">\n",
       "  <thead>\n",
       "    <tr style=\"text-align: right;\">\n",
       "      <th></th>\n",
       "      <th>Item 1</th>\n",
       "      <th>Item 2</th>\n",
       "      <th>Item 3</th>\n",
       "      <th>Item 4</th>\n",
       "      <th>Item 5</th>\n",
       "      <th>Item 6</th>\n",
       "    </tr>\n",
       "  </thead>\n",
       "  <tbody>\n",
       "    <tr>\n",
       "      <th>User 1</th>\n",
       "      <td>5.76</td>\n",
       "      <td>6.17</td>\n",
       "      <td>5.96</td>\n",
       "      <td>4.05</td>\n",
       "      <td>4.22</td>\n",
       "      <td>4.50</td>\n",
       "    </tr>\n",
       "    <tr>\n",
       "      <th>User 2</th>\n",
       "      <td>5.27</td>\n",
       "      <td>5.65</td>\n",
       "      <td>5.46</td>\n",
       "      <td>3.71</td>\n",
       "      <td>3.87</td>\n",
       "      <td>4.12</td>\n",
       "    </tr>\n",
       "    <tr>\n",
       "      <th>User 3</th>\n",
       "      <td>2.21</td>\n",
       "      <td>2.36</td>\n",
       "      <td>2.28</td>\n",
       "      <td>1.55</td>\n",
       "      <td>1.62</td>\n",
       "      <td>1.73</td>\n",
       "    </tr>\n",
       "    <tr>\n",
       "      <th>User 4</th>\n",
       "      <td>2.41</td>\n",
       "      <td>2.58</td>\n",
       "      <td>2.49</td>\n",
       "      <td>1.69</td>\n",
       "      <td>1.76</td>\n",
       "      <td>1.88</td>\n",
       "    </tr>\n",
       "    <tr>\n",
       "      <th>User 5</th>\n",
       "      <td>1.99</td>\n",
       "      <td>2.13</td>\n",
       "      <td>2.06</td>\n",
       "      <td>1.40</td>\n",
       "      <td>1.46</td>\n",
       "      <td>1.55</td>\n",
       "    </tr>\n",
       "  </tbody>\n",
       "</table>\n",
       "</div>"
      ],
      "text/plain": [
       "        Item 1  Item 2  Item 3  Item 4  Item 5  Item 6\n",
       "User 1    5.76    6.17    5.96    4.05    4.22    4.50\n",
       "User 2    5.27    5.65    5.46    3.71    3.87    4.12\n",
       "User 3    2.21    2.36    2.28    1.55    1.62    1.73\n",
       "User 4    2.41    2.58    2.49    1.69    1.76    1.88\n",
       "User 5    1.99    2.13    2.06    1.40    1.46    1.55"
      ]
     },
     "execution_count": 24,
     "metadata": {},
     "output_type": "execute_result"
    }
   ],
   "source": [
    "nmf = NMF(k=1, max_iter=100, learning_rate=0.01, lambda_reg=0.0, verbose=VERBOSE).fit(\n",
    "    dataset\n",
    ")\n",
    "# print(\"User factors:\\n\", nmf.u_factors)\n",
    "# print(\"Item factors:\\n\", nmf.i_factors)\n",
    "\n",
    "recon_R = np.empty(dataset.matrix.shape)\n",
    "for u, i in itertools.product(range(recon_R.shape[0]), range(recon_R.shape[1])):\n",
    "    recon_R[u, i] = nmf.score(u, i)\n",
    "\n",
    "rmse = np.sqrt((((R - recon_R) ** 2) * R_mask).mean())\n",
    "print(f\"\\nRMSE = {rmse:.3f}\")\n",
    "print(\"Reconstructed matrix:\")\n",
    "pd.DataFrame(\n",
    "    recon_R.round(2),\n",
    "    index=[f\"User {u + 1}\" for u in np.arange(dataset.num_users)],\n",
    "    columns=[f\"Item {i + 1}\" for i in np.arange(dataset.num_items)],\n",
    ")"
   ]
  },
  {
   "cell_type": "markdown",
   "metadata": {},
   "source": [
    "### NMF on MovieLens 100K"
   ]
  },
  {
   "cell_type": "code",
   "execution_count": 25,
   "metadata": {},
   "outputs": [
    {
     "name": "stdout",
     "output_type": "stream",
     "text": [
      "\n",
      "TEST:\n",
      "...\n",
      "          |   RMSE | Train (s) | Test (s)\n",
      "--------- + ------ + --------- + --------\n",
      "NMF(K=10) | 1.0196 |    0.3330 |   0.1346\n",
      "\n"
     ]
    }
   ],
   "source": [
    "K = 10\n",
    "nmf = NMF(\n",
    "    k=K,\n",
    "    max_iter=200,\n",
    "    learning_rate=0.01,\n",
    "    lambda_reg=0.01,\n",
    "    use_bias=False,\n",
    "    verbose=VERBOSE,\n",
    "    seed=SEED,\n",
    "    name=f\"NMF(K={K})\",\n",
    ")\n",
    "\n",
    "data = movielens.load_feedback(variant=\"100K\")\n",
    "rs = RatioSplit(data, test_size=0.2, seed=SEED, verbose=VERBOSE)\n",
    "rmse = cornac.metrics.RMSE()\n",
    "cornac.Experiment(eval_method=rs, models=[nmf], metrics=[rmse]).run()"
   ]
  },
  {
   "cell_type": "markdown",
   "metadata": {},
   "source": [
    "\n",
    "To gain a sense of the inner workings of matrix factorization techniques, let us see how the latent factors could give us some information about how items are associated with one another, as well as which items tend to be associated with a particular factor."
   ]
  },
  {
   "cell_type": "code",
   "execution_count": 26,
   "metadata": {},
   "outputs": [],
   "source": [
    "# Download some information of MovieLens 100K dataset\n",
    "item_df = (\n",
    "    pd.read_csv(\n",
    "        cache(\"http://files.grouplens.org/datasets/movielens/ml-100k/u.item\"),\n",
    "        sep=\"|\",\n",
    "        encoding=\"ISO-8859-1\",\n",
    "        names=[\n",
    "            \"ItemID\",\n",
    "            \"Title\",\n",
    "            \"Release Date\",\n",
    "            \"Video Release Date\",\n",
    "            \"IMDb URL\",\n",
    "            \"unknown\",\n",
    "            \"Action\",\n",
    "            \"Adventure\",\n",
    "            \"Animation\",\n",
    "            \"Children's\",\n",
    "            \"Comedy\",\n",
    "            \"Crime\",\n",
    "            \"Documentary\",\n",
    "            \"Drama\",\n",
    "            \"Fantasy\",\n",
    "            \"Film-Noir\",\n",
    "            \"Horror\",\n",
    "            \"Musical\",\n",
    "            \"Mystery\",\n",
    "            \"Romance\",\n",
    "            \"Sci-Fi\",\n",
    "            \"Thriller\",\n",
    "            \"War\",\n",
    "            \"Western\",\n",
    "        ],\n",
    "    )\n",
    "    .set_index(\"ItemID\")\n",
    "    .drop(columns=[\"Video Release Date\", \"IMDb URL\", \"unknown\"])\n",
    ")"
   ]
  },
  {
   "cell_type": "code",
   "execution_count": 27,
   "metadata": {},
   "outputs": [
    {
     "data": {
      "text/plain": [
       "Index(['Title', 'Release Date', 'Action', 'Adventure', 'Animation',\n",
       "       'Children's', 'Comedy', 'Crime', 'Documentary', 'Drama', 'Fantasy',\n",
       "       'Film-Noir', 'Horror', 'Musical', 'Mystery', 'Romance', 'Sci-Fi',\n",
       "       'Thriller', 'War', 'Western'],\n",
       "      dtype='object')"
      ]
     },
     "execution_count": 27,
     "metadata": {},
     "output_type": "execute_result"
    }
   ],
   "source": [
    "item_df.columns"
   ]
  },
  {
   "cell_type": "markdown",
   "metadata": {},
   "source": [
    "Let's retrain two models MF and NMF with 10 latent factors and compare their RMSE.  Is there any difference?"
   ]
  },
  {
   "cell_type": "code",
   "execution_count": 28,
   "metadata": {},
   "outputs": [
    {
     "name": "stdout",
     "output_type": "stream",
     "text": [
      "\n",
      "TEST:\n",
      "...\n",
      "          |   RMSE | Train (s) | Test (s)\n",
      "--------- + ------ + --------- + --------\n",
      "MF(K=10)  | 0.9027 |    0.0133 |   0.1349\n",
      "NMF(K=10) | 1.0196 |    0.3333 |   0.1350\n",
      "\n"
     ]
    }
   ],
   "source": [
    "K = 10\n",
    "mf = MF(\n",
    "    k=K,\n",
    "    max_iter=20,\n",
    "    learning_rate=0.01,\n",
    "    lambda_reg=0.01,\n",
    "    use_bias=False,\n",
    "    verbose=VERBOSE,\n",
    "    seed=SEED,\n",
    "    name=f\"MF(K={K})\",\n",
    ")\n",
    "nmf = NMF(\n",
    "    k=K,\n",
    "    max_iter=200,\n",
    "    learning_rate=0.01,\n",
    "    lambda_reg=0.01,\n",
    "    use_bias=False,\n",
    "    verbose=VERBOSE,\n",
    "    seed=SEED,\n",
    "    name=f\"NMF(K={K})\",\n",
    ")\n",
    "\n",
    "data = movielens.load_feedback(variant=\"100K\")\n",
    "rs = RatioSplit(data, test_size=0.2, seed=SEED, verbose=VERBOSE)\n",
    "rmse = cornac.metrics.RMSE()\n",
    "cornac.Experiment(eval_method=rs, models=[mf, nmf], metrics=[rmse]).run()"
   ]
  },
  {
   "cell_type": "markdown",
   "metadata": {},
   "source": [
    "### MF\n",
    "\n",
    "Below is the variance of each latent dimension across different items.  If a factor or dimension has higher variance, it is better at discriminating among different items.  Conversely, if the variance of a factor is too small, it implies that most items would have a similar value for that factor."
   ]
  },
  {
   "cell_type": "code",
   "execution_count": 29,
   "metadata": {},
   "outputs": [
    {
     "name": "stderr",
     "output_type": "stream",
     "text": [
      "/var/folders/hs/d248yjt91hj682bsqhd1bv0m0000gn/T/ipykernel_53213/3875154641.py:6: FutureWarning: \n",
      "\n",
      "Passing `palette` without assigning `hue` is deprecated and will be removed in v0.14.0. Assign the `x` variable to `hue` and set `legend=False` for the same effect.\n",
      "\n",
      "  sns.barplot(x=\"Factor\", y=\"Variance\", data=var_df, palette=\"ch:.25\", ax=ax);\n"
     ]
    },
    {
     "data": {
      "image/png": "[encoded data removed]",
      "text/plain": [
       "<Figure size 1200x500 with 1 Axes>"
      ]
     },
     "metadata": {},
     "output_type": "display_data"
    }
   ],
   "source": [
    "var_df = pd.DataFrame(\n",
    "    {\"Factor\": np.arange(K), \"Variance\": np.var(mf.i_factors, axis=0)}\n",
    ")\n",
    "fig, ax = plt.subplots(figsize=(12, 5))\n",
    "plt.title(\"MF\")\n",
    "sns.barplot(x=\"Factor\", y=\"Variance\", data=var_df, palette=\"ch:.25\", ax=ax);"
   ]
  },
  {
   "cell_type": "code",
   "execution_count": 30,
   "metadata": {},
   "outputs": [
    {
     "data": {
      "image/png": "[encoded data removed]",
      "text/plain": [
       "<Figure size 1100x1100 with 1 Axes>"
      ]
     },
     "metadata": {},
     "output_type": "display_data"
    }
   ],
   "source": [
    "TOP2F = (0, 2)\n",
    "SAMPLE_SIZE = 20\n",
    "\n",
    "rng = np.random.RandomState(SEED)\n",
    "sample_inds = rng.choice(\n",
    "    np.arange(mf.i_factors.shape[0]), size=SAMPLE_SIZE, replace=False\n",
    ")\n",
    "sample_df = pd.DataFrame(data=mf.i_factors[sample_inds][:, TOP2F], columns=[\"x\", \"y\"])\n",
    "\n",
    "sns.lmplot(x=\"x\", y=\"y\", data=sample_df, height=11.0, fit_reg=False)\n",
    "item_idx2id = list(mf.train_set.item_ids)\n",
    "titles = item_df.loc[[int(item_idx2id[i]) for i in sample_inds]][\"Title\"].values\n",
    "adjust_text(\n",
    "    [plt.text(*sample_df.loc[i].values, titles[i], size=10) for i in range(len(titles))]\n",
    ");"
   ]
  },
  {
   "cell_type": "markdown",
   "metadata": {},
   "source": [
    "### NMF\n",
    "\n",
    "Below is the variance of each latent dimension."
   ]
  },
  {
   "cell_type": "code",
   "execution_count": 31,
   "metadata": {},
   "outputs": [
    {
     "name": "stderr",
     "output_type": "stream",
     "text": [
      "/var/folders/hs/d248yjt91hj682bsqhd1bv0m0000gn/T/ipykernel_53213/3726567848.py:6: FutureWarning: \n",
      "\n",
      "Passing `palette` without assigning `hue` is deprecated and will be removed in v0.14.0. Assign the `x` variable to `hue` and set `legend=False` for the same effect.\n",
      "\n",
      "  sns.barplot(x=\"Factor\", y=\"Variance\", data=var_df, palette=\"ch:.25\", ax=ax);\n"
     ]
    },
    {
     "data": {
      "image/png": "[encoded data removed]",
      "text/plain": [
       "<Figure size 1200x500 with 1 Axes>"
      ]
     },
     "metadata": {},
     "output_type": "display_data"
    }
   ],
   "source": [
    "var_df = pd.DataFrame(\n",
    "    {\"Factor\": np.arange(K), \"Variance\": np.var(nmf.i_factors, axis=0)}\n",
    ")\n",
    "fig, ax = plt.subplots(figsize=(12, 5))\n",
    "plt.title(\"NFM\")\n",
    "sns.barplot(x=\"Factor\", y=\"Variance\", data=var_df, palette=\"ch:.25\", ax=ax);"
   ]
  },
  {
   "cell_type": "code",
   "execution_count": 32,
   "metadata": {},
   "outputs": [
    {
     "data": {
      "image/png": "[encoded data removed]",
      "text/plain": [
       "<Figure size 1100x1100 with 1 Axes>"
      ]
     },
     "metadata": {},
     "output_type": "display_data"
    }
   ],
   "source": [
    "TOP2F = (5, 6)\n",
    "SAMPLE_SIZE = 20\n",
    "\n",
    "rng = np.random.RandomState(SEED)\n",
    "sample_inds = rng.choice(\n",
    "    np.arange(nmf.i_factors.shape[0]), size=SAMPLE_SIZE, replace=False\n",
    ")\n",
    "sample_df = pd.DataFrame(data=nmf.i_factors[sample_inds][:, TOP2F], columns=[\"x\", \"y\"])\n",
    "\n",
    "sns.lmplot(x=\"x\", y=\"y\", data=sample_df, height=11.0, fit_reg=False)\n",
    "item_idx2id = list(nmf.train_set.item_ids)\n",
    "titles = item_df.loc[[int(item_idx2id[i]) for i in sample_inds]][\"Title\"].values\n",
    "adjust_text(\n",
    "    [plt.text(*sample_df.loc[i].values, titles[i], size=10) for i in range(len(titles))]\n",
    ");"
   ]
  },
  {
   "cell_type": "markdown",
   "metadata": {},
   "source": [
    "Let's see what are the top movies (i.e., highest values) of each latent dimension."
   ]
  },
  {
   "cell_type": "code",
   "execution_count": 33,
   "metadata": {},
   "outputs": [
    {
     "data": {
      "text/html": [
       "<div>\n",
       "<style scoped>\n",
       "    .dataframe tbody tr th:only-of-type {\n",
       "        vertical-align: middle;\n",
       "    }\n",
       "\n",
       "    .dataframe tbody tr th {\n",
       "        vertical-align: top;\n",
       "    }\n",
       "\n",
       "    .dataframe thead th {\n",
       "        text-align: right;\n",
       "    }\n",
       "</style>\n",
       "<table border=\"1\" class=\"dataframe\">\n",
       "  <thead>\n",
       "    <tr style=\"text-align: right;\">\n",
       "      <th></th>\n",
       "      <th>Factor 0</th>\n",
       "      <th>Factor 1</th>\n",
       "      <th>Factor 2</th>\n",
       "      <th>Factor 3</th>\n",
       "      <th>Factor 4</th>\n",
       "      <th>Factor 5</th>\n",
       "      <th>Factor 6</th>\n",
       "      <th>Factor 7</th>\n",
       "      <th>Factor 8</th>\n",
       "      <th>Factor 9</th>\n",
       "    </tr>\n",
       "  </thead>\n",
       "  <tbody>\n",
       "    <tr>\n",
       "      <th>0</th>\n",
       "      <td>Carpool (1996)</td>\n",
       "      <td>Best Men (1997)</td>\n",
       "      <td>Bhaji on the Beach (1993)</td>\n",
       "      <td>Garden of Finzi-Contini, The (Giardino dei Fin...</td>\n",
       "      <td>Tough and Deadly (1995)</td>\n",
       "      <td>Boys, Les (1997)</td>\n",
       "      <td>Ruby in Paradise (1993)</td>\n",
       "      <td>Deep Rising (1998)</td>\n",
       "      <td>City of Industry (1997)</td>\n",
       "      <td>Gumby: The Movie (1995)</td>\n",
       "    </tr>\n",
       "    <tr>\n",
       "      <th>1</th>\n",
       "      <td>Good Man in Africa, A (1994)</td>\n",
       "      <td>Paradise Lost: The Child Murders at Robin Hood...</td>\n",
       "      <td>Panther (1995)</td>\n",
       "      <td>Kissed (1996)</td>\n",
       "      <td>8 Heads in a Duffel Bag (1997)</td>\n",
       "      <td>Nénette et Boni (1996)</td>\n",
       "      <td>Mina Tannenbaum (1994)</td>\n",
       "      <td>Captives (1994)</td>\n",
       "      <td>Romper Stomper (1992)</td>\n",
       "      <td>Turbulence (1997)</td>\n",
       "    </tr>\n",
       "    <tr>\n",
       "      <th>2</th>\n",
       "      <td>Neon Bible, The (1995)</td>\n",
       "      <td>Angel Baby (1995)</td>\n",
       "      <td>Nina Takes a Lover (1994)</td>\n",
       "      <td>Ice Storm, The (1997)</td>\n",
       "      <td>Selena (1997)</td>\n",
       "      <td>Ghost in the Shell (Kokaku kidotai) (1995)</td>\n",
       "      <td>Harlem (1993)</td>\n",
       "      <td>Baby-Sitters Club, The (1995)</td>\n",
       "      <td>Tetsuo II: Body Hammer (1992)</td>\n",
       "      <td>Man in the Iron Mask, The (1998)</td>\n",
       "    </tr>\n",
       "    <tr>\n",
       "      <th>3</th>\n",
       "      <td>C'est arrivé près de chez vous (1992)</td>\n",
       "      <td>Cemetery Man (Dellamorte Dellamore) (1994)</td>\n",
       "      <td>Cats Don't Dance (1997)</td>\n",
       "      <td>Low Down Dirty Shame, A (1994)</td>\n",
       "      <td>Love Jones (1997)</td>\n",
       "      <td>Grace of My Heart (1996)</td>\n",
       "      <td>Secret Agent, The (1996)</td>\n",
       "      <td>Prisoner of the Mountains (Kavkazsky Plennik) ...</td>\n",
       "      <td>Boys, Les (1997)</td>\n",
       "      <td>Radioland Murders (1994)</td>\n",
       "    </tr>\n",
       "    <tr>\n",
       "      <th>4</th>\n",
       "      <td>Miami Rhapsody (1995)</td>\n",
       "      <td>Underground (1995)</td>\n",
       "      <td>Until the End of the World (Bis ans Ende der W...</td>\n",
       "      <td>Dunston Checks In (1996)</td>\n",
       "      <td>Little Princess, The (1939)</td>\n",
       "      <td>Stalingrad (1993)</td>\n",
       "      <td>White Balloon, The (1995)</td>\n",
       "      <td>Guilty as Sin (1993)</td>\n",
       "      <td>To Live (Huozhe) (1994)</td>\n",
       "      <td>Infinity (1996)</td>\n",
       "    </tr>\n",
       "  </tbody>\n",
       "</table>\n",
       "</div>"
      ],
      "text/plain": [
       "                                Factor 0  \\\n",
       "0                         Carpool (1996)   \n",
       "1           Good Man in Africa, A (1994)   \n",
       "2                 Neon Bible, The (1995)   \n",
       "3  C'est arrivé près de chez vous (1992)   \n",
       "4                  Miami Rhapsody (1995)   \n",
       "\n",
       "                                            Factor 1  \\\n",
       "0                                    Best Men (1997)   \n",
       "1  Paradise Lost: The Child Murders at Robin Hood...   \n",
       "2                                  Angel Baby (1995)   \n",
       "3         Cemetery Man (Dellamorte Dellamore) (1994)   \n",
       "4                                 Underground (1995)   \n",
       "\n",
       "                                            Factor 2  \\\n",
       "0                          Bhaji on the Beach (1993)   \n",
       "1                                     Panther (1995)   \n",
       "2                          Nina Takes a Lover (1994)   \n",
       "3                            Cats Don't Dance (1997)   \n",
       "4  Until the End of the World (Bis ans Ende der W...   \n",
       "\n",
       "                                            Factor 3  \\\n",
       "0  Garden of Finzi-Contini, The (Giardino dei Fin...   \n",
       "1                                      Kissed (1996)   \n",
       "2                              Ice Storm, The (1997)   \n",
       "3                     Low Down Dirty Shame, A (1994)   \n",
       "4                           Dunston Checks In (1996)   \n",
       "\n",
       "                         Factor 4                                    Factor 5  \\\n",
       "0         Tough and Deadly (1995)                            Boys, Les (1997)   \n",
       "1  8 Heads in a Duffel Bag (1997)                      Nénette et Boni (1996)   \n",
       "2                   Selena (1997)  Ghost in the Shell (Kokaku kidotai) (1995)   \n",
       "3               Love Jones (1997)                    Grace of My Heart (1996)   \n",
       "4     Little Princess, The (1939)                           Stalingrad (1993)   \n",
       "\n",
       "                    Factor 6  \\\n",
       "0    Ruby in Paradise (1993)   \n",
       "1     Mina Tannenbaum (1994)   \n",
       "2              Harlem (1993)   \n",
       "3   Secret Agent, The (1996)   \n",
       "4  White Balloon, The (1995)   \n",
       "\n",
       "                                            Factor 7  \\\n",
       "0                                 Deep Rising (1998)   \n",
       "1                                    Captives (1994)   \n",
       "2                      Baby-Sitters Club, The (1995)   \n",
       "3  Prisoner of the Mountains (Kavkazsky Plennik) ...   \n",
       "4                               Guilty as Sin (1993)   \n",
       "\n",
       "                        Factor 8                          Factor 9  \n",
       "0        City of Industry (1997)           Gumby: The Movie (1995)  \n",
       "1          Romper Stomper (1992)                 Turbulence (1997)  \n",
       "2  Tetsuo II: Body Hammer (1992)  Man in the Iron Mask, The (1998)  \n",
       "3               Boys, Les (1997)          Radioland Murders (1994)  \n",
       "4        To Live (Huozhe) (1994)                   Infinity (1996)  "
      ]
     },
     "execution_count": 33,
     "metadata": {},
     "output_type": "execute_result"
    }
   ],
   "source": [
    "item_idx2id = list(nmf.train_set.item_ids)\n",
    "top_items = {}\n",
    "for k in range(K):\n",
    "    top_inds = np.argsort(nmf.i_factors[:, k])[-5:][::-1]\n",
    "    top_items[f\"Factor {k}\"] = item_df.loc[[int(item_idx2id[i]) for i in top_inds]][\n",
    "        \"Title\"\n",
    "    ].values\n",
    "pd.DataFrame(top_items)"
   ]
  },
  {
   "cell_type": "markdown",
   "metadata": {},
   "source": [
    "For each latent factor, we take the top 100 movies with the highest values for that factor.  We then bin them into their respective genres. This hints at whether there is a relationship or association between latent factors and movie genres."
   ]
  },
  {
   "cell_type": "code",
   "execution_count": 34,
   "metadata": {},
   "outputs": [
    {
     "data": {
      "text/html": [
       "<div>\n",
       "<style scoped>\n",
       "    .dataframe tbody tr th:only-of-type {\n",
       "        vertical-align: middle;\n",
       "    }\n",
       "\n",
       "    .dataframe tbody tr th {\n",
       "        vertical-align: top;\n",
       "    }\n",
       "\n",
       "    .dataframe thead th {\n",
       "        text-align: right;\n",
       "    }\n",
       "</style>\n",
       "<table border=\"1\" class=\"dataframe\">\n",
       "  <thead>\n",
       "    <tr style=\"text-align: right;\">\n",
       "      <th></th>\n",
       "      <th>Factor 0</th>\n",
       "      <th>Factor 1</th>\n",
       "      <th>Factor 2</th>\n",
       "      <th>Factor 3</th>\n",
       "      <th>Factor 4</th>\n",
       "      <th>Factor 5</th>\n",
       "      <th>Factor 6</th>\n",
       "      <th>Factor 7</th>\n",
       "      <th>Factor 8</th>\n",
       "      <th>Factor 9</th>\n",
       "    </tr>\n",
       "  </thead>\n",
       "  <tbody>\n",
       "    <tr>\n",
       "      <th>Action</th>\n",
       "      <td>18</td>\n",
       "      <td>11</td>\n",
       "      <td>12</td>\n",
       "      <td>17</td>\n",
       "      <td>12</td>\n",
       "      <td>7</td>\n",
       "      <td>4</td>\n",
       "      <td>5</td>\n",
       "      <td>20</td>\n",
       "      <td>15</td>\n",
       "    </tr>\n",
       "    <tr>\n",
       "      <th>Adventure</th>\n",
       "      <td>12</td>\n",
       "      <td>4</td>\n",
       "      <td>11</td>\n",
       "      <td>3</td>\n",
       "      <td>5</td>\n",
       "      <td>3</td>\n",
       "      <td>6</td>\n",
       "      <td>2</td>\n",
       "      <td>13</td>\n",
       "      <td>11</td>\n",
       "    </tr>\n",
       "    <tr>\n",
       "      <th>Animation</th>\n",
       "      <td>0</td>\n",
       "      <td>1</td>\n",
       "      <td>1</td>\n",
       "      <td>5</td>\n",
       "      <td>3</td>\n",
       "      <td>2</td>\n",
       "      <td>5</td>\n",
       "      <td>0</td>\n",
       "      <td>0</td>\n",
       "      <td>3</td>\n",
       "    </tr>\n",
       "    <tr>\n",
       "      <th>Children's</th>\n",
       "      <td>5</td>\n",
       "      <td>3</td>\n",
       "      <td>6</td>\n",
       "      <td>5</td>\n",
       "      <td>5</td>\n",
       "      <td>5</td>\n",
       "      <td>2</td>\n",
       "      <td>2</td>\n",
       "      <td>8</td>\n",
       "      <td>20</td>\n",
       "    </tr>\n",
       "    <tr>\n",
       "      <th>Comedy</th>\n",
       "      <td>27</td>\n",
       "      <td>29</td>\n",
       "      <td>31</td>\n",
       "      <td>36</td>\n",
       "      <td>22</td>\n",
       "      <td>32</td>\n",
       "      <td>33</td>\n",
       "      <td>28</td>\n",
       "      <td>24</td>\n",
       "      <td>38</td>\n",
       "    </tr>\n",
       "    <tr>\n",
       "      <th>Crime</th>\n",
       "      <td>7</td>\n",
       "      <td>9</td>\n",
       "      <td>5</td>\n",
       "      <td>9</td>\n",
       "      <td>4</td>\n",
       "      <td>3</td>\n",
       "      <td>6</td>\n",
       "      <td>4</td>\n",
       "      <td>9</td>\n",
       "      <td>3</td>\n",
       "    </tr>\n",
       "    <tr>\n",
       "      <th>Documentary</th>\n",
       "      <td>3</td>\n",
       "      <td>10</td>\n",
       "      <td>1</td>\n",
       "      <td>3</td>\n",
       "      <td>1</td>\n",
       "      <td>6</td>\n",
       "      <td>4</td>\n",
       "      <td>3</td>\n",
       "      <td>2</td>\n",
       "      <td>3</td>\n",
       "    </tr>\n",
       "    <tr>\n",
       "      <th>Drama</th>\n",
       "      <td>39</td>\n",
       "      <td>42</td>\n",
       "      <td>45</td>\n",
       "      <td>43</td>\n",
       "      <td>49</td>\n",
       "      <td>50</td>\n",
       "      <td>55</td>\n",
       "      <td>60</td>\n",
       "      <td>45</td>\n",
       "      <td>30</td>\n",
       "    </tr>\n",
       "    <tr>\n",
       "      <th>Fantasy</th>\n",
       "      <td>0</td>\n",
       "      <td>1</td>\n",
       "      <td>1</td>\n",
       "      <td>0</td>\n",
       "      <td>1</td>\n",
       "      <td>1</td>\n",
       "      <td>0</td>\n",
       "      <td>0</td>\n",
       "      <td>1</td>\n",
       "      <td>2</td>\n",
       "    </tr>\n",
       "    <tr>\n",
       "      <th>Film-Noir</th>\n",
       "      <td>1</td>\n",
       "      <td>0</td>\n",
       "      <td>0</td>\n",
       "      <td>3</td>\n",
       "      <td>2</td>\n",
       "      <td>1</td>\n",
       "      <td>0</td>\n",
       "      <td>1</td>\n",
       "      <td>0</td>\n",
       "      <td>1</td>\n",
       "    </tr>\n",
       "    <tr>\n",
       "      <th>Horror</th>\n",
       "      <td>4</td>\n",
       "      <td>5</td>\n",
       "      <td>6</td>\n",
       "      <td>4</td>\n",
       "      <td>4</td>\n",
       "      <td>7</td>\n",
       "      <td>6</td>\n",
       "      <td>1</td>\n",
       "      <td>6</td>\n",
       "      <td>7</td>\n",
       "    </tr>\n",
       "    <tr>\n",
       "      <th>Musical</th>\n",
       "      <td>2</td>\n",
       "      <td>2</td>\n",
       "      <td>1</td>\n",
       "      <td>9</td>\n",
       "      <td>2</td>\n",
       "      <td>1</td>\n",
       "      <td>3</td>\n",
       "      <td>5</td>\n",
       "      <td>2</td>\n",
       "      <td>7</td>\n",
       "    </tr>\n",
       "    <tr>\n",
       "      <th>Mystery</th>\n",
       "      <td>5</td>\n",
       "      <td>1</td>\n",
       "      <td>3</td>\n",
       "      <td>4</td>\n",
       "      <td>4</td>\n",
       "      <td>1</td>\n",
       "      <td>3</td>\n",
       "      <td>4</td>\n",
       "      <td>4</td>\n",
       "      <td>4</td>\n",
       "    </tr>\n",
       "    <tr>\n",
       "      <th>Romance</th>\n",
       "      <td>13</td>\n",
       "      <td>11</td>\n",
       "      <td>23</td>\n",
       "      <td>12</td>\n",
       "      <td>12</td>\n",
       "      <td>14</td>\n",
       "      <td>15</td>\n",
       "      <td>18</td>\n",
       "      <td>7</td>\n",
       "      <td>15</td>\n",
       "    </tr>\n",
       "    <tr>\n",
       "      <th>Sci-Fi</th>\n",
       "      <td>10</td>\n",
       "      <td>5</td>\n",
       "      <td>8</td>\n",
       "      <td>4</td>\n",
       "      <td>4</td>\n",
       "      <td>1</td>\n",
       "      <td>6</td>\n",
       "      <td>1</td>\n",
       "      <td>8</td>\n",
       "      <td>3</td>\n",
       "    </tr>\n",
       "    <tr>\n",
       "      <th>Thriller</th>\n",
       "      <td>18</td>\n",
       "      <td>14</td>\n",
       "      <td>18</td>\n",
       "      <td>15</td>\n",
       "      <td>15</td>\n",
       "      <td>7</td>\n",
       "      <td>6</td>\n",
       "      <td>8</td>\n",
       "      <td>15</td>\n",
       "      <td>19</td>\n",
       "    </tr>\n",
       "    <tr>\n",
       "      <th>War</th>\n",
       "      <td>8</td>\n",
       "      <td>5</td>\n",
       "      <td>2</td>\n",
       "      <td>4</td>\n",
       "      <td>2</td>\n",
       "      <td>5</td>\n",
       "      <td>2</td>\n",
       "      <td>2</td>\n",
       "      <td>2</td>\n",
       "      <td>0</td>\n",
       "    </tr>\n",
       "    <tr>\n",
       "      <th>Western</th>\n",
       "      <td>6</td>\n",
       "      <td>2</td>\n",
       "      <td>0</td>\n",
       "      <td>0</td>\n",
       "      <td>4</td>\n",
       "      <td>1</td>\n",
       "      <td>1</td>\n",
       "      <td>2</td>\n",
       "      <td>2</td>\n",
       "      <td>1</td>\n",
       "    </tr>\n",
       "  </tbody>\n",
       "</table>\n",
       "</div>"
      ],
      "text/plain": [
       "             Factor 0  Factor 1  Factor 2  Factor 3  Factor 4  Factor 5  \\\n",
       "Action             18        11        12        17        12         7   \n",
       "Adventure          12         4        11         3         5         3   \n",
       "Animation           0         1         1         5         3         2   \n",
       "Children's          5         3         6         5         5         5   \n",
       "Comedy             27        29        31        36        22        32   \n",
       "Crime               7         9         5         9         4         3   \n",
       "Documentary         3        10         1         3         1         6   \n",
       "Drama              39        42        45        43        49        50   \n",
       "Fantasy             0         1         1         0         1         1   \n",
       "Film-Noir           1         0         0         3         2         1   \n",
       "Horror              4         5         6         4         4         7   \n",
       "Musical             2         2         1         9         2         1   \n",
       "Mystery             5         1         3         4         4         1   \n",
       "Romance            13        11        23        12        12        14   \n",
       "Sci-Fi             10         5         8         4         4         1   \n",
       "Thriller           18        14        18        15        15         7   \n",
       "War                 8         5         2         4         2         5   \n",
       "Western             6         2         0         0         4         1   \n",
       "\n",
       "             Factor 6  Factor 7  Factor 8  Factor 9  \n",
       "Action              4         5        20        15  \n",
       "Adventure           6         2        13        11  \n",
       "Animation           5         0         0         3  \n",
       "Children's          2         2         8        20  \n",
       "Comedy             33        28        24        38  \n",
       "Crime               6         4         9         3  \n",
       "Documentary         4         3         2         3  \n",
       "Drama              55        60        45        30  \n",
       "Fantasy             0         0         1         2  \n",
       "Film-Noir           0         1         0         1  \n",
       "Horror              6         1         6         7  \n",
       "Musical             3         5         2         7  \n",
       "Mystery             3         4         4         4  \n",
       "Romance            15        18         7        15  \n",
       "Sci-Fi              6         1         8         3  \n",
       "Thriller            6         8        15        19  \n",
       "War                 2         2         2         0  \n",
       "Western             1         2         2         1  "
      ]
     },
     "execution_count": 34,
     "metadata": {},
     "output_type": "execute_result"
    }
   ],
   "source": [
    "item_idx2id = list(nmf.train_set.item_ids)\n",
    "top_genres = {}\n",
    "for k in range(K):\n",
    "    top_inds = np.argsort(nmf.i_factors[:, k])[-100:]\n",
    "    top_items = item_df.loc[[int(item_idx2id[i]) for i in top_inds]]\n",
    "    top_genres[f\"Factor {k}\"] = top_items.drop(columns=[\"Title\", \"Release Date\"]).sum(\n",
    "        axis=0\n",
    "    )\n",
    "pd.DataFrame(top_genres)"
   ]
  },
  {
   "cell_type": "markdown",
   "metadata": {},
   "source": [
    "## References\n",
    "\n",
    "1.   Aggarwal, C. C. (2016). Recommender systems (Vol. 1). Cham: Springer International Publishing.\n",
    "2.   Koren, Y., Bell, R., & Volinsky, C. (2009). Matrix factorization techniques for recommender systems. Computer, 42(8), 30-37.\n",
    "3.   Lee, D. D., & Seung, H. S. (2001). Algorithms for non-negative matrix factorization. In Advances in neural information processing systems (pp. 556-562)."
   ]
  },
  {
   "cell_type": "markdown",
   "metadata": {},
   "source": []
  }
 ],
 "metadata": {
  "kernelspec": {
   "display_name": "envml3",
   "language": "python",
   "name": "python3"
  },
  "language_info": {
   "codemirror_mode": {
    "name": "ipython",
    "version": 3
   },
   "file_extension": ".py",
   "mimetype": "text/x-python",
   "name": "python",
   "nbconvert_exporter": "python",
   "pygments_lexer": "ipython3",
   "version": "3.12.2"
  }
 },
 "nbformat": 4,
 "nbformat_minor": 2
}
