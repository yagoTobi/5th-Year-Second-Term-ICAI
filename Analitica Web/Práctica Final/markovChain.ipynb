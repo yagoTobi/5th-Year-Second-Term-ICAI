{
 "cells": [
  {
   "cell_type": "markdown",
   "metadata": {},
   "source": [
    "# Práctica 5: Cadenas de Markov\n",
    "\n",
    "Autor: Yago Tobio Souto\n",
    "\n",
    "---\n",
    "\n",
    "**Librerías:**"
   ]
  },
  {
   "cell_type": "code",
   "execution_count": 1,
   "metadata": {},
   "outputs": [],
   "source": [
    "import numpy as np\n",
    "from itertools import product\n",
    "import matplotlib.pyplot as plt"
   ]
  },
  {
   "cell_type": "code",
   "execution_count": 2,
   "metadata": {},
   "outputs": [],
   "source": [
    "state = {\n",
    "    0: 'Recibir invitación amigo', \n",
    "    1: 'Visitar página web principal', \n",
    "    2: 'Darse de alta con correo', \n",
    "    3: 'Descargarse el navegador', \n",
    "    4: 'Finalizar el proceso onboarding', \n",
    "    5: 'Usar navegador 6/7'\n",
    "}"
   ]
  },
  {
   "cell_type": "markdown",
   "metadata": {},
   "source": [
    "### Función para generar matrices de transición\n",
    "\n",
    "Queremos que nuestra matriz de estados dependa de como se distribuyen los presupuestos de Marketing, este será el input de la función. \n",
    "\n",
    "Cambiar la distribución de presupuestos afectará a unos estados seleccionados, tal que si se incrementa una parte del funnel, las posibilidades que el usuario progrese a los siguientes estados aumente y vice-versa. "
   ]
  },
  {
   "cell_type": "code",
   "execution_count": 16,
   "metadata": {},
   "outputs": [],
   "source": [
    "def transition_matrix(sub_budgets):\n",
    "    \"\"\"\n",
    "    Calculates a transition matrix based on modifications provided in sub_budgets.\n",
    "    \n",
    "    Parameters:\n",
    "        sub_budgets (list or np.array): An array of 6 floats between 0 and 1, inclusive,\n",
    "                                       that sum to exactly 1.\n",
    "                                       \n",
    "    Returns:\n",
    "        np.array: A 6x6 transition matrix adjusted according to the sub_budgets.\n",
    "    \n",
    "    Raises:\n",
    "        ValueError: If sub_budgets does not meet the required conditions.\n",
    "    \"\"\"\n",
    "    # Validate input conditions\n",
    "    if not isinstance(sub_budgets, (list, np.ndarray)):\n",
    "        raise ValueError(\"sub_budgets must be a list or numpy array.\")\n",
    "    if len(sub_budgets) != 6:\n",
    "        raise ValueError(\"sub_budgets must contain exactly 6 elements.\")\n",
    "    if not all(isinstance(x, (float, int)) for x in sub_budgets):\n",
    "        raise ValueError(\"All elements in sub_budgets must be floats or integers.\")\n",
    "    if not all(0 <= x <= 1 for x in sub_budgets):\n",
    "        raise ValueError(\"All elements in sub_budgets must be between 0 and 1.\")\n",
    "    if not np.isclose(sum(sub_budgets), 1):\n",
    "        raise ValueError(\"The elements of sub_budgets must sum to 1.\")\n",
    "    \n",
    "    # Initialize a base transition matrix\n",
    "    base_matrix = np.array([\n",
    "        # ? - See diagram as reference\n",
    "        [0.2, 0.0, 0.8, 0.0, 0.0, 0.0],  # * Recibir invitación de un amigo\n",
    "        [0.0, 0.2, 0.8, 0.0, 0.0, 0.0],  # * Visitar página web principal esta semana\n",
    "        [0.2, 0.2, 0.0, 0.6, 0.0, 0.0],  # * Darse de alta con el correo\n",
    "        [0.1, 0.1, 0.1, 0.0, 0.7, 0.0],  # * Descargar el navegador\n",
    "        [0.2, 0.2, 0.0, 0.0, 0.0, 0.6],  # * Finalizar el proceso onboarding\n",
    "        [0.1, 0.1, 0.0, 0.0, 0.1, 0.7]   # * Usar el navegador 6/7 días\n",
    "    ])\n",
    "    \n",
    "    # Adjust the base matrix with sub_budgets and ensure no negative values\n",
    "    adjustments = np.zeros((6, 6))\n",
    "\n",
    "    # An example of how you might want to adjust the matrix\n",
    "    # For each state, redistribute the budget to the transitions out of that state\n",
    "    for i in range(6):\n",
    "        # Here, we're simply adding the sub_budgets[i] to the diagonal\n",
    "        # You will need to adjust this logic to fit your specific model.\n",
    "        adjustments[i, i] = sub_budgets[i]\n",
    "\n",
    "    # Apply the adjustments\n",
    "    adjusted_matrix = base_matrix + adjustments\n",
    "\n",
    "    for i in range(6): \n",
    "        adjusted_matrix[i] = np.clip(adjusted_matrix[i], 0, None)\n",
    "        adjusted_matrix[i] /= np.sum(adjusted_matrix[i])\n",
    "\n",
    "    return adjusted_matrix"
   ]
  },
  {
   "cell_type": "markdown",
   "metadata": {},
   "source": [
    "### Visualización de un ejemplo: "
   ]
  },
  {
   "cell_type": "code",
   "execution_count": 17,
   "metadata": {},
   "outputs": [
    {
     "name": "stdout",
     "output_type": "stream",
     "text": [
      "[[0.27272727 0.         0.72727273 0.         0.         0.        ]\n",
      " [0.         0.38461538 0.61538462 0.         0.         0.        ]\n",
      " [0.18181818 0.18181818 0.09090909 0.54545455 0.         0.        ]\n",
      " [0.07692308 0.07692308 0.07692308 0.23076923 0.53846154 0.        ]\n",
      " [0.18181818 0.18181818 0.         0.         0.09090909 0.54545455]\n",
      " [0.09090909 0.09090909 0.         0.         0.09090909 0.72727273]]\n"
     ]
    }
   ],
   "source": [
    "A = transition_matrix([0.1, 0.3, 0.1, 0.3, 0.1, 0.1])\n",
    "print(A)"
   ]
  },
  {
   "cell_type": "markdown",
   "metadata": {},
   "source": [
    "Verificación que todas las columnas sumen 1:"
   ]
  },
  {
   "cell_type": "code",
   "execution_count": 18,
   "metadata": {},
   "outputs": [
    {
     "name": "stdout",
     "output_type": "stream",
     "text": [
      "[1. 1. 1. 1. 1. 1.]\n"
     ]
    }
   ],
   "source": [
    "print(A.sum(axis=1))"
   ]
  },
  {
   "cell_type": "markdown",
   "metadata": {},
   "source": [
    "---"
   ]
  },
  {
   "cell_type": "markdown",
   "metadata": {},
   "source": [
    "### Función que genere distintas distribuciones de presupuesto:\n",
    "\n",
    "Este caso sirve para aquellos casos en los que la empresa decida repartir distinto capital en las fases de la experiencia del usuario. "
   ]
  },
  {
   "cell_type": "code",
   "execution_count": 19,
   "metadata": {},
   "outputs": [],
   "source": [
    "def gen_budgets(length, n): \n",
    "    arrays = []\n",
    "    for _ in range(n): \n",
    "        # * Generate random values for budget allocation \n",
    "        random_values = np.random.rand(length)\n",
    "        # * Normalise\n",
    "        normalized_array = random_values/random_values.sum()\n",
    "        arrays.append(normalized_array)\n",
    "    return arrays"
   ]
  },
  {
   "cell_type": "code",
   "execution_count": 20,
   "metadata": {},
   "outputs": [],
   "source": [
    "length_example = 5\n",
    "n_example = 10**3 # ? - Número de iteraciones \n",
    "arrays_distribution = gen_budgets(length_example, n_example)"
   ]
  },
  {
   "cell_type": "code",
   "execution_count": 21,
   "metadata": {},
   "outputs": [
    {
     "data": {
      "image/png": "[encoded data removed]",
      "text/plain": [
       "<Figure size 1000x600 with 1 Axes>"
      ]
     },
     "metadata": {},
     "output_type": "display_data"
    }
   ],
   "source": [
    " # * Plot distributions\n",
    "# Plotting\n",
    "plt.figure(figsize=(10, 6))\n",
    "data_to_plot = [np.array([arr[i] for arr in arrays_distribution]) for i in range(length_example)]\n",
    "plt.hist(data_to_plot, bins=20, stacked=True, label=[f'Element {i+1}' for i in range(length_example)])\n",
    "\n",
    "plt.title('Stacked Probability Distribution of Array Elements')\n",
    "plt.xlabel('Value')\n",
    "plt.ylabel('Frequency')\n",
    "plt.legend()\n",
    "plt.grid(True)\n",
    "plt.show()"
   ]
  },
  {
   "cell_type": "markdown",
   "metadata": {},
   "source": [
    "Podemos observar que no hay una distribución ni simetrica ni homogenea, pero si que se cubre un gran rango de valores posibles para cada estado"
   ]
  },
  {
   "cell_type": "markdown",
   "metadata": {},
   "source": [
    "### Metodología para obtener el mejor presupuesto, con el fin de optimizar nuestra base de usuarios"
   ]
  },
  {
   "cell_type": "code",
   "execution_count": 22,
   "metadata": {},
   "outputs": [],
   "source": [
    "steps = 10**3\n",
    "sub_budgets = gen_budgets(6, steps)\n",
    "\n",
    "matrixes = []\n",
    "yields = []\n",
    "\n",
    "for budget in sub_budgets: \n",
    "    A = transition_matrix(budget)\n",
    "    A_n = A \n",
    "    for s in range(steps):\n",
    "        A_n = np.matmul(A_n, A)\n",
    "    matrixes.append(A_n)\n",
    "    yields.append(A_n[5,5]) # ? - Obtener la probabilidad que garantiza el cliente"
   ]
  },
  {
   "cell_type": "code",
   "execution_count": 23,
   "metadata": {},
   "outputs": [
    {
     "name": "stdout",
     "output_type": "stream",
     "text": [
      "Maxima tasa de clientes fidelizados: 0.3185689662265763\n",
      "\n",
      "Matriz de transición correspondiente:\n",
      "[[0.14390095 0.11663703 0.19751903 0.1166848  0.10668922 0.31856897]\n",
      " [0.14390095 0.11663703 0.19751903 0.1166848  0.10668922 0.31856897]\n",
      " [0.14390095 0.11663703 0.19751903 0.1166848  0.10668922 0.31856897]\n",
      " [0.14390095 0.11663703 0.19751903 0.1166848  0.10668922 0.31856897]\n",
      " [0.14390095 0.11663703 0.19751903 0.1166848  0.10668922 0.31856897]\n",
      " [0.14390095 0.11663703 0.19751903 0.1166848  0.10668922 0.31856897]]\n",
      "\n",
      "Combinación de presupuesto que generó esto:\n",
      " [0.27754349 0.03549617 0.03021733 0.01433853 0.05993965 0.58246483]\n"
     ]
    }
   ],
   "source": [
    "# * De las matrices identificar aquella combinación de budget que otorge un mayor numero de clientes: \n",
    "max_yield_index = np.argmax(yields)\n",
    "max_yield = yields[max_yield_index]\n",
    "max_matrix = matrixes = matrixes[max_yield_index]\n",
    "max_sub_budget = sub_budgets[max_yield_index]\n",
    "\n",
    "print(f\"Maxima tasa de clientes fidelizados: {max_yield}\")\n",
    "print(f\"\\nMatriz de transición correspondiente:\\n{max_matrix}\")\n",
    "print(f\"\\nCombinación de presupuesto que generó esto:\\n {max_sub_budget}\")"
   ]
  }
 ],
 "metadata": {
  "kernelspec": {
   "display_name": "Python 3",
   "language": "python",
   "name": "python3"
  },
  "language_info": {
   "codemirror_mode": {
    "name": "ipython",
    "version": 3
   },
   "file_extension": ".py",
   "mimetype": "text/x-python",
   "name": "python",
   "nbconvert_exporter": "python",
   "pygments_lexer": "ipython3",
   "version": "3.12.2"
  }
 },
 "nbformat": 4,
 "nbformat_minor": 2
}
