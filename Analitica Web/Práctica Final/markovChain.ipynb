{
 "cells": [
  {
   "cell_type": "markdown",
   "metadata": {},
   "source": [
    "# Práctica 5: Cadenas de Markov\n",
    "\n",
    "Autor: Yago Tobio Souto\n",
    "\n",
    "---\n",
    "\n",
    "**Librerías:**"
   ]
  },
  {
   "cell_type": "code",
   "execution_count": 1,
   "metadata": {},
   "outputs": [],
   "source": [
    "import numpy as np\n",
    "from itertools import product\n",
    "import matplotlib.pyplot as plt"
   ]
  },
  {
   "cell_type": "code",
   "execution_count": 2,
   "metadata": {},
   "outputs": [],
   "source": [
    "state = {\n",
    "    0: \"Recibir invitación amigo\",\n",
    "    1: \"Visitar página web principal\",\n",
    "    2: \"Darse de alta con correo\",\n",
    "    3: \"Descargarse el navegador\",\n",
    "    4: \"Finalizar el proceso onboarding\",\n",
    "    5: \"Usar navegador 5/7\",\n",
    "}"
   ]
  },
  {
   "cell_type": "markdown",
   "metadata": {},
   "source": [
    "### Función para generar matrices de transición\n",
    "\n",
    "Queremos que nuestra matriz de estados dependa de como se distribuyen los presupuestos de Marketing, este será el input de la función. \n",
    "\n",
    "Cambiar la distribución de presupuestos afectará a unos estados seleccionados, tal que si se incrementa una parte del funnel, las posibilidades que el usuario progrese a los siguientes estados aumente y vice-versa. "
   ]
  },
  {
   "cell_type": "code",
   "execution_count": 13,
   "metadata": {},
   "outputs": [],
   "source": [
    "def transition_matrix(sub_budgets):\n",
    "    \"\"\"\n",
    "    Calculates a transition matrix based on modifications provided in sub_budgets.\n",
    "\n",
    "    Parameters:\n",
    "        sub_budgets (list or np.array): An array of 6 floats between 0 and 1, inclusive,\n",
    "                                       that sum to exactly 1.\n",
    "\n",
    "    Returns:\n",
    "        np.array: A 6x6 transition matrix adjusted according to the sub_budgets.\n",
    "\n",
    "    Raises:\n",
    "        ValueError: If sub_budgets does not meet the required conditions.\n",
    "    \"\"\"\n",
    "    # Validate input conditions\n",
    "    if not isinstance(sub_budgets, (list, np.ndarray)):\n",
    "        raise ValueError(\"sub_budgets must be a list or numpy array.\")\n",
    "    if len(sub_budgets) != 6:\n",
    "        raise ValueError(\"sub_budgets must contain exactly 6 elements.\")\n",
    "    if not all(isinstance(x, (float, int)) for x in sub_budgets):\n",
    "        raise ValueError(\"All elements in sub_budgets must be floats or integers.\")\n",
    "    if not all(0 <= x <= 1 for x in sub_budgets):\n",
    "        raise ValueError(\"All elements in sub_budgets must be between 0 and 1.\")\n",
    "    if not np.isclose(sum(sub_budgets), 1):\n",
    "        raise ValueError(\"The elements of sub_budgets must sum to 1.\")\n",
    "\n",
    "    # Initialize a base transition matrix\n",
    "    base_matrix = np.array(\n",
    "        [\n",
    "            # ? - See diagram as reference\n",
    "            [0.2, 0.0, 0.8, 0.0, 0.0, 0.0],  # * Recibir invitación de un amigo\n",
    "            [0.0, 0.2, 0.8, 0.0, 0.0, 0.0],  # * Visitar página web principal esta semana\n",
    "            [0.2, 0.2, 0.0, 0.6, 0.0, 0.0],  # * Darse de alta con el correo\n",
    "            [0.1, 0.1, 0.1, 0.0, 0.7, 0.0],  # * Descargar el navegador\n",
    "            [0.2, 0.2, 0.0, 0.0, 0.0, 0.6],  # * Finalizar el proceso onboarding\n",
    "            [0.1, 0.1, 0.0, 0.0, 0.1, 0.7],  # * Usar el navegador 6/7 días\n",
    "        ]\n",
    "    )\n",
    "\n",
    "    # * Adjustments in budget terms: We're going to add proportions of a budget to each step and that will have its effects. \n",
    "    adjustments = np.array(\n",
    "        [\n",
    "            [ 1/2, 1/2, -1/2, 1/2, -1/2, -1/2], # * Mejora del budget hacia un referral program con compensacion monetaria\n",
    "            [1/2, 1/2, -1/2, 1/2, -1/2, -1/2], # * Campaña publicitaria con foco en la pagina web\n",
    "            [0, 0, 1/4, 1/4, -1/2, 0], # * Referral program (Incremento en registro de usuarios)\n",
    "            [-1/2, 1/4, +1/2, 1/4, 0, -1/2 ], # * Marketing pone presupuesto con mirror links de descarga directa del navegador\n",
    "            [0, -1, -1/2, 1/2, -1/4, 1/4], # * Iconos añadidos a tu perfil de usuario cuando completas el onboarding\n",
    "            [0, -1/4, -1/2, 1/2, 1/4, 1]  # * Campaña de Marketing - Show me how you use Arc\n",
    "        ]\n",
    "    )\n",
    "\n",
    "    # * Todo el presupesto debe de sumar a 1. \n",
    "    # * Caso no negativo \n",
    "    # An example of how you might want to adjust the matrix\n",
    "    # For each state, redistribute the budget to the transitions out of that state\n",
    "    for i in range(6):\n",
    "        base_matrix[i] += adjustments[i] * sub_budgets[i]\n",
    "        # ? - Clip the matrix for non-zero, non-negative values\n",
    "        base_matrix[i] = np.clip(base_matrix[i],0.001, None)\n",
    "        # ? - The sum of values per row shouldn't exceed 1 -> Normalise it\n",
    "        base_matrix[i] /= np.sum(base_matrix[i])\n",
    "        \n",
    "    return base_matrix"
   ]
  },
  {
   "cell_type": "markdown",
   "metadata": {},
   "source": [
    "### Visualización de un ejemplo: "
   ]
  },
  {
   "cell_type": "code",
   "execution_count": 14,
   "metadata": {},
   "outputs": [
    {
     "name": "stdout",
     "output_type": "stream",
     "text": [
      "[[0.22686025 0.04537205 0.68058076 0.04537205 0.00090744 0.00090744]\n",
      " [0.11520737 0.2688172  0.49923195 0.11520737 0.00076805 0.00076805]\n",
      " [0.19011407 0.19011407 0.02376426 0.59410646 0.00095057 0.00095057]\n",
      " [0.00083195 0.14559068 0.20798669 0.06239601 0.58236273 0.00083195]\n",
      " [0.20470829 0.10235415 0.00102354 0.05117707 0.00102354 0.63971341]\n",
      " [0.08688097 0.06516073 0.00086881 0.04344049 0.10860122 0.69504778]]\n"
     ]
    }
   ],
   "source": [
    "A = transition_matrix([0.1, 0.3, 0.1, 0.3, 0.1, 0.1])\n",
    "print(A)"
   ]
  },
  {
   "cell_type": "markdown",
   "metadata": {},
   "source": [
    "Verificación que todas las columnas sumen 1:"
   ]
  },
  {
   "cell_type": "code",
   "execution_count": 15,
   "metadata": {},
   "outputs": [
    {
     "name": "stdout",
     "output_type": "stream",
     "text": [
      "[1. 1. 1. 1. 1. 1.]\n"
     ]
    }
   ],
   "source": [
    "print(A.sum(axis=1))"
   ]
  },
  {
   "cell_type": "markdown",
   "metadata": {},
   "source": [
    "---"
   ]
  },
  {
   "cell_type": "markdown",
   "metadata": {},
   "source": [
    "### Función que genere distintas distribuciones de presupuesto:\n",
    "\n",
    "Este caso sirve para aquellos casos en los que la empresa decida repartir distinto capital en las fases de la experiencia del usuario. "
   ]
  },
  {
   "cell_type": "code",
   "execution_count": 19,
   "metadata": {},
   "outputs": [],
   "source": [
    "def gen_budgets(length, n):\n",
    "    arrays = []\n",
    "    for _ in range(n):\n",
    "        # * Generate random values for budget allocation\n",
    "        random_values = np.random.rand(length)\n",
    "        # * Normalise\n",
    "        normalized_array = random_values / random_values.sum()\n",
    "        arrays.append(normalized_array)\n",
    "    return arrays"
   ]
  },
  {
   "cell_type": "code",
   "execution_count": 24,
   "metadata": {},
   "outputs": [],
   "source": [
    "length_example = 5\n",
    "n_example = 10**3  # ? - Número de iteraciones\n",
    "arrays_distribution = gen_budgets(length_example, n_example)"
   ]
  },
  {
   "cell_type": "code",
   "execution_count": 25,
   "metadata": {},
   "outputs": [
    {
     "name": "stdout",
     "output_type": "stream",
     "text": [
      "Budget Distribution Examples:\n",
      "[0.02296058 0.32257066 0.03706062 0.34414759 0.27326054]\n",
      "[0.18598105 0.20618607 0.29624496 0.09344703 0.21814089]\n",
      "[0.09261874 0.06085661 0.13228482 0.34041959 0.37382025]\n",
      "[0.42410106 0.15518098 0.04212017 0.21078424 0.16781355]\n",
      "[0.01148382 0.38118811 0.15517555 0.40601565 0.04613686]\n"
     ]
    }
   ],
   "source": [
    "print('Budget Distribution Examples:')\n",
    "for i in range(5):\n",
    "    print(arrays_distribution[i])"
   ]
  },
  {
   "cell_type": "code",
   "execution_count": 26,
   "metadata": {},
   "outputs": [
    {
     "data": {
      "image/png": "[encoded data removed]",
      "text/plain": [
       "<Figure size 1000x600 with 1 Axes>"
      ]
     },
     "metadata": {},
     "output_type": "display_data"
    }
   ],
   "source": [
    "# * Plot distributions\n",
    "# Plotting\n",
    "plt.figure(figsize=(10, 6))\n",
    "data_to_plot = [\n",
    "    np.array([arr[i] for arr in arrays_distribution]) for i in range(length_example)\n",
    "]\n",
    "plt.hist(\n",
    "    data_to_plot,\n",
    "    bins=20,\n",
    "    stacked=True,\n",
    "    label=[f\"Element {i+1}\" for i in range(length_example)],\n",
    ")\n",
    "\n",
    "plt.title(\"Stacked Probability Distribution of Budgets\")\n",
    "plt.xlabel(\"Value\")\n",
    "plt.ylabel(\"Frequency\")\n",
    "plt.legend()\n",
    "plt.grid(True)\n",
    "plt.show()"
   ]
  },
  {
   "cell_type": "markdown",
   "metadata": {},
   "source": [
    "Podemos observar que no hay una distribución ni simetrica ni homogenea, pero si que se cubre un gran rango de valores posibles para cada estado"
   ]
  },
  {
   "cell_type": "markdown",
   "metadata": {},
   "source": [
    "### Metodología para obtener el mejor presupuesto, con el fin de optimizar nuestra base de usuarios"
   ]
  },
  {
   "cell_type": "code",
   "execution_count": 27,
   "metadata": {},
   "outputs": [],
   "source": [
    "steps = 10**3\n",
    "sub_budgets = gen_budgets(6, steps)\n",
    "\n",
    "matrixes = []\n",
    "yields = []\n",
    "\n",
    "for budget in sub_budgets:\n",
    "    A = transition_matrix(budget)\n",
    "    A_n = A\n",
    "    for s in range(steps):\n",
    "        A_n = np.matmul(A_n, A)\n",
    "    matrixes.append(A_n)\n",
    "    yields.append(A_n[5, 5])  # ? - Obtener la probabilidad que garantiza el cliente"
   ]
  },
  {
   "cell_type": "code",
   "execution_count": 28,
   "metadata": {},
   "outputs": [
    {
     "name": "stdout",
     "output_type": "stream",
     "text": [
      "Maxima tasa de clientes fidelizados: 0.33182279800518355\n",
      "\n",
      "Matriz de transición correspondiente:\n",
      "[[0.12811591 0.07454639 0.15040552 0.16293616 0.15217323 0.3318228 ]\n",
      " [0.12811591 0.07454639 0.15040552 0.16293616 0.15217323 0.3318228 ]\n",
      " [0.12811591 0.07454639 0.15040552 0.16293616 0.15217323 0.3318228 ]\n",
      " [0.12811591 0.07454639 0.15040552 0.16293616 0.15217323 0.3318228 ]\n",
      " [0.12811591 0.07454639 0.15040552 0.16293616 0.15217323 0.3318228 ]\n",
      " [0.12811591 0.07454639 0.15040552 0.16293616 0.15217323 0.3318228 ]]\n",
      "\n",
      "Combinación de presupuesto que generó esto:\n",
      " [0.1383483  0.16493442 0.02829157 0.06731714 0.1967264  0.40438217]\n"
     ]
    }
   ],
   "source": [
    "# * De las matrices identificar aquella combinación de budget que otorge un mayor numero de clientes:\n",
    "max_yield_index = np.argmax(yields)\n",
    "max_yield = yields[max_yield_index]\n",
    "max_matrix = matrixes = matrixes[max_yield_index]\n",
    "max_sub_budget = sub_budgets[max_yield_index]\n",
    "\n",
    "print(f\"Maxima tasa de clientes fidelizados: {max_yield}\")\n",
    "print(f\"\\nMatriz de transición correspondiente:\\n{max_matrix}\")\n",
    "print(f\"\\nCombinación de presupuesto que generó esto:\\n {max_sub_budget}\")"
   ]
  }
 ],
 "metadata": {
  "kernelspec": {
   "display_name": "Python 3",
   "language": "python",
   "name": "python3"
  },
  "language_info": {
   "codemirror_mode": {
    "name": "ipython",
    "version": 3
   },
   "file_extension": ".py",
   "mimetype": "text/x-python",
   "name": "python",
   "nbconvert_exporter": "python",
   "pygments_lexer": "ipython3",
   "version": "3.12.3"
  }
 },
 "nbformat": 4,
 "nbformat_minor": 2
}
